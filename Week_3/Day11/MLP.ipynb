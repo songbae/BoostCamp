{
 "cells": [
  {
   "cell_type": "code",
   "execution_count": 1,
   "metadata": {},
   "outputs": [
    {
     "output_type": "stream",
     "name": "stdout",
     "text": [
      "1.4.0\ncuda\n"
     ]
    }
   ],
   "source": [
    "import numpy as np\n",
    "import matplotlib.pyplot as plt\n",
    "import torch\n",
    "import torch.nn as nn\n",
    "import torch.optim as optim\n",
    "import torch.nn.functional as F\n",
    "%matplotlib inline\n",
    "%config InlineBackend.figure_format='retina'\n",
    "print(torch.__version__)\n",
    "device=torch.device('cuda' if torch.cuda.is_available() else 'cpu')\n",
    "print(device)"
   ]
  },
  {
   "cell_type": "code",
   "execution_count": 26,
   "metadata": {},
   "outputs": [
    {
     "output_type": "stream",
     "name": "stdout",
     "text": [
      "done\n"
     ]
    }
   ],
   "source": [
    "from torchvision import datasets,transforms\n",
    "mnist_train=datasets.MNIST(root='./data/',train=True, transform=transforms.ToTensor(),download=True)\n",
    "mnist_test=datasets.MNIST(root='./data/',train=False,transform=transforms.ToTensor(),download=True)\n",
    "print('done')"
   ]
  },
  {
   "cell_type": "code",
   "execution_count": 20,
   "metadata": {},
   "outputs": [
    {
     "name": "stdout",
     "output_type": "stream",
     "text": [
      "^C\n"
     ]
    }
   ],
   "source": []
  },
  {
   "cell_type": "code",
   "execution_count": 27,
   "metadata": {},
   "outputs": [
    {
     "output_type": "stream",
     "name": "stdout",
     "text": [
      "done\n"
     ]
    }
   ],
   "source": [
    "batch=256\n",
    "train_iter=torch.utils.data.DataLoader(mnist_train,batch_size=batch,shuffle=True,num_workers=1)\n",
    "test_iter=torch.utils.data.DataLoader(mnist_test,batch_size=batch,shuffle=True,num_workers=1)\n",
    "print('done')"
   ]
  },
  {
   "cell_type": "code",
   "execution_count": 28,
   "metadata": {},
   "outputs": [
    {
     "output_type": "stream",
     "name": "stdout",
     "text": [
      "done\n"
     ]
    }
   ],
   "source": [
    "class MLP(nn.Module):\n",
    "    def __init__ (self, name='mlp',xdim=784,hdim=256,ydim=10):\n",
    "        super(MLP,self).__init__()\n",
    "        self.name=name\n",
    "        self.xdim=xdim\n",
    "        self.hdim=hdim\n",
    "        self.ydim=ydim\n",
    "        self.lin_1=nn.Linear(self.xdim,self.hdim)\n",
    "        self.lin_2=nn.Linear(self.hdim,self.xdim)\n",
    "        self.init_param() # initialize parameters\n",
    "    \n",
    "    def init_param(self):\n",
    "        nn.init.kaiming_normal_(self.lin_1.weight)\n",
    "        nn.init.zeros_(self.lin_1.bias)\n",
    "        nn.init.kaiming_normal_(self.lin_2.weight)\n",
    "        nn.init.zeros_(self.lin_2.bias)\n",
    "    def forward(self, x):\n",
    "        net=x\n",
    "        net=self.lin_1(x)\n",
    "        net=F.relu(net)\n",
    "        net=self.lin_2(net)\n",
    "        return net\n",
    "\n",
    "M=MLP(name='mlp' ,xdim=784,hdim=356,ydim=10).to(device)\n",
    "loss=nn.CrossEntropyLoss()\n",
    "optm = optim.Adam(M.parameters(),lr=1e-3)\n",
    "print('done')\n",
    "\n",
    "                      \n",
    "        "
   ]
  },
  {
   "cell_type": "code",
   "execution_count": 29,
   "metadata": {},
   "outputs": [
    {
     "output_type": "stream",
     "name": "stdout",
     "text": [
      "[[0.413 0.774 0.638 ... 0.079 0.292 0.128]\n [0.281 0.134 0.816 ... 0.218 0.72  0.516]]\ntensor([[0.4128, 0.7740, 0.6381,  ..., 0.0785, 0.2918, 0.1278],\n        [0.2807, 0.1338, 0.8164,  ..., 0.2179, 0.7195, 0.5157]],\n       device='cuda:0')\n[[-1.002  0.923 -0.704 ...  0.177  0.272  0.556]\n [-1.489  0.053 -0.945 ...  0.198 -0.754  1.398]]\ntensor([[-1.0021,  0.9235, -0.7039,  ...,  0.1775,  0.2723,  0.5560],\n        [-1.4892,  0.0527, -0.9452,  ...,  0.1977, -0.7541,  1.3978]],\n       device='cuda:0', grad_fn=<AddmmBackward>)\n"
     ]
    }
   ],
   "source": [
    "x_numpy = np.random.rand(2,784)\n",
    "x_torch=torch.from_numpy(x_numpy).float().to(device)\n",
    "y_torch=M.forward(x_torch) #forward path\n",
    "y_numpy=y_torch.detach().cpu().numpy() # torch tensor to numpy array\n",
    "print(x_numpy)\n",
    "print(x_torch)\n",
    "print(y_numpy)\n",
    "print(y_torch)"
   ]
  },
  {
   "cell_type": "code",
   "execution_count": 30,
   "metadata": {},
   "outputs": [
    {
     "output_type": "stream",
     "name": "stdout",
     "text": [
      "0 name: lin_1.weight shape: (356, 784)\nvalue:[ 0.057 -0.059 -0.085 -0.034 -0.047]\n1 name: lin_1.bias shape: (356,)\nvalue:[0. 0. 0. 0. 0.]\n2 name: lin_2.weight shape: (784, 356)\nvalue:[-0.012  0.024 -0.188 -0.039  0.034]\n3 name: lin_2.bias shape: (784,)\nvalue:[0. 0. 0. 0. 0.]\ntotal number fo parameters:559348\n"
     ]
    }
   ],
   "source": [
    "#check parameters\n",
    "np.set_printoptions(precision=3)\n",
    "n_param=0\n",
    "for idx,(param_name,param) in enumerate(M.named_parameters()):\n",
    "    param_numpy=param.detach().cpu().numpy()\n",
    "    n_param+=len(param_numpy.reshape(-1))\n",
    "    print(f'{idx} name: {param_name} shape: {param_numpy.shape}')\n",
    "    print(f'value:{param_numpy.reshape(-1)[:5]}')\n",
    "print(f'total number fo parameters:{n_param}')"
   ]
  },
  {
   "cell_type": "code",
   "execution_count": 31,
   "metadata": {},
   "outputs": [
    {
     "output_type": "stream",
     "name": "stdout",
     "text": [
      "done\n"
     ]
    }
   ],
   "source": [
    "# evalution function 평가를 해야겟지\n",
    "\n",
    "def func_eval(model,data_iter,device):\n",
    "    with torch.no_grad():\n",
    "        model.eval()# evaluate (affects DropOut and BN)\n",
    "        n_total, n_correct =0,0\n",
    "        for batch_in, batch_out in data_iter:\n",
    "            y_trgt= batch_out.to(device)\n",
    "            model_pred=model(batch_in.view(-1,28*28).to(device))\n",
    "            _,y_pred =torch.max(model_pred.data,1)\n",
    "            n_correct+=(y_pred==y_trgt).sum().item()\n",
    "            n_total+=batch_in.size(0)\n",
    "        val_accr=(n_correct/n_total)\n",
    "        model.train()# back to train mode \n",
    "    return val_accr\n",
    "print('done')\n"
   ]
  },
  {
   "cell_type": "code",
   "execution_count": 32,
   "metadata": {},
   "outputs": [
    {
     "output_type": "stream",
     "name": "stdout",
     "text": [
      "train_accr:0.0005333333333333334\ntest_accr:0.0007\n"
     ]
    }
   ],
   "source": [
    "M.init_param() #  파라미터 값 초기화\n",
    "train_accr=func_eval(M,train_iter,device)\n",
    "test_accr=func_eval(M,test_iter,device)\n",
    "print(f'train_accr:{train_accr}')\n",
    "print(f'test_accr:{test_accr}')"
   ]
  },
  {
   "cell_type": "code",
   "execution_count": 35,
   "metadata": {},
   "outputs": [
    {
     "output_type": "stream",
     "name": "stdout",
     "text": [
      "training start\n",
      "epoch:0 lostt: 0.3897113800048828 train_accr:0.9500166666666666 test_accr:0.9465\n",
      "epoch:1 lostt: 0.15566712617874146 train_accr:0.9654166666666667 test_accr:0.9627\n",
      "epoch:2 lostt: 0.11070344597101212 train_accr:0.9758333333333333 test_accr:0.9687\n",
      "epoch:3 lostt: 0.08539155125617981 train_accr:0.9788833333333333 test_accr:0.9704\n",
      "epoch:4 lostt: 0.06897367537021637 train_accr:0.9850166666666667 test_accr:0.9751\n",
      "epoch:5 lostt: 0.056869395077228546 train_accr:0.9851333333333333 test_accr:0.9747\n",
      "epoch:6 lostt: 0.047348231077194214 train_accr:0.9904166666666666 test_accr:0.9787\n",
      "epoch:7 lostt: 0.03935708850622177 train_accr:0.9915833333333334 test_accr:0.9776\n",
      "epoch:8 lostt: 0.032801248133182526 train_accr:0.9938333333333333 test_accr:0.9772\n",
      "epoch:9 lostt: 0.028438128530979156 train_accr:0.9949666666666667 test_accr:0.9795\n",
      "done\n",
      "Wall time: 1min 55s\n"
     ]
    }
   ],
   "source": [
    "%%time\n",
    "print('training start')\n",
    "\n",
    "M.init_param()\n",
    "M.train()\n",
    "epochs,print_e=10,1\n",
    "for epoch in range(epochs):\n",
    "    loss_val_sum=0\n",
    "    for batch_in, batch_out in train_iter:\n",
    "        y_pred =M.forward(batch_in.view(-1,28*28).to(device))\n",
    "        loss_out=loss(y_pred,batch_out.to(device))\n",
    "        optm.zero_grad()# reset gradient\n",
    "        loss_out.backward()# backpropagate\n",
    "        optm.step() # 옵티마이저 업데이트\n",
    "        loss_val_sum+=loss_out\n",
    "    loss_val_avg=loss_val_sum/len(train_iter)\n",
    "    #print\n",
    "    if((epoch%print_e)==0) or (epoch==(epochs-1)):\n",
    "        train_accr=func_eval(M,train_iter,device)\n",
    "        test_accr=func_eval(M,test_iter,device)\n",
    "        print(f'epoch:{epoch} lostt: {loss_val_avg} train_accr:{train_accr} test_accr:{test_accr}')\n",
    "print('done')\n"
   ]
  },
  {
   "cell_type": "code",
   "execution_count": 36,
   "metadata": {},
   "outputs": [
    {
     "output_type": "display_data",
     "data": {
      "text/plain": "<Figure size 720x720 with 20 Axes>",
      "image/png": "[encoded data removed]"
     },
     "metadata": {
      "image/png": {
       "width": 569,
       "height": 461
      },
      "needs_background": "light"
     }
    },
    {
     "output_type": "stream",
     "name": "stdout",
     "text": [
      "done\n"
     ]
    }
   ],
   "source": [
    "n_sample=20\n",
    "sample_indices=np.random.choice(len(mnist_test.targets),n_sample,replace=False)\n",
    "test_x=mnist_test.data[sample_indices]\n",
    "test_y=mnist_test.targets[sample_indices]\n",
    "with torch.no_grad():\n",
    "    y_pred=M.forward(test_x.view(-1,28*28).type(torch.float).to(device)/255)\n",
    "y_pred=y_pred.argmax(axis=1)\n",
    "plt.figure(figsize=(10,10))\n",
    "for idx in range(n_sample):\n",
    "    plt.subplot(5,5,idx+1)\n",
    "    plt.imshow(test_x[idx],cmap='gray')\n",
    "    plt.axis('off')\n",
    "    plt.title(f'pred:{y_pred[idx]} label:{test_y[idx]}')\n",
    "plt.show()\n",
    "print('done')"
   ]
  }
 ],
 "metadata": {
  "kernelspec": {
   "display_name": "Python 3",
   "language": "python",
   "name": "python3"
  },
  "language_info": {
   "codemirror_mode": {
    "name": "ipython",
    "version": 3
   },
   "file_extension": ".py",
   "mimetype": "text/x-python",
   "name": "python",
   "nbconvert_exporter": "python",
   "pygments_lexer": "ipython3",
   "version": "3.8.5-final"
  },
  "toc": {
   "base_numbering": 1,
   "nav_menu": {},
   "number_sections": true,
   "sideBar": true,
   "skip_h1_title": false,
   "title_cell": "Table of Contents",
   "title_sidebar": "Contents",
   "toc_cell": false,
   "toc_position": {},
   "toc_section_display": true,
   "toc_window_display": false
  }
 },
 "nbformat": 4,
 "nbformat_minor": 4
}