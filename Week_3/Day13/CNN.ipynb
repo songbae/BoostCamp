{
 "metadata": {
  "language_info": {
   "codemirror_mode": {
    "name": "ipython",
    "version": 3
   },
   "file_extension": ".py",
   "mimetype": "text/x-python",
   "name": "python",
   "nbconvert_exporter": "python",
   "pygments_lexer": "ipython3",
   "version": 3
  },
  "orig_nbformat": 2
 },
 "nbformat": 4,
 "nbformat_minor": 2,
 "cells": [
  {
   "source": [
    "### AlexNet\n",
    "---\n",
    "    당시엔 GPU가 부족했기 때문에 2중적인 구조를 취한거지 이상적인 구조는 아니다.\n",
    "---\n",
    "`Key ideas`\n",
    "\n",
    "    - Rectified Linear Unit(ReLU) activation\n",
    " \n",
    "    - GPI implementation(2 GPUs)\n",
    " \n",
    "    - Local response Normalization ,Overlapping pooling\n",
    " \n",
    "    - Data augmentation\n",
    " \n",
    "    - Dropout\n",
    "---\n",
    "`ReLU activation`\n",
    "---\n",
    "    - preserve properties of linear models\n",
    " \n",
    "    - easy to optimize with gradient descent\n",
    "\n",
    "    - Good generalization\n",
    "\n",
    "    - overcome the vanishing gradient problem\n",
    "    \n",
    "            \n",
    "    "
   ],
   "cell_type": "markdown",
   "metadata": {}
  },
  {
   "source": [
    "### VGGNet\n",
    "---\n",
    "- increasing depth with 3*3 convolution filters(with stride 1)\n",
    "- 1*1 convolution for fully connected layers\n",
    "- Dropout(p=0.5)\n",
    "- VGG16,VGG19\n",
    "---\n",
    "`why 3*3 ?`\n",
    "    - parmeter의 수를 줄일 수 있다.\n"
   ],
   "cell_type": "markdown",
   "metadata": {}
  },
  {
   "source": [
    "### GoogLeNet\n",
    "---\n",
    "- 22 layers\n",
    "- inception blocks\n",
    "\n",
    "    `benefit?`\n",
    "    - reduce the number of parameters\n",
    "    \n",
    "    `how?`\n",
    "    - Recall how the number of parameters is computed\n",
    "    - 1*1 convolution can be seen as channel-wise dimension reduction\n",
    "---\n"
   ],
   "cell_type": "markdown",
   "metadata": {}
  },
  {
   "source": [
    "### ResNet\n",
    "---\n",
    "- Deeper neural Networks are hard to train\n",
    "\n",
    "    - overfitting is usally caused by ans excessive number of parameters\n",
    "    - but, not in this case\n",
    "- Add an identity map(skip connection)-> 차이만을 학습한다\n",
    "- Add an identity\n",
    "- Batch normalization after convolutions\n",
    "- Bottleneck architecture\n",
    "\n",
    "`Performance` increases while `parameters size` decreases"
   ],
   "cell_type": "markdown",
   "metadata": {}
  },
  {
   "source": [
    "### DenseNet\n",
    "---\n",
    "- DenseNet uses concatenation instead of addition\n",
    "\n",
    "`Dense Block`\n",
    "\n",
    "- each layer concatenates the feature maps of all precdeing layers\n",
    "- the number of channels increases geometrically\n",
    "\n",
    "`Transition Block`\n",
    "\n",
    "- BatchNorm -> 1*1 Conv -> 2*2AvgPooling\n",
    "- Dimension reduction\n"
   ],
   "cell_type": "markdown",
   "metadata": {}
  }
 ]
}