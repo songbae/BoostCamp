{
 "cells": [
  {
   "cell_type": "markdown",
   "metadata": {},
   "source": [
    "### numpy\n",
    "- Numerical Python\n",
    "- 파이썬의 고성능 과학 계산용 피키지\n",
    "- matrix와 vector 와 같은 array 연산의 사실상의 표준\n",
    "- 한글로 넘파이로 주로 통칭\n",
    "- 누군가는 넘피/늄파이라고 부르기도함\n",
    "1. 일반 list 에 비해 빠르고, 메모리 효율적\n",
    "2. 반목문 없이 데이터 배열에 대한 처리를 지원함\n",
    "3. 선형대수와 관련된 다양한 기능을 제공함\n",
    "4. c/c++언어로 컴파일됨"
   ]
  },
  {
   "cell_type": "code",
   "execution_count": null,
   "metadata": {},
   "outputs": [],
   "source": [
    "import numpy as np\n",
    "test_arry= np.array([1,2,4,],float)\n",
    "# 넘피느 하나의 데이터 type만 지원한다.\n",
    "test_arry=np.array(['1','2',4,6],float) # string tpye의 데이터를 입력해도 \n",
    "# 일반 python보다 메모리 접근이 효율적이다.\n",
    "a=[1,2,3,4,5]\n",
    "b=[5,4,3,2,1]\n",
    "a[0]=b[-1] # 이경우 파이썬의 경우에 메모리 주소를 비교하기 때문에 1, 1은 어떤 파이썬 공간에서 같은 메모리 주소를 공유하기 떄문에\n",
    "# 같다고 나오지만 \n",
    "a=np.array(a)\n",
    "b=np.arrayay(b)\n",
    "a[1] is b[-2]## 이런경우 서로 메모리 주소 자체가 달라지기 때문에 값은 같아도 다르다고 나온다 .\n",
    "# 파이썬 특성상 1~255 까지는 어떤 static한 메모리 주소를 가지고있다는걸 알아두자\n",
    "# shape= numpy array의 dimension 구성을 반환함\n",
    "# dtype= numpy array의 data type을 반환함\n",
    "# array의 RANK에 따라 불리는 이름이 있음\n",
    "# shape: array의 크기 형태 등에 대한 정보\n",
    "matrix= [[1,2,3],[2,3,4],[4,2,4]]\n",
    "np.array(matrix,int).shape\n"
   ]
  },
  {
   "cell_type": "markdown",
   "metadata": {},
   "source": [
    "### Handling shape"
   ]
  },
  {
   "cell_type": "code",
   "execution_count": null,
   "metadata": {},
   "outputs": [],
   "source": [
    "# reshape: array의 shape의 크기를 변경함 element의 갯수는 동일\n",
    "np.array(matrix).reshape(2,4).shape\n",
    "np.arrary(matrix).reshape(-1,2).shape\n",
    "# 여기서 -1을 사용하고 나머지 값을 입력할경우 알아서 -1에 적절한 값을 입력해준다.\n",
    "# flatten : 다차원 array를 1차원 array로 변환\n",
    "np.array(matrix).flatten()\n",
    "np.array(matrix).flatten().shape \n",
    "# 이럴경우 1차원 배열로 만들어진다.\n"
   ]
  },
  {
   "cell_type": "markdown",
   "metadata": {},
   "source": [
    "### slicing for numpy array \n",
    "- list와 달리 행과 열 부분을 나눠서 sliing 이 가능함\n",
    "- matrix의 부분 집합을 추출할 떄 유용함"
   ]
  },
  {
   "cell_type": "code",
   "execution_count": null,
   "metadata": {},
   "outputs": [],
   "source": [
    "a= np.array([[1,2,3,4,5],[6,7,8,9,10]], int)\n",
    "a[:2:]# 전체 Row의 2열 이상을 가져온다 \n",
    "a[1,1:3]# 1row의 1열 ~2열\n",
    "a[1:3]#  1row ~ 2row의 전체 \n",
    "arr[:,::2]# 마지막은 step 2칸씩 띄어라\n",
    "# arrange  \n",
    "# array의 범위를 지정하여 , 값의 list 를 생성하는 명령어 "
   ]
  },
  {
   "cell_type": "code",
   "execution_count": null,
   "metadata": {},
   "outputs": [],
   "source": [
    "### ones,zeros and empty\n",
    "- zeros-0으로 가득찬 ndarray생성\n",
    "- ones -1로 가득찬 ndarray생성 \n",
    "-  empty -shape만 주어지고 비어있는 ndarray생성\n",
    "    > (meory initialization이 되지 않음)\n",
    "np.ones(shape=(10,),dtype=np.int8)\n",
    "np.ones((2,5))\n",
    "- something_like\n",
    "    - 기존 ndarray의 shape크기 만큼 1,0 또는 empty array를 반환함\n",
    "matrix = np.arrange(30).reshape(5,6)\n",
    "np.ones_like(maxtrix)\n",
    "# identity\n",
    "-단위행렬\n",
    "#eye \n",
    "#diag\n",
    "#random sampling\n",
    "- 데이터분포에 따른 sampling으로 array를 생성함\n",
    "#operation functions \n",
    "-ndarray의 element들 간의 합을 구함, list 의 sum 기능과 동일\n"
   ]
  },
  {
   "cell_type": "markdown",
   "metadata": {},
   "source": [
    "### AXIS\n",
    "- 모든 operation function을 실행할때 기준이 되는 dimension 축\n",
    "- 새롭게 생성된 축이 항상 axis=0가 된다 \n",
    "  - 예를들어 1차원 배열에서는 열이 axis=0가 된다 \n",
    "  - 2차원 배열에서는 행이 axis=0가 된다 \n",
    "  - 3차원 베열에서는 높이가 axis =0가 된다 \n",
    " - mean ,std 그외에도 다양한 연산자가 존재한다.\n",
    " 1. concatenate\n",
    "     - numpy arra를 합치는(붙이는)함수\n",
    "     - vstack( 행과 행을 붙인다)\n",
    "     - hstack(열과 열을 붙인다)\n",
    " ```\n",
    " a= np.array([[1,2,4]])\n",
    " b=np.array([[2,3,4]])\n",
    " np.concatenate((a,b),axis=0)\n",
    " ```\n",
    " "
   ]
  },
  {
   "cell_type": "code",
   "execution_count": null,
   "metadata": {},
   "outputs": [],
   "source": [
    "# array operation \n",
    "- numpy는 array간의 기본적인 사칙연산을 지원함\n",
    "- 기본 사칙연산시 같은 위치에 있는 값들 끼리 연산된다\n",
    "test_a.dot(test_b) # dot product 행렬 연산을 하게된다.\n",
    "-  Transpose or T 를 통해서 \n",
    "- broadcasting  \n",
    "    - shape이 다른 배열 간 연산을 지원하는 기능  \n",
    "    - scalar -vector 외에도 vector - maxtrix간의 연산도 지원 ( 알아서 없는 곳을 할당해줌)\n",
    "-  %timeit 속도를 측정할 수 있는 함수이다\n",
    "- 일반적으로 속도는 for loop< list comprehension< numpy\n",
    "- 1억번의 loop이 돌 떄 약 4배 이상의 성능 차이를 보임\n",
    "- numpy는 c로 구현되어 있어, 성능을 확보하는 대신 파이썬의 가장 큰 특징인 dynamic typing을 포기함\n",
    "- 대용량 계산에서는 가장 흔히 사용됨\n",
    "- Concatenate 처럼 계산이 아닌, 할당에서는 연산 속도의 이점이 없음\n",
    "    "
   ]
  },
  {
   "cell_type": "code",
   "execution_count": null,
   "metadata": {},
   "outputs": [],
   "source": [
    "All & Any \n",
    "- array의 데이터 전부 또는 일부 가 조건에 만족 여부 반환 \n",
    "- any는 하나라도 조건을 만족한다면 true\n",
    "- all는 모두 조건을 만족해야 true"
   ]
  },
  {
   "cell_type": "code",
   "execution_count": 2,
   "metadata": {},
   "outputs": [
    {
     "name": "stdout",
     "output_type": "stream",
     "text": [
      "[[0.5 0. ]\n",
      " [0.  1. ]\n",
      " [0.5 0. ]]\n"
     ]
    }
   ],
   "source": [
    "import numpy as np\n",
    "x=[[1,0,1],[0,1,0]]\n",
    "temp=np.linalg.pinv(x)\n",
    "print(temp)\n",
    "# pinv를 통해서 유사 역행렬을 구할 수 있다. 하지만 정확히 어떻게 쓰는건지는 의문이다 어디에 필요한가?\n",
    "# 선형회귀식에 쓰인다고 하는데 정확히 어떻게 쓰이는가?"
   ]
  }
 ],
 "metadata": {
  "kernelspec": {
   "display_name": "Python 3",
   "language": "python",
   "name": "python3"
  },
  "language_info": {
   "codemirror_mode": {
    "name": "ipython",
    "version": 3
   },
   "file_extension": ".py",
   "mimetype": "text/x-python",
   "name": "python",
   "nbconvert_exporter": "python",
   "pygments_lexer": "ipython3",
   "version": "3.8.5"
  },
  "toc": {
   "base_numbering": 1,
   "nav_menu": {},
   "number_sections": true,
   "sideBar": true,
   "skip_h1_title": false,
   "title_cell": "Table of Contents",
   "title_sidebar": "Contents",
   "toc_cell": false,
   "toc_position": {},
   "toc_section_display": true,
   "toc_window_display": false
  }
 },
 "nbformat": 4,
 "nbformat_minor": 4
}
