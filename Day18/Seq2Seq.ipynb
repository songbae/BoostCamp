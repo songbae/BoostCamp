{
 "metadata": {
  "language_info": {
   "codemirror_mode": {
    "name": "ipython",
    "version": 3
   },
   "file_extension": ".py",
   "mimetype": "text/x-python",
   "name": "python",
   "nbconvert_exporter": "python",
   "pygments_lexer": "ipython3",
   "version": 3
  },
  "orig_nbformat": 2
 },
 "nbformat": 4,
 "nbformat_minor": 2,
 "cells": [
  {
   "cell_type": "code",
   "execution_count": null,
   "metadata": {},
   "outputs": [],
   "source": [
    "### Seq2Seq Model\n",
    "---\n",
    "\n",
    "\n",
    "\n",
    "\n",
    "\n",
    "---\n",
    "\n",
    "### Greedy decoding \n",
    "---\n",
    "- Greedy decoding has no way to undo decisions\n",
    "    - 단어를 잘못 예측 했을때 -> \n",
    "\n",
    "- How can we fix this?\n",
    "\n",
    "- Beam search \n",
    "---\n",
    "- core idea: on each time step of the decoder we keep track of the k most probable translations(which we call hypothesis)\n",
    "- k is the beam size(in practice around 5 to 10)\n",
    "- A hypothesis y1...yt has a score of its log probability\n"
   ]
  }
 ]
}