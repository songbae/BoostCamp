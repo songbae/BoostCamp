{
 "cells": [
  {
   "cell_type": "markdown",
   "metadata": {},
   "source": [
    "### what is instance segmentation?\r\n",
    "---\r\n",
    "- mask R-CNN -> Rol Extraction through RolAlign, an improved version of Rol Pooling\r\n",
    "\r\n",
    "### instance segmenters \r\n",
    "\r\n",
    "---\r\n",
    "- single stage -> YOLACT (You only look at coefficienTs)\r\n",
    "- YolactEdge-> 경량화 속도 up \r\n",
    "\r\n",
    "- what is panoptic Segmentation?\r\n",
    "\r\n",
    "### UPSNet\r\n",
    "---\r\n",
    "-Semnantic & Instance head-> Panoptic head -> Panoptic logits\r\n",
    "\r\n",
    "- VPSNet (for video)-> Align refernce features onto the target feature map (fusion at pixel level)\r\n",
    "-  \r\n",
    "\r\n",
    "\r\n",
    "\r\n",
    "\r\n"
   ]
  },
  {
   "cell_type": "code",
   "execution_count": 17,
   "metadata": {},
   "outputs": [
    {
     "name": "stdout",
     "output_type": "stream",
     "text": [
      "(1, 10)\n",
      "[[-0.17073757  1.62826838 -0.68243458  1.66191532  0.79494304  1.83543369\n",
      "   1.14433041 -2.37606417 -0.33121791  0.25535114]]\n",
      "[[[-0.17073757  1.62826838 -0.68243458  1.66191532  0.79494304\n",
      "    1.83543369  1.14433041 -2.37606417 -0.33121791  0.25535114]]]\n",
      "[[-0.17073757]\n",
      " [ 1.62826838]\n",
      " [-0.68243458]\n",
      " [ 1.66191532]\n",
      " [ 0.79494304]\n",
      " [ 1.83543369]\n",
      " [ 1.14433041]\n",
      " [-2.37606417]\n",
      " [-0.33121791]\n",
      " [ 0.25535114]]\n"
     ]
    },
    {
     "data": {
      "text/plain": "array([[-0.17073757],\n       [ 1.62826838],\n       [-0.68243458],\n       [ 1.66191532],\n       [ 0.79494304],\n       [ 1.83543369],\n       [ 1.14433041],\n       [-2.37606417],\n       [-0.33121791],\n       [ 0.25535114]])"
     },
     "execution_count": 17,
     "metadata": {},
     "output_type": "execute_result"
    }
   ],
   "source": [
    "import numpy as np\r\n",
    "import random\r\n",
    "x = np.random.randn(1, 10)\r\n",
    "print(x.shape)\r\n",
    "y = x[:, np.newaxis]\r\n",
    "print(x)\r\n",
    "print(y)\r\n",
    "z = x.reshape(10, 1)\r\n",
    "print(z)\r\n",
    "T = x.transpose(1, 0)\r\n",
    "T"
   ]
  }
 ],
 "metadata": {
  "kernelspec": {
   "display_name": "Python 3.8.5 64-bit ('songbae': virtualenv)",
   "metadata": {
    "interpreter": {
     "hash": "a955008dc820c70e8c41cf6f115bde945f96d07d69c96eec2ee76e53bea50083"
    }
   },
   "name": "python3"
  },
  "language_info": {
   "codemirror_mode": {
    "name": "ipython",
    "version": 3
   },
   "file_extension": ".py",
   "mimetype": "text/x-python",
   "name": "python",
   "nbconvert_exporter": "python",
   "pygments_lexer": "ipython3",
   "version": "3.8.5"
  },
  "orig_nbformat": 2
 },
 "nbformat": 4,
 "nbformat_minor": 2
}