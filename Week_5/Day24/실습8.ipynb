{
  "nbformat": 4,
  "nbformat_minor": 0,
  "metadata": {
    "colab": {
      "name": "실습8.ipynb",
      "provenance": [],
      "collapsed_sections": []
    },
    "kernelspec": {
      "name": "python3",
      "display_name": "Python 3",
      "language": "python"
    }
  },
  "cells": [
    {
      "cell_type": "markdown",
      "metadata": {
        "id": "OaGFUhRS9_4_"
      },
      "source": [
        "**Lab 8 : Latent Factor based Recommendation System**\r\n",
        "- Instuctor : Kijung Shin\r\n",
        "- Teaching Assistants : Hyunju Lee(main), Deukryeol Yoon, Shinhwan Kang \r\n",
        "- 본 실습에서는 추천 시스템에서 가장 흔히 쓰이는 surprise library를 사용하여 Latent Factor 기반 추천 시스템을 구현해본다."
      ]
    },
    {
      "cell_type": "code",
      "metadata": {
        "id": "0eDUTk91-aKU"
      },
      "source": [
        "!pip install surprise\r\n"
      ],
      "execution_count": null,
      "outputs": []
    },
    {
      "cell_type": "code",
      "metadata": {
        "id": "SrPwwl069oTE"
      },
      "source": [
        "import numpy as np \n",
        "import pandas as pd\n",
        "from surprise import SVD\n",
        "from surprise.model_selection import train_test_split\n",
        "from surprise.dataset import DatasetAutoFolds\n",
        "from surprise.model_selection import cross_validate\n",
        "from surprise import Dataset, Reader\n",
        "from surprise import accuracy\n"
      ],
      "execution_count": 1,
      "outputs": []
    },
    {
      "cell_type": "code",
      "metadata": {
        "id": "DDBS5vAwD3P8"
      },
      "source": [
        "import os, sys \n",
        "\n",
        "### 해당 코드 실행 시 colab에서 실행중인 폴더의 /content/drive/My Drive가 구글 드라이브에 연결됨\n"
      ],
      "execution_count": 2,
      "outputs": []
    },
    {
      "cell_type": "markdown",
      "metadata": {
        "id": "CLz5jZNali73"
      },
      "source": [
        "**Dataset Loading**"
      ]
    },
    {
      "cell_type": "code",
      "metadata": {
        "id": "YVMY3fGKDjBn"
      },
      "source": [
        "#### 데이터셋 불러오기(MovieLens 10k) ####\n",
        "df_ratings = pd.read_csv('../data/others/ratings.csv')\n",
        "\n",
        "#### 평점 데이터셋 형태 확인#### \n",
        "# surprise library의 Reader 사용 시 반드시 사용자-아이템-평점 순으로 정보가 들어가 있어야 함\n",
        "\n",
        "print(\"### Rating Dataset Format ###\", end='\\n\\n')\n",
        "print(df_ratings.head(), end='\\n\\n\\n')\n",
        "df_ratings.drop(['timestamp'], axis=1, inplace=True)\n",
        "print(\"### Rating Dataset - Timestamp Removed ###\", end='\\n\\n')\n",
        "print(df_ratings)\n",
        "\n"
      ],
      "execution_count": 3,
      "outputs": [
        {
          "output_type": "stream",
          "name": "stdout",
          "text": [
            "### Rating Dataset Format ###\n\n   userId  movieId  rating  timestamp\n0       1        1     4.0  964982703\n1       1        3     4.0  964981247\n2       1        6     4.0  964982224\n3       1       47     5.0  964983815\n4       1       50     5.0  964982931\n\n\n### Rating Dataset - Timestamp Removed ###\n\n        userId  movieId  rating\n0            1        1     4.0\n1            1        3     4.0\n2            1        6     4.0\n3            1       47     5.0\n4            1       50     5.0\n...        ...      ...     ...\n100831     610   166534     4.0\n100832     610   168248     5.0\n100833     610   168250     5.0\n100834     610   168252     5.0\n100835     610   170875     3.0\n\n[100836 rows x 3 columns]\n"
          ]
        }
      ]
    },
    {
      "cell_type": "code",
      "metadata": {
        "id": "qtQHQvLR3gJl"
      },
      "source": [
        "df_movies = pd.read_csv('../data/others/movies.csv')\n",
        "\n",
        "#### 영화 데이터셋 형태 확인 ####\n",
        "print(\"### Movie Dataset Format ###\", end = '\\n\\n')\n",
        "print(\"Columns of Movie Dataset : \",df_movies.columns, end = '\\n\\n')\n",
        "print(df_movies.head())"
      ],
      "execution_count": 4,
      "outputs": [
        {
          "output_type": "stream",
          "name": "stdout",
          "text": [
            "### Movie Dataset Format ###\n\nColumns of Movie Dataset :  Index(['movieId', 'title', 'genres'], dtype='object')\n\n   movieId                               title  \\\n0        1                    Toy Story (1995)   \n1        2                      Jumanji (1995)   \n2        3             Grumpier Old Men (1995)   \n3        4            Waiting to Exhale (1995)   \n4        5  Father of the Bride Part II (1995)   \n\n                                        genres  \n0  Adventure|Animation|Children|Comedy|Fantasy  \n1                   Adventure|Children|Fantasy  \n2                               Comedy|Romance  \n3                         Comedy|Drama|Romance  \n4                                       Comedy  \n"
          ]
        }
      ]
    },
    {
      "cell_type": "code",
      "metadata": {
        "id": "z4DBCS8uSnkk"
      },
      "source": [
        "#### Dataset의 User, Movie 수 확인 ####\n",
        "temp=df_ratings.userId.unique().shape\n",
        "print(temp)\n",
        "n_users = df_ratings.userId.unique().shape[0]\n",
        "n_items = df_ratings.movieId.unique().shape[0]\n",
        "print(\"num users: {}, num items:{}\".format(n_users, n_items))"
      ],
      "execution_count": 13,
      "outputs": [
        {
          "output_type": "stream",
          "name": "stdout",
          "text": [
            "(610,)\nnum users: 610, num items:9724\n"
          ]
        }
      ]
    },
    {
      "cell_type": "code",
      "metadata": {
        "id": "fk7uuYkDft5K"
      },
      "source": [
        "### Add Your Own Data ### \n",
        "\n",
        "###################################### Example 1#################################################\n",
        "# User 800 is a HUGE fan of Musical Movies\n",
        "rows = []                               # row = [user_id, movie_id, rating]\n",
        "user_id = 800\n",
        "rows.append([user_id, 73, 5])        # movie    73: Miserables, Les (1995)\n",
        "rows.append([user_id, 107780, 5])     # movie  107780: Cats(1998) \n",
        "rows.append([user_id, 588, 5])     # movie  588: Aladin(1992)\n",
        "rows.append([user_id, 60397, 5])    # movie 69397: Mamma Mia!(2008)\n",
        "rows.append([user_id, 99149, 5])    # movie 99149: Miserables, Les (2012)\n",
        "rows.append([user_id, 138186, 1])    # movie 138186: Sorrow(2015)\n",
        "rows.append([user_id, 1997, 1])    # movie 1997: Scream 2 (1991)\n",
        "\n",
        "##################################################################################################\n",
        "print(rows)\n",
        "###################################### Example 2#################################################\n",
        "# User 900 is a HUGE fan of Animation Movies\n",
        "rows = []                               # row = [user_id, movie_id, rating]\n",
        "user_id = 900\n",
        "rows.append([user_id, 1022, 5])        # movie    1022: Cinderella(1950)\n",
        "rows.append([user_id, 594, 5])     # movie  594: Snow White and the Seven Dwarfs(1937) \n",
        "rows.append([user_id, 106696, 5])     # movie  106696: Frozen(2013)\n",
        "rows.append([user_id, 166461, 5])    # movie 166461: Moana(2016)\n",
        "rows.append([user_id, 595, 5])    # movie 595: Beauty and the Beast (1991)\n",
        "rows.append([user_id, 138168, 1])    # movie 138168: Sorrow(2015)\n",
        "rows.append([user_id, 1997, 1])    # movie 1997: Scream 2 (1991)\n",
        "\n",
        "##################################################################################################\n",
        "print(rows)\n",
        "\n",
        "########################### Add Your Own Ratings using 'movie.csv' data #########################\n",
        "# my_rows = []\n",
        "# my_id = 2021\n",
        "# rows.append([user_id, ,])       # Fill your movie id and rating     \n",
        "# rows.append([user_id, ,])       # 여러분이 평가할 영화의 id와 점수를 입력하세요.\n",
        "# rows.append([user_id, ,])\n",
        "# rows.append([user_id, ,])\n",
        "# rows.append([user_id, ,])\n",
        "\n",
        "##################################################################################################\n",
        "for row in rows:\n",
        "    df_ratings = df_ratings.append(pd.Series(row, index=df_ratings.columns), ignore_index=True)\n",
        "print(df_ratings)"
      ],
      "execution_count": 16,
      "outputs": [
        {
          "output_type": "stream",
          "name": "stdout",
          "text": [
            "[[800, 73, 5], [800, 107780, 5], [800, 588, 5], [800, 60397, 5], [800, 99149, 5], [800, 138186, 1], [800, 1997, 1]]\n[[900, 1022, 5], [900, 594, 5], [900, 106696, 5], [900, 166461, 5], [900, 595, 5], [900, 138168, 1], [900, 1997, 1]]\n        userId  movieId  rating\n0            1        1     4.0\n1            1        3     4.0\n2            1        6     4.0\n3            1       47     5.0\n4            1       50     5.0\n...        ...      ...     ...\n100852     900   106696     5.0\n100853     900   166461     5.0\n100854     900      595     5.0\n100855     900   138168     1.0\n100856     900     1997     1.0\n\n[100857 rows x 3 columns]\n"
          ]
        }
      ]
    },
    {
      "cell_type": "code",
      "metadata": {
        "id": "YhXaysjb4oqC"
      },
      "source": [
        "#### Dataset의 User, Movie 수 확인 ####\n",
        "n_users = df_ratings.userId.unique().shape[0]\n",
        "n_items = df_ratings.movieId.unique().shape[0]\n",
        "print(\"num users: {}, num items:{}\".format(n_users, n_items))"
      ],
      "execution_count": 17,
      "outputs": [
        {
          "output_type": "stream",
          "name": "stdout",
          "text": [
            "num users: 611, num items:9725\n"
          ]
        }
      ]
    },
    {
      "cell_type": "code",
      "metadata": {
        "id": "E_Uvik-nSqL_"
      },
      "source": [
        "#### Get Movid Name from Movie ID - 영화 ID로부터 영화 제목 얻기 ###\n",
        "\n",
        "movie_set = set()     \n",
        "ratings = np.zeros((n_users, n_items))\n",
        "for (_, movie_id, _) in df_ratings.itertuples(index=False):\n",
        "    movie_set.add(movie_id)\n",
        "\n",
        "movie_id_to_name=dict()\n",
        "movie_id_to_genre=dict()\n",
        "\n",
        "for (movie_id, movie_name, movie_genre) in df_movies.itertuples(index=False):\n",
        "    if movie_id not in movie_set:              # 어떤 영화가 rating data에 없는 경우 skip\n",
        "        continue\n",
        "    movie_id_to_name[movie_id] = movie_name \n",
        "    movie_id_to_genre[movie_id] = movie_genre\n",
        "\n",
        "    \n"
      ],
      "execution_count": 19,
      "outputs": []
    },
    {
      "cell_type": "code",
      "metadata": {
        "id": "vSU0TfI0EOQ-"
      },
      "source": [
        "#### pandas dataframe을 surprise dataset 형태로 바꿔준 후, train set과 test set을 split 해준다 ####\n",
        "reader = Reader(rating_scale=(0, 5))\n",
        "data = Dataset.load_from_df(df_ratings[['userId','movieId','rating']], reader=reader)\n",
        "\n",
        "train, test = train_test_split(data, test_size=0.2, shuffle=True)\n",
        "\n",
        "print(type(data))\n",
        "print(type(train))\n",
        "\n",
        "##################################################################################\n",
        "## Grid Search를 위해 surprise.trainset 형태의 데이터를 surprise.dataset으로 변경해준다\n",
        "iterator = train.all_ratings()\n",
        "train_df = pd.DataFrame(columns=['userId', 'movieId', 'rating'])\n",
        "i = 0\n",
        "for (uid, iid, rating) in iterator:\n",
        "    train_df.loc[i] = [train.to_raw_uid(int(uid)), train.to_raw_iid(iid), rating]\n",
        "    i = i+1\n",
        "\n",
        "train_data = Dataset.load_from_df(train_df, reader=reader)\n",
        "\n",
        "print(type(train))\n",
        "print(type(train_data))\n",
        "##################################################################################\n"
      ],
      "execution_count": 20,
      "outputs": [
        {
          "output_type": "stream",
          "name": "stdout",
          "text": [
            "<class 'surprise.dataset.DatasetAutoFolds'>\n",
            "<class 'surprise.trainset.Trainset'>\n",
            "<class 'surprise.trainset.Trainset'>\n",
            "<class 'surprise.dataset.DatasetAutoFolds'>\n"
          ]
        }
      ]
    },
    {
      "cell_type": "markdown",
      "metadata": {
        "id": "lhmHbf-n34wo"
      },
      "source": [
        "**모델 설정 및 학습**"
      ]
    },
    {
      "cell_type": "code",
      "metadata": {
        "id": "OhULIcsYfZYi"
      },
      "source": [
        "### Hyperparameter Grid Search ### \n",
        "\n",
        "from surprise.model_selection import GridSearchCV\n",
        "param_grid = {'n_factors': [10,15,20,30,50,100]}\n",
        "\n",
        "####### Fill in Your Code ##########\n",
        "grid=GridSearchCV(SVD,param_grid,measures=['rmse','mae'],cv=4)\n",
        "grid.fit(train_data)\n",
        "\n",
        "#####################################\n",
        "\n",
        "\n",
        "print(grid.best_score['rmse'])\n",
        "print(grid.best_params['rmse'])"
      ],
      "execution_count": 21,
      "outputs": [
        {
          "output_type": "stream",
          "name": "stdout",
          "text": [
            "0.8786458760214186\n{'n_factors': 10}\n"
          ]
        }
      ]
    },
    {
      "cell_type": "code",
      "metadata": {
        "id": "WJvHg9ePEA3A"
      },
      "source": [
        "### Use the Hyperparameter with best performance ###\n",
        "\n",
        "print(grid.best_params)\n",
        "################ Fill in Your Code #################\n",
        "\n",
        "algorithm=SVD(grid.best_params['rmse']['n_factors'])\n",
        "algorithm.fit(train)\n",
        "####################################################"
      ],
      "execution_count": 22,
      "outputs": [
        {
          "output_type": "stream",
          "name": "stdout",
          "text": [
            "{'rmse': {'n_factors': 10}, 'mae': {'n_factors': 15}}\n"
          ]
        },
        {
          "output_type": "execute_result",
          "data": {
            "text/plain": [
              "<surprise.prediction_algorithms.matrix_factorization.SVD at 0x252b656dd00>"
            ]
          },
          "metadata": {},
          "execution_count": 22
        }
      ]
    },
    {
      "cell_type": "markdown",
      "metadata": {
        "id": "lOX0C8lK39nY"
      },
      "source": [
        "**모델 예측**"
      ]
    },
    {
      "cell_type": "code",
      "metadata": {
        "id": "QJznKOmcygeD"
      },
      "source": [
        "##### algorithm prediction #####\r\n",
        "\r\n",
        "\r\n",
        "prediction = algorithm.test(test)\r\n",
        "for p in prediction[:5]:            # prediction 결과값 5개 미리보기\r\n",
        "    print(p)                        # r_ui : 실제 rating 값, est: 예측된 rating 값\r\n",
        "    "
      ],
      "execution_count": null,
      "outputs": []
    },
    {
      "cell_type": "code",
      "metadata": {
        "id": "etXZ1vXxzCXt"
      },
      "source": [
        "#### 특정 user, 특정 item에 대한 prediction 값 ###\r\n",
        "uid = 800\r\n",
        "iid = 8368\r\n",
        "prediction_user_item = algorithm.predict(uid, iid)\r\n",
        "print(prediction_user_item)     "
      ],
      "execution_count": null,
      "outputs": []
    },
    {
      "cell_type": "code",
      "metadata": {
        "id": "CdmHg93zLTd7"
      },
      "source": [
        "##############################################################\n",
        "##### 해당 user가 아직 보지 않은 영화를 return해주는 함수#####\n",
        "##############################################################\n",
        "def get_unseen_movies(data, user_id):\n",
        "\n",
        "    watched_movies = set()\n",
        "    total_movies = set()\n",
        "    ########### Fill in Your Code #################\n",
        "\n",
        "    for(uid,iid,rating)in data.all_ratings():\n",
        "        total_movies.add(iid)\n",
        "        if uid==user_id:\n",
        "            watched_movies.add(iid)\n",
        "    unseen_movies=total_movies-watched_movies\n",
        "    ##################################################\n",
        "    return unseen_movies\n",
        "    # return total_movies"
      ],
      "execution_count": 23,
      "outputs": []
    },
    {
      "cell_type": "code",
      "metadata": {
        "id": "tw-koiPVKGin"
      },
      "source": [
        "################################################################################\n",
        "############# 특정 user에게 top k개의 영상을 추천해주는 함수 ###################\n",
        "################################################################################\n",
        "def recommend(train, algorithm, user_id, top_k=10):\n",
        "    ################ Fill in Your Code ########################################\n",
        "\n",
        "    unseen_movies=get_unseen_movies(train,user_id)\n",
        "    prediction=[algorithm.predict(user_id,movie_id)for movie_id in unseen_movies]\n",
        "\n",
        "    prediction.sort(key=lambda x: x.est, reverse=True)\n",
        "    ###########################################################################\n",
        "    for _, movie, _, pred, _ in prediction[:top_k]:\n",
        "        print(\"movid id: {}, movie genre: {},predicted rating: {}\".format(movie_id_to_name[movie], movie_id_to_genre[movie], pred))\n"
      ],
      "execution_count": 24,
      "outputs": []
    },
    {
      "cell_type": "code",
      "metadata": {
        "id": "qu_CPfAEQF3z"
      },
      "source": [
        "#########################################\n",
        "####### 800번 유저의 추천 결과 ##########\n",
        "#########################################\n",
        "\n",
        "recommend(train, algorithm, user_id=800, top_k=20)\n"
      ],
      "execution_count": 25,
      "outputs": [
        {
          "output_type": "stream",
          "name": "stdout",
          "text": [
            "movid id: Dr. Strangelove or: How I Learned to Stop Worrying and Love the Bomb (1964), movie genre: Comedy|War,predicted rating: 4.406875376662473\nmovid id: Lawrence of Arabia (1962), movie genre: Adventure|Drama|War,predicted rating: 4.383445298676939\nmovid id: Shawshank Redemption, The (1994), movie genre: Crime|Drama,predicted rating: 4.359326786886909\nmovid id: Rear Window (1954), movie genre: Mystery|Thriller,predicted rating: 4.347999279240767\nmovid id: Great Escape, The (1963), movie genre: Action|Adventure|Drama|War,predicted rating: 4.346123607478877\nmovid id: Harold and Maude (1971), movie genre: Comedy|Drama|Romance,predicted rating: 4.337267206179447\nmovid id: Good, the Bad and the Ugly, The (Buono, il brutto, il cattivo, Il) (1966), movie genre: Action|Adventure|Western,predicted rating: 4.331754451587349\nmovid id: Boondock Saints, The (2000), movie genre: Action|Crime|Drama|Thriller,predicted rating: 4.299115522814875\nmovid id: Casablanca (1942), movie genre: Drama|Romance,predicted rating: 4.296734567437459\nmovid id: Cool Hand Luke (1967), movie genre: Drama,predicted rating: 4.295906637306425\nmovid id: Amadeus (1984), movie genre: Drama,predicted rating: 4.2799356693327715\nmovid id: Usual Suspects, The (1995), movie genre: Crime|Mystery|Thriller,predicted rating: 4.2798895280021485\nmovid id: Godfather: Part II, The (1974), movie genre: Crime|Drama,predicted rating: 4.274921606673242\nmovid id: Godfather, The (1972), movie genre: Crime|Drama,predicted rating: 4.272046178693125\nmovid id: Patton (1970), movie genre: Drama|War,predicted rating: 4.266891341979507\nmovid id: American History X (1998), movie genre: Crime|Drama,predicted rating: 4.266214174797282\nmovid id: Apocalypse Now (1979), movie genre: Action|Drama|War,predicted rating: 4.265111235726272\nmovid id: Fight Club (1999), movie genre: Action|Crime|Drama|Thriller,predicted rating: 4.261246399522131\nmovid id: Raiders of the Lost Ark (Indiana Jones and the Raiders of the Lost Ark) (1981), movie genre: Action|Adventure,predicted rating: 4.253076269274032\nmovid id: Glory (1989), movie genre: Drama|War,predicted rating: 4.252332604702201\n"
          ]
        }
      ]
    },
    {
      "cell_type": "code",
      "metadata": {
        "id": "7hNkvzAG4dnb"
      },
      "source": [
        "#########################################\n",
        "####### 900번 유저의 추천 결과 ##########\n",
        "#########################################\n",
        "\n",
        "recommend(train, algorithm, user_id=900, top_k=20)\n"
      ],
      "execution_count": 26,
      "outputs": [
        {
          "output_type": "stream",
          "name": "stdout",
          "text": [
            "movid id: Shawshank Redemption, The (1994), movie genre: Crime|Drama,predicted rating: 4.778591569837205\nmovid id: Usual Suspects, The (1995), movie genre: Crime|Mystery|Thriller,predicted rating: 4.684809051960285\nmovid id: Star Wars: Episode IV - A New Hope (1977), movie genre: Action|Adventure|Sci-Fi,predicted rating: 4.633585628974497\nmovid id: Good, the Bad and the Ugly, The (Buono, il brutto, il cattivo, Il) (1966), movie genre: Action|Adventure|Western,predicted rating: 4.620408497070068\nmovid id: Godfather: Part II, The (1974), movie genre: Crime|Drama,predicted rating: 4.617236396973112\nmovid id: Lawrence of Arabia (1962), movie genre: Adventure|Drama|War,predicted rating: 4.607422925904616\nmovid id: Dr. Strangelove or: How I Learned to Stop Worrying and Love the Bomb (1964), movie genre: Comedy|War,predicted rating: 4.593527013358134\nmovid id: Rear Window (1954), movie genre: Mystery|Thriller,predicted rating: 4.576124499397143\nmovid id: Fight Club (1999), movie genre: Action|Crime|Drama|Thriller,predicted rating: 4.560323706610714\nmovid id: Lord of the Rings: The Fellowship of the Ring, The (2001), movie genre: Adventure|Fantasy,predicted rating: 4.555671569628878\nmovid id: Harold and Maude (1971), movie genre: Comedy|Drama|Romance,predicted rating: 4.550892354923568\nmovid id: Great Escape, The (1963), movie genre: Action|Adventure|Drama|War,predicted rating: 4.538254778221116\nmovid id: Raiders of the Lost Ark (Indiana Jones and the Raiders of the Lost Ark) (1981), movie genre: Action|Adventure,predicted rating: 4.536813088416009\nmovid id: To Kill a Mockingbird (1962), movie genre: Drama,predicted rating: 4.532579238320947\nmovid id: Casablanca (1942), movie genre: Drama|Romance,predicted rating: 4.52733612886951\nmovid id: Lord of the Rings: The Return of the King, The (2003), movie genre: Action|Adventure|Drama|Fantasy,predicted rating: 4.522875283551737\nmovid id: Schindler's List (1993), movie genre: Drama|War,predicted rating: 4.520216396912219\nmovid id: High Noon (1952), movie genre: Drama|Western,predicted rating: 4.519917679104832\nmovid id: Chinatown (1974), movie genre: Crime|Film-Noir|Mystery|Thriller,predicted rating: 4.518523167525143\nmovid id: Godfather, The (1972), movie genre: Crime|Drama,predicted rating: 4.5153981897226165\n"
          ]
        }
      ]
    },
    {
      "cell_type": "code",
      "metadata": {
        "id": "klbhY2KOnMo7"
      },
      "source": [],
      "execution_count": null,
      "outputs": []
    }
  ]
}