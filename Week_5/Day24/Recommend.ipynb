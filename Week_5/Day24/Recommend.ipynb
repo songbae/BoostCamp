{
 "metadata": {
  "language_info": {
   "codemirror_mode": {
    "name": "ipython",
    "version": 3
   },
   "file_extension": ".py",
   "mimetype": "text/x-python",
   "name": "python",
   "nbconvert_exporter": "python",
   "pygments_lexer": "ipython3",
   "version": 3
  },
  "orig_nbformat": 2
 },
 "nbformat": 4,
 "nbformat_minor": 2,
 "cells": [
  {
   "cell_type": "code",
   "execution_count": null,
   "metadata": {},
   "outputs": [],
   "source": [
    "### 넷플릭스 챌린지 데이터셋\n",
    "---\n",
    "\n",
    "\n",
    "```\n",
    "잠재 인수 모형 \n",
    "\n",
    "`사용자와 상품을 벡터로 표현 `하는 것 \n",
    "\n",
    "잠재 인수 모형에서는 고정된 인수 대신 효과적인 인수를 학습하는 것을 목표로 합니다.\n",
    "\n",
    "사용자와 상품을 임베딩하는 기준은 무엇인가?\n",
    "\n",
    "1) 사용자와 상품의 임베딩의 내적이 평점과 최대한 유사하도록 하는 것이다.\n",
    "2) 사용자 x의 임베딩을 Px, 상품 i의 임베딩을 Qi라고 하자\n",
    "3) 사용자 x의 상품 i에 대한 평점을 Rxi 라고 하자\n",
    "4) 임베딩의 목표는 PxQi이 Rxi와 유사하도록 하는 것이다.\n",
    "\n",
    "잠재 인수 모형은 다음 손실 함수를 최소화하는 P와 Q를 찾는 것을 목표로 합니다.\n",
    "\n",
    "하지만 위 손실 함수를 사용할 경우 과적합이 발생할 수 있다. 과적합이란 기계학습 모형이 훈련 데이터의 잡음 까지 학습하여,\n",
    "평가 성능은 오히려 감소하는 현상을 말한다.\n",
    "\n",
    "과적합을 방지하기 위하여 정규화 항을 손실 함수에 더해준다 .\n",
    "\n",
    "`고급 잠재 인수 모형` 개발 \n",
    "\n",
    "각 사용자의 편향은 해당 사용자의 평점 평균과 전체 평점 평균의 차를 의미한다.\n",
    "\n",
    "개선된 잠재 인수 모형에서는 평점을 전체평균, 사용자 편향, 상품편향, 상호작용으로 분리한다. \n",
    "\n",
    "시간적 편향을 고려한 잠재 인수 모형 \n",
    "\n",
    "\n",
    "```"
   ]
  },
  {
   "cell_type": "code",
   "execution_count": null,
   "metadata": {},
   "outputs": [],
   "source": [
    "import numpy as np \n",
    "import pandas as pd \n",
    "from surprise import SVD\n",
    "from surprise.model_selection import train_test_split, cross_validate,GridSearchCV\n",
    "from surprise import Dataset,Reader,accuracy"
   ]
  }
 ]
}