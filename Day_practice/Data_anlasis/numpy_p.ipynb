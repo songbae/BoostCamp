{
 "metadata": {
  "language_info": {
   "codemirror_mode": {
    "name": "ipython",
    "version": 3
   },
   "file_extension": ".py",
   "mimetype": "text/x-python",
   "name": "python",
   "nbconvert_exporter": "python",
   "pygments_lexer": "ipython3",
   "version": "3.8.5-final"
  },
  "orig_nbformat": 2,
  "kernelspec": {
   "name": "python3",
   "display_name": "Python 3",
   "language": "python"
  }
 },
 "nbformat": 4,
 "nbformat_minor": 2,
 "cells": [
  {
   "cell_type": "code",
   "execution_count": 5,
   "metadata": {},
   "outputs": [
    {
     "output_type": "stream",
     "name": "stdout",
     "text": [
      "[[  1   2   3 ... -64 -63 -62]\n [  1   2   1 ...  40  39  38]\n [ -1   0   1 ... -52 -51 -52]\n ...\n [ -1   0  -1 ... -28 -29 -30]\n [ -1  -2  -1 ...   8   7   8]\n [  1   2   1 ... -14 -15 -14]]\n119\n-132\n2573887\n2953994\n"
     ]
    }
   ],
   "source": [
    "import numpy as np\n",
    "n=5000\n",
    "step=1000\n",
    "draws=np.random.randint(0,2,(n,step))\n",
    "steps=np.where(draws>0,1,-1)\n",
    "walks=steps.cumsum(1)\n",
    "print(walks)\n",
    "print(walks.max())\n",
    "print(walks.min())\n",
    "print(walks.argmin())\n",
    "print(walks.argmax())"
   ]
  },
  {
   "cell_type": "code",
   "execution_count": 8,
   "metadata": {},
   "outputs": [
    {
     "output_type": "execute_result",
     "data": {
      "text/plain": [
       "3401"
      ]
     },
     "metadata": {},
     "execution_count": 8
    }
   ],
   "source": [
    "hit30=(np.abs(walks)>=30).any(axis=1)\n",
    "hit30.sum()"
   ]
  }
 ]
}