{
 "metadata": {
  "language_info": {
   "codemirror_mode": {
    "name": "ipython",
    "version": 3
   },
   "file_extension": ".py",
   "mimetype": "text/x-python",
   "name": "python",
   "nbconvert_exporter": "python",
   "pygments_lexer": "ipython3",
   "version": "3.8.5-final"
  },
  "orig_nbformat": 2,
  "kernelspec": {
   "name": "python3",
   "display_name": "Python 3",
   "language": "python"
  }
 },
 "nbformat": 4,
 "nbformat_minor": 2,
 "cells": [
  {
   "cell_type": "code",
   "execution_count": 2,
   "metadata": {},
   "outputs": [],
   "source": [
    "import numpy as np\n",
    "import pandas as pd\n",
    "import os\n",
    "import time\n",
    "import copy\n",
    "\n",
    "import torch\n",
    "import torch.nn as nn\n",
    "import torch.optim as optim\n",
    "import torch.nn.functional as F\n",
    "from torch.utils import data as data_utils\n",
    "from torchvision import datasets, models, transforms\n",
    "\n",
    "from sklearn.model_selection import train_test_split\n",
    "\n",
    "# For image-keypoints data augmentation\n",
    "import albumentations as A\n",
    "from albumentations.pytorch import ToTensorV2\n",
    "import cv2"
   ]
  },
  {
   "cell_type": "code",
   "execution_count": 7,
   "metadata": {},
   "outputs": [],
   "source": [
    "path='./data/'\n",
    "train_path=os.path.join(path+'train_df.csv')\n",
    "model_name='resnet'\n",
    "mode_ver='18'\n",
    "\n",
    "num_classes=48 \n",
    "batch_size=64\n",
    "num_epochs=50\n",
    "num_spilts=10\n",
    "num_earlystop=10\n",
    "input_w=150\n",
    "input_h=150\n",
    "learning_rate=1e-2\n",
    "feature_extract=False\n"
   ]
  },
  {
   "cell_type": "code",
   "execution_count": 8,
   "metadata": {},
   "outputs": [
    {
     "output_type": "execute_result",
     "data": {
      "text/plain": [
       "                          image       nose_x      nose_y   left_eye_x  \\\n",
       "0  001-1-1-01-Z17_A-0000001.jpg  1046.389631  344.757881  1041.655294   \n",
       "1  001-1-1-01-Z17_A-0000003.jpg  1069.850679  340.711494  1058.608552   \n",
       "2  001-1-1-01-Z17_A-0000005.jpg  1084.475902  337.000008  1078.717997   \n",
       "3  001-1-1-01-Z17_A-0000007.jpg  1042.320047  361.452689  1037.907194   \n",
       "4  001-1-1-01-Z17_A-0000009.jpg  1058.046395  343.164191  1046.717997   \n",
       "\n",
       "   left_eye_y  right_eye_x  right_eye_y   left_ear_x  left_ear_y  right_ear_x  \\\n",
       "0  329.820225  1059.429507   334.484230  1020.117796  338.890539  1048.000000   \n",
       "1  324.593690  1075.242111   325.593690  1041.422997  331.694815  1065.593682   \n",
       "2  323.757889  1095.648412   325.242119  1061.039884  329.351571  1086.461032   \n",
       "3  344.117804  1050.328382   353.913729  1016.844144  340.913737  1042.164191   \n",
       "4  331.703163  1058.132650   331.781079  1031.258806  338.593690  1049.812620   \n",
       "\n",
       "   ...  right_palm_x  right_palm_y  spine2(back)_x  spine2(back)_y  \\\n",
       "0  ...   1067.000000    335.000000     1019.484230      455.000000   \n",
       "1  ...   1081.187380    323.000000     1046.953248      454.062706   \n",
       "2  ...   1101.000000    334.000000     1044.538960      442.054730   \n",
       "3  ...   1057.406318    372.461040      982.937294      458.109462   \n",
       "4  ...   1069.648429    334.109461     1024.843791      453.687572   \n",
       "\n",
       "   spine1(waist)_x  spine1(waist)_y  left_instep_x  left_instep_y  \\\n",
       "0      1026.515770       514.054730     998.578836     826.718013   \n",
       "1      1058.766231       508.797029    1002.265676     699.062706   \n",
       "2      1052.844144       495.890539     989.437847     808.757889   \n",
       "3       990.375124       507.624866    1001.305177     829.233767   \n",
       "4      1034.391088       510.843791     998.625231     805.218921   \n",
       "\n",
       "   right_instep_x  right_instep_y  \n",
       "0     1063.204067      838.827465  \n",
       "1     1066.376234      841.499445  \n",
       "2     1066.071417      841.749554  \n",
       "3     1159.516499      599.389997  \n",
       "4     1059.625956      839.765102  \n",
       "\n",
       "[5 rows x 49 columns]"
      ],
      "text/html": "<div>\n<style scoped>\n    .dataframe tbody tr th:only-of-type {\n        vertical-align: middle;\n    }\n\n    .dataframe tbody tr th {\n        vertical-align: top;\n    }\n\n    .dataframe thead th {\n        text-align: right;\n    }\n</style>\n<table border=\"1\" class=\"dataframe\">\n  <thead>\n    <tr style=\"text-align: right;\">\n      <th></th>\n      <th>image</th>\n      <th>nose_x</th>\n      <th>nose_y</th>\n      <th>left_eye_x</th>\n      <th>left_eye_y</th>\n      <th>right_eye_x</th>\n      <th>right_eye_y</th>\n      <th>left_ear_x</th>\n      <th>left_ear_y</th>\n      <th>right_ear_x</th>\n      <th>...</th>\n      <th>right_palm_x</th>\n      <th>right_palm_y</th>\n      <th>spine2(back)_x</th>\n      <th>spine2(back)_y</th>\n      <th>spine1(waist)_x</th>\n      <th>spine1(waist)_y</th>\n      <th>left_instep_x</th>\n      <th>left_instep_y</th>\n      <th>right_instep_x</th>\n      <th>right_instep_y</th>\n    </tr>\n  </thead>\n  <tbody>\n    <tr>\n      <th>0</th>\n      <td>001-1-1-01-Z17_A-0000001.jpg</td>\n      <td>1046.389631</td>\n      <td>344.757881</td>\n      <td>1041.655294</td>\n      <td>329.820225</td>\n      <td>1059.429507</td>\n      <td>334.484230</td>\n      <td>1020.117796</td>\n      <td>338.890539</td>\n      <td>1048.000000</td>\n      <td>...</td>\n      <td>1067.000000</td>\n      <td>335.000000</td>\n      <td>1019.484230</td>\n      <td>455.000000</td>\n      <td>1026.515770</td>\n      <td>514.054730</td>\n      <td>998.578836</td>\n      <td>826.718013</td>\n      <td>1063.204067</td>\n      <td>838.827465</td>\n    </tr>\n    <tr>\n      <th>1</th>\n      <td>001-1-1-01-Z17_A-0000003.jpg</td>\n      <td>1069.850679</td>\n      <td>340.711494</td>\n      <td>1058.608552</td>\n      <td>324.593690</td>\n      <td>1075.242111</td>\n      <td>325.593690</td>\n      <td>1041.422997</td>\n      <td>331.694815</td>\n      <td>1065.593682</td>\n      <td>...</td>\n      <td>1081.187380</td>\n      <td>323.000000</td>\n      <td>1046.953248</td>\n      <td>454.062706</td>\n      <td>1058.766231</td>\n      <td>508.797029</td>\n      <td>1002.265676</td>\n      <td>699.062706</td>\n      <td>1066.376234</td>\n      <td>841.499445</td>\n    </tr>\n    <tr>\n      <th>2</th>\n      <td>001-1-1-01-Z17_A-0000005.jpg</td>\n      <td>1084.475902</td>\n      <td>337.000008</td>\n      <td>1078.717997</td>\n      <td>323.757889</td>\n      <td>1095.648412</td>\n      <td>325.242119</td>\n      <td>1061.039884</td>\n      <td>329.351571</td>\n      <td>1086.461032</td>\n      <td>...</td>\n      <td>1101.000000</td>\n      <td>334.000000</td>\n      <td>1044.538960</td>\n      <td>442.054730</td>\n      <td>1052.844144</td>\n      <td>495.890539</td>\n      <td>989.437847</td>\n      <td>808.757889</td>\n      <td>1066.071417</td>\n      <td>841.749554</td>\n    </tr>\n    <tr>\n      <th>3</th>\n      <td>001-1-1-01-Z17_A-0000007.jpg</td>\n      <td>1042.320047</td>\n      <td>361.452689</td>\n      <td>1037.907194</td>\n      <td>344.117804</td>\n      <td>1050.328382</td>\n      <td>353.913729</td>\n      <td>1016.844144</td>\n      <td>340.913737</td>\n      <td>1042.164191</td>\n      <td>...</td>\n      <td>1057.406318</td>\n      <td>372.461040</td>\n      <td>982.937294</td>\n      <td>458.109462</td>\n      <td>990.375124</td>\n      <td>507.624866</td>\n      <td>1001.305177</td>\n      <td>829.233767</td>\n      <td>1159.516499</td>\n      <td>599.389997</td>\n    </tr>\n    <tr>\n      <th>4</th>\n      <td>001-1-1-01-Z17_A-0000009.jpg</td>\n      <td>1058.046395</td>\n      <td>343.164191</td>\n      <td>1046.717997</td>\n      <td>331.703163</td>\n      <td>1058.132650</td>\n      <td>331.781079</td>\n      <td>1031.258806</td>\n      <td>338.593690</td>\n      <td>1049.812620</td>\n      <td>...</td>\n      <td>1069.648429</td>\n      <td>334.109461</td>\n      <td>1024.843791</td>\n      <td>453.687572</td>\n      <td>1034.391088</td>\n      <td>510.843791</td>\n      <td>998.625231</td>\n      <td>805.218921</td>\n      <td>1059.625956</td>\n      <td>839.765102</td>\n    </tr>\n  </tbody>\n</table>\n<p>5 rows × 49 columns</p>\n</div>"
     },
     "metadata": {},
     "execution_count": 8
    }
   ],
   "source": [
    "df=pd.read_csv(train_path)\n",
    "df.head()"
   ]
  },
  {
   "cell_type": "code",
   "execution_count": 15,
   "metadata": {},
   "outputs": [
    {
     "output_type": "stream",
     "name": "stdout",
     "text": [
      "['001-1-1-01-Z17_A-0000001.jpg' '001-1-1-01-Z17_A-0000003.jpg'\n '001-1-1-01-Z17_A-0000005.jpg' ... '642-2-4-31-Z148_E-0000027.jpg'\n '642-2-4-31-Z148_E-0000029.jpg' '642-2-4-31-Z148_E-0000031.jpg']\n           nose_x      nose_y   left_eye_x  left_eye_y  right_eye_x  \\\n0     1046.389631  344.757881  1041.655294  329.820225  1059.429507   \n1     1069.850679  340.711494  1058.608552  324.593690  1075.242111   \n2     1084.475902  337.000008  1078.717997  323.757889  1095.648412   \n3     1042.320047  361.452689  1037.907194  344.117804  1050.328382   \n4     1058.046395  343.164191  1046.717997  331.703163  1058.132650   \n...           ...         ...          ...         ...          ...   \n4190   637.251052  781.342260  1117.135818  370.667301  1097.123228   \n4191   637.251052  781.342260  1117.135818  370.667301  1097.123228   \n4192   637.251052  781.342260  1117.135818  370.667301  1097.123228   \n4193   637.251052  781.342260  1117.135818  370.667301  1097.123228   \n4194   637.251052  781.342260  1117.135818  370.667301  1097.123228   \n\n      right_eye_y   left_ear_x  left_ear_y  right_ear_x  right_ear_y  ...  \\\n0      334.484230  1020.117796  338.890539  1048.000000   343.000000  ...   \n1      325.593690  1041.422997  331.694815  1065.593682   333.968459  ...   \n2      325.242119  1061.039884  329.351571  1086.461032   334.109461  ...   \n3      353.913729  1016.844144  340.913737  1042.164191   359.351579  ...   \n4      331.781079  1031.258806  338.593690  1049.812620   338.187380  ...   \n...           ...          ...         ...          ...          ...  ...   \n4190   330.642200  1095.455539  355.657874  1083.364600   325.639021  ...   \n4191   330.642200  1095.455539  355.657874  1083.364600   325.639021  ...   \n4192   330.642200  1095.455539  355.657874  1083.364600   325.639021  ...   \n4193   330.642200  1095.455539  355.657874  1083.364600   325.639021  ...   \n4194   330.642200  1095.455539  355.657874  1083.364600   325.639021  ...   \n\n      right_palm_x  right_palm_y  spine2(back)_x  spine2(back)_y  \\\n0      1067.000000    335.000000     1019.484230      455.000000   \n1      1081.187380    323.000000     1046.953248      454.062706   \n2      1101.000000    334.000000     1044.538960      442.054730   \n3      1057.406318    372.461040      982.937294      458.109462   \n4      1069.648429    334.109461     1024.843791      453.687572   \n...            ...           ...             ...             ...   \n4190    762.746552    862.643292      740.504148      890.141117   \n4191    762.746552    862.643292      740.504148      890.141117   \n4192    762.746552    862.643292      740.504148      890.141117   \n4193    762.746552    862.643292      740.504148      890.141117   \n4194    762.746552    862.643292      740.504148      890.141117   \n\n      spine1(waist)_x  spine1(waist)_y  left_instep_x  left_instep_y  \\\n0         1026.515770       514.054730     998.578836     826.718013   \n1         1058.766231       508.797029    1002.265676     699.062706   \n2         1052.844144       495.890539     989.437847     808.757889   \n3          990.375124       507.624866    1001.305177     829.233767   \n4         1034.391088       510.843791     998.625231     805.218921   \n...               ...              ...            ...            ...   \n4190       805.273267       541.608226     630.997090     612.486105   \n4191       805.273267       541.608226     630.997090     612.486105   \n4192       805.273267       541.608226     630.997090     612.486105   \n4193       805.273267       541.608226     630.997090     612.486105   \n4194       805.273267       541.608226     630.997090     612.486105   \n\n      right_instep_x  right_instep_y  \n0        1063.204067      838.827465  \n1        1066.376234      841.499445  \n2        1066.071417      841.749554  \n3        1159.516499      599.389997  \n4        1059.625956      839.765102  \n...              ...             ...  \n4190      616.404617      803.439462  \n4191      616.404617      803.439462  \n4192      616.404617      803.439462  \n4193      616.404617      803.439462  \n4194      616.404617      803.439462  \n\n[4195 rows x 48 columns]\n['nose_x', 'left_eye_x', 'right_eye_x', 'left_ear_x', 'right_ear_x', 'left_shoulder_x', 'right_shoulder_x', 'left_elbow_x', 'right_elbow_x', 'left_wrist_x', 'right_wrist_x', 'left_hip_x', 'right_hip_x', 'left_knee_x', 'right_knee_x', 'left_ankle_x', 'right_ankle_x', 'neck_x', 'left_palm_x', 'right_palm_x', 'spine2(back)_x', 'spine1(waist)_x', 'left_instep_x', 'right_instep_x']\n"
     ]
    }
   ],
   "source": [
    "imgs=df.iloc[:,0].to_numpy()\n",
    "motions=df.iloc[:,1:]\n",
    "columns=motions.columns.to_list()[::2]\n",
    "class_labels=[label.replace('_x','').replace('_y','')for label in columns]\n",
    "\n",
    "keypoints=[]\n",
    "for motion in motions.to_numpy():\n",
    "    a_keypoints=list()\n",
    "    for i in range(0,motion.shape[0],2):\n",
    "        a_keypoints.append((float(motion[i]),float(motion[i+1])))\n",
    "    keypoints.append(a_keypoints)\n",
    "keypoints=np.array(keypoints)\n",
    "print(imgs)\n",
    "print(motions)\n",
    "print(columns)\n"
   ]
  },
  {
   "cell_type": "code",
   "execution_count": 17,
   "metadata": {},
   "outputs": [
    {
     "output_type": "stream",
     "name": "stdout",
     "text": [
      "['nose', 'left_eye', 'right_eye', 'left_ear', 'right_ear', 'left_shoulder', 'right_shoulder', 'left_elbow', 'right_elbow', 'left_wrist', 'right_wrist', 'left_hip', 'right_hip', 'left_knee', 'right_knee', 'left_ankle', 'right_ankle', 'neck', 'left_palm', 'right_palm', 'spine2(back)', 'spine1(waist)', 'left_instep', 'right_instep']\n"
     ]
    },
    {
     "output_type": "execute_result",
     "data": {
      "text/plain": [
       "device(type='cuda')"
      ]
     },
     "metadata": {},
     "execution_count": 17
    }
   ],
   "source": [
    "print(class_labels)\n",
    "keypoints.shape\n",
    "device=torch.device('cuda'if torch.cuda.is_available() else 'cpu')\n",
    "device"
   ]
  },
  {
   "cell_type": "code",
   "execution_count": null,
   "metadata": {},
   "outputs": [],
   "source": []
  }
 ]
}