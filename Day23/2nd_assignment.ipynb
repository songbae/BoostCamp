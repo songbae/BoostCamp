{
  "nbformat": 4,
  "nbformat_minor": 0,
  "metadata": {
    "colab": {
      "name": "과제2의 사본",
      "provenance": [],
      "collapsed_sections": []
    },
    "kernelspec": {
      "display_name": "Python 3",
      "name": "python3",
      "language": "python"
    }
  },
  "cells": [
    {
      "cell_type": "code",
      "metadata": {
        "id": "RXgAgI1ewdlI"
      },
      "source": [
        "import random\n",
        "import numpy as np \n",
        "import pandas as pd\n",
        "import operator\n",
        "from scipy.sparse import coo_matrix\n",
        "from numpy.linalg import norm\n",
        "from sklearn.metrics import mean_squared_error"
      ],
      "execution_count": 1,
      "outputs": []
    },
    {
      "cell_type": "code",
      "metadata": {
        "id": "0gdhwpu2wtfk"
      },
      "source": [
        "ls"
      ],
      "execution_count": 2,
      "outputs": [
        {
          "output_type": "stream",
          "name": "stdout",
          "text": [
            " C ����̺��� ����: Windows\n ���� �Ϸ� ��ȣ: C211-4D3F\n\n c:\\Users\\songbae\\BoostCamp\\Day23 ���͸�\n\n2021-02-24  ���� 02:51    <DIR>          .\n2021-02-24  ���� 02:51    <DIR>          ..\n2021-02-24  ���� 05:32            38,205 2nd_assignment.ipynb\n2021-02-24  ���� 11:13             5,766 Community_Girvan_Newman.ipynb\n2021-02-24  ���� 12:20             5,065 graph_in_recommend.ipynb\n               3�� ����              49,036 ����Ʈ\n               2�� ���͸�  329,857,384,448 ����Ʈ ����\n"
          ]
        }
      ]
    },
    {
      "cell_type": "code",
      "metadata": {
        "id": "E9Km6q1Dkk0O",
        "colab": {
          "base_uri": "https://localhost:8080/"
        },
        "outputId": "072f1eea-636d-4842-fb0f-3a33df69dcdf"
      },
      "source": [
        "# import os, sys \n",
        "# from google.colab import drive \n",
        "\n",
        "# ### 해당 코드 실행 시 colab에서 실행중인 폴더의 /content/drive/My Drive가 구글 드라이브에 연결됨\n",
        "\n",
        "# drive.mount('/content/drive')\n"
      ],
      "execution_count": 3,
      "outputs": []
    },
    {
      "cell_type": "code",
      "metadata": {
        "id": "I40uSNFYerGO",
        "colab": {
          "base_uri": "https://localhost:8080/"
        },
        "outputId": "e7fc4ccc-277e-4a9b-c17d-076048b978f3"
      },
      "source": [
        "#### 영화 데이터셋 형태 확인 ####\n",
        "path='../data/others/movies.csv'\n",
        "movies = pd.read_csv(path)\n",
        "print(\"### Movie Dataset Format ###\", end = '\\n\\n')\n",
        "movies.head()"
      ],
      "execution_count": 4,
      "outputs": [
        {
          "output_type": "stream",
          "name": "stdout",
          "text": [
            "### Movie Dataset Format ###\n\n"
          ]
        },
        {
          "output_type": "execute_result",
          "data": {
            "text/plain": [
              "   movieId                               title  \\\n",
              "0        1                    Toy Story (1995)   \n",
              "1        2                      Jumanji (1995)   \n",
              "2        3             Grumpier Old Men (1995)   \n",
              "3        4            Waiting to Exhale (1995)   \n",
              "4        5  Father of the Bride Part II (1995)   \n",
              "\n",
              "                                        genres  \n",
              "0  Adventure|Animation|Children|Comedy|Fantasy  \n",
              "1                   Adventure|Children|Fantasy  \n",
              "2                               Comedy|Romance  \n",
              "3                         Comedy|Drama|Romance  \n",
              "4                                       Comedy  "
            ],
            "text/html": "<div>\n<style scoped>\n    .dataframe tbody tr th:only-of-type {\n        vertical-align: middle;\n    }\n\n    .dataframe tbody tr th {\n        vertical-align: top;\n    }\n\n    .dataframe thead th {\n        text-align: right;\n    }\n</style>\n<table border=\"1\" class=\"dataframe\">\n  <thead>\n    <tr style=\"text-align: right;\">\n      <th></th>\n      <th>movieId</th>\n      <th>title</th>\n      <th>genres</th>\n    </tr>\n  </thead>\n  <tbody>\n    <tr>\n      <th>0</th>\n      <td>1</td>\n      <td>Toy Story (1995)</td>\n      <td>Adventure|Animation|Children|Comedy|Fantasy</td>\n    </tr>\n    <tr>\n      <th>1</th>\n      <td>2</td>\n      <td>Jumanji (1995)</td>\n      <td>Adventure|Children|Fantasy</td>\n    </tr>\n    <tr>\n      <th>2</th>\n      <td>3</td>\n      <td>Grumpier Old Men (1995)</td>\n      <td>Comedy|Romance</td>\n    </tr>\n    <tr>\n      <th>3</th>\n      <td>4</td>\n      <td>Waiting to Exhale (1995)</td>\n      <td>Comedy|Drama|Romance</td>\n    </tr>\n    <tr>\n      <th>4</th>\n      <td>5</td>\n      <td>Father of the Bride Part II (1995)</td>\n      <td>Comedy</td>\n    </tr>\n  </tbody>\n</table>\n</div>"
          },
          "metadata": {},
          "execution_count": 4
        }
      ]
    },
    {
      "cell_type": "code",
      "metadata": {
        "id": "YIPStkMqgZUH"
      },
      "source": [
        "################### 가상 유저 추가해주기 위한 작업 데이터 전처리 - 장르별 영화 리스트를 뽑는다 #################\n",
        "\n",
        "# 이 셀을 실행하는 이유는 후에 특정 장르를 좋아하는 가상의 유저를 만들어서 추천의 결과를 보기 위함입니다.\n",
        "\n",
        "movie_dict = dict()                 # {movie_id : (movie_title, movie_genre)}\n",
        "musical_list = list()               # musical 장르의 영화들\n",
        "horror_list = list()                # horror 장르의 영화들\n",
        "documentary_list = list()           # documentary 장르의 영화들\n",
        "comedy_list = list()                # comedy 장르의 영화들\n",
        "animation_list = list()\n",
        "\n",
        "for (movie_id, movie_title, movie_genre) in movies.itertuples(index=False):\n",
        "    movie_dict[movie_id] = (movie_title, movie_genre)\n",
        "    if 'Musical' in movie_genre:\n",
        "        musical_list.append(movie_id)\n",
        "    if 'Horror' in movie_genre:\n",
        "        horror_list.append(movie_id)\n",
        "    if 'Documentary' in movie_genre:\n",
        "        documentary_list.append(movie_id)\n",
        "    if 'Comedy' in movie_genre:\n",
        "        comedy_list.append(movie_id)\n",
        "    if 'Animation' in movie_genre:\n",
        "        animation_list.append(movie_id)\n",
        "# print(musical_list)\n",
        "# print(horror_list)\n",
        "# print(documentary_list)\n",
        "# print(comedy_list)"
      ],
      "execution_count": 5,
      "outputs": []
    },
    {
      "cell_type": "code",
      "metadata": {
        "id": "hmAWs5jy9VkB",
        "colab": {
          "base_uri": "https://localhost:8080/"
        },
        "outputId": "d4f73faf-17f0-4ed9-b3f0-1389874c642a"
      },
      "source": [
        "path='../data/others/ratings.csv'\n",
        "ratings = pd.read_csv(path)\n",
        "\n",
        "# 평점 데이터셋 형태 확인\n",
        "print(\"### Rating Dataset Format ###\", end='\\n\\n')\n",
        "print(ratings.head(), end='\\n\\n\\n')\n",
        "ratings.drop(['timestamp'], axis=1, inplace=True)\n",
        "print(ratings.head())\n",
        "print(ratings.info())\n",
        "100836//len(ratings['userId'].unique())"
      ],
      "execution_count": 6,
      "outputs": [
        {
          "output_type": "stream",
          "name": "stdout",
          "text": [
            "### Rating Dataset Format ###\n\n   userId  movieId  rating  timestamp\n0       1        1     4.0  964982703\n1       1        3     4.0  964981247\n2       1        6     4.0  964982224\n3       1       47     5.0  964983815\n4       1       50     5.0  964982931\n\n\n   userId  movieId  rating\n0       1        1     4.0\n1       1        3     4.0\n2       1        6     4.0\n3       1       47     5.0\n4       1       50     5.0\n<class 'pandas.core.frame.DataFrame'>\nRangeIndex: 100836 entries, 0 to 100835\nData columns (total 3 columns):\n #   Column   Non-Null Count   Dtype  \n---  ------   --------------   -----  \n 0   userId   100836 non-null  int64  \n 1   movieId  100836 non-null  int64  \n 2   rating   100836 non-null  float64\ndtypes: float64(1), int64(2)\nmemory usage: 2.3 MB\nNone\n"
          ]
        },
        {
          "output_type": "execute_result",
          "data": {
            "text/plain": [
              "165"
            ]
          },
          "metadata": {},
          "execution_count": 6
        }
      ]
    },
    {
      "cell_type": "code",
      "metadata": {
        "id": "vglb1zq9XRJD",
        "colab": {
          "base_uri": "https://localhost:8080/"
        },
        "outputId": "87103afb-0274-44f7-abc4-1cba6877c38d"
      },
      "source": [
        "'''\n",
        "    유저가 평균적으로 영화를 130개정도 본 것으로 나타나서 일반적으로 추가하는 사람들도 그정도로 설정\n",
        "    그리고, 영화에 대한 평점을 줄 때는 영화 순서를 섞고, 무조건 5점을 주는 것이 아니라 4, 5점 중 랜덤으로 설정\n",
        "    낮은 점수를 줄 때도 마찬가지.\n",
        "'''\n",
        "# uid==800을 가지는 유저를 추가한다. 이 유저는 뮤지컬의 광팬이다.\n",
        "\n",
        "random.shuffle(musical_list);\n",
        "random.shuffle(horror_list);\n",
        "random.shuffle(documentary_list);\n",
        "random.shuffle(comedy_list);\n",
        "\n",
        "print(ratings)\n",
        "new_uid = 800\n",
        "rows = list()\n",
        "for movie_id in musical_list[:100]:\n",
        "    rows.append([new_uid, movie_id, random.randint(4,5)])\n",
        "for movie_id in horror_list[:50]:\n",
        "    rows.append([new_uid, movie_id, random.randint(1,2)])\n",
        "for movie_id in documentary_list[:20]:\n",
        "    rows.append([new_uid, movie_id, random.randint(2,3)])\n",
        "for row in rows:\n",
        "    ratings = ratings.append(pd.Series(row, index=ratings.columns), ignore_index=True)\n",
        "print(ratings)\n"
      ],
      "execution_count": 7,
      "outputs": [
        {
          "output_type": "stream",
          "name": "stdout",
          "text": [
            "        userId  movieId  rating\n",
            "0            1        1     4.0\n",
            "1            1        3     4.0\n",
            "2            1        6     4.0\n",
            "3            1       47     5.0\n",
            "4            1       50     5.0\n",
            "...        ...      ...     ...\n",
            "100831     610   166534     4.0\n",
            "100832     610   168248     5.0\n",
            "100833     610   168250     5.0\n",
            "100834     610   168252     5.0\n",
            "100835     610   170875     3.0\n",
            "\n",
            "[100836 rows x 3 columns]\n",
            "        userId  movieId  rating\n",
            "0            1        1     4.0\n",
            "1            1        3     4.0\n",
            "2            1        6     4.0\n",
            "3            1       47     5.0\n",
            "4            1       50     5.0\n",
            "...        ...      ...     ...\n",
            "101001     800    68522     2.0\n",
            "101002     800    54881     2.0\n",
            "101003     800    76751     3.0\n",
            "101004     800   171251     2.0\n",
            "101005     800     8577     3.0\n",
            "\n",
            "[101006 rows x 3 columns]\n"
          ]
        }
      ]
    },
    {
      "cell_type": "code",
      "metadata": {
        "id": "3Rg96RFt10xs",
        "colab": {
          "base_uri": "https://localhost:8080/"
        },
        "outputId": "d0001f09-2e67-42f8-dd77-33593507630a"
      },
      "source": [
        "# uid==850을 가지는 유저를 추가한다. 이 유저는 다큐 영화의 광팬이다.\n",
        "\n",
        "random.shuffle(musical_list);\n",
        "random.shuffle(horror_list);\n",
        "random.shuffle(documentary_list);\n",
        "random.shuffle(comedy_list);\n",
        "random.shuffle(animation_list);\n",
        "\n",
        "\n",
        "print(ratings)\n",
        "new_uid = 850\n",
        "rows = list()\n",
        "for movie_id in documentary_list[:100]:\n",
        "    rows.append([new_uid, movie_id, random.randint(4,5)])\n",
        "for movie_id in horror_list[:50]:\n",
        "    rows.append([new_uid, movie_id, random.randint(1,2)])\n",
        "for movie_id in animation_list[:10]:\n",
        "    rows.append([new_uid, movie_id, random.randint(1,2)])\n",
        "\n",
        "for row in rows:\n",
        "    ratings = ratings.append(pd.Series(row, index=ratings.columns), ignore_index=True)\n",
        "print(ratings)"
      ],
      "execution_count": 8,
      "outputs": [
        {
          "output_type": "stream",
          "name": "stdout",
          "text": [
            "        userId  movieId  rating\n",
            "0            1        1     4.0\n",
            "1            1        3     4.0\n",
            "2            1        6     4.0\n",
            "3            1       47     5.0\n",
            "4            1       50     5.0\n",
            "...        ...      ...     ...\n",
            "101001     800    68522     2.0\n",
            "101002     800    54881     2.0\n",
            "101003     800    76751     3.0\n",
            "101004     800   171251     2.0\n",
            "101005     800     8577     3.0\n",
            "\n",
            "[101006 rows x 3 columns]\n",
            "        userId  movieId  rating\n",
            "0            1        1     4.0\n",
            "1            1        3     4.0\n",
            "2            1        6     4.0\n",
            "3            1       47     5.0\n",
            "4            1       50     5.0\n",
            "...        ...      ...     ...\n",
            "101161     850     1920     1.0\n",
            "101162     850     2102     2.0\n",
            "101163     850     8574     2.0\n",
            "101164     850    55768     1.0\n",
            "101165     850    31658     1.0\n",
            "\n",
            "[101166 rows x 3 columns]\n"
          ]
        }
      ]
    },
    {
      "cell_type": "code",
      "metadata": {
        "id": "0mdpHH8kxGuL",
        "colab": {
          "base_uri": "https://localhost:8080/"
        },
        "outputId": "89d4c3ac-e379-4fa3-9618-a405b0510694"
      },
      "source": [
        "# uid==900을 가지는 유저를 추가한다. 이 유저는 호러의 광팬이다.\n",
        "\n",
        "random.shuffle(musical_list);\n",
        "random.shuffle(horror_list);\n",
        "random.shuffle(documentary_list);\n",
        "random.shuffle(comedy_list);\n",
        "random.shuffle(animation_list);\n",
        "\n",
        "new_uid = 900\n",
        "rows = list()\n",
        "for movie_id in horror_list[:120]:\n",
        "    rows.append([new_uid, movie_id, random.randint(4,5)])\n",
        "for movie_id in documentary_list[:10]:\n",
        "    rows.append([new_uid, movie_id, random.randint(1,2)])\n",
        "for movie_id in comedy_list[:30]:\n",
        "    rows.append([new_uid, movie_id, random.randint(1,2)])\n",
        "for movie_id in animation_list[:20]:\n",
        "    rows.append([new_uid, movie_id, random.randint(1,2)])\n",
        "for row in rows:\n",
        "    ratings = ratings.append(pd.Series(row, index=ratings.columns), ignore_index=True)\n",
        "print(ratings)"
      ],
      "execution_count": 9,
      "outputs": [
        {
          "output_type": "stream",
          "name": "stdout",
          "text": [
            "        userId  movieId  rating\n0            1        1     4.0\n1            1        3     4.0\n2            1        6     4.0\n3            1       47     5.0\n4            1       50     5.0\n...        ...      ...     ...\n101341     900    95149     1.0\n101342     900     5618     2.0\n101343     900   108090     2.0\n101344     900   170957     1.0\n101345     900   107999     1.0\n\n[101346 rows x 3 columns]\n"
          ]
        }
      ]
    },
    {
      "cell_type": "code",
      "metadata": {
        "id": "SnjlX5BT_yKC",
        "colab": {
          "base_uri": "https://localhost:8080/"
        },
        "outputId": "4f58839f-01f3-4401-c9c7-894211ee91cc"
      },
      "source": [
        "# uid==950을 가지는 유저를 추가한다. 이 유저는 애니메이션의 광팬이다.\r\n",
        "\r\n",
        "random.shuffle(musical_list);\r\n",
        "random.shuffle(horror_list);\r\n",
        "random.shuffle(documentary_list);\r\n",
        "random.shuffle(comedy_list);\r\n",
        "random.shuffle(animation_list);\r\n",
        "\r\n",
        "new_uid = 950\r\n",
        "rows = list()\r\n",
        "for movie_id in horror_list[:20]:\r\n",
        "    rows.append([new_uid, movie_id, random.randint(1,2)])\r\n",
        "for movie_id in documentary_list[:10]:\r\n",
        "    rows.append([new_uid, movie_id, random.randint(1,3)])\r\n",
        "for movie_id in comedy_list[:30]:\r\n",
        "    rows.append([new_uid, movie_id, random.randint(2,4)])\r\n",
        "for movie_id in animation_list[:150]:\r\n",
        "    rows.append([new_uid, movie_id, random.randint(3,5)])\r\n",
        "for row in rows:\r\n",
        "    ratings = ratings.append(pd.Series(row, index=ratings.columns), ignore_index=True)\r\n",
        "print(ratings)"
      ],
      "execution_count": 10,
      "outputs": [
        {
          "output_type": "stream",
          "name": "stdout",
          "text": [
            "        userId  movieId  rating\n0            1        1     4.0\n1            1        3     4.0\n2            1        6     4.0\n3            1       47     5.0\n4            1       50     5.0\n...        ...      ...     ...\n101551     950      673     3.0\n101552     950    91355     4.0\n101553     950    71899     3.0\n101554     950    33090     4.0\n101555     950     1274     3.0\n\n[101556 rows x 3 columns]\n"
          ]
        }
      ]
    },
    {
      "cell_type": "code",
      "metadata": {
        "id": "4u-StcnO9Vl3",
        "colab": {
          "base_uri": "https://localhost:8080/"
        },
        "outputId": "1726ad05-d1c8-45c0-92d3-834397cd702d"
      },
      "source": [
        "########################################################################\n",
        "######### Mapping user id, movie id to user index, movie index #########\n",
        "########################################################################\n",
        "\n",
        "uid_2_idx = dict()     # user id --> user idx\n",
        "mid_2_idx = dict()    # movie id --> movie idx\n",
        "\n",
        "u_idx = 0\n",
        "m_idx = 0\n",
        "for user_id, movie_id, r in ratings.itertuples(index=False):\n",
        "    if user_id not in uid_2_idx:\n",
        "        uid_2_idx[user_id] = u_idx\n",
        "        u_idx = u_idx+1\n",
        "\n",
        "    if movie_id not in mid_2_idx:\n",
        "        mid_2_idx[movie_id] = m_idx\n",
        "        m_idx = m_idx+1\n",
        "\n",
        "num_user = len(uid_2_idx)\n",
        "num_movie = len(mid_2_idx)\n",
        "print(num_user) # 유저수\n",
        "print(num_movie) # 영화수\n",
        "\n",
        "uidx_2_id = {v:k for (k,v) in uid_2_idx.items()}    # user idx --> user id\n",
        "midx_2_id = {v:k for (k,v) in mid_2_idx.items()}    # movie idx --> movie id\n"
      ],
      "execution_count": 11,
      "outputs": [
        {
          "output_type": "stream",
          "name": "stdout",
          "text": [
            "614\n9725\n"
          ]
        }
      ]
    },
    {
      "cell_type": "code",
      "metadata": {
        "id": "5bpAhY-QAQ5i",
        "colab": {
          "base_uri": "https://localhost:8080/"
        },
        "outputId": "be51c0ac-3998-48f4-b9a3-25f972c07caf"
      },
      "source": [
        "# rating matrix 초기화\n",
        "rating_matrix = np.zeros((num_user, num_movie)) # num_user x num_movie를 크기로 가지는 numpy 행렬 선언, 각 요소는 유저가 영화에 매긴 rating을 나타냄.\n",
        "\n",
        "for user_id, movie_id, r in ratings.itertuples(index=False):\n",
        "    u_idx = uid_2_idx[user_id]\n",
        "    m_idx = mid_2_idx[movie_id]\n",
        "    rating_matrix[u_idx, m_idx] = r\n",
        "\n",
        "rating_matrix"
      ],
      "execution_count": 12,
      "outputs": [
        {
          "output_type": "execute_result",
          "data": {
            "text/plain": [
              "array([[4., 4., 4., ..., 0., 0., 0.],\n",
              "       [0., 0., 0., ..., 0., 0., 0.],\n",
              "       [0., 0., 0., ..., 0., 0., 0.],\n",
              "       ...,\n",
              "       [0., 0., 0., ..., 0., 0., 0.],\n",
              "       [0., 0., 0., ..., 0., 0., 0.],\n",
              "       [0., 0., 0., ..., 0., 0., 3.]])"
            ]
          },
          "metadata": {},
          "execution_count": 12
        }
      ]
    },
    {
      "cell_type": "code",
      "metadata": {
        "id": "vNh0QF9ROiEl"
      },
      "source": [
        "######################################################################################################################################\n",
        "# Training Set과 Test Set을 분리해 주는 함수\n",
        "# kind='user'인 경우 같은 user 내의 rating을, kind = 'item'인 경우 같은 item(movie) 내의 rating을 train set과 test set으로 분리해준다.\n",
        "######################################################################################################################################\n",
        "def train_test_split(ratings):\n",
        "    test = np.zeros_like(ratings)\n",
        "    train = ratings.copy()\n",
        "    for x in range(ratings.shape[0]):\n",
        "        nonzero_idx = ratings[x, :].nonzero()[0]\n",
        "        test_ratings = np.random.choice(nonzero_idx, \n",
        "                                        size=int(len(nonzero_idx)/5),  \n",
        "                                        replace=False)\n",
        "        train[x, test_ratings] = 0.\n",
        "        test[x, test_ratings] = ratings[x, test_ratings]\n",
        "        \n",
        "    assert(np.all((train * test) == 0))     # train set과 test set이 완전히 분리되었는지 확인\n",
        "\n",
        "    return train, test\n",
        "\n",
        "######################################################################################\n",
        "###################### 유저별 평균을 기존 rating에서 빼준다 ##########################\n",
        "######################################################################################\n",
        "####### *****rating이 \"있는\" 값들의 평균만을 rating이 있는 곳에서만 빼준다############\n",
        "def subtract_mean_ratings(ratings):\n",
        "    mean_subtracted_ratings = np.zeros_like(ratings)\n",
        "    avg_ratings = np.zeros(ratings.shape[0])\n",
        "    for i in range(ratings.shape[0]):\n",
        "        nonzero_idx = ratings[i].nonzero()[0]                       # rating 값이 존재하는(0이 아닌) index 추출\n",
        "        sum_ratings = np.sum(ratings[i])          \n",
        "        num_nonzero = len(nonzero_idx)\n",
        "        avg_rating = sum_ratings / num_nonzero                      # rating 값들의 평균값 계산\n",
        "        if num_nonzero == 0:                  \n",
        "            avg_rating = 0\n",
        "        avg_ratings[i] = avg_rating\n",
        "        mean_subtracted_ratings[i, nonzero_idx] = ratings[i, nonzero_idx] - avg_rating \n",
        "                                                                    # 원 rating matrix에서 평균 값을 빼줌\n",
        "    return mean_subtracted_ratings, avg_ratings"
      ],
      "execution_count": 13,
      "outputs": []
    },
    {
      "cell_type": "code",
      "metadata": {
        "id": "HeFBFpNpN5PM"
      },
      "source": [
        "train_ratings, test_ratings = train_test_split(rating_matrix)\n",
        "mean_subtracted_ratings, avg_ratings = subtract_mean_ratings(train_ratings)"
      ],
      "execution_count": 14,
      "outputs": []
    },
    {
      "cell_type": "code",
      "metadata": {
        "id": "22zzcXhMwaO5"
      },
      "source": [
        "def calculate_rmse(R, U, V, lambda_u, lambda_v):\n",
        "   \n",
        "    error = 0\n",
        "    for u, i, r_ui in zip(R.row, R.col, R.data):\n",
        "        error += (r_ui-U[u,:]@V[:,i])**2\n",
        "    for u in range(U.shape[0]):\n",
        "        error += lambda_u*(norm(U[u,:])**2)\n",
        "    for i in range(V.shape[1]):\n",
        "        error += lambda_v*(norm(V[:,i])**2)\n",
        "    rmse = np.sqrt(error/len(R.data))\n",
        "    return rmse\n",
        "\n",
        "def SGD(U, V, R, lr, lambda_u, lambda_v):\n",
        "    for u, i, r_ui in R:\n",
        "        e=r_ui-U[u,:]@V[:,i]\n",
        "        grad_u=2*e*(-V[:,i])+2*lambda_u*U[u,:]\n",
        "        grad_i=2*e*(-U[u,:])+2*lambda_v*V[:,i]\n",
        "        U[u,:]+=-lr*grad_u\n",
        "        V[:,i]+=-lr*grad_i\n",
        "    return U, V\n",
        "\n",
        "\n",
        "def train(ratings, dim=10, max_epoch=70, lambda_u=0.1, lambda_v=0.1, lr=0.01):\n",
        "    #lambda_u : regularization coefficient of U matrix, lambda_v : regularizatoin coeff of V matrix,\n",
        "    # lr : learning rate\n",
        "    num_u, num_i = ratings.shape\n",
        "\n",
        "    U = np.random.rand(num_u, dim)\n",
        "    V = np.random.rand(dim, num_i)\n",
        "    R = coo_matrix(ratings)\n",
        "    rmse = calculate_rmse(R, U, V, lambda_u, lambda_v)\n",
        "    print(\"Initial RMSE: \" + str(rmse))\n",
        "\n",
        "    for epoch in range(max_epoch):\n",
        "        if epoch != 0 and epoch%100==0:\n",
        "            lr /= 2\n",
        "        rating_data = list(zip(R.row, R.col, R.data))\n",
        "        random.shuffle(rating_data)\n",
        "        U, V = SGD(U, V, rating_data, lr, lambda_u, lambda_v)\n",
        "        rmse = calculate_rmse(R, U, V, lambda_u, lambda_v)        \n",
        "        print('Epoch: {:5}, RMSE: {:15}, Learning Rate:{}'.format(epoch, rmse, lr))\n",
        "    \n",
        "    return U, V \n",
        "\n",
        "def predict(U, V, user_id=None):\n",
        "    # user_id가 주어지지 않은 경우엔 전체 예측된 평점 행렬을 return,\n",
        "    # 주어진 경우엔 해당 유저에 대한 예측 평점 행렬을 return한다.\n",
        "\n",
        "    if user_id is None:\n",
        "        return np.dot(U, V)\n",
        "    else:\n",
        "        user_idx = uid_2_idx[user_id]\n",
        "        return np.dot(U[user_idx], V )\n",
        "\n",
        "\n",
        "#######################################################################################\n",
        "##########user id = uid인 유저에게 유저가 본 영화를 제외하고 N개를 추천해준다######\n",
        "#######################################################################################\n",
        "def recommend_for_uid(uid, ori_rating_matrix, U, V, top_N):\n",
        "\n",
        "    movie_rating_dict = dict()\n",
        "    u_predicted_rating = predict(U, V, user_id=uid)\n",
        "    for movie_idx, pred_rating in enumerate(u_predicted_rating):\n",
        "        movie_rating_dict[movie_idx] = pred_rating\n",
        "    \n",
        "    uidx = uid_2_idx[uid]\n",
        "    sorted_dict = sorted(movie_rating_dict.items(), key=operator.itemgetter(1), reverse=True)       # 전체 영화를 대상으로 예측 rating을 기준으로 나열\n",
        "    already_seen_movie_idxs = np.nonzero(ori_rating_matrix[uidx])[0]                                # 유저가 평점을매긴(이미 본) 영화들의 idx\n",
        "\n",
        "    print_cnt = 0\n",
        "    for idx, pred_rating in sorted_dict:\n",
        "        if print_cnt == top_N:\n",
        "            break\n",
        "        if idx not in already_seen_movie_idxs:\n",
        "            print(str(movie_dict[midx_2_id[idx]])+\"    \"+str(pred_rating))\n",
        "            print_cnt = print_cnt+1\n"
      ],
      "execution_count": 48,
      "outputs": []
    },
    {
      "cell_type": "code",
      "metadata": {
        "id": "mbm168gnDW1p"
      },
      "source": [
        "U, V = train(mean_subtracted_ratings)"
      ],
      "execution_count": 49,
      "outputs": [
        {
          "output_type": "stream",
          "name": "stdout",
          "text": [
            "Initial RMSE: 2.7719156094155317\n",
            "Epoch:     0, RMSE: 0.9804451773185788, Learning Rate:0.01\n",
            "Epoch:     1, RMSE: 0.9531042585201651, Learning Rate:0.01\n",
            "Epoch:     2, RMSE: 0.9453179896138676, Learning Rate:0.01\n",
            "Epoch:     3, RMSE: 0.9363549905271078, Learning Rate:0.01\n",
            "Epoch:     4, RMSE: 0.9256287164102178, Learning Rate:0.01\n",
            "Epoch:     5, RMSE: 0.9117856666414316, Learning Rate:0.01\n",
            "Epoch:     6, RMSE: 0.8908024677979066, Learning Rate:0.01\n",
            "Epoch:     7, RMSE: 0.8730158012377554, Learning Rate:0.01\n",
            "Epoch:     8, RMSE: 0.855142332207435, Learning Rate:0.01\n",
            "Epoch:     9, RMSE: 0.8408894580930332, Learning Rate:0.01\n",
            "Epoch:    10, RMSE: 0.828081667967556, Learning Rate:0.01\n",
            "Epoch:    11, RMSE: 0.8166182729232132, Learning Rate:0.01\n",
            "Epoch:    12, RMSE: 0.8054311575027244, Learning Rate:0.01\n",
            "Epoch:    13, RMSE: 0.7964079858103561, Learning Rate:0.01\n",
            "Epoch:    14, RMSE: 0.7863290003154818, Learning Rate:0.01\n",
            "Epoch:    15, RMSE: 0.7790484616947486, Learning Rate:0.01\n",
            "Epoch:    16, RMSE: 0.7704015348436392, Learning Rate:0.01\n",
            "Epoch:    17, RMSE: 0.7629280276273976, Learning Rate:0.01\n",
            "Epoch:    18, RMSE: 0.7550774031836411, Learning Rate:0.01\n",
            "Epoch:    19, RMSE: 0.7492292684633697, Learning Rate:0.01\n",
            "Epoch:    20, RMSE: 0.7429409294091552, Learning Rate:0.01\n",
            "Epoch:    21, RMSE: 0.7361275465763522, Learning Rate:0.01\n",
            "Epoch:    22, RMSE: 0.7307317168970454, Learning Rate:0.01\n",
            "Epoch:    23, RMSE: 0.7257319080689862, Learning Rate:0.01\n",
            "Epoch:    24, RMSE: 0.7209572949871766, Learning Rate:0.01\n",
            "Epoch:    25, RMSE: 0.7163318409453449, Learning Rate:0.01\n",
            "Epoch:    26, RMSE: 0.7108840576924553, Learning Rate:0.01\n",
            "Epoch:    27, RMSE: 0.7068607171947439, Learning Rate:0.01\n",
            "Epoch:    28, RMSE: 0.7035563876037868, Learning Rate:0.01\n",
            "Epoch:    29, RMSE: 0.7008941075896912, Learning Rate:0.01\n",
            "Epoch:    30, RMSE: 0.6964426647849788, Learning Rate:0.01\n",
            "Epoch:    31, RMSE: 0.69306989237626, Learning Rate:0.01\n",
            "Epoch:    32, RMSE: 0.6907895768688045, Learning Rate:0.01\n",
            "Epoch:    33, RMSE: 0.6867684133695114, Learning Rate:0.01\n",
            "Epoch:    34, RMSE: 0.6852120669964957, Learning Rate:0.01\n",
            "Epoch:    35, RMSE: 0.6815671439620592, Learning Rate:0.01\n",
            "Epoch:    36, RMSE: 0.6791235508017927, Learning Rate:0.01\n",
            "Epoch:    37, RMSE: 0.6767883800190053, Learning Rate:0.01\n",
            "Epoch:    38, RMSE: 0.6745824293635792, Learning Rate:0.01\n",
            "Epoch:    39, RMSE: 0.6731072027842224, Learning Rate:0.01\n",
            "Epoch:    40, RMSE: 0.670895919699319, Learning Rate:0.01\n",
            "Epoch:    41, RMSE: 0.6690177233485555, Learning Rate:0.01\n",
            "Epoch:    42, RMSE: 0.6667723121678429, Learning Rate:0.01\n",
            "Epoch:    43, RMSE: 0.6642827990839092, Learning Rate:0.01\n",
            "Epoch:    44, RMSE: 0.6636573515151338, Learning Rate:0.01\n",
            "Epoch:    45, RMSE: 0.6616010092807144, Learning Rate:0.01\n",
            "Epoch:    46, RMSE: 0.6604994544279966, Learning Rate:0.01\n",
            "Epoch:    47, RMSE: 0.6578124901998712, Learning Rate:0.01\n",
            "Epoch:    48, RMSE: 0.6572548370500708, Learning Rate:0.01\n",
            "Epoch:    49, RMSE: 0.6557104973627815, Learning Rate:0.01\n",
            "Epoch:    50, RMSE: 0.6534367673298014, Learning Rate:0.01\n",
            "Epoch:    51, RMSE: 0.6516602682649996, Learning Rate:0.01\n",
            "Epoch:    52, RMSE: 0.6526327154655084, Learning Rate:0.01\n",
            "Epoch:    53, RMSE: 0.6501910533996366, Learning Rate:0.01\n",
            "Epoch:    54, RMSE: 0.6489848102778605, Learning Rate:0.01\n",
            "Epoch:    55, RMSE: 0.6482520276255039, Learning Rate:0.01\n",
            "Epoch:    56, RMSE: 0.6461580985533212, Learning Rate:0.01\n",
            "Epoch:    57, RMSE: 0.6465384276107058, Learning Rate:0.01\n",
            "Epoch:    58, RMSE: 0.6442019825030518, Learning Rate:0.01\n",
            "Epoch:    59, RMSE: 0.6430958327627756, Learning Rate:0.01\n",
            "Epoch:    60, RMSE: 0.642203952197942, Learning Rate:0.01\n",
            "Epoch:    61, RMSE: 0.6429545420849733, Learning Rate:0.01\n",
            "Epoch:    62, RMSE: 0.6403769927497172, Learning Rate:0.01\n",
            "Epoch:    63, RMSE: 0.6406701201573859, Learning Rate:0.01\n",
            "Epoch:    64, RMSE: 0.6399188830329925, Learning Rate:0.01\n",
            "Epoch:    65, RMSE: 0.6381160943455848, Learning Rate:0.01\n",
            "Epoch:    66, RMSE: 0.6371597064007243, Learning Rate:0.01\n",
            "Epoch:    67, RMSE: 0.6358614981300997, Learning Rate:0.01\n",
            "Epoch:    68, RMSE: 0.6355927261649305, Learning Rate:0.01\n",
            "Epoch:    69, RMSE: 0.6349045069012613, Learning Rate:0.01\n"
          ]
        }
      ]
    },
    {
      "cell_type": "code",
      "metadata": {
        "id": "T_ralUqhZVGV"
      },
      "source": [
        "predicted_ratings = predict(U, V)\n",
        "predicted_ratings += avg_ratings.reshape([-1,1])\n",
        "print(predicted_ratings)"
      ],
      "execution_count": 50,
      "outputs": [
        {
          "output_type": "stream",
          "name": "stdout",
          "text": [
            "[[4.38432089 3.98795701 4.53243105 ... 4.49731607 4.48418146 4.09962283]\n [3.91616288 4.40251127 3.7293069  ... 3.91989291 3.83072861 4.59401518]\n [1.36406163 2.87349719 2.3384387  ... 2.07132923 3.4265934  2.79320133]\n ...\n [3.71461564 2.67503377 3.06330412 ... 3.85578392 2.88510472 4.19056383]\n [2.43505884 4.13268241 3.42757865 ... 3.30793677 4.34499606 2.69698968]\n [3.2879907  3.63007161 2.98754151 ... 3.04167478 2.87428927 3.95306823]]\n"
          ]
        }
      ]
    },
    {
      "cell_type": "code",
      "metadata": {
        "id": "xZj01amDwC7T"
      },
      "source": [
        "# 타겟 유저를 정해서, 해당 유저가 본 영화들의 분포를 뽑아내보기\n",
        "# 유저의 추첨 결과가 올바르게 나왔는지 해석하기 위하여 해당 함수를 만들어서 추천 결과와 출력합니다.  \n",
        "def print_user_preference(ori_rating_matrix, u_idx, type):\n",
        "    '''\n",
        "        type : ['avg', 'sum', 'cnt']\n",
        "        avg 는 평균 평점, sum은 평점의 합, cnt은 평점 매긴 횟수\n",
        "    '''\n",
        "    target_hist = ori_rating_matrix[u_idx]\n",
        "    target_seen_movie_idx =  np.nonzero(target_hist)[0]\n",
        "    target_genre_dict = dict()\n",
        "    target_genre_sum_rating_dict = dict()\n",
        "    for movie_idx in target_seen_movie_idx:\n",
        "        _, genre = movie_dict[midx_2_id[movie_idx]]\n",
        "        for g in genre.split(\"|\"):\n",
        "            if g not in target_genre_dict.keys():\n",
        "                target_genre_dict[g]=0\n",
        "                target_genre_sum_rating_dict[g]=0\n",
        "            target_genre_dict[g]=target_genre_dict[g]+1\n",
        "            target_genre_sum_rating_dict[g] = target_genre_sum_rating_dict[g] + ori_rating_matrix[u_idx][movie_idx]\n",
        "\n",
        "    # # 많이 본 횟수 대로 \n",
        "    if type=='cnt':\n",
        "        target_genre_dict = sorted(target_genre_dict.items(), key=operator.itemgetter(1), reverse=True)\n",
        "        for k,v in target_genre_dict:\n",
        "            print(k,v)\n",
        "    \n",
        "    # # 영화 평점의 합대로\n",
        "    elif type=='sum':\n",
        "        target_genre_sum_rating_dict = sorted(target_genre_sum_rating_dict.items(), key=operator.itemgetter(1), reverse=True)\n",
        "        for k,v in target_genre_sum_rating_dict:\n",
        "            print(k,v)\n",
        "        \n",
        "    # 영화 평균 평점 순서대로\n",
        "    elif type==\"avg\":    \n",
        "        target_genre_avg_rating_dict = dict()\n",
        "        for k,v in target_genre_sum_rating_dict.items():\n",
        "            target_genre_avg_rating_dict[k] = v/target_genre_dict[k]\n",
        "        target_genre_avg_rating_dict = sorted(target_genre_avg_rating_dict.items(), key=operator.itemgetter(1), reverse=True)\n",
        "        for k,v in target_genre_avg_rating_dict:\n",
        "            print(k,v)\n",
        "    \n",
        "    else:\n",
        "        target_genre_avg_rating_dict = dict()\n",
        "        for k,v in target_genre_sum_rating_dict.items():\n",
        "            target_genre_avg_rating_dict[k] = v/target_genre_dict[k]\n",
        "        target_genre_avg_rating_dict = sorted(target_genre_avg_rating_dict.items(), key=operator.itemgetter(1), reverse=True)\n",
        "        for k,v in target_genre_avg_rating_dict:\n",
        "            print(k,v,target_genre_dict[k],target_genre_sum_rating_dict[k])"
      ],
      "execution_count": 51,
      "outputs": []
    },
    {
      "cell_type": "code",
      "metadata": {
        "id": "t92lSG2RjcMn"
      },
      "source": [
        "##### Check the RMSE of the test set ####### \n",
        "pred = predicted_ratings[test_ratings.nonzero()].flatten()\n",
        "actual = test_ratings[test_ratings.nonzero()].flatten()\n",
        "\n",
        "print(\"### Test RMSE ###\")\n",
        "print(np.sqrt(mean_squared_error(pred,actual)))"
      ],
      "execution_count": 52,
      "outputs": [
        {
          "output_type": "stream",
          "name": "stdout",
          "text": [
            "### Test RMSE ###\n",
            "0.868331088250249\n"
          ]
        }
      ]
    },
    {
      "cell_type": "code",
      "metadata": {
        "id": "hlgj8jBnDW3x"
      },
      "source": [
        "musical_fan = 800\n",
        "docu_fan = 850\n",
        "horror_fan = 900\n",
        "animation_fan =  950"
      ],
      "execution_count": 53,
      "outputs": []
    },
    {
      "cell_type": "code",
      "metadata": {
        "id": "vZaDTFklxcop"
      },
      "source": [
        "# 해당 유저가 본 영화의 분포를 알고 싶으면 print_user_preference 함수를 실행시켜보세요!\n",
        "# print_user_preference(rating_matrix, musical_fan, 'sum')\n",
        "recommend_for_uid(musical_fan, rating_matrix, U, V, top_N=30)"
      ],
      "execution_count": 54,
      "outputs": [
        {
          "output_type": "stream",
          "name": "stdout",
          "text": [
            "('Skin I Live In, The (La piel que habito) (2011)', 'Drama')    2.8719864851368806\n('Pokemon 4 Ever (a.k.a. Pokémon 4: The Movie) (2002)', 'Adventure|Animation|Children|Fantasy')    2.5909784769957573\n('Meatballs (1979)', 'Comedy')    2.1667016456165826\n('Muppets From Space (1999)', 'Children|Comedy')    2.0880548051021655\n('Titanic (1953)', 'Action|Drama')    2.040160396277404\n('Pollyanna (1960)', 'Children|Comedy|Drama')    1.9539634062096471\n('Cage Dive (2017)', 'Drama|Horror|Thriller')    1.8392872240043294\n('Lake House, The (2006)', 'Drama|Fantasy|Romance')    1.8190291236762484\n('Tooth Fairy 2 (2012)', 'Children|Comedy')    1.7828244294361004\n('Louis C.K.: Chewed Up (2008)', 'Comedy')    1.7605253109234336\n('Circle of Friends (1995)', 'Drama|Romance')    1.7522477616999252\n('Crow: City of Angels, The (1996)', 'Action|Thriller')    1.7520240226862913\n('Misfits, The (1961)', 'Comedy|Drama|Romance|Western')    1.7462547016542498\n('We Were Soldiers (2002)', 'Action|Drama|War')    1.702087258105493\n('Waydowntown (2000)', 'Comedy')    1.6983517820140406\n('Pokémon 3: The Movie (2001)', 'Animation|Children')    1.6807061834531578\n('Detroit Rock City (1999)', 'Comedy')    1.6806581526868771\n('Stay (2005)', 'Thriller')    1.6758804042702018\n('Until the End of the World (Bis ans Ende der Welt) (1991)', 'Adventure|Drama|Sci-Fi')    1.6745346740257088\n('Cars 3 (2017)', 'Adventure|Animation|Comedy')    1.6654548773266766\n('Fist of Legend (Jing wu ying xiong) (1994)', 'Action|Drama')    1.639854195954888\n('Ménage (Tenue de soirée) (1986)', 'Comedy|Drama')    1.6233212595116613\n('Senna (2010)', 'Documentary')    1.6222850074561532\n('Star Trek IV: The Voyage Home (1986)', 'Adventure|Comedy|Sci-Fi')    1.5949892239826573\n('À nous la liberté (Freedom for Us) (1931)', 'Comedy|Musical')    1.5913636934979507\n('Percy Jackson: Sea of Monsters (2013)', 'Adventure|Children|Fantasy')    1.585639261779553\n('London Has Fallen (2016)', 'Action|Crime|Thriller')    1.5675281504937504\n('Holiday, The (2006)', 'Comedy|Romance')    1.5422717168469275\n('Smokey and the Bandit (1977)', 'Action|Comedy')    1.5377071959919657\n('Source, The (1999)', 'Documentary')    1.5366408875162016\n"
          ]
        }
      ]
    },
    {
      "cell_type": "code",
      "metadata": {
        "id": "I9Bvdj5Oxnsy"
      },
      "source": [
        "# 해당 유저가 본 영화의 분포를 알고 싶으면 print_user_preference 함수를 실행시켜보세요!\n",
        "# print_user_preference(rating_matrix, docu_fan,'sum')\n",
        "recommend_for_uid(docu_fan, rating_matrix, U, V, top_N=30)"
      ],
      "execution_count": 55,
      "outputs": [
        {
          "output_type": "stream",
          "name": "stdout",
          "text": [
            "('Holy Mountain, The (Montaña sagrada, La) (1973)', 'Drama')    1.9112088464526855\n('10 Cent Pistol (2015)', 'Crime|Thriller')    1.902058540011947\n('Tender Mercies (1983)', 'Drama|Romance|Western')    1.8382627845942023\n('Films to Keep You Awake: The Christmas Tale (Películas para no dormir: Cuento de navidad) (2005)', 'Horror|Thriller')    1.8299349402086706\n('Next Best Thing, The (2000)', 'Comedy|Drama')    1.7760230033349975\n('Fantasia (1940)', 'Animation|Children|Fantasy|Musical')    1.6908718846140711\n('Mrs. Henderson Presents (2005)', 'Comedy|Drama')    1.6709597863177574\n('Grey Gardens (1975)', 'Documentary')    1.6693666509104663\n('Another Woman (1988)', 'Drama')    1.6400728331005299\n('Gallipoli (1981)', 'Drama|War')    1.6300929218766145\n('Alex and Emma (2003)', 'Comedy|Drama|Romance')    1.5805336948949091\n('Akira (1988)', 'Action|Adventure|Animation|Sci-Fi')    1.5763933176320242\n('Suspiria (1977)', 'Horror')    1.5666033823964023\n('Happiness of the Katakuris, The (Katakuri-ke no kôfuku) (2001)', 'Comedy|Horror|Musical')    1.565598818915937\n(\"Adam's Rib (1949)\", 'Comedy|Romance')    1.5560078362100105\n('Call Me by Your Name (2017)', 'Drama|Romance')    1.5327844143097216\n('My Man Godfrey (1957)', 'Comedy')    1.5268566891076987\n('Snow Day (2000)', 'Comedy')    1.5067106561729644\n('When We First Met (2018)', 'Comedy')    1.50566808092326\n('Wristcutters: A Love Story (2006)', 'Drama|Fantasy|Romance')    1.5003313005107701\n('Dragon ball Z 04: Lord Slug (1991)', 'Animation|Children')    1.4984217548823255\n('The Gracefield Incident (2015)', 'Action|Horror|Sci-Fi')    1.4959122454693863\n('Unfaithfully Yours (1948)', 'Comedy')    1.479401485313461\n('Joint Security Area (Gongdong gyeongbi guyeok JSA) (2000)', 'Crime|Drama|Mystery|Thriller|War')    1.4622364535125656\n(\"I'm the One That I Want (2000)\", 'Comedy')    1.452682618832735\n('Yellow Submarine (1968)', 'Adventure|Animation|Comedy|Fantasy|Musical')    1.450117698217392\n('Hush (2016)', 'Thriller')    1.4281484883702003\n('You Can Count on Me (2000)', 'Drama|Romance')    1.4196457507389983\n('Wings of the Dove, The (1997)', 'Drama|Romance')    1.4103962686843952\n('Play the Game (2009)', 'Comedy|Romance')    1.390952057514151\n"
          ]
        }
      ]
    },
    {
      "cell_type": "code",
      "metadata": {
        "id": "3gtm2ef3xjwQ"
      },
      "source": [
        "# 해당 유저가 본 영화의 분포를 알고 싶으면 print_user_preference 함수를 실행시켜보세요!\n",
        "# print_user_preference(rating_matrix, horror_fan,'sum')\n",
        "recommend_for_uid(horror_fan, rating_matrix, U, V, top_N=30)"
      ],
      "execution_count": 56,
      "outputs": [
        {
          "output_type": "stream",
          "name": "stdout",
          "text": [
            "('Happy Feet (2006)', 'Adventure|Animation|Children|Comedy|IMAX')    2.1220638210852965\n('House of Mirth, The (2000)', 'Romance')    2.025772568993334\n('Rogue (2007)', 'Action|Adventure|Horror|Sci-Fi|Thriller')    2.021448217836149\n('R.I.P.D. (2013)', 'Action|Comedy|Fantasy')    1.9474902151212647\n('I Still Know What You Did Last Summer (1998)', 'Horror|Mystery|Thriller')    1.931205157890444\n('Candyman (1992)', 'Horror|Thriller')    1.8856868180451318\n(\"Eight Crazy Nights (Adam Sandler's Eight Crazy Nights) (2002)\", 'Animation|Comedy|Musical')    1.8731321491804673\n('Saw (2004)', 'Horror|Mystery|Thriller')    1.870313062239794\n('Spy Kids 3-D: Game Over (2003)', 'Action|Adventure|Children')    1.8532377981100656\n('Dr. Jekyll and Mr. Hyde (1931)', 'Drama|Horror')    1.843254542570478\n('Mr. Wrong (1996)', 'Comedy')    1.8317676237154314\n('Bad Milo (Bad Milo!) (2013)', 'Comedy|Horror')    1.793848777081569\n('Alice Through the Looking Glass (2016)', 'Adventure|Children|Fantasy')    1.7810154659660096\n('anohana: The Flower We Saw That Day - The Movie (2013)', 'Animation|Drama')    1.7767785697514864\n('Win a Date with Tad Hamilton! (2004)', 'Comedy|Romance')    1.756437268308214\n('Wicker Man, The (2006)', 'Horror|Mystery|Thriller')    1.7533709161468565\n('Alvin and the Chipmunks (2007)', 'Children|Comedy')    1.7484083151109584\n('Johnny English (2003)', 'Action|Comedy|Thriller')    1.7418390247983115\n('Stigmata (1999)', 'Drama|Thriller')    1.7258998395466323\n('Sex and the City 2 (2010)', 'Comedy|Drama|Romance')    1.724412856682808\n('Showgirls (1995)', 'Drama')    1.7186770076621893\n('U Turn (1997)', 'Crime|Drama|Mystery')    1.7155272248348559\n('Exorcist III, The (1990)', 'Horror')    1.708547000305987\n('Tenant, The (Locataire, Le) (1976)', 'Drama|Horror|Mystery|Thriller')    1.6850003573938936\n('Cheaper by the Dozen (1950)', 'Comedy|Drama')    1.6780566708433158\n('Billy Jack Goes to Washington (1977)', 'Drama')    1.6662743579395973\n('Halloween 5: The Revenge of Michael Myers (1989)', 'Horror')    1.653056941834094\n('Witchfinder General (Conquerer Worm, The) (1968)', 'Horror')    1.6487189475114823\n('Allan Quatermain and the Lost City of Gold (1987)', 'Action|Adventure|Comedy')    1.647555758139661\n('Thin Red Line, The (1998)', 'Action|Drama|War')    1.6199694318221318\n"
          ]
        }
      ]
    },
    {
      "cell_type": "code",
      "metadata": {
        "id": "nSdpjiJf860-"
      },
      "source": [
        "# 해당 유저가 본 영화의 분포를 알고 싶으면 print_user_preference 함수를 실행시켜보세요!\n",
        "# print_user_preference(rating_matrix, horror_fan,'sum')\n",
        "recommend_for_uid(animation_fan, rating_matrix, U, V, top_N=30)"
      ],
      "execution_count": 57,
      "outputs": [
        {
          "output_type": "stream",
          "name": "stdout",
          "text": [
            "('Ted 2 (2015)', 'Comedy')    2.033394478789866\n('The Interview (2014)', 'Action|Comedy')    1.6420637287505941\n('Claymation Christmas Celebration, A (1987)', 'Animation|Children|Comedy|Musical')    1.6393714989518053\n('Christmas Carol, A (1977)', 'Drama|Fantasy')    1.6004374997867388\n(\"It's a Very Merry Muppet Christmas Movie (2002)\", 'Children|Comedy')    1.5570993795472243\n('The Gracefield Incident (2015)', 'Action|Horror|Sci-Fi')    1.5087168201254446\n('The Purge: Election Year (2016)', 'Action|Horror|Sci-Fi')    1.4985274512339883\n('I Origins (2014)', 'Drama|Sci-Fi')    1.472415937187882\n('Wonder (2017)', 'Drama')    1.432137482057697\n('Satanic (2016)', 'Horror')    1.4054204855491146\n('Toxic Avenger Part III: The Last Temptation of Toxie, The (1989)', 'Comedy|Horror')    1.397125723333777\n('High and Low (Tengoku to jigoku) (1963)', 'Crime|Drama|Film-Noir|Thriller')    1.3830992752912856\n('Amer (2009)', 'Drama|Horror')    1.3778815155090411\n('Mamma Mia: Here We Go Again! (2018)', 'Comedy|Romance')    1.3494258570084923\n('Eat Drink Man Woman (Yin shi nan nu) (1994)', 'Comedy|Drama|Romance')    1.3272103616145923\n('Blob, The (1958)', 'Horror|Sci-Fi')    1.3063109825693484\n('Dazed and Confused (1993)', 'Comedy')    1.2952787660781897\n('Indochine (1992)', 'Drama|Romance')    1.2901635697700558\n('Henry Fool (1997)', 'Comedy|Drama')    1.274887908835652\n('Two if by Sea (1996)', 'Comedy|Romance')    1.271232922323231\n('Mars Attacks! (1996)', 'Action|Comedy|Sci-Fi')    1.2567679786230852\n(\"Blue Is the Warmest Color (La vie d'Adèle) (2013)\", 'Drama|Romance')    1.2511223851773148\n('Go Fish (1994)', 'Drama|Romance')    1.2495794351720078\n(\"Buffalo '66 (a.k.a. Buffalo 66) (1998)\", 'Drama|Romance')    1.2362471143105207\n('Masked & Anonymous (2003)', 'Comedy|Drama')    1.235253888033482\n('Legionnaire (1998)', 'Action|Adventure|Drama|War')    1.234432369748375\n('Julie & Julia (2009)', 'Comedy|Drama|Romance')    1.2295721316345591\n('U Turn (1997)', 'Crime|Drama|Mystery')    1.2050819536352486\n('Daddy Day Camp (2007)', 'Children|Comedy')    1.1905875434900441\n('Flesh and Bone (1993)', 'Drama|Mystery|Romance')    1.1736471709836789\n"
          ]
        }
      ]
    },
    {
      "cell_type": "markdown",
      "metadata": {
        "id": "mOjrAnlAO1Un"
      },
      "source": [
        "# Test Code"
      ]
    },
    {
      "cell_type": "code",
      "metadata": {
        "id": "ECV1KEDPPbQ-"
      },
      "source": [
        "################ Generating Synthetic Data #######################\n",
        "synthetic_rating = np.zeros((5,10))\n",
        "\n",
        "for i in range(10):\n",
        "    random.seed(i)\n",
        "    u_idx = random.randint(0,4)\n",
        "    i_idx = random.randint(0,9)\n",
        "    r_ui = random.randint(1,5)\n",
        "    synthetic_rating[u_idx ,i_idx] = r_ui\n",
        "\n",
        "synthetic_R = coo_matrix(synthetic_rating)\n",
        "synthetic_R_zipped = list(zip(synthetic_R.row, synthetic_R.col, synthetic_R.data))\n",
        "np.random.seed(7)\n",
        "synthetic_U = np.random.rand(5, 3)\n",
        "synthetic_V = np.random.rand(3, 10)"
      ],
      "execution_count": 58,
      "outputs": []
    },
    {
      "cell_type": "code",
      "metadata": {
        "id": "W5fswgL8p-hU"
      },
      "source": [
        "path='../data/others/'\n",
        "answer_U = np.load(os.path.join(path,'answer_U.npy'))\n",
        "answer_V = np.load(os.path.join(path,'answer_V.npy'))\n",
        "answer_rmse = np.load(os.path.join(path,'answer_rmse.npy'))"
      ],
      "execution_count": 59,
      "outputs": []
    },
    {
      "cell_type": "code",
      "metadata": {
        "id": "E_XZKIbymCHA"
      },
      "source": [
        "def test_code(sgd, rmse):\n",
        "    U, V = sgd(synthetic_U, synthetic_V, synthetic_R_zipped, lr=0.01, lambda_u=0.1, lambda_v=0.1) \n",
        "    mse_u = mean_squared_error(U, answer_U)\n",
        "    mse_v = mean_squared_error(V, answer_V)\n",
        "    print(mse_u,mse_v)\n",
        "    assert(mse_u <3e-2 or mse_v < 1e-2), 'calculated U, V is different with the answer : SGD 함수 오류'   ## 정답과 오차범위 내의 값이 아니면 assertion 오류\n",
        "\n",
        "    rmse = calculate_rmse(synthetic_R, U, V, lambda_u=0.1, lambda_v=0.1)\n",
        "    print(rmse)\n",
        "    assert(abs(answer_rmse-rmse)<1e-05), 'calculated rmse is diferent with the answer : RMSE 함수 오류'   ## 정답과 오차범위 내의 값이 아니면 assertion 오류\n",
        "    \n",
        "    print(\"모든 함수 알맞게 구현됨\")\n"
      ],
      "execution_count": 60,
      "outputs": []
    },
    {
      "cell_type": "code",
      "metadata": {
        "id": "zYKTqyN2pQEx"
      },
      "source": [
        "test_code(SGD, calculate_rmse)"
      ],
      "execution_count": 61,
      "outputs": [
        {
          "output_type": "stream",
          "name": "stdout",
          "text": [
            "0.0 0.0\n2.5343996842764556\n"
          ]
        },
        {
          "output_type": "error",
          "ename": "AssertionError",
          "evalue": "calculated rmse is diferent with the answer : RMSE 함수 오류",
          "traceback": [
            "\u001b[1;31m---------------------------------------------------------------------------\u001b[0m",
            "\u001b[1;31mAssertionError\u001b[0m                            Traceback (most recent call last)",
            "\u001b[1;32m<ipython-input-61-fece5ebb855e>\u001b[0m in \u001b[0;36m<module>\u001b[1;34m\u001b[0m\n\u001b[1;32m----> 1\u001b[1;33m \u001b[0mtest_code\u001b[0m\u001b[1;33m(\u001b[0m\u001b[0mSGD\u001b[0m\u001b[1;33m,\u001b[0m \u001b[0mcalculate_rmse\u001b[0m\u001b[1;33m)\u001b[0m\u001b[1;33m\u001b[0m\u001b[1;33m\u001b[0m\u001b[0m\n\u001b[0m",
            "\u001b[1;32m<ipython-input-60-0f71078f9eab>\u001b[0m in \u001b[0;36mtest_code\u001b[1;34m(sgd, rmse)\u001b[0m\n\u001b[0;32m      8\u001b[0m     \u001b[0mrmse\u001b[0m \u001b[1;33m=\u001b[0m \u001b[0mcalculate_rmse\u001b[0m\u001b[1;33m(\u001b[0m\u001b[0msynthetic_R\u001b[0m\u001b[1;33m,\u001b[0m \u001b[0mU\u001b[0m\u001b[1;33m,\u001b[0m \u001b[0mV\u001b[0m\u001b[1;33m,\u001b[0m \u001b[0mlambda_u\u001b[0m\u001b[1;33m=\u001b[0m\u001b[1;36m0.1\u001b[0m\u001b[1;33m,\u001b[0m \u001b[0mlambda_v\u001b[0m\u001b[1;33m=\u001b[0m\u001b[1;36m0.1\u001b[0m\u001b[1;33m)\u001b[0m\u001b[1;33m\u001b[0m\u001b[1;33m\u001b[0m\u001b[0m\n\u001b[0;32m      9\u001b[0m     \u001b[0mprint\u001b[0m\u001b[1;33m(\u001b[0m\u001b[0mrmse\u001b[0m\u001b[1;33m)\u001b[0m\u001b[1;33m\u001b[0m\u001b[1;33m\u001b[0m\u001b[0m\n\u001b[1;32m---> 10\u001b[1;33m     \u001b[1;32massert\u001b[0m\u001b[1;33m(\u001b[0m\u001b[0mabs\u001b[0m\u001b[1;33m(\u001b[0m\u001b[0manswer_rmse\u001b[0m\u001b[1;33m-\u001b[0m\u001b[0mrmse\u001b[0m\u001b[1;33m)\u001b[0m\u001b[1;33m<\u001b[0m\u001b[1;36m1e-05\u001b[0m\u001b[1;33m)\u001b[0m\u001b[1;33m,\u001b[0m \u001b[1;34m'calculated rmse is diferent with the answer : RMSE 함수 오류'\u001b[0m   \u001b[1;31m## 정답과 오차범위 내의 값이 아니면 assertion 오류\u001b[0m\u001b[1;33m\u001b[0m\u001b[1;33m\u001b[0m\u001b[0m\n\u001b[0m\u001b[0;32m     11\u001b[0m \u001b[1;33m\u001b[0m\u001b[0m\n\u001b[0;32m     12\u001b[0m     \u001b[0mprint\u001b[0m\u001b[1;33m(\u001b[0m\u001b[1;34m\"모든 함수 알맞게 구현됨\"\u001b[0m\u001b[1;33m)\u001b[0m\u001b[1;33m\u001b[0m\u001b[1;33m\u001b[0m\u001b[0m\n",
            "\u001b[1;31mAssertionError\u001b[0m: calculated rmse is diferent with the answer : RMSE 함수 오류"
          ]
        }
      ]
    },
    {
      "cell_type": "code",
      "metadata": {
        "id": "BKUilAsVA8gj"
      },
      "source": [],
      "execution_count": null,
      "outputs": []
    }
  ]
}