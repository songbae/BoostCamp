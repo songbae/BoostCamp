{
 "metadata": {
  "language_info": {
   "codemirror_mode": {
    "name": "ipython",
    "version": 3
   },
   "file_extension": ".py",
   "mimetype": "text/x-python",
   "name": "python",
   "nbconvert_exporter": "python",
   "pygments_lexer": "ipython3",
   "version": "3.8.5-final"
  },
  "orig_nbformat": 2,
  "kernelspec": {
   "name": "python3",
   "display_name": "Python 3",
   "language": "python"
  }
 },
 "nbformat": 4,
 "nbformat_minor": 2,
 "cells": [
  {
   "source": [
    "numpy 를 사용하는 이유?\n",
    "---\n",
    "- fixed type \n",
    "- faster to read less bytes of memory\n",
    "- no type checking when iterating through objects\n",
    "\n",
    "    `예를들어 list 의 경우에는 각 배열의 주소들이 연속적이지 않은 경우가 있는데 이는 메모리 블록이 연속적이지 않다는 것을 뜻하며 search 하는데 시간이 걸린다는 것을 의미합니다\n",
    "    하지만 numpy 의 경우 연속적인 메모리 블록에 저자되기 때문에 빠르게 찾을 수 있습니다.`\n",
    "---\n",
    "\n",
    "- numpy\n",
    " *benefits*\n",
    " 1. SIMD Vector processing\n",
    " 2. Effective Cache Utilization "
   ],
   "cell_type": "markdown",
   "metadata": {}
  },
  {
   "cell_type": "code",
   "execution_count": 1,
   "metadata": {},
   "outputs": [
    {
     "output_type": "stream",
     "name": "stdout",
     "text": [
      "[0 1 2 3 4 5 6 7 8 9] [[0 1 2 3 4 5 6 7 8 9]\n [0 1 2 3 4 5 6 7 8 9]\n [0 1 2 3 4 5 6 7 8 9]\n [0 1 2 3 4 5 6 7 8 9]\n [0 1 2 3 4 5 6 7 8 9]]\n1 2\n(10,) (5, 10)\nint32 int32\n"
     ]
    }
   ],
   "source": [
    "import numpy as np\n",
    "a=np.array([i for i in range(10)])\n",
    "b=np.array([[i for i in range(10)]for _ in range(5)])\n",
    "print(a,b)\n",
    "print(a.ndim,b.ndim)\n",
    "print(a.shape,b.shape)\n",
    "print(a.dtype,b.dtype)\n"
   ]
  },
  {
   "cell_type": "code",
   "execution_count": 10,
   "metadata": {},
   "outputs": [
    {
     "output_type": "stream",
     "name": "stdout",
     "text": [
      "[5 5 5 5 5]\n"
     ]
    },
    {
     "output_type": "execute_result",
     "data": {
      "text/plain": [
       "array([2, 4, 6, 8])"
      ]
     },
     "metadata": {},
     "execution_count": 10
    }
   ],
   "source": [
    "# get a specific elemnet[r,c]\n",
    "b[1,2]\n",
    "print(b[:,5])\n",
    "# getting a little more fancy [start:end:step]\n",
    "b[0,2:-1:2]"
   ]
  },
  {
   "cell_type": "code",
   "execution_count": 23,
   "metadata": {},
   "outputs": [
    {
     "output_type": "execute_result",
     "data": {
      "text/plain": [
       "(2, 2, 2)"
      ]
     },
     "metadata": {},
     "execution_count": 23
    }
   ],
   "source": [
    "# 3dimention \n",
    "b=np.array([[[1,2],[3,4]],[[5,6],[7,8]]])\n",
    "b.ndim\n",
    "b.shape"
   ]
  },
  {
   "cell_type": "code",
   "execution_count": 30,
   "metadata": {},
   "outputs": [
    {
     "output_type": "execute_result",
     "data": {
      "text/plain": [
       "dtype('int32')"
      ]
     },
     "metadata": {},
     "execution_count": 30
    }
   ],
   "source": [
    "np.zeros((2,3,2,3))\n",
    "np.ones((4,2,2),dtype='int32')\n",
    "# any other number \n",
    "a=np.full((2,2),99)\n",
    "a.dtype"
   ]
  },
  {
   "cell_type": "code",
   "execution_count": 34,
   "metadata": {},
   "outputs": [
    {
     "output_type": "execute_result",
     "data": {
      "text/plain": [
       "array([[4, 4, 4, 4]])"
      ]
     },
     "metadata": {},
     "execution_count": 34
    }
   ],
   "source": [
    "#any other number (full like)\n",
    "\n",
    "np.full_like(a.reshape(1,4),4)"
   ]
  },
  {
   "cell_type": "code",
   "execution_count": 38,
   "metadata": {},
   "outputs": [
    {
     "output_type": "execute_result",
     "data": {
      "text/plain": [
       "array([[0.45855371, 0.24988252],\n",
       "       [0.24262309, 0.30486942]])"
      ]
     },
     "metadata": {},
     "execution_count": 38
    }
   ],
   "source": [
    "# Random decimal numbers\n",
    "np.random.random_sample(a.shape)"
   ]
  },
  {
   "cell_type": "code",
   "execution_count": 41,
   "metadata": {},
   "outputs": [
    {
     "output_type": "execute_result",
     "data": {
      "text/plain": [
       "array([[0, 2, 0],\n",
       "       [5, 6, 6],\n",
       "       [3, 4, 0]])"
      ]
     },
     "metadata": {},
     "execution_count": 41
    }
   ],
   "source": [
    "# Random Interger values\n",
    "\n",
    "np.random.randint(7,size=(3,3))"
   ]
  },
  {
   "cell_type": "code",
   "execution_count": 42,
   "metadata": {},
   "outputs": [
    {
     "output_type": "execute_result",
     "data": {
      "text/plain": [
       "array([[1., 0., 0., 0., 0.],\n",
       "       [0., 1., 0., 0., 0.],\n",
       "       [0., 0., 1., 0., 0.],\n",
       "       [0., 0., 0., 1., 0.],\n",
       "       [0., 0., 0., 0., 1.]])"
      ]
     },
     "metadata": {},
     "execution_count": 42
    }
   ],
   "source": [
    "# the identity matrix\n",
    "np.identity(5)"
   ]
  },
  {
   "cell_type": "code",
   "execution_count": 50,
   "metadata": {},
   "outputs": [
    {
     "output_type": "execute_result",
     "data": {
      "text/plain": [
       "array([[1, 2, 3],\n",
       "       [1, 2, 3],\n",
       "       [1, 2, 3]])"
      ]
     },
     "metadata": {},
     "execution_count": 50
    }
   ],
   "source": [
    "arr= np.array([[1,2,3]])\n",
    "r1=np.repeat(arr,3,axis=0)\n",
    "r1"
   ]
  },
  {
   "cell_type": "code",
   "execution_count": 54,
   "metadata": {},
   "outputs": [
    {
     "output_type": "stream",
     "name": "stdout",
     "text": [
      "[[1. 1. 1. 1. 1.]\n [1. 1. 1. 1. 1.]\n [1. 1. 1. 1. 1.]\n [1. 1. 1. 1. 1.]\n [1. 1. 1. 1. 1.]]\n[[0. 0. 0.]\n [0. 9. 0.]\n [0. 0. 0.]]\n[[1. 1. 1. 1. 1.]\n [1. 0. 0. 0. 1.]\n [1. 0. 9. 0. 1.]\n [1. 0. 0. 0. 1.]\n [1. 1. 1. 1. 1.]]\n"
     ]
    }
   ],
   "source": [
    "output= np.ones((5,5))\n",
    "print(output)\n",
    "\n",
    "z=np.zeros((3,3))\n",
    "z[1,1]=9\n",
    "print(z)\n",
    "output[1:4,1:4]=z\n",
    "print(output)\n"
   ]
  },
  {
   "cell_type": "code",
   "execution_count": 56,
   "metadata": {},
   "outputs": [
    {
     "output_type": "execute_result",
     "data": {
      "text/plain": [
       "array([1, 2, 3])"
      ]
     },
     "metadata": {},
     "execution_count": 56
    }
   ],
   "source": [
    "# Be careful when copying arrays!!!\n",
    "a=np.array([1,2,3])\n",
    "b=a.copy()\n",
    "b"
   ]
  },
  {
   "cell_type": "code",
   "execution_count": 61,
   "metadata": {},
   "outputs": [
    {
     "output_type": "stream",
     "name": "stdout",
     "text": [
      "[[1 2 3 4]\n [5 6 7 8]]\n"
     ]
    },
    {
     "output_type": "execute_result",
     "data": {
      "text/plain": [
       "array([[1, 2],\n",
       "       [3, 4],\n",
       "       [5, 6],\n",
       "       [7, 8]])"
      ]
     },
     "metadata": {},
     "execution_count": 61
    }
   ],
   "source": [
    "# reorganizing arrays\n",
    "\n",
    "before= np.array([[1,2,3,4],[5,6,7,8]])\n",
    "print(before)\n",
    "\n",
    "after=before.reshape((4,2))\n",
    "after"
   ]
  },
  {
   "cell_type": "code",
   "execution_count": 65,
   "metadata": {},
   "outputs": [
    {
     "output_type": "execute_result",
     "data": {
      "text/plain": [
       "array([[1, 5],\n",
       "       [2, 6],\n",
       "       [3, 7],\n",
       "       [4, 8]])"
      ]
     },
     "metadata": {},
     "execution_count": 65
    }
   ],
   "source": [
    "#vertically stacking vectors\n",
    "\n",
    "v1=np.array([1,2,3,4])\n",
    "v2=np.array([5,6,7,8])\n",
    "np.stack([v1,v2],axis=1)"
   ]
  },
  {
   "cell_type": "code",
   "execution_count": 73,
   "metadata": {},
   "outputs": [],
   "source": [
    "import os \n",
    "path='./data'\n",
    "filepath= os.path.join(path,'text.txt')\n",
    "Data=open(filepath,'w',)\n",
    "\n",
    "if os.path.isfile(filepath):\n",
    "    Data.write(\n",
    "        '1,13,21,11,196,23,34,45,6,76,74''\\n'\n",
    "        '3,42,12,23,42,43,34,45,45,23,23''\\n'\n",
    "        '10,213,4,2,234,23,435,23,6,547,568'\n",
    "    )\n",
    "Data.close()"
   ]
  },
  {
   "cell_type": "code",
   "execution_count": 78,
   "metadata": {},
   "outputs": [
    {
     "output_type": "execute_result",
     "data": {
      "text/plain": [
       "array([196.,  76.,  74., 213., 234., 435., 547., 568.])"
      ]
     },
     "metadata": {},
     "execution_count": 78
    }
   ],
   "source": [
    "filedata=np.genfromtxt('./data/text.txt',delimiter=',')\n",
    "filedata>50\n",
    "# boolean masking and Advanced indexing\n",
    "filedata[filedata>50]"
   ]
  },
  {
   "cell_type": "code",
   "execution_count": 79,
   "metadata": {},
   "outputs": [
    {
     "output_type": "execute_result",
     "data": {
      "text/plain": [
       "array([False,  True, False, False,  True, False,  True, False, False,\n",
       "        True,  True])"
      ]
     },
     "metadata": {},
     "execution_count": 79
    }
   ],
   "source": [
    "# any, all의 차이점은 어떤 행이나 열을 기준으로 any는 or을 뜻하고 all은 &&연산을 뜻한다 !!\n",
    "\n",
    "np.any(filedata>50, axis=0)"
   ]
  },
  {
   "cell_type": "code",
   "execution_count": 100,
   "metadata": {},
   "outputs": [
    {
     "output_type": "stream",
     "name": "stdout",
     "text": [
      "[[ 1  2  3  4  5]\n [ 6  7  8  9 10]\n [11 12 13 14 15]\n [16 17 18 19 20]\n [21 22 23 24 25]\n [26 27 28 29 30]]\n"
     ]
    },
    {
     "output_type": "execute_result",
     "data": {
      "text/plain": [
       "array([[11, 12],\n",
       "       [16, 17]])"
      ]
     },
     "metadata": {},
     "execution_count": 100
    }
   ],
   "source": [
    "output=np.array([[i+j for i in range(5)]for j in list(range(1,31,5))  ])\n",
    "print(output)\n",
    "data=ouput[2:4,:2]\n",
    "data"
   ]
  }
 ]
}