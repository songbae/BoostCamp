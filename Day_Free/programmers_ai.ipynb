{
 "metadata": {
  "language_info": {
   "codemirror_mode": {
    "name": "ipython",
    "version": 3
   },
   "file_extension": ".py",
   "mimetype": "text/x-python",
   "name": "python",
   "nbconvert_exporter": "python",
   "pygments_lexer": "ipython3",
   "version": "3.8.5-final"
  },
  "orig_nbformat": 2,
  "kernelspec": {
   "name": "python3",
   "display_name": "Python 3",
   "language": "python"
  }
 },
 "nbformat": 4,
 "nbformat_minor": 2,
 "cells": [
  {
   "cell_type": "code",
   "execution_count": 71,
   "metadata": {},
   "outputs": [
    {
     "output_type": "stream",
     "name": "stdout",
     "text": [
      "cpu\n"
     ]
    }
   ],
   "source": [
    "import numpy as np \n",
    "import pandas as pd \n",
    "import seaborn as sns\n",
    "import torch \n",
    "import torch.nn as nn \n",
    "import torch.optim as optim \n",
    "import matplotlib.pyplot as plt \n",
    "import os \n",
    "import sys \n",
    "device= torch.device('cuda'if torch.cuda.is_available() else 'cpu')\n",
    "print(device)\n"
   ]
  },
  {
   "cell_type": "code",
   "execution_count": 72,
   "metadata": {},
   "outputs": [
    {
     "output_type": "stream",
     "name": "stdout",
     "text": [
      "                          companyID                             jobID  \\\n0  00411460f7c92d2124a67ea0f4cb5f85  e5f6ad6ce374177eef023bf5d0c018b6   \n1  1905aedab9bf2477edc068a355bba31a  185e65bc40581880c4f2c82958de8cfe   \n2  89fcd07f20b6785b92134bd6c1d0fa42  0537fb40a68c18da59a35c2bfe1ca554   \n3  acf4b89d3d503d8252c9c4ba75ddbf6d  b7ee6f5f9aa5cd17ca1aea43ce848496   \n4  fb7b9ffa5462084c5f4e7e85a093e6d7  efe937780e95574250dabe07151bdc23   \n\n  companySize  \n0         NaN  \n1       11-50  \n2     101-200  \n3        1-10  \n4         NaN  \n                          companyID                             jobID  \\\n1  1905aedab9bf2477edc068a355bba31a  185e65bc40581880c4f2c82958de8cfe   \n2  89fcd07f20b6785b92134bd6c1d0fa42  0537fb40a68c18da59a35c2bfe1ca554   \n3  acf4b89d3d503d8252c9c4ba75ddbf6d  b7ee6f5f9aa5cd17ca1aea43ce848496   \n5  ac627ab1ccbdb62ec96e702f07f6425b  a1140a3d0df1c81e24ae954d935e8926   \n6  9ad6aaed513b73148b7d49f70afcfb32  eb86d510361fc23b59f18c1bc9802cc6   \n\n  companySize  \n1       11-50  \n2     101-200  \n3        1-10  \n5      51-100  \n6       11-50  \n<class 'pandas.core.frame.DataFrame'>\nInt64Index: 643 entries, 1 to 732\nData columns (total 4 columns):\n #   Column       Non-Null Count  Dtype \n---  ------       --------------  ----- \n 0   companyID    643 non-null    object\n 1   jobID        643 non-null    object\n 2   companySize  643 non-null    object\n 3   companytt    643 non-null    object\ndtypes: object(4)\nmemory usage: 25.1+ KB\nNone\n"
     ]
    }
   ],
   "source": [
    "path='./data/train_job/'\n",
    "train_data_path=os.path.join(path,'train.csv')\n",
    "job_company_path=os.path.join(path,'job_companies.csv')\n",
    "job_tags_path=os.path.join(path,'job_tags.csv')\n",
    "tags_path=os.path.join(path,'tags.csv')\n",
    "\n",
    "train_data=pd.read_csv(train_data_path)\n",
    "job_company=pd.read_csv(job_company_path)\n",
    "job_tags=pd.read_csv(job_tags_path)\n",
    "\n",
    "print(job_company.head())\n",
    "job_company=job_company.dropna()\n",
    "print(job_company.head())\n",
    "job_company['companytt']=job_company['companySize'].astype(str)\n",
    "print(job_company.info())"
   ]
  },
  {
   "cell_type": "code",
   "execution_count": 73,
   "metadata": {},
   "outputs": [],
   "source": [
    "import re\n",
    "temp=job_company['companytt'].tolist()\n",
    "arr=list()\n",
    "for i in temp:\n",
    "    i=re.sub('[가-핧]','',i)\n",
    "    tt=i.split('-')\n",
    "    arr.append(tt[0])\n",
    "job_company['companySize']=pd.DataFrame(arr)\n",
    "job_company.drop('companytt',axis=1,inplace=True)"
   ]
  },
  {
   "cell_type": "code",
   "execution_count": 74,
   "metadata": {},
   "outputs": [
    {
     "output_type": "stream",
     "name": "stdout",
     "text": [
      "<class 'pandas.core.frame.DataFrame'>\nInt64Index: 643 entries, 1 to 732\nData columns (total 3 columns):\n #   Column       Non-Null Count  Dtype \n---  ------       --------------  ----- \n 0   companyID    643 non-null    object\n 1   jobID        643 non-null    object\n 2   companySize  564 non-null    object\ndtypes: object(3)\nmemory usage: 20.1+ KB\n"
     ]
    }
   ],
   "source": [
    "job_company.dropna(axis=0)\n",
    "job_company.info()"
   ]
  },
  {
   "cell_type": "code",
   "execution_count": 79,
   "metadata": {},
   "outputs": [
    {
     "output_type": "stream",
     "name": "stdout",
     "text": [
      "[dtype('O'), dtype('O'), dtype('int64')]\n"
     ]
    },
    {
     "output_type": "error",
     "ename": "TypeError",
     "evalue": "can't convert np.ndarray of type numpy.object_. The only supported types are: float64, float32, float16, complex64, complex128, int64, int32, int16, int8, uint8, and bool.",
     "traceback": [
      "\u001b[1;31m---------------------------------------------------------------------------\u001b[0m",
      "\u001b[1;31mTypeError\u001b[0m                                 Traceback (most recent call last)",
      "\u001b[1;32m<ipython-input-79-a34c9c383ad0>\u001b[0m in \u001b[0;36m<module>\u001b[1;34m\u001b[0m\n\u001b[0;32m      6\u001b[0m \u001b[0mtorch\u001b[0m\u001b[1;33m.\u001b[0m\u001b[0mmanual_seed\u001b[0m\u001b[1;33m(\u001b[0m\u001b[1;36m42\u001b[0m\u001b[1;33m)\u001b[0m\u001b[1;33m\u001b[0m\u001b[1;33m\u001b[0m\u001b[0m\n\u001b[0;32m      7\u001b[0m \u001b[0mprint\u001b[0m\u001b[1;33m(\u001b[0m\u001b[0mtrain_data\u001b[0m\u001b[1;33m.\u001b[0m\u001b[0mdtypes\u001b[0m\u001b[1;33m.\u001b[0m\u001b[0mto_list\u001b[0m\u001b[1;33m(\u001b[0m\u001b[1;33m)\u001b[0m\u001b[1;33m)\u001b[0m\u001b[1;33m\u001b[0m\u001b[1;33m\u001b[0m\u001b[0m\n\u001b[1;32m----> 8\u001b[1;33m \u001b[0mx\u001b[0m\u001b[1;33m=\u001b[0m\u001b[0mtorch\u001b[0m\u001b[1;33m.\u001b[0m\u001b[0mFloatTensor\u001b[0m\u001b[1;33m(\u001b[0m\u001b[0mtrain_data\u001b[0m\u001b[1;33m.\u001b[0m\u001b[0mto_numpy\u001b[0m\u001b[1;33m(\u001b[0m\u001b[1;33m)\u001b[0m\u001b[1;33m)\u001b[0m\u001b[1;33m.\u001b[0m\u001b[0mto\u001b[0m\u001b[1;33m(\u001b[0m\u001b[0mdevice\u001b[0m\u001b[1;33m)\u001b[0m\u001b[1;33m\u001b[0m\u001b[1;33m\u001b[0m\u001b[0m\n\u001b[0m",
      "\u001b[1;31mTypeError\u001b[0m: can't convert np.ndarray of type numpy.object_. The only supported types are: float64, float32, float16, complex64, complex128, int64, int32, int16, int8, uint8, and bool."
     ]
    }
   ],
   "source": [
    "import torch\n",
    "import torch.nn as nn\n",
    "import torch.optim as optim \n",
    "device= torch.device('cuda' if torch.cuda.is_available() else 'cpu')\n",
    "device\n",
    "torch.manual_seed(42)\n",
    "print(train_data.dtypes.to_list())\n",
    "x=torch.FloatTensor(train_data.to_numpy()).to(device)\n"
   ]
  }
 ]
}