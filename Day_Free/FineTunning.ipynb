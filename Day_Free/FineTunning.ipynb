{
 "metadata": {
  "language_info": {
   "codemirror_mode": {
    "name": "ipython",
    "version": 3
   },
   "file_extension": ".py",
   "mimetype": "text/x-python",
   "name": "python",
   "nbconvert_exporter": "python",
   "pygments_lexer": "ipython3",
   "version": 3
  },
  "orig_nbformat": 2
 },
 "nbformat": 4,
 "nbformat_minor": 2,
 "cells": [
  {
   "cell_type": "code",
   "execution_count": null,
   "metadata": {},
   "outputs": [],
   "source": [
    "import os \n",
    "import numpy as np\n",
    "import torch \n",
    "from PIL import Image\n",
    "\n",
    "class PennFudanDataset(object):\n",
    "    def __init__(self,root,transforms):\n",
    "        self.root=root\n",
    "        self.transforms=transforms\n",
    "        self.imgs=list(sorted(os.listdir(os.path.join(root,'PNGImages'))))\n",
    "        self.masks=list(sorted(os.listdir(os.path.join(root,\"PedMasks\"))))\n",
    "    def __getitem__(self,idx):\n",
    "        # 이미지와 마스크를 읽어옵니다 \n",
    "        img_path=os.path.join(self.root,\"PNGImages\",self.imgs[idx])"
   ]
  }
 ]
}