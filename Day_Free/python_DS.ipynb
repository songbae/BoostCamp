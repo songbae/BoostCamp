{
 "metadata": {
  "language_info": {
   "codemirror_mode": {
    "name": "ipython",
    "version": 3
   },
   "file_extension": ".py",
   "mimetype": "text/x-python",
   "name": "python",
   "nbconvert_exporter": "python",
   "pygments_lexer": "ipython3",
   "version": "3.8.5-final"
  },
  "orig_nbformat": 2,
  "kernelspec": {
   "name": "python3",
   "display_name": "Python 3",
   "language": "python"
  }
 },
 "nbformat": 4,
 "nbformat_minor": 2,
 "cells": [
  {
   "cell_type": "code",
   "execution_count": 3,
   "metadata": {},
   "outputs": [
    {
     "output_type": "execute_result",
     "data": {
      "text/plain": [
       "['hg',\n",
       " 'ha',\n",
       " 'hu',\n",
       " 'eg',\n",
       " 'ea',\n",
       " 'eu',\n",
       " 'lg',\n",
       " 'la',\n",
       " 'lu',\n",
       " 'lg',\n",
       " 'la',\n",
       " 'lu',\n",
       " 'og',\n",
       " 'oa',\n",
       " 'ou']"
      ]
     },
     "metadata": {},
     "execution_count": 3
    }
   ],
   "source": [
    "a=[i for i in 'hello']\n",
    "b=[j for j in 'gau']\n",
    "\n",
    "ans=[i+j for i in a for j in b]\n",
    "ans\n"
   ]
  },
  {
   "cell_type": "code",
   "execution_count": 4,
   "metadata": {},
   "outputs": [
    {
     "output_type": "execute_result",
     "data": {
      "text/plain": [
       "6"
      ]
     },
     "metadata": {},
     "execution_count": 4
    }
   ],
   "source": [
    "f= (lambda x,y,z : x+y+z)(1,2,3)\n",
    "f"
   ]
  },
  {
   "cell_type": "code",
   "execution_count": 8,
   "metadata": {},
   "outputs": [
    {
     "output_type": "execute_result",
     "data": {
      "text/plain": [
       "112"
      ]
     },
     "metadata": {},
     "execution_count": 8
    }
   ],
   "source": [
    "def generator(value):\n",
    "    for i in range(value):\n",
    "        yield i\n",
    "result=generator(10000)\n",
    "sys.getsizeof(result)"
   ]
  },
  {
   "cell_type": "code",
   "execution_count": 11,
   "metadata": {},
   "outputs": [
    {
     "output_type": "stream",
     "name": "stdout",
     "text": [
      "0 cant devide\n10.0\n<class 'int'>\n5.0\n<class 'int'>\n3.3333333333333335\n<class 'int'>\n2.5\n<class 'int'>\n2.0\n<class 'int'>\n1.6666666666666667\n<class 'int'>\n1.4285714285714286\n<class 'int'>\n1.25\n<class 'int'>\n1.1111111111111112\n<class 'int'>\n"
     ]
    }
   ],
   "source": [
    "a= [i for i in range(10)]\n",
    "for i in a:\n",
    "    try:\n",
    "        print(10/i)\n",
    "        print(type(10//i))\n",
    "    except:\n",
    "        print('0 cant devide')"
   ]
  },
  {
   "source": [
    "`*agrs`\n",
    "\n",
    "`**agrs`\n",
    "\n",
    "- 일반 리스트 같은 배열이나 맵, 튜플등에 *을 사용하게 될경우 unpacking 기능을 제공한다\n",
    "\n",
    "- enumerate, zip 기능\n",
    "\n",
    "- zip은 병렬적으로 연산이나 함수를 수행할 수 있다.\n"
   ],
   "cell_type": "markdown",
   "metadata": {}
  }
 ]
}