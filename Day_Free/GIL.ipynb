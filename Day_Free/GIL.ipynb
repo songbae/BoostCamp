{
 "metadata": {
  "language_info": {
   "codemirror_mode": {
    "name": "ipython",
    "version": 3
   },
   "file_extension": ".py",
   "mimetype": "text/x-python",
   "name": "python",
   "nbconvert_exporter": "python",
   "pygments_lexer": "ipython3",
   "version": "3.8.5-final"
  },
  "orig_nbformat": 2,
  "kernelspec": {
   "name": "python3",
   "display_name": "Python 3",
   "language": "python"
  }
 },
 "nbformat": 4,
 "nbformat_minor": 2,
 "cells": [
  {
   "cell_type": "code",
   "execution_count": 9,
   "metadata": {},
   "outputs": [
    {
     "output_type": "stream",
     "name": "stdout",
     "text": [
      "[2, 1]\n"
     ]
    }
   ],
   "source": [
    "import threading\n",
    "\n",
    "x=list()\n",
    "def TT(x):\n",
    "    x.append(2)\n",
    "\n",
    "threading.Thread(target=TT,args=(x,)).start()\n",
    "\n",
    "x.append(1)\n",
    "print(x)"
   ]
  }
 ]
}