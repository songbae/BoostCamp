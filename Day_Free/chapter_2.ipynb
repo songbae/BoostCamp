{
 "metadata": {
  "language_info": {
   "codemirror_mode": {
    "name": "ipython",
    "version": 3
   },
   "file_extension": ".py",
   "mimetype": "text/x-python",
   "name": "python",
   "nbconvert_exporter": "python",
   "pygments_lexer": "ipython3",
   "version": 3
  },
  "orig_nbformat": 2
 },
 "nbformat": 4,
 "nbformat_minor": 2,
 "cells": [
  {
   "source": [
    "## Chapter 2\n",
    "---\n",
    "\n",
    "### 자연어와 단어의 분산표현\n",
    "---\n",
    "\n",
    "- 시소러스를 활용한 기법\n",
    "\n",
    "    ```\n",
    "        시소러스란 기본적으로 유의어 사전 뜻이 같은 단어나 비슷한 단어가 한 그룹으로 분류되어 있다.\n",
    "        WordNet 이 유명하다 .\n",
    "\n",
    "        단점\n",
    "\n",
    "        - 시대 변화에 대응하기 어렵다\n",
    "        - 사람을 쓰는 비용이 크다.\n",
    "        - 단어의 미묘한 차이를 표현할 수 없다.\n",
    "    ```\n",
    "- 통계기반 기법\n",
    "\n",
    "    ```\n",
    "       -corpus(말뭉치)를 이용하는 것 \n",
    "        preprocessing 를 통해서 말뭉치를 전처리 하고 \n",
    "        \n",
    "        word_to_id={}\n",
    "        id_to_world={}\n",
    "        라는 두개의 딕셔너리를 이용하여 말뭉치의 인덱스와 단어를 저장한다.\n",
    "        \n",
    "        - 단어의 의미를 정확하게 파악할 수 있는 벡터 표현을 위해서 분산표현(distribution representation)을          이용한다.        \n",
    "        - 단어의 의미는 주변 단어에 의해 형성된다. 이를 '분포가설'이라고 한다. 맥락이란 특정 단어를 중심에          주변 단어를 말합니다. '윈도우 크기' 라고 하며 . 윈도우 크기를 통해서 left,right어디까지를\n",
    "        넣을지를 정한다.\n",
    "\n",
    "        - 벡터간 유사도. `코사인 유사도`를 통해서 나타낼 수 있다. cosSimiarlity=x*y/||x||*||y||\n",
    "\n",
    "        - 코사인 유사도의 단점을 위해 나온것이 `PMI` 기법 \n",
    "        PMI(x,y)=log(P(x,y)/P(x)*P(y))\n",
    "        - PMI의 단점은 둘다 x,y가 0일 경우 -INF가 된다는 거다. 따라서 INF값이 나오지 않게 하기 위해서 \n",
    "        PPMI를 사용하는데 이는 `PPMI(x,y)=max(0,PMI(x,y))`를 이용하여  양수조건이 나오게 해주는 것이다. \n",
    "\n",
    "        하지만 PPMI에서 출력한 원소들을 보게 되면 대부분이 0으로 이루어진 희소행렬이 되는데 이는 즉 각\n",
    "        원소들이 중요도가 낮다는 것을 뜻하고 이런 벡터는 노이즈에 약하고 견고하지 못하다는 것이다. 따라서 \n",
    "        `벡터의 차원감소`를 통해서 해결한다. \n",
    "\n",
    "        `차원감소`(dimentionality reduction)` -> 주용한 정보는 최대한 유지하면서 차원을 줄이자. \n",
    "        `SVD(singular Value Decompostion)`즉 특잇값 분해를 사용하여 X=USV^T를 이용한다. \n",
    "        여기서 U와 V는 직교행렬이고 그 열벡터는 서로 직교합니다. S는 대각행렬을 뜻합니다.\n",
    "\n",
    "    ```\n",
    "\n",
    "- 추론기반 기법"
   ],
   "cell_type": "markdown",
   "metadata": {}
  },
  {
   "cell_type": "code",
   "execution_count": null,
   "metadata": {},
   "outputs": [],
   "source": [
    "import numpy as np\n",
    "\n",
    "def similar(x,y):\n",
    "    nx=x/np.sqrt(np.sum(x**2))\n",
    "    ny=y/np.sqrt(np.sum(y**2))\n",
    "    return np.dot(nx,ny)\n",
    "\n",
    "x=np.random.random_integers(10)\n",
    "y=np.random.random_integers(10)\n",
    "print(x,y)\n",
    "print(similar(x,y))"
   ]
  }
 ]
}