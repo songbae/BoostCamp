{
 "metadata": {
  "language_info": {
   "codemirror_mode": {
    "name": "ipython",
    "version": 3
   },
   "file_extension": ".py",
   "mimetype": "text/x-python",
   "name": "python",
   "nbconvert_exporter": "python",
   "pygments_lexer": "ipython3",
   "version": 3
  },
  "orig_nbformat": 2
 },
 "nbformat": 4,
 "nbformat_minor": 2,
 "cells": [
  {
   "source": [
    "## Chapter 2\n",
    "---\n",
    "\n",
    "### 자연어와 단어의 분산표현\n",
    "---\n",
    "\n",
    "- 시소러스를 활용한 기법\n",
    "\n",
    "    ```\n",
    "        시소러스란 기본적으로 유의어 사전 뜻이 같은 단어나 비슷한 단어가 한 그룹으로 분류되어 있다.\n",
    "        WordNet 이 유명하다 .\n",
    "\n",
    "        단점\n",
    "\n",
    "        - 시대 변화에 대응하기 어렵다\n",
    "        - 사람을 쓰는 비용이 크다.\n",
    "        - 단어의 미묘한 차이를 표현할 수 없다.\n",
    "    ```\n",
    "- 통계기반 기법\n",
    "\n",
    "    ```\n",
    "       -corpus(말뭉치)를 이용하는 것 \n",
    "        preprocessing 를 통해서 말뭉치를 전처리 하고 \n",
    "        \n",
    "        word_to_id={}\n",
    "        id_to_world={}\n",
    "        라는 두개의 딕셔너리를 이용하여 말뭉치의 인덱스와 단어를 저장한다.\n",
    "        \n",
    "        \n",
    "\n",
    "    ```\n",
    "\n",
    "- 추론기반 기법"
   ],
   "cell_type": "markdown",
   "metadata": {}
  },
  {
   "cell_type": "code",
   "execution_count": null,
   "metadata": {},
   "outputs": [],
   "source": [
    "import numpy as np\n",
    "\n",
    "def similar(x,y):\n",
    "    nx=x/np.sqrt(np.sum(x**2))\n",
    "    ny=y/np.sqrt(np.sum(y**2))\n",
    "    return np.dot(nx,ny)\n",
    "\n",
    "x=np.random.random_integers(10)\n",
    "y=np.random.random_integers(10)\n",
    "print(x,y)\n",
    "print(similar(x,y))"
   ]
  }
 ]
}