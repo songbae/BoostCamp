{
 "metadata": {
  "language_info": {
   "codemirror_mode": {
    "name": "ipython",
    "version": 3
   },
   "file_extension": ".py",
   "mimetype": "text/x-python",
   "name": "python",
   "nbconvert_exporter": "python",
   "pygments_lexer": "ipython3",
   "version": "3.8.5-final"
  },
  "orig_nbformat": 2,
  "kernelspec": {
   "name": "python3",
   "display_name": "Python 3",
   "language": "python"
  }
 },
 "nbformat": 4,
 "nbformat_minor": 2,
 "cells": [
  {
   "cell_type": "code",
   "execution_count": 29,
   "metadata": {},
   "outputs": [
    {
     "output_type": "stream",
     "name": "stdout",
     "text": [
      "./data/mnist/\n"
     ]
    }
   ],
   "source": [
    "###MNIST \n",
    "\n",
    "import numpy as np \n",
    "import pandas as pd \n",
    "import matplotlib.pyplot as plt \n",
    "\n",
    "from sklearn.model_selection import train_test_split \n",
    "\n",
    "import torch \n",
    "import torch.nn as nn \n",
    "from torchvision import transforms,models \n",
    "\n",
    "from torch.autograd import Variable \n",
    "import torch.optim as optim \n",
    "import torch.nn.functional as F \n",
    "import os \n",
    "path='./data/mnist/'\n",
    "print(path)"
   ]
  },
  {
   "cell_type": "code",
   "execution_count": 30,
   "metadata": {},
   "outputs": [
    {
     "output_type": "execute_result",
     "data": {
      "text/plain": [
       "0    1.0\n",
       "1    0.0\n",
       "2    1.0\n",
       "3    4.0\n",
       "4    0.0\n",
       "Name: label, dtype: float32"
      ]
     },
     "metadata": {},
     "execution_count": 30
    }
   ],
   "source": [
    "train=pd.read_csv(os.path.join(path+'train.csv'),dtype=np.float32)\n",
    "final_test=pd.read_csv(os.path.join(path+'test.csv'),dtype=np.float32)\n",
    "train.label.head()"
   ]
  },
  {
   "cell_type": "code",
   "execution_count": 31,
   "metadata": {},
   "outputs": [
    {
     "output_type": "stream",
     "name": "stdout",
     "text": [
      "   label  pixel0  pixel1  pixel2  pixel3  pixel4  pixel5  pixel6  pixel7  \\\n",
      "0    1.0     0.0     0.0     0.0     0.0     0.0     0.0     0.0     0.0   \n",
      "1    0.0     0.0     0.0     0.0     0.0     0.0     0.0     0.0     0.0   \n",
      "2    1.0     0.0     0.0     0.0     0.0     0.0     0.0     0.0     0.0   \n",
      "3    4.0     0.0     0.0     0.0     0.0     0.0     0.0     0.0     0.0   \n",
      "4    0.0     0.0     0.0     0.0     0.0     0.0     0.0     0.0     0.0   \n",
      "\n",
      "   pixel8  ...  pixel774  pixel775  pixel776  pixel777  pixel778  pixel779  \\\n",
      "0     0.0  ...       0.0       0.0       0.0       0.0       0.0       0.0   \n",
      "1     0.0  ...       0.0       0.0       0.0       0.0       0.0       0.0   \n",
      "2     0.0  ...       0.0       0.0       0.0       0.0       0.0       0.0   \n",
      "3     0.0  ...       0.0       0.0       0.0       0.0       0.0       0.0   \n",
      "4     0.0  ...       0.0       0.0       0.0       0.0       0.0       0.0   \n",
      "\n",
      "   pixel780  pixel781  pixel782  pixel783  \n",
      "0       0.0       0.0       0.0       0.0  \n",
      "1       0.0       0.0       0.0       0.0  \n",
      "2       0.0       0.0       0.0       0.0  \n",
      "3       0.0       0.0       0.0       0.0  \n",
      "4       0.0       0.0       0.0       0.0  \n",
      "\n",
      "[5 rows x 785 columns]\n",
      "              label   pixel0   pixel1   pixel2   pixel3   pixel4   pixel5  \\\n",
      "count  42000.000000  42000.0  42000.0  42000.0  42000.0  42000.0  42000.0   \n",
      "mean       4.456643      0.0      0.0      0.0      0.0      0.0      0.0   \n",
      "std        2.887756      0.0      0.0      0.0      0.0      0.0      0.0   \n",
      "min        0.000000      0.0      0.0      0.0      0.0      0.0      0.0   \n",
      "25%        2.000000      0.0      0.0      0.0      0.0      0.0      0.0   \n",
      "50%        4.000000      0.0      0.0      0.0      0.0      0.0      0.0   \n",
      "75%        7.000000      0.0      0.0      0.0      0.0      0.0      0.0   \n",
      "max        9.000000      0.0      0.0      0.0      0.0      0.0      0.0   \n",
      "\n",
      "        pixel6   pixel7   pixel8  ...      pixel774      pixel775  \\\n",
      "count  42000.0  42000.0  42000.0  ...  42000.000000  42000.000000   \n",
      "mean       0.0      0.0      0.0  ...      0.219286      0.117095   \n",
      "std        0.0      0.0      0.0  ...      6.312477      4.632941   \n",
      "min        0.0      0.0      0.0  ...      0.000000      0.000000   \n",
      "25%        0.0      0.0      0.0  ...      0.000000      0.000000   \n",
      "50%        0.0      0.0      0.0  ...      0.000000      0.000000   \n",
      "75%        0.0      0.0      0.0  ...      0.000000      0.000000   \n",
      "max        0.0      0.0      0.0  ...    254.000000    254.000000   \n",
      "\n",
      "           pixel776      pixel777      pixel778      pixel779  pixel780  \\\n",
      "count  42000.000000  42000.000000  42000.000000  42000.000000   42000.0   \n",
      "mean       0.059024      0.020190      0.017238      0.002857       0.0   \n",
      "std        3.274071      1.759778      1.894477      0.414262       0.0   \n",
      "min        0.000000      0.000000      0.000000      0.000000       0.0   \n",
      "25%        0.000000      0.000000      0.000000      0.000000       0.0   \n",
      "50%        0.000000      0.000000      0.000000      0.000000       0.0   \n",
      "75%        0.000000      0.000000      0.000000      0.000000       0.0   \n",
      "max      253.000000    253.000000    254.000000     62.000000       0.0   \n",
      "\n",
      "       pixel781  pixel782  pixel783  \n",
      "count   42000.0   42000.0   42000.0  \n",
      "mean        0.0       0.0       0.0  \n",
      "std         0.0       0.0       0.0  \n",
      "min         0.0       0.0       0.0  \n",
      "25%         0.0       0.0       0.0  \n",
      "50%         0.0       0.0       0.0  \n",
      "75%         0.0       0.0       0.0  \n",
      "max         0.0       0.0       0.0  \n",
      "\n",
      "[8 rows x 785 columns]\n",
      "<class 'pandas.core.frame.DataFrame'>\n",
      "RangeIndex: 42000 entries, 0 to 41999\n",
      "Columns: 785 entries, label to pixel783\n",
      "dtypes: float32(785)\n",
      "memory usage: 125.8 MB\n",
      "None\n"
     ]
    }
   ],
   "source": [
    "print(train.head())\n",
    "print(train.describe())\n",
    "print(train.info())\n"
   ]
  },
  {
   "cell_type": "code",
   "execution_count": 32,
   "metadata": {},
   "outputs": [],
   "source": [
    "target_np=train.label.values \n",
    "feature_np=train.loc[:,train.columns!='label'].values/255\n",
    "features_train,features_test,target_train,target_test=train_test_split(feature_np,target_np,test_size=0.2,random_state=42)\n"
   ]
  },
  {
   "cell_type": "code",
   "execution_count": 33,
   "metadata": {},
   "outputs": [
    {
     "output_type": "execute_result",
     "data": {
      "text/plain": [
       "device(type='cuda')"
      ]
     },
     "metadata": {},
     "execution_count": 33
    }
   ],
   "source": [
    "device=torch.device('cuda'if torch.cuda.is_available() else 'cpu')\n",
    "device"
   ]
  },
  {
   "cell_type": "code",
   "execution_count": 34,
   "metadata": {},
   "outputs": [
    {
     "output_type": "stream",
     "name": "stdout",
     "text": [
      "torch.Size([33600, 784])\ntorch.Size([33600])\n"
     ]
    }
   ],
   "source": [
    "featuresTrain=torch.from_numpy(features_train)\n",
    "targetTrain=torch.from_numpy(target_train).type(torch.LongTensor)\n",
    "print(featuresTrain.shape)\n",
    "print(targetTrain.shape)"
   ]
  },
  {
   "cell_type": "code",
   "execution_count": 35,
   "metadata": {},
   "outputs": [],
   "source": [
    "featuresTest=torch.from_numpy(features_test)\n",
    "targetTest=torch.from_numpy(target_test).type(torch.LongTensor)\n",
    "batch_size=256\n",
    "train=torch.utils.data.TensorDataset(featuresTrain,targetTrain)\n",
    "test=torch.utils.data.TensorDataset(featuresTest,targetTest)\n",
    "#data loader\n",
    "\n",
    "train_loader=torch.utils.data.DataLoader(train,batch_size=batch_size,shuffle=True)\n",
    "test_loader=torch.utils.data.DataLoader(test,batch_size=batch_size,shuffle=True)\n"
   ]
  },
  {
   "cell_type": "code",
   "execution_count": 36,
   "metadata": {},
   "outputs": [
    {
     "output_type": "display_data",
     "data": {
      "text/plain": "<Figure size 432x288 with 1 Axes>",
      "image/svg+xml": "<?xml version=\"1.0\" encoding=\"utf-8\" standalone=\"no\"?>\r\n<!DOCTYPE svg PUBLIC \"-//W3C//DTD SVG 1.1//EN\"\r\n  \"http://www.w3.org/Graphics/SVG/1.1/DTD/svg11.dtd\">\r\n<!-- Created with matplotlib (https://matplotlib.org/) -->\r\n<svg height=\"246.958125pt\" version=\"1.1\" viewBox=\"0 0 231.84 246.958125\" width=\"231.84pt\" xmlns=\"http://www.w3.org/2000/svg\" xmlns:xlink=\"http://www.w3.org/1999/xlink\">\r\n <metadata>\r\n  <rdf:RDF xmlns:cc=\"http://creativecommons.org/ns#\" xmlns:dc=\"http://purl.org/dc/elements/1.1/\" xmlns:rdf=\"http://www.w3.org/1999/02/22-rdf-syntax-ns#\">\r\n   <cc:Work>\r\n    <dc:type rdf:resource=\"http://purl.org/dc/dcmitype/StillImage\"/>\r\n    <dc:date>2021-02-28T22:33:27.078785</dc:date>\r\n    <dc:format>image/svg+xml</dc:format>\r\n    <dc:creator>\r\n     <cc:Agent>\r\n      <dc:title>Matplotlib v3.3.2, https://matplotlib.org/</dc:title>\r\n     </cc:Agent>\r\n    </dc:creator>\r\n   </cc:Work>\r\n  </rdf:RDF>\r\n </metadata>\r\n <defs>\r\n  <style type=\"text/css\">*{stroke-linecap:butt;stroke-linejoin:round;}</style>\r\n </defs>\r\n <g id=\"figure_1\">\r\n  <g id=\"patch_1\">\r\n   <path d=\"M 0 246.958125 \r\nL 231.84 246.958125 \r\nL 231.84 0 \r\nL 0 0 \r\nz\r\n\" style=\"fill:none;\"/>\r\n  </g>\r\n  <g id=\"axes_1\">\r\n   <g clip-path=\"url(#pd82f733c0d)\">\r\n    <image height=\"218\" id=\"imaged4503d00e2\" transform=\"scale(1 -1)translate(0 -218)\" width=\"218\" x=\"7.2\" xlink:href=\"data:image/png;base64,\r\niVBORw0KGgoAAAANSUhEUgAAANoAAADaCAYAAADAHVzbAAAEVElEQVR4nO3cvWvdZRiA4Zw0UIjtYq2TLVQQQaTgoINScKiTgwgd3Jy0SB2LDp3EoYuDglKpi3QqOvoxWwVbJxFR6yaCiGgLUo20pYn/gHnTmHPu07TXtT7JOS8Jdx74vZxMDk+OrC0AM7U47wPAnUBoEBAaBIQGAaFBQGgQEBoEhAYBoUFAaBAQGgSEBgGhQUBoEBAaBIQGAaFBQGgQEBoEhAYBoUFAaBBYmvcB7kSLu3cP5x9fPDecP/r6seF877vnN30mZstGg4DQICA0CAgNAkKDgNAgIDQICA0CQoOA0CAgNAgIDQJCg4DQICA0CPg82hxc+XDvvI9AzEaDgNAgIDQICA0CQoOA0CAgNAi4R5uDe5evDOc7Jv7+3W78RiEgNAgIDQJCg4DQICA0CAgNAu7RbkE31laH8zdfOTWcnzzz+HC+urKy6TOxNTYaBIQGAaFBQGgQEBoEhAYBj/e3oSd2jh//L0wmzUG4aTYaBIQGAaFBQGgQEBoEhAYBoUHAPdo2dPH61fEXrK01B+Gm2WgQEBoEhAYBoUFAaBAQGgSEBgH3aNvQsxeODuf3X/s+Ogk3y0aDgNAgIDQICA0CQoOA0CAgNAi4R5uRydL6P9qlxQ3+L+MGfjj0/nD+wFsvjefHvtrS+7N5NhoEhAYBoUFAaBAQGgSEBgGP92fk51cfW3f27YG3Z/reBx/+aTj/Z6bvzn+x0SAgNAgIDQJCg4DQICA0CAgNAu7RZmT/p3+uO3vjuQeH33v87h+39N6/v3NgON+18NuWXp/Ns9EgIDQICA0CQoOA0CAgNAgIDQLu0WZk7evv1p2de3Lf+Js/G483umdbPvrL+AU+GI+ZPhsNAkKDgNAgIDQICA0CQoOA0CDgHm0Obly6PJyfPfXUcH78xPge7a6la8O5/+vYs9EgIDQICA0CQoOA0CAgNAgIDQLu0eZgcXl5OH/6xS+ik1Cx0SAgNAgIDQJCg4DQICA0CHi8PwerKyvD+SenDw3nr534ZprHIWCjQUBoEBAaBIQGAaFBQGgQEBoE3KPdhvbs/Hs4//WePevObvxxadrHYcFGg4TQICA0CAgNAkKDgNAgIDQIuEe7DZ3e9/lwfvCFl9ed3Xfyy2kfhwUbDRJCg4DQICA0CAgNAkKDgNAg4B7tFrTj+tpw/tfa1eF812TnNI/DFNhoEBAaBIQGAaFBQGgQEBoEhAYB92i3oD3vnR/ODz/z/HB+4ZGz0zwOU2CjQUBoEBAaBIQGAaFBQGgQ8Hh/G5pMxh+jOXnpoeF8/0eX152t/q8TsREbDQJCg4DQICA0CAgNAkKDgNAgMDk8OTK+lAG2zEaDgNAgIDQICA0CQoOA0CAgNAgIDQJCg4DQICA0CAgNAkKDgNAgIDQICA0CQoOA0CAgNAgIDQJCg4DQICA0CAgNAkKDgNAgIDQICA0CQoOA0CAgNAgIDQJCg4DQICA0CAgNAkKDgNAg8C+eXV+Dy/oMvAAAAABJRU5ErkJggg==\" y=\"-21.758125\"/>\r\n   </g>\r\n   <g id=\"text_1\">\r\n    <!-- number -->\r\n    <g transform=\"translate(92.503125 16.318125)scale(0.12 -0.12)\">\r\n     <defs>\r\n      <path d=\"M 54.890625 33.015625 \r\nL 54.890625 0 \r\nL 45.90625 0 \r\nL 45.90625 32.71875 \r\nQ 45.90625 40.484375 42.875 44.328125 \r\nQ 39.84375 48.1875 33.796875 48.1875 \r\nQ 26.515625 48.1875 22.3125 43.546875 \r\nQ 18.109375 38.921875 18.109375 30.90625 \r\nL 18.109375 0 \r\nL 9.078125 0 \r\nL 9.078125 54.6875 \r\nL 18.109375 54.6875 \r\nL 18.109375 46.1875 \r\nQ 21.34375 51.125 25.703125 53.5625 \r\nQ 30.078125 56 35.796875 56 \r\nQ 45.21875 56 50.046875 50.171875 \r\nQ 54.890625 44.34375 54.890625 33.015625 \r\nz\r\n\" id=\"DejaVuSans-110\"/>\r\n      <path d=\"M 8.5 21.578125 \r\nL 8.5 54.6875 \r\nL 17.484375 54.6875 \r\nL 17.484375 21.921875 \r\nQ 17.484375 14.15625 20.5 10.265625 \r\nQ 23.53125 6.390625 29.59375 6.390625 \r\nQ 36.859375 6.390625 41.078125 11.03125 \r\nQ 45.3125 15.671875 45.3125 23.6875 \r\nL 45.3125 54.6875 \r\nL 54.296875 54.6875 \r\nL 54.296875 0 \r\nL 45.3125 0 \r\nL 45.3125 8.40625 \r\nQ 42.046875 3.421875 37.71875 1 \r\nQ 33.40625 -1.421875 27.6875 -1.421875 \r\nQ 18.265625 -1.421875 13.375 4.4375 \r\nQ 8.5 10.296875 8.5 21.578125 \r\nz\r\nM 31.109375 56 \r\nz\r\n\" id=\"DejaVuSans-117\"/>\r\n      <path d=\"M 52 44.1875 \r\nQ 55.375 50.25 60.0625 53.125 \r\nQ 64.75 56 71.09375 56 \r\nQ 79.640625 56 84.28125 50.015625 \r\nQ 88.921875 44.046875 88.921875 33.015625 \r\nL 88.921875 0 \r\nL 79.890625 0 \r\nL 79.890625 32.71875 \r\nQ 79.890625 40.578125 77.09375 44.375 \r\nQ 74.3125 48.1875 68.609375 48.1875 \r\nQ 61.625 48.1875 57.5625 43.546875 \r\nQ 53.515625 38.921875 53.515625 30.90625 \r\nL 53.515625 0 \r\nL 44.484375 0 \r\nL 44.484375 32.71875 \r\nQ 44.484375 40.625 41.703125 44.40625 \r\nQ 38.921875 48.1875 33.109375 48.1875 \r\nQ 26.21875 48.1875 22.15625 43.53125 \r\nQ 18.109375 38.875 18.109375 30.90625 \r\nL 18.109375 0 \r\nL 9.078125 0 \r\nL 9.078125 54.6875 \r\nL 18.109375 54.6875 \r\nL 18.109375 46.1875 \r\nQ 21.1875 51.21875 25.484375 53.609375 \r\nQ 29.78125 56 35.6875 56 \r\nQ 41.65625 56 45.828125 52.96875 \r\nQ 50 49.953125 52 44.1875 \r\nz\r\n\" id=\"DejaVuSans-109\"/>\r\n      <path d=\"M 48.6875 27.296875 \r\nQ 48.6875 37.203125 44.609375 42.84375 \r\nQ 40.53125 48.484375 33.40625 48.484375 \r\nQ 26.265625 48.484375 22.1875 42.84375 \r\nQ 18.109375 37.203125 18.109375 27.296875 \r\nQ 18.109375 17.390625 22.1875 11.75 \r\nQ 26.265625 6.109375 33.40625 6.109375 \r\nQ 40.53125 6.109375 44.609375 11.75 \r\nQ 48.6875 17.390625 48.6875 27.296875 \r\nz\r\nM 18.109375 46.390625 \r\nQ 20.953125 51.265625 25.265625 53.625 \r\nQ 29.59375 56 35.59375 56 \r\nQ 45.5625 56 51.78125 48.09375 \r\nQ 58.015625 40.1875 58.015625 27.296875 \r\nQ 58.015625 14.40625 51.78125 6.484375 \r\nQ 45.5625 -1.421875 35.59375 -1.421875 \r\nQ 29.59375 -1.421875 25.265625 0.953125 \r\nQ 20.953125 3.328125 18.109375 8.203125 \r\nL 18.109375 0 \r\nL 9.078125 0 \r\nL 9.078125 75.984375 \r\nL 18.109375 75.984375 \r\nz\r\n\" id=\"DejaVuSans-98\"/>\r\n      <path d=\"M 56.203125 29.59375 \r\nL 56.203125 25.203125 \r\nL 14.890625 25.203125 \r\nQ 15.484375 15.921875 20.484375 11.0625 \r\nQ 25.484375 6.203125 34.421875 6.203125 \r\nQ 39.59375 6.203125 44.453125 7.46875 \r\nQ 49.3125 8.734375 54.109375 11.28125 \r\nL 54.109375 2.78125 \r\nQ 49.265625 0.734375 44.1875 -0.34375 \r\nQ 39.109375 -1.421875 33.890625 -1.421875 \r\nQ 20.796875 -1.421875 13.15625 6.1875 \r\nQ 5.515625 13.8125 5.515625 26.8125 \r\nQ 5.515625 40.234375 12.765625 48.109375 \r\nQ 20.015625 56 32.328125 56 \r\nQ 43.359375 56 49.78125 48.890625 \r\nQ 56.203125 41.796875 56.203125 29.59375 \r\nz\r\nM 47.21875 32.234375 \r\nQ 47.125 39.59375 43.09375 43.984375 \r\nQ 39.0625 48.390625 32.421875 48.390625 \r\nQ 24.90625 48.390625 20.390625 44.140625 \r\nQ 15.875 39.890625 15.1875 32.171875 \r\nz\r\n\" id=\"DejaVuSans-101\"/>\r\n      <path d=\"M 41.109375 46.296875 \r\nQ 39.59375 47.171875 37.8125 47.578125 \r\nQ 36.03125 48 33.890625 48 \r\nQ 26.265625 48 22.1875 43.046875 \r\nQ 18.109375 38.09375 18.109375 28.8125 \r\nL 18.109375 0 \r\nL 9.078125 0 \r\nL 9.078125 54.6875 \r\nL 18.109375 54.6875 \r\nL 18.109375 46.1875 \r\nQ 20.953125 51.171875 25.484375 53.578125 \r\nQ 30.03125 56 36.53125 56 \r\nQ 37.453125 56 38.578125 55.875 \r\nQ 39.703125 55.765625 41.0625 55.515625 \r\nz\r\n\" id=\"DejaVuSans-114\"/>\r\n     </defs>\r\n     <use xlink:href=\"#DejaVuSans-110\"/>\r\n     <use x=\"63.378906\" xlink:href=\"#DejaVuSans-117\"/>\r\n     <use x=\"126.757812\" xlink:href=\"#DejaVuSans-109\"/>\r\n     <use x=\"224.169922\" xlink:href=\"#DejaVuSans-98\"/>\r\n     <use x=\"287.646484\" xlink:href=\"#DejaVuSans-101\"/>\r\n     <use x=\"349.169922\" xlink:href=\"#DejaVuSans-114\"/>\r\n    </g>\r\n   </g>\r\n  </g>\r\n </g>\r\n <defs>\r\n  <clipPath id=\"pd82f733c0d\">\r\n   <rect height=\"217.44\" width=\"217.44\" x=\"7.2\" y=\"22.318125\"/>\r\n  </clipPath>\r\n </defs>\r\n</svg>\r\n",
      "image/png": "[encoded data removed]"
     },
     "metadata": {
      "needs_background": "light"
     }
    }
   ],
   "source": [
    "# visualize one of image in data set \n",
    "def visualize_image(data,index,pred=False,val=0):\n",
    "    plt.imshow(data[index].reshape(28,28))\n",
    "    plt.axis('off')\n",
    "    plt.title('number')\n",
    "    plt.show()\n",
    "visualize_image(feature_np,12)"
   ]
  },
  {
   "cell_type": "code",
   "execution_count": 37,
   "metadata": {},
   "outputs": [
    {
     "output_type": "execute_result",
     "data": {
      "text/plain": [
       "torch.Size([33600, 784])"
      ]
     },
     "metadata": {},
     "execution_count": 37
    }
   ],
   "source": [
    "featuresTrain.shape"
   ]
  },
  {
   "cell_type": "code",
   "execution_count": 40,
   "metadata": {},
   "outputs": [],
   "source": [
    "# class Classifier(nn.Module):\n",
    "#     def __init(self):\n",
    "#         super().__init__()\n",
    "#         #5hidden layer \n",
    "#         self.fc1=nn.Linear(28*28,512)\n",
    "#         self.fc2=nn.Linear(512,256)\n",
    "#         self.fc3=nn.Linear(256,128)\n",
    "#         self.fc4=nn.Linear(128,64)\n",
    "#         self.fc5=nn.Linear(64,10)\n",
    "#         self.dropout=nn.Dropout(p=0.2)\n",
    "#         self.log_softmax=F.log_softmax\n",
    "#         self.Relu=F.relu\n",
    "#         self.layer=nn.Sequential(\n",
    "#             self.fc1,\n",
    "#             self.dropout,\n",
    "#             self.Relu.\n",
    "#             self.fc2,\n",
    "#             self.dropout.\n",
    "#             self.Relu,\n",
    "#             self.fc3,\n",
    "#             self.dropout,\n",
    "#             self.Relu,\n",
    "#             self.fc4,\n",
    "#             self.dropout,\n",
    "#             self.Relu,\n",
    "#             self.fc5,\n",
    "#             self.log_softmax\n",
    "            \n",
    "#         )\n",
    "\n",
    "#     def forward(self,x ):\n",
    "#         for layer in self.layer:\n",
    "#             x=layer(x)\n",
    "#         return x\n",
    "class Classifier(nn.Module):\n",
    "    def __init__(self):\n",
    "        super().__init__()\n",
    "        # 5 Hidden Layer Network\n",
    "        self.fc1 = nn.Linear(28*28, 512)\n",
    "        self.fc2 = nn.Linear(512, 256)\n",
    "        self.fc3 = nn.Linear(256, 128)\n",
    "        self.fc4 = nn.Linear(128, 64)\n",
    "        self.fc5 = nn.Linear(64, 10)\n",
    "        \n",
    "        # Dropout module with 0.2 probbability\n",
    "        self.dropout = nn.Dropout(p=0.2)\n",
    "        # Add softmax on output layer\n",
    "        self.log_softmax = F.log_softmax\n",
    "        \n",
    "    def forward(self, x):\n",
    "        x = self.dropout(F.relu(self.fc1(x)))\n",
    "        x = self.dropout(F.relu(self.fc2(x)))\n",
    "        x = self.dropout(F.relu(self.fc3(x)))\n",
    "        x = self.dropout(F.relu(self.fc4(x)))\n",
    "        \n",
    "        x = self.log_softmax(self.fc5(x), dim=1)\n",
    "        \n",
    "        return x\n"
   ]
  },
  {
   "cell_type": "code",
   "execution_count": 44,
   "metadata": {},
   "outputs": [
    {
     "output_type": "stream",
     "name": "stdout",
     "text": [
      "Epoch: 1/25..  Training Loss: 0.489..  Test Loss: 0.478..  Test Accuracy: 0.851\n",
      "Epoch: 1/25..  Training Loss: 0.670..  Test Loss: 0.320..  Test Accuracy: 0.901\n",
      "Epoch: 2/25..  Training Loss: 0.040..  Test Loss: 0.244..  Test Accuracy: 0.927\n",
      "Epoch: 2/25..  Training Loss: 0.142..  Test Loss: 0.197..  Test Accuracy: 0.940\n",
      "Epoch: 2/25..  Training Loss: 0.224..  Test Loss: 0.176..  Test Accuracy: 0.948\n",
      "Epoch: 3/25..  Training Loss: 0.049..  Test Loss: 0.153..  Test Accuracy: 0.952\n",
      "Epoch: 3/25..  Training Loss: 0.114..  Test Loss: 0.139..  Test Accuracy: 0.958\n",
      "Epoch: 4/25..  Training Loss: 0.004..  Test Loss: 0.141..  Test Accuracy: 0.958\n",
      "Epoch: 4/25..  Training Loss: 0.051..  Test Loss: 0.122..  Test Accuracy: 0.965\n",
      "Epoch: 4/25..  Training Loss: 0.099..  Test Loss: 0.114..  Test Accuracy: 0.967\n",
      "Epoch: 5/25..  Training Loss: 0.019..  Test Loss: 0.131..  Test Accuracy: 0.961\n",
      "Epoch: 5/25..  Training Loss: 0.058..  Test Loss: 0.106..  Test Accuracy: 0.967\n",
      "Epoch: 5/25..  Training Loss: 0.093..  Test Loss: 0.099..  Test Accuracy: 0.972\n",
      "Epoch: 6/25..  Training Loss: 0.028..  Test Loss: 0.103..  Test Accuracy: 0.971\n",
      "Epoch: 6/25..  Training Loss: 0.062..  Test Loss: 0.099..  Test Accuracy: 0.971\n",
      "Epoch: 7/25..  Training Loss: 0.004..  Test Loss: 0.095..  Test Accuracy: 0.973\n",
      "Epoch: 7/25..  Training Loss: 0.031..  Test Loss: 0.105..  Test Accuracy: 0.969\n",
      "Epoch: 7/25..  Training Loss: 0.060..  Test Loss: 0.098..  Test Accuracy: 0.974\n",
      "Epoch: 8/25..  Training Loss: 0.012..  Test Loss: 0.094..  Test Accuracy: 0.973\n",
      "Epoch: 8/25..  Training Loss: 0.036..  Test Loss: 0.098..  Test Accuracy: 0.972\n",
      "Epoch: 8/25..  Training Loss: 0.059..  Test Loss: 0.090..  Test Accuracy: 0.976\n",
      "Epoch: 9/25..  Training Loss: 0.016..  Test Loss: 0.090..  Test Accuracy: 0.978\n",
      "Epoch: 9/25..  Training Loss: 0.033..  Test Loss: 0.102..  Test Accuracy: 0.973\n",
      "Epoch: 10/25..  Training Loss: 0.003..  Test Loss: 0.098..  Test Accuracy: 0.973\n",
      "Epoch: 10/25..  Training Loss: 0.022..  Test Loss: 0.101..  Test Accuracy: 0.973\n",
      "Epoch: 10/25..  Training Loss: 0.041..  Test Loss: 0.094..  Test Accuracy: 0.974\n",
      "Epoch: 11/25..  Training Loss: 0.008..  Test Loss: 0.092..  Test Accuracy: 0.977\n",
      "Epoch: 11/25..  Training Loss: 0.023..  Test Loss: 0.094..  Test Accuracy: 0.975\n",
      "Epoch: 11/25..  Training Loss: 0.037..  Test Loss: 0.102..  Test Accuracy: 0.974\n",
      "Epoch: 12/25..  Training Loss: 0.012..  Test Loss: 0.087..  Test Accuracy: 0.979\n",
      "Epoch: 12/25..  Training Loss: 0.027..  Test Loss: 0.105..  Test Accuracy: 0.973\n",
      "Epoch: 13/25..  Training Loss: 0.006..  Test Loss: 0.103..  Test Accuracy: 0.972\n",
      "Epoch: 13/25..  Training Loss: 0.024..  Test Loss: 0.098..  Test Accuracy: 0.975\n",
      "Epoch: 13/25..  Training Loss: 0.040..  Test Loss: 0.120..  Test Accuracy: 0.972\n",
      "Epoch: 14/25..  Training Loss: 0.009..  Test Loss: 0.106..  Test Accuracy: 0.975\n",
      "Epoch: 14/25..  Training Loss: 0.021..  Test Loss: 0.101..  Test Accuracy: 0.974\n",
      "Epoch: 15/25..  Training Loss: 0.000..  Test Loss: 0.103..  Test Accuracy: 0.977\n",
      "Epoch: 15/25..  Training Loss: 0.011..  Test Loss: 0.102..  Test Accuracy: 0.976\n",
      "Epoch: 15/25..  Training Loss: 0.022..  Test Loss: 0.093..  Test Accuracy: 0.976\n",
      "Epoch: 16/25..  Training Loss: 0.004..  Test Loss: 0.107..  Test Accuracy: 0.975\n",
      "Epoch: 16/25..  Training Loss: 0.016..  Test Loss: 0.090..  Test Accuracy: 0.978\n",
      "Epoch: 16/25..  Training Loss: 0.028..  Test Loss: 0.099..  Test Accuracy: 0.977\n",
      "Epoch: 17/25..  Training Loss: 0.008..  Test Loss: 0.097..  Test Accuracy: 0.978\n",
      "Epoch: 17/25..  Training Loss: 0.019..  Test Loss: 0.097..  Test Accuracy: 0.978\n",
      "Epoch: 18/25..  Training Loss: 0.001..  Test Loss: 0.091..  Test Accuracy: 0.980\n",
      "Epoch: 18/25..  Training Loss: 0.011..  Test Loss: 0.089..  Test Accuracy: 0.979\n",
      "Epoch: 18/25..  Training Loss: 0.018..  Test Loss: 0.107..  Test Accuracy: 0.977\n",
      "Epoch: 19/25..  Training Loss: 0.004..  Test Loss: 0.095..  Test Accuracy: 0.978\n",
      "Epoch: 19/25..  Training Loss: 0.010..  Test Loss: 0.101..  Test Accuracy: 0.979\n",
      "Epoch: 19/25..  Training Loss: 0.019..  Test Loss: 0.110..  Test Accuracy: 0.976\n",
      "Epoch: 20/25..  Training Loss: 0.006..  Test Loss: 0.114..  Test Accuracy: 0.975\n",
      "Epoch: 20/25..  Training Loss: 0.016..  Test Loss: 0.108..  Test Accuracy: 0.977\n",
      "Epoch: 21/25..  Training Loss: 0.002..  Test Loss: 0.107..  Test Accuracy: 0.977\n",
      "Epoch: 21/25..  Training Loss: 0.009..  Test Loss: 0.109..  Test Accuracy: 0.978\n",
      "Epoch: 21/25..  Training Loss: 0.017..  Test Loss: 0.096..  Test Accuracy: 0.978\n",
      "Epoch: 22/25..  Training Loss: 0.003..  Test Loss: 0.103..  Test Accuracy: 0.979\n",
      "Epoch: 22/25..  Training Loss: 0.010..  Test Loss: 0.114..  Test Accuracy: 0.976\n",
      "Epoch: 22/25..  Training Loss: 0.018..  Test Loss: 0.120..  Test Accuracy: 0.975\n",
      "Epoch: 23/25..  Training Loss: 0.007..  Test Loss: 0.101..  Test Accuracy: 0.978\n",
      "Epoch: 23/25..  Training Loss: 0.014..  Test Loss: 0.118..  Test Accuracy: 0.974\n",
      "Epoch: 24/25..  Training Loss: 0.001..  Test Loss: 0.108..  Test Accuracy: 0.976\n",
      "Epoch: 24/25..  Training Loss: 0.009..  Test Loss: 0.106..  Test Accuracy: 0.978\n",
      "Epoch: 24/25..  Training Loss: 0.017..  Test Loss: 0.114..  Test Accuracy: 0.975\n",
      "Epoch: 25/25..  Training Loss: 0.005..  Test Loss: 0.108..  Test Accuracy: 0.979\n",
      "Epoch: 25/25..  Training Loss: 0.016..  Test Loss: 0.126..  Test Accuracy: 0.972\n",
      "Epoch: 25/25..  Training Loss: 0.025..  Test Loss: 0.110..  Test Accuracy: 0.975\n"
     ]
    }
   ],
   "source": [
    "model=Classifier()\n",
    "criterion=nn.CrossEntropyLoss()\n",
    "optimizer=optim.Adam(model.parameters(),lr=1e-3)\n",
    "\n",
    "epochs=25\n",
    "steps=0\n",
    "train_losses,test_losses=[],[]\n",
    "\n",
    "for e in range(epochs):\n",
    "    running_loss=0\n",
    "    for images, labels in train_loader:\n",
    "        steps += 1\n",
    "        optimizer.zero_grad()\n",
    "        log_ps=model(images)\n",
    "        loss=criterion(log_ps,labels)\n",
    "        loss.backward()\n",
    "        optimizer.step()\n",
    "\n",
    "        running_loss+=loss.item()\n",
    "        if steps%50==0:\n",
    "            test_loss=0\n",
    "            accuracy=0\n",
    "\n",
    "            with torch.no_grad():\n",
    "                model.eval()\n",
    "                for images, labels in test_loader:\n",
    "                    log_ps=model(images)\n",
    "                    test_loss +=criterion(log_ps,labels)\n",
    "\n",
    "                    ps=torch.exp(log_ps)\n",
    "                    top_p,top_class=ps.topk(1,dim=1)\n",
    "                    equals=top_class==labels.view(*top_class.shape)\n",
    "                    accuracy+=torch.mean(equals.type(torch.FloatTensor))\n",
    "            model.train()\n",
    "\n",
    "            train_losses.append(running_loss/len(train_loader))\n",
    "            test_losses.append(test_loss/len(test_loader))\n",
    "\n",
    "            print(\"Epoch: {}/{}.. \".format(e+1, epochs),\n",
    "                  \"Training Loss: {:.3f}.. \".format(train_losses[-1]),\n",
    "                  \"Test Loss: {:.3f}.. \".format(test_losses[-1]),\n",
    "                  \"Test Accuracy: {:.3f}\".format(accuracy/len(test_loader)))\n",
    "\n",
    "\n"
   ]
  },
  {
   "cell_type": "code",
   "execution_count": 48,
   "metadata": {},
   "outputs": [
    {
     "output_type": "execute_result",
     "data": {
      "text/plain": [
       "<matplotlib.legend.Legend at 0x22a022fc4f0>"
      ]
     },
     "metadata": {},
     "execution_count": 48
    },
    {
     "output_type": "display_data",
     "data": {
      "text/plain": "<Figure size 432x288 with 1 Axes>",
      "image/png": "[encoded data removed]"
     },
     "metadata": {
      "image/png": {
       "width": 372,
       "height": 251
      },
      "needs_background": "light"
     }
    }
   ],
   "source": [
    "%matplotlib inline\n",
    "%config InlineBackend.figure_format='retina'\n",
    "\n",
    "plt.plot(train_losses,label='Train loss')\n",
    "plt.plot(test_losses,label='validation loss')\n",
    "plt.legend(frameon=False)\n"
   ]
  },
  {
   "cell_type": "code",
   "execution_count": 53,
   "metadata": {},
   "outputs": [],
   "source": [
    "def view_classify(img, ps):\n",
    "    ps=ps.data.numpy().squeeze()\n",
    "\n",
    "    fig,(ax1,ax2)=plt.subplots(figsize=(6,9),ncols=2)\n",
    "    ax1.imshow(img.resize(1,28,28).numpy().squeeze())\n",
    "    ax1.axis('off')\n",
    "    ax2.barh(np.arange(10),ps)\n",
    "    ax2.set_aspect(0.1)\n",
    "    ax2.set_yticks(np.arange(10))\n",
    "    ax2.set_yticklabels(np.arange(10))\n",
    "    ax2.set_title('class')\n",
    "    ax2.set_xlim(0,1.1)\n",
    "    plt.tight_layout()\n"
   ]
  },
  {
   "cell_type": "code",
   "execution_count": 54,
   "metadata": {},
   "outputs": [
    {
     "output_type": "display_data",
     "data": {
      "text/plain": "<Figure size 432x648 with 2 Axes>",
      "image/png": "[encoded data removed]"
     },
     "metadata": {
      "image/png": {
       "width": 424,
       "height": 235
      },
      "needs_background": "light"
     }
    }
   ],
   "source": [
    "%matplotlib inline\n",
    "def make_predictions(data):\n",
    "    images,labels=next(iter(data))\n",
    "    img=images[42].view(1,784)\n",
    "    # Turn off gradients to speed up this part \n",
    "    with torch.no_grad():\n",
    "        logps=model(img)\n",
    "    \n",
    "    #output of the network are log_probabilities need to take exponential for probabilites\n",
    "\n",
    "    ps= torch.exp(logps)\n",
    "    view_classify(img.view(1,28,28),ps)\n",
    "make_predictions(test_loader)"
   ]
  },
  {
   "cell_type": "code",
   "execution_count": 56,
   "metadata": {},
   "outputs": [
    {
     "output_type": "display_data",
     "data": {
      "text/plain": "<Figure size 432x648 with 2 Axes>",
      "image/png": "[encoded data removed]"
     },
     "metadata": {
      "image/png": {
       "width": 424,
       "height": 235
      },
      "needs_background": "light"
     }
    }
   ],
   "source": [
    "###preparing Test Data for prediction \n",
    "\n",
    "final_test_np=final_test.values/255\n",
    "test_tn=torch.from_numpy(final_test_np)\n",
    "\n",
    "fake_labels=np.zeros(final_test_np.shape)\n",
    "fake_labels=torch.from_numpy(fake_labels)\n",
    "\n",
    "submission_tn_data=torch.utils.data.TensorDataset(test_tn,fake_labels)\n",
    "\n",
    "submission_loader=torch.utils.data.DataLoader(submission_tn_data,batch_size=batch_size,shuffle=False)\n",
    "\n",
    "make_predictions(submission_loader)"
   ]
  },
  {
   "cell_type": "code",
   "execution_count": 59,
   "metadata": {},
   "outputs": [],
   "source": [
    "submission=[['ImageId','Label']]\n",
    "\n",
    "with torch.no_grad():\n",
    "    model.eval()\n",
    "    image_id=1\n",
    "    for images, _ in submission_loader:\n",
    "        log_ps=model(images)\n",
    "        ps=torch.exp(log_ps)\n",
    "        top_p,top_class=ps.topk(1,dim=1)\n",
    "\n",
    "        for predictions in top_class:\n",
    "            submission.append([image_id,predictions.item()])\n",
    "            image_id+=1\n",
    "\n",
    "\n",
    "submission_df=pd.DataFrame(submission)\n",
    "submission_df.columns=submission_df.iloc[0]\n",
    "submission_df=submission_df.drop(0,axis=0)\n",
    "\n",
    "submission_df.to_csv('submission.csv',index=False)"
   ]
  }
 ]
}