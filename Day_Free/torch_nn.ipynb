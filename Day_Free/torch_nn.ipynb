{
 "metadata": {
  "language_info": {
   "codemirror_mode": {
    "name": "ipython",
    "version": 3
   },
   "file_extension": ".py",
   "mimetype": "text/x-python",
   "name": "python",
   "nbconvert_exporter": "python",
   "pygments_lexer": "ipython3",
   "version": 3
  },
  "orig_nbformat": 2
 },
 "nbformat": 4,
 "nbformat_minor": 2,
 "cells": [
  {
   "source": [
    "# Torch.nn \n",
    "- containers \n",
    "- Convolution Layers\n",
    "- Pooling Layers\n",
    "- Padding Layers\n",
    "- Non-linear Activations\n",
    "- Non-linear Activations\n",
    "- Normalization Layers\n",
    "- Recurrent Layers\n",
    "- Transformer Layers\n",
    "- Linear Layers\n",
    "- Dropout Layers\n",
    "- sparse Layers\n",
    "- Distance Functions\n",
    "- Loss Functions\n",
    "- vision Layers\n",
    "- Suffle Layers\n",
    "- DataParaleel Layers\n",
    "- Utilities\n",
    "- QUanized Functions\n",
    "- Lazy Moudles initialization\n"
   ],
   "cell_type": "markdown",
   "metadata": {}
  }
 ]
}