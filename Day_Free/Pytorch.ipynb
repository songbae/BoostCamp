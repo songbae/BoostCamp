{
 "metadata": {
  "language_info": {
   "codemirror_mode": {
    "name": "ipython",
    "version": 3
   },
   "file_extension": ".py",
   "mimetype": "text/x-python",
   "name": "python",
   "nbconvert_exporter": "python",
   "pygments_lexer": "ipython3",
   "version": "3.8.5-final"
  },
  "orig_nbformat": 2,
  "kernelspec": {
   "name": "python3",
   "display_name": "Python 3",
   "language": "python"
  }
 },
 "nbformat": 4,
 "nbformat_minor": 2,
 "cells": [
  {
   "cell_type": "code",
   "execution_count": null,
   "metadata": {},
   "outputs": [],
   "source": [
    "%%time\n",
    "import numpy as np\n",
    "\n",
    "N,D_in,H,D_out = 64,1000,100,10 \n",
    "x= np.random.randn(N, D_in)\n",
    "y=np.random.randn(N,D_out)\n",
    "w1= np.random.randn(D_in,H)\n",
    "w2=np.random.randn(H,D_out)\n",
    "LR=1e-6\n",
    "\n",
    "\n",
    "for t in range(400):\n",
    "    # 순전파 단계 \n",
    "    h=x.dot(w1)\n",
    "    h_relu=np.maximum(h,0)\n",
    "    y_pred=h_relu.dot(w2)\n",
    "\n",
    "    # loss 를 계산하고 출력한다.\n",
    "    loss= np.square(y_pred-y).sum()\n",
    "    print(t, loss)\n",
    "\n",
    "    #손실에 따른 w1,w2의 변화도를 계산하고 역전파합니다.\n",
    "    grad_y_pred=2.0*(y_pred-y)\n",
    "    grad_w2=h_relu.T.dot(grad_y_pred)\n",
    "    grad_h_relu=grad_y_pred.dot(w2.T)\n",
    "    grad_h=grad_h_relu.copy()\n",
    "    grad_h[h<0]=0\n",
    "    grad_w1=x.T.dot(grad_h)\n",
    "\n",
    "    #가중치를 갱신합니다 \n",
    "    w1-=LR*grad_w1\n",
    "    w2-=LR*grad_w2\n",
    "\n",
    "\n"
   ]
  },
  {
   "cell_type": "code",
   "execution_count": null,
   "metadata": {},
   "outputs": [],
   "source": [
    "import torch \n",
    "dtype=torch.float\n",
    "device=torch.device('cuda' if torch.cuda.is_available else 'cpu')\n",
    "print(device)\n",
    "N,D_in, H,D_out =64,1000,100,10\n",
    "x=torch.randn(N,D_in,device=device,dtype=dtype)\n",
    "y=torch.randn(N,D_out,device=device,dtype=dtype)\n",
    "# 무작위로 가중치를 초기화하기\n",
    "w1=torch.randn(D_in,H,device=device,dtype=dtype)\n",
    "w2=torch.randn(H,D_out,device=device,dtype=dtype)\n",
    "LR=1e-5/11\n",
    "print(x.shape,w1.shape,y.shape,w2.shape)\n",
    "for t in range(500):\n",
    "    h=x.matmul(w1)\n",
    "    h_relu=h.clamp(min=0)\n",
    "    y_pred=h_relu.matmul(w2)\n",
    "\n",
    "    # loss 를 계산하고 출력한다\n",
    "    loss=(y_pred-y).pow(2).sum().item()\n",
    "    if t%10==0:\n",
    "        print(t,loss)\n",
    "    # 손실에 따른 w1,w2의 변화도를 계산하고 역전파합니다\n",
    "    grad_y_pred=2.0*(y_pred-y)\n",
    "    grad_w2=h_relu.t().matmul(grad_y_pred)\n",
    "    grad_h_relu=grad_y_pred.matmul(w2.t())\n",
    "    grad_h=grad_h_relu.clone()\n",
    "    grad_h[h<0]=0\n",
    "    grad_w1=x.t().matmul(grad_h)\n",
    "\n",
    "    # 경사하강법을 사용하여 가중치를 갱신한다.\n",
    "    w1-=LR*grad_w1\n",
    "    w2-=LR*grad_w2"
   ]
  },
  {
   "cell_type": "code",
   "execution_count": null,
   "metadata": {},
   "outputs": [],
   "source": [
    "import torch \n",
    "dtype=torch.float\n",
    "device=torch.device('cuda' if torch.cuda.is_available else 'cpu')\n",
    "print(device)\n",
    "N,D_in, H,D_out =64,1000,100,10\n",
    "x=torch.randn(N,D_in,device=device,dtype=dtype)\n",
    "y=torch.randn(N,D_out,device=device,dtype=dtype)\n",
    "# 무작위로 가중치를 초기화하기\n",
    "w1=torch.randn(D_in,H,device=device,dtype=dtype,requires_grad=True)\n",
    "w2=torch.randn(H,D_out,device=device,dtype=dtype,requires_grad=True)\n",
    "LR=1e-5/11\n",
    "print(x.shape,w1.shape,y.shape,w2.shape)\n",
    "for t in range(500):\n",
    "    # h=x.matmul(w1)\n",
    "    # h_relu=h.clamp(min=0)\n",
    "    # y_pred=h_relu.matmul(w2)\n",
    "    # 중간단계들에 reference를 가지고 있을 필요가없으므로 한번에 구한다\n",
    "    y_pred=x.mm(w1).clamp(min=0).mm(w2)\n",
    "    # loss 를 계산하고 출력한다\n",
    "    loss=(y_pred-y).pow(2).sum()\n",
    "    if t%10==0:\n",
    "        print(t,loss.item())\n",
    "    # 손실에 따른 w1,w2의 변화도를 계산하고 역전파합니다\n",
    "    # grad_y_pred=2.0*(y_pred-y)\n",
    "    # grad_w2=h_relu.t().matmul(grad_y_pred)\n",
    "    # grad_h_relu=grad_y_pred.matmul(w2.t())\n",
    "    # grad_h=grad_h_relu.clone()\n",
    "    # grad_h[h<0]=0\n",
    "    # grad_w1=x.t().matmul(grad_h)\n",
    "    loss.backward()\n",
    "    # 경사하강법을 사용하여 가중치를 갱신한다.\n",
    "    with torch.no_grad():\n",
    "        w1-=LR*w1.grad\n",
    "        w2-=LR*w2.grad\n",
    "        #가중치 갱신후에는 수동으로 변화도를 0으로 만들어준다.\n",
    "        w1.grad.zero_()\n",
    "        w2.grad.zero_()"
   ]
  },
  {
   "cell_type": "code",
   "execution_count": null,
   "metadata": {},
   "outputs": [],
   "source": [
    "# -*- coding: utf-8 -*-\n",
    "import torch\n",
    "\n",
    "# N은 배치 크기이며, D_in은 입력의 차원입니다;\n",
    "# H는 은닉층의 차원이며, D_out은 출력 차원입니다.\n",
    "N, D_in, H, D_out = 64, 1000, 100, 10\n",
    "\n",
    "# 입력과 출력을 저장하기 위해 무작위 값을 갖는 Tensor를 생성합니다.\n",
    "x = torch.randn(N, D_in)\n",
    "y = torch.randn(N, D_out)\n",
    "\n",
    "# nn 패키지를 사용하여 모델을 순차적 계층(sequence of layers)으로 정의합니다.\n",
    "# nn.Sequential은 다른 Module들을 포함하는 Module로, 그 Module들을 순차적으로\n",
    "# 적용하여 출력을 생성합니다. 각각의 Linear Module은 선형 함수를 사용하여\n",
    "# 입력으로부터 출력을 계산하고, 내부 Tensor에 가중치와 편향을 저장합니다.\n",
    "model = torch.nn.Sequential(\n",
    "    torch.nn.Linear(D_in, H),\n",
    "    torch.nn.ReLU(),\n",
    "    torch.nn.Linear(H, D_out),\n",
    ")\n",
    "\n",
    "# 또한 nn 패키지에는 널리 사용하는 손실 함수들에 대한 정의도 포함하고 있습니다;\n",
    "# 여기에서는 평균 제곱 오차(MSE; Mean Squared Error)를 손실 함수로 사용하겠습니다.\n",
    "loss_fn = torch.nn.MSELoss(reduction='sum')\n",
    "\n",
    "learning_rate = 1e-4\n",
    "for t in range(500):\n",
    "    # 순전파 단계: 모델에 x를 전달하여 예상되는 y 값을 계산합니다. Module 객체는\n",
    "    # __call__ 연산자를 덮어써(override) 함수처럼 호출할 수 있게 합니다.\n",
    "    # 이렇게 함으로써 입력 데이터의 Tensor를 Module에 전달하여 출력 데이터의\n",
    "    # Tensor를 생성합니다.\n",
    "    y_pred = model(x)\n",
    "\n",
    "    # 손실을 계산하고 출력합니다. 예측한 y와 정답인 y를 갖는 Tensor들을 전달하고,\n",
    "    # 손실 함수는 손실 값을 갖는 Tensor를 반환합니다.\n",
    "    loss = loss_fn(y_pred, y)\n",
    "    if t % 100 == 99:\n",
    "        print(t, loss.item())\n",
    "\n",
    "    # 역전파 단계를 실행하기 전에 변화도를 0으로 만듭니다.\n",
    "\n",
    "    # 역전파 단계: 모델의 학습 가능한 모든 매개변수에 대해 손실의 변화도를\n",
    "    # 계산합니다. 내부적으로 각 Module의 매개변수는 requires_grad=True 일 때\n",
    "    # Tensor 내에 저장되므로, 이 호출은 모든 모델의 모든 학습 가능한 매개변수의\n",
    "    # 변화도를 계산하게 됩니다.\n",
    "    loss.backward()\n",
    "\n",
    "    # 경사하강법(gradient descent)를 사용하여 가중치를 갱신합니다. 각 매개변수는\n",
    "    # Tensor이므로 이전에 했던 것과 같이 변화도에 접근할 수 있습니다.\n",
    "    with torch.no_grad():\n",
    "        for param in model.parameters():\n",
    "            param -= learning_rate * param.grad\n",
    "    model.zero_grad()"
   ]
  },
  {
   "cell_type": "code",
   "execution_count": null,
   "metadata": {},
   "outputs": [],
   "source": [
    "# -*- coding: utf-8 -*-\n",
    "import torch\n",
    "\n",
    "# N은 배치 크기이며, D_in은 입력의 차원입니다;\n",
    "# H는 은닉층의 차원이며, D_out은 출력 차원입니다.\n",
    "N, D_in, H, D_out = 64, 1000, 100, 10\n",
    "\n",
    "# 입력과 출력을 저장하기 위해 무작위 값을 갖는 Tensor를 생성합니다.\n",
    "x = torch.randn(N, D_in)\n",
    "y = torch.randn(N, D_out)\n",
    "\n",
    "# nn 패키지를 사용하여 모델과 손실 함수를 정의합니다.\n",
    "model = torch.nn.Sequential(\n",
    "    torch.nn.Linear(D_in, H),\n",
    "    torch.nn.ReLU(),\n",
    "    torch.nn.Linear(H, D_out),\n",
    ")\n",
    "loss_fn = torch.nn.MSELoss(reduction='sum')\n",
    "\n",
    "# optim 패키지를 사용하여 모델의 가중치를 갱신할 Optimizer를 정의합니다.\n",
    "# 여기서는 Adam을 사용하겠습니다; optim 패키지는 다른 다양한 최적화 알고리즘을\n",
    "# 포함하고 있습니다. Adam 생성자의 첫번째 인자는 어떤 Tensor가 갱신되어야 하는지\n",
    "# 알려줍니다.\n",
    "learning_rate = 1e-4\n",
    "optimizer = torch.optim.Adam(model.parameters(), lr=learning_rate)\n",
    "for t in range(500):\n",
    "    # 순전파 단계: 모델에 x를 전달하여 예상되는 y 값을 계산합니다.\n",
    "    y_pred = model(x)\n",
    "\n",
    "    # 손실을 계산하고 출력합니다.\n",
    "    loss = loss_fn(y_pred, y)\n",
    "    if t % 100 == 99:\n",
    "        print(t, loss.item())\n",
    "\n",
    "    # 역전파 단계 전에, Optimizer 객체를 사용하여 (모델의 학습 가능한 가중치인)\n",
    "    # 갱신할 변수들에 대한 모든 변화도를 0으로 만듭니다. 이렇게 하는 이유는\n",
    "    # 기본적으로 .backward()를 호출할 때마다 변화도가 버퍼(buffer)에 (덮어쓰지 않고)\n",
    "    # 누적되기 때문입니다. 더 자세한 내용은 torch.autograd.backward에 대한 문서를\n",
    "    # 참조하세요.\n",
    "    optimizer.zero_grad()\n",
    "\n",
    "    # 역전파 단계: 모델의 매개변수에 대한 손실의 변화도를 계산합니다.\n",
    "    loss.backward()\n",
    "\n",
    "    # Optimizer의 step 함수를 호출하면 매개변수가 갱신됩니다.\n",
    "    optimizer.step()"
   ]
  },
  {
   "cell_type": "code",
   "execution_count": null,
   "metadata": {},
   "outputs": [],
   "source": [
    "class TwoLayerNet(torch.nn.Module):\n",
    "    def __init__(self, D_in,H,D_out):\n",
    "        super(TwoLayerNet,self).__init__()\n",
    "        self.linear1=torch.nn.Linear(D_in,H)\n",
    "        self.linear2=torch.nn.Linear(H,D_out)\n",
    "    \n",
    "    def forward(self,x):\n",
    "        '''순전파 함수에서는 입력 데이터의 tensor를 받고 출력 데이터의 tensor를 반환해야 한다.\n",
    "        Tensor상의 임의의 연산자뿐만 아니라 생성자에서 정의한 Module도 사용할 수 있다.'''\n",
    "        h_relu = self.linear1(x).clamp(min=0)\n",
    "        y_pred=self.linear2(h_relu)\n",
    "        return y_pred\n",
    "\n",
    "N, D_in, H, D_out = 64, 1000, 100, 10\n",
    "x = torch.randn(N, D_in)\n",
    "y = torch.randn(N, D_out)\n",
    "model = TwoLayerNet(D_in, H, D_out)\n",
    "criterion = torch.nn.MSELoss(reduction='sum')\n",
    "optimizer = torch.optim.SGD(model.parameters(), lr=1e-4)\n",
    "for t in range(500):\n",
    "    y_pred = model(x)\n",
    "    loss = criterion(y_pred, y)\n",
    "    if t % 100 == 99:\n",
    "        print(t, loss.item())\n",
    "    optimizer.zero_grad()\n",
    "    loss.backward()\n",
    "    optimizer.step()"
   ]
  },
  {
   "source": [
    "### pytorch \n",
    "- 제어 흐름(Contorl Flow)+가중치공유(weight sharing)\n",
    "```\n",
    "동적 그래프와 가중치 공유의 예로, 매우 이상한 모델을 구현해보겟다.각 순전파 단계에서 많은 은닉 계층을 갖는 완전히 연결(fully connected)된 Relu신경망이 무자구이로 0~3 사이의 숫자를 선택하고, 가장 안쪽(innerMost)의 \n",
    "은닉층들을 계산하기 위해 동일한 가중치를 여러 번 재사용합니다 \n",
    "\n",
    "이 모델에서는 일반적인 Python 제어 흐름을 사용하여 반복을 구현할 수 있으며, 순전파 단계를 정의할 때 단지 동일한 module 을 여러번 재사용함으로써 내부계층들 간의 가중치 공유를 구현할 수 있습니다.\n",
    "이러한 모델을 Moduel을 상속받는 서브클래스로 간단히 구현해보겟습니다.\n",
    "```"
   ],
   "cell_type": "markdown",
   "metadata": {}
  },
  {
   "cell_type": "code",
   "execution_count": null,
   "metadata": {
    "tags": []
   },
   "outputs": [],
   "source": [
    "import random\n",
    "import pandas as pd\n",
    "class DynamicNet(torch.nn.Module):\n",
    "    def __init__(self, D_in,H,D_out):\n",
    "        super(DynamicNet,self).__init__()\n",
    "        self.input_linear=torch.nn.Linear(D_in,H)\n",
    "        self.middle_linear=torch.nn.Linear(H,H)\n",
    "        self.output_linear=torch.nn.Linear(H,D_out)\n",
    "\n",
    "    def forward(self, x):\n",
    "        h_relu=self.input_linear(x).clamp(min=0)\n",
    "        for _ in range(random.randint(0,3)):\n",
    "            h_relu=self.middle_linear(h_relu).clamp(min=0)\n",
    "        y_pred=self.output_linear(h_relu)\n",
    "        return y_pred\n",
    "\n",
    "\n",
    "N,D_in,H,D_out=64,1000,100,10\n",
    "\n",
    "x=torch.randn(N,D_in)\n",
    "y=torch.randn(N,D_out)\n",
    "\n",
    "medel=DynamicNet(D_in,H,D_out)\n",
    "\n",
    "# 손실함수와 옵티마이저 생성 \n",
    "# -> 이 요상한 모델은 SGD로 구할 수 없으니 momentum을 이용한다고 한다.\n",
    "criterion=torch.nn.MSELoss(reduction='sum')\n",
    "optimizer=torch.optim.SGD(model.parameters(),lr=1e-4,momentum=0.9)\n",
    "\n",
    "for t in range(500):\n",
    "    y_pred=model(x)\n",
    "    loss=criterion(y_pred,y)\n",
    "    if t%100==0:\n",
    "        print(t,loss.item())\n",
    "    # 변화도를 0으로 만들고 역전파 단계를 수행하고 가중치를 갱신한다.\n",
    "    optimizer.zero_grad()\n",
    "    loss.backward()\n",
    "    optimizer.step()\n",
    "\n",
    "    "
   ]
  },
  {
   "source": [
    "### MNiST 데이터 준비 \n"
   ],
   "cell_type": "markdown",
   "metadata": {
    "tags": [
     "outputPrepend"
    ]
   }
  },
  {
   "cell_type": "code",
   "execution_count": null,
   "metadata": {},
   "outputs": [],
   "source": [
    "from pathlib import Path\n",
    "import requests\n",
    "\n",
    "Data_path=Path('data')\n",
    "PATH=Data_path/'mnist'\n",
    "PATH.mkdir(parents=True,exist_ok=True)\n",
    "\n",
    "URL='https://deeplearning.net/data/mnist/'\n",
    "FileName='mnist.pkl.gz'\n",
    "\n",
    "if not(PATH/FileName).exists():\n",
    "    content=requests.get(URL+FileName).content\n",
    "    (PATH/FileName).open('wb').write(content)\n"
   ]
  },
  {
   "cell_type": "code",
   "execution_count": 114,
   "metadata": {},
   "outputs": [
    {
     "output_type": "error",
     "ename": "AttributeError",
     "evalue": "'tuple' object has no attribute 'shape'",
     "traceback": [
      "\u001b[1;31m---------------------------------------------------------------------------\u001b[0m",
      "\u001b[1;31mAttributeError\u001b[0m                            Traceback (most recent call last)",
      "\u001b[1;32m<ipython-input-114-b950fe2c1675>\u001b[0m in \u001b[0;36m<module>\u001b[1;34m\u001b[0m\n\u001b[0;32m      3\u001b[0m \u001b[0mimage_train\u001b[0m\u001b[1;33m,\u001b[0m\u001b[0mlabel_train\u001b[0m\u001b[1;33m=\u001b[0m\u001b[0mdata_train\u001b[0m\u001b[1;33m\u001b[0m\u001b[1;33m\u001b[0m\u001b[0m\n\u001b[0;32m      4\u001b[0m \u001b[0mimage_test\u001b[0m\u001b[1;33m,\u001b[0m\u001b[0mlabel_test\u001b[0m\u001b[1;33m=\u001b[0m\u001b[0mdata_test\u001b[0m\u001b[1;33m\u001b[0m\u001b[1;33m\u001b[0m\u001b[0m\n\u001b[1;32m----> 5\u001b[1;33m \u001b[0mdata_train\u001b[0m\u001b[1;33m.\u001b[0m\u001b[0mshape\u001b[0m\u001b[1;33m(\u001b[0m\u001b[1;33m)\u001b[0m\u001b[1;33m\u001b[0m\u001b[1;33m\u001b[0m\u001b[0m\n\u001b[0m",
      "\u001b[1;31mAttributeError\u001b[0m: 'tuple' object has no attribute 'shape'"
     ]
    }
   ],
   "source": [
    "import tensorflow as tf\n",
    "data_train,data_test=tf.keras.datasets.mnist.load_data()\n",
    "image_train,label_train=data_train\n",
    "image_test,label_test=data_test"
   ]
  },
  {
   "cell_type": "code",
   "execution_count": 103,
   "metadata": {},
   "outputs": [
    {
     "output_type": "stream",
     "name": "stdout",
     "text": [
      "torch.Size([60000, 28, 28])\n"
     ]
    },
    {
     "output_type": "display_data",
     "data": {
      "text/plain": "<Figure size 432x288 with 1 Axes>",
      "image/svg+xml": "<?xml version=\"1.0\" encoding=\"utf-8\" standalone=\"no\"?>\r\n<!DOCTYPE svg PUBLIC \"-//W3C//DTD SVG 1.1//EN\"\r\n  \"http://www.w3.org/Graphics/SVG/1.1/DTD/svg11.dtd\">\r\n<!-- Created with matplotlib (https://matplotlib.org/) -->\r\n<svg height=\"248.518125pt\" version=\"1.1\" viewBox=\"0 0 251.565 248.518125\" width=\"251.565pt\" xmlns=\"http://www.w3.org/2000/svg\" xmlns:xlink=\"http://www.w3.org/1999/xlink\">\r\n <metadata>\r\n  <rdf:RDF xmlns:cc=\"http://creativecommons.org/ns#\" xmlns:dc=\"http://purl.org/dc/elements/1.1/\" xmlns:rdf=\"http://www.w3.org/1999/02/22-rdf-syntax-ns#\">\r\n   <cc:Work>\r\n    <dc:type rdf:resource=\"http://purl.org/dc/dcmitype/StillImage\"/>\r\n    <dc:date>2021-02-12T16:09:14.109390</dc:date>\r\n    <dc:format>image/svg+xml</dc:format>\r\n    <dc:creator>\r\n     <cc:Agent>\r\n      <dc:title>Matplotlib v3.3.2, https://matplotlib.org/</dc:title>\r\n     </cc:Agent>\r\n    </dc:creator>\r\n   </cc:Work>\r\n  </rdf:RDF>\r\n </metadata>\r\n <defs>\r\n  <style type=\"text/css\">*{stroke-linecap:butt;stroke-linejoin:round;}</style>\r\n </defs>\r\n <g id=\"figure_1\">\r\n  <g id=\"patch_1\">\r\n   <path d=\"M 0 248.518125 \r\nL 251.565 248.518125 \r\nL 251.565 0 \r\nL 0 0 \r\nz\r\n\" style=\"fill:none;\"/>\r\n  </g>\r\n  <g id=\"axes_1\">\r\n   <g id=\"patch_2\">\r\n    <path d=\"M 26.925 224.64 \r\nL 244.365 224.64 \r\nL 244.365 7.2 \r\nL 26.925 7.2 \r\nz\r\n\" style=\"fill:#ffffff;\"/>\r\n   </g>\r\n   <g clip-path=\"url(#p89f272c68d)\">\r\n    <image height=\"218\" id=\"imagecefa06d8bd\" transform=\"scale(1 -1)translate(0 -218)\" width=\"218\" x=\"26.925\" xlink:href=\"data:image/png;base64,\r\niVBORw0KGgoAAAANSUhEUgAAANoAAADaCAYAAADAHVzbAAAFXElEQVR4nO3dvY9MfRzG4TMiXgoSlQQlsomEQhTUJJRqCpGNFZVCovJviGQTBR2Nhk6CxgqFl4SlINmVyDaCgkZ2nvpJnvMds2buM7PPdbV3jv01H79kT2a21zRNvwHGakPXB4D/A6FBgNAgQGgQIDQIEBoECA0ChAYBQoMAoUGA0CBAaBAgNAgQGgQIDQKEBgFCgwChQYDQIEBoECA0CBAaBGzs+gBMlnPnzpX7zZs3y31+fr7c5+bmhj3SuuBGgwChQYDQIEBoECA0CBAaBAgNArxH419OnTpV7r1eL3SS9cWNBgFCgwChQYDQIEBoECA0CBAaBHiPxlD6/X7XR5hKbjQIEBoECA0ChAYBQoMAoUGA0CDAezRG6unTp10fYSK50SBAaBAgNAgQGgQIDQKEBgFCgwDv0RjKoO91XF1dDZ1kurjRIEBoECA0CBAaBAgNAoQGAX69z1AGfd3chw8fQieZLm40CBAaBAgNAoQGAUKDAKFBgNAgQGgQIDQIEBoECA0ChAYBQoMAoUGA0CDA59EYqdOnT5f7wsJC6CSTxY0GAUKDAKFBgNAgQGgQIDQIEBoE9Jqmqb+ob4yuXr1a7seOHQudZHj37t0r93fv3rVuk/wu6cKFC+V+48aNcv/48WO57927d+gzrQduNAgQGgQIDQKEBgFCgwChQcBYf71//fr1cp+bmyv3b9++lfvS0tKwR/pjBw8eLPder1fuv3//bt1+/vxZPvv27dtyf/bsWbm/ePGi3B8/fty6rayslM9+/vy53Hfs2FHumzZtKvf1yo0GAUKDAKFBgNAgQGgQIDQIEBoEjPXr5rZu3Vrug95FXbx4sdzv3r079Jn+1KFDh8p90NmPHz/euu3Zs6d8dtC7pvPnz5f77Oxsuf/69at1G/SObsuWLeW+YUP9f/fMzEzrtri4WD47zdxoECA0CBAaBAgNAoQGAUKDAKFBwET/2aavX7929rNfvXr1V8+/fPlyNAf5D5cuXSr37du3l/vJkydbt7Nnz5bPbt68udwHvUc7fPhw6+Y9GvBXhAYBQoMAoUGA0CBAaBAgNAiY6PdoR44cKfeHDx+GTjJdfvz4Ue537txZ09Y0TXP79u1yP3PmTLlfu3atdbt//3757KDv+ZxkbjQIEBoECA0ChAYBQoMAoUGA0CBgrO/R3r9//1fPHzhwYEQnYVSuXLlS7tX3WTZN0+zfv79127ZtW/ms92hASWgQIDQIEBoECA0ChAYBY/31/oMHD8q9+sgEk2llZaXcP336VO47d+5s3Xbv3l0+u7y8XO6TzI0GAUKDAKFBgNAgQGgQIDQIEBoEjPU92uvXr8t90DsZps/379/X/OyJEyfKfWFhYc3/dtfcaBAgNAgQGgQIDQKEBgFCgwChQUCnf7ZpdXW1yx/PGMzOzpZ79Zmyffv2jfo4E8ONBgFCgwChQYDQIEBoECA0CBAaBHT6Hu3WrVvlvp7fq6xXX758Kff5+fnW7ejRo+WzMzMz5b64uFjuXXKjQYDQIEBoECA0CBAaBAgNAoQGAZ2+R3v06FG5v3nzJnMQRmbQZwyrv5+2a9eu8tl+v7+mM00CNxoECA0ChAYBQoMAoUGA0CCg01/vP3nypMsfTweeP3/eul2+fDl3kDA3GgQIDQKEBgFCgwChQYDQIEBoENBrmmZ6P3sAU8KNBgFCgwChQYDQIEBoECA0CBAaBAgNAoQGAUKDAKFBgNAgQGgQIDQIEBoECA0ChAYBQoMAoUGA0CBAaBAgNAgQGgQIDQKEBgFCgwChQYDQIEBoECA0CBAaBAgNAoQGAUKDAKFBgNAgQGgQIDQI+AduEMEuWRku7QAAAABJRU5ErkJggg==\" y=\"-6.64\"/>\r\n   </g>\r\n   <g id=\"matplotlib.axis_1\">\r\n    <g id=\"xtick_1\">\r\n     <g id=\"line2d_1\">\r\n      <defs>\r\n       <path d=\"M 0 0 \r\nL 0 3.5 \r\n\" id=\"mc05a9ef0ea\" style=\"stroke:#000000;stroke-width:0.8;\"/>\r\n      </defs>\r\n      <g>\r\n       <use style=\"stroke:#000000;stroke-width:0.8;\" x=\"30.807857\" xlink:href=\"#mc05a9ef0ea\" y=\"224.64\"/>\r\n      </g>\r\n     </g>\r\n     <g id=\"text_1\">\r\n      <!-- 0 -->\r\n      <g transform=\"translate(27.626607 239.238437)scale(0.1 -0.1)\">\r\n       <defs>\r\n        <path d=\"M 31.78125 66.40625 \r\nQ 24.171875 66.40625 20.328125 58.90625 \r\nQ 16.5 51.421875 16.5 36.375 \r\nQ 16.5 21.390625 20.328125 13.890625 \r\nQ 24.171875 6.390625 31.78125 6.390625 \r\nQ 39.453125 6.390625 43.28125 13.890625 \r\nQ 47.125 21.390625 47.125 36.375 \r\nQ 47.125 51.421875 43.28125 58.90625 \r\nQ 39.453125 66.40625 31.78125 66.40625 \r\nz\r\nM 31.78125 74.21875 \r\nQ 44.046875 74.21875 50.515625 64.515625 \r\nQ 56.984375 54.828125 56.984375 36.375 \r\nQ 56.984375 17.96875 50.515625 8.265625 \r\nQ 44.046875 -1.421875 31.78125 -1.421875 \r\nQ 19.53125 -1.421875 13.0625 8.265625 \r\nQ 6.59375 17.96875 6.59375 36.375 \r\nQ 6.59375 54.828125 13.0625 64.515625 \r\nQ 19.53125 74.21875 31.78125 74.21875 \r\nz\r\n\" id=\"DejaVuSans-48\"/>\r\n       </defs>\r\n       <use xlink:href=\"#DejaVuSans-48\"/>\r\n      </g>\r\n     </g>\r\n    </g>\r\n    <g id=\"xtick_2\">\r\n     <g id=\"line2d_2\">\r\n      <g>\r\n       <use style=\"stroke:#000000;stroke-width:0.8;\" x=\"69.636429\" xlink:href=\"#mc05a9ef0ea\" y=\"224.64\"/>\r\n      </g>\r\n     </g>\r\n     <g id=\"text_2\">\r\n      <!-- 5 -->\r\n      <g transform=\"translate(66.455179 239.238437)scale(0.1 -0.1)\">\r\n       <defs>\r\n        <path d=\"M 10.796875 72.90625 \r\nL 49.515625 72.90625 \r\nL 49.515625 64.59375 \r\nL 19.828125 64.59375 \r\nL 19.828125 46.734375 \r\nQ 21.96875 47.46875 24.109375 47.828125 \r\nQ 26.265625 48.1875 28.421875 48.1875 \r\nQ 40.625 48.1875 47.75 41.5 \r\nQ 54.890625 34.8125 54.890625 23.390625 \r\nQ 54.890625 11.625 47.5625 5.09375 \r\nQ 40.234375 -1.421875 26.90625 -1.421875 \r\nQ 22.3125 -1.421875 17.546875 -0.640625 \r\nQ 12.796875 0.140625 7.71875 1.703125 \r\nL 7.71875 11.625 \r\nQ 12.109375 9.234375 16.796875 8.0625 \r\nQ 21.484375 6.890625 26.703125 6.890625 \r\nQ 35.15625 6.890625 40.078125 11.328125 \r\nQ 45.015625 15.765625 45.015625 23.390625 \r\nQ 45.015625 31 40.078125 35.4375 \r\nQ 35.15625 39.890625 26.703125 39.890625 \r\nQ 22.75 39.890625 18.8125 39.015625 \r\nQ 14.890625 38.140625 10.796875 36.28125 \r\nz\r\n\" id=\"DejaVuSans-53\"/>\r\n       </defs>\r\n       <use xlink:href=\"#DejaVuSans-53\"/>\r\n      </g>\r\n     </g>\r\n    </g>\r\n    <g id=\"xtick_3\">\r\n     <g id=\"line2d_3\">\r\n      <g>\r\n       <use style=\"stroke:#000000;stroke-width:0.8;\" x=\"108.465\" xlink:href=\"#mc05a9ef0ea\" y=\"224.64\"/>\r\n      </g>\r\n     </g>\r\n     <g id=\"text_3\">\r\n      <!-- 10 -->\r\n      <g transform=\"translate(102.1025 239.238437)scale(0.1 -0.1)\">\r\n       <defs>\r\n        <path d=\"M 12.40625 8.296875 \r\nL 28.515625 8.296875 \r\nL 28.515625 63.921875 \r\nL 10.984375 60.40625 \r\nL 10.984375 69.390625 \r\nL 28.421875 72.90625 \r\nL 38.28125 72.90625 \r\nL 38.28125 8.296875 \r\nL 54.390625 8.296875 \r\nL 54.390625 0 \r\nL 12.40625 0 \r\nz\r\n\" id=\"DejaVuSans-49\"/>\r\n       </defs>\r\n       <use xlink:href=\"#DejaVuSans-49\"/>\r\n       <use x=\"63.623047\" xlink:href=\"#DejaVuSans-48\"/>\r\n      </g>\r\n     </g>\r\n    </g>\r\n    <g id=\"xtick_4\">\r\n     <g id=\"line2d_4\">\r\n      <g>\r\n       <use style=\"stroke:#000000;stroke-width:0.8;\" x=\"147.293571\" xlink:href=\"#mc05a9ef0ea\" y=\"224.64\"/>\r\n      </g>\r\n     </g>\r\n     <g id=\"text_4\">\r\n      <!-- 15 -->\r\n      <g transform=\"translate(140.931071 239.238437)scale(0.1 -0.1)\">\r\n       <use xlink:href=\"#DejaVuSans-49\"/>\r\n       <use x=\"63.623047\" xlink:href=\"#DejaVuSans-53\"/>\r\n      </g>\r\n     </g>\r\n    </g>\r\n    <g id=\"xtick_5\">\r\n     <g id=\"line2d_5\">\r\n      <g>\r\n       <use style=\"stroke:#000000;stroke-width:0.8;\" x=\"186.122143\" xlink:href=\"#mc05a9ef0ea\" y=\"224.64\"/>\r\n      </g>\r\n     </g>\r\n     <g id=\"text_5\">\r\n      <!-- 20 -->\r\n      <g transform=\"translate(179.759643 239.238437)scale(0.1 -0.1)\">\r\n       <defs>\r\n        <path d=\"M 19.1875 8.296875 \r\nL 53.609375 8.296875 \r\nL 53.609375 0 \r\nL 7.328125 0 \r\nL 7.328125 8.296875 \r\nQ 12.9375 14.109375 22.625 23.890625 \r\nQ 32.328125 33.6875 34.8125 36.53125 \r\nQ 39.546875 41.84375 41.421875 45.53125 \r\nQ 43.3125 49.21875 43.3125 52.78125 \r\nQ 43.3125 58.59375 39.234375 62.25 \r\nQ 35.15625 65.921875 28.609375 65.921875 \r\nQ 23.96875 65.921875 18.8125 64.3125 \r\nQ 13.671875 62.703125 7.8125 59.421875 \r\nL 7.8125 69.390625 \r\nQ 13.765625 71.78125 18.9375 73 \r\nQ 24.125 74.21875 28.421875 74.21875 \r\nQ 39.75 74.21875 46.484375 68.546875 \r\nQ 53.21875 62.890625 53.21875 53.421875 \r\nQ 53.21875 48.921875 51.53125 44.890625 \r\nQ 49.859375 40.875 45.40625 35.40625 \r\nQ 44.1875 33.984375 37.640625 27.21875 \r\nQ 31.109375 20.453125 19.1875 8.296875 \r\nz\r\n\" id=\"DejaVuSans-50\"/>\r\n       </defs>\r\n       <use xlink:href=\"#DejaVuSans-50\"/>\r\n       <use x=\"63.623047\" xlink:href=\"#DejaVuSans-48\"/>\r\n      </g>\r\n     </g>\r\n    </g>\r\n    <g id=\"xtick_6\">\r\n     <g id=\"line2d_6\">\r\n      <g>\r\n       <use style=\"stroke:#000000;stroke-width:0.8;\" x=\"224.950714\" xlink:href=\"#mc05a9ef0ea\" y=\"224.64\"/>\r\n      </g>\r\n     </g>\r\n     <g id=\"text_6\">\r\n      <!-- 25 -->\r\n      <g transform=\"translate(218.588214 239.238437)scale(0.1 -0.1)\">\r\n       <use xlink:href=\"#DejaVuSans-50\"/>\r\n       <use x=\"63.623047\" xlink:href=\"#DejaVuSans-53\"/>\r\n      </g>\r\n     </g>\r\n    </g>\r\n   </g>\r\n   <g id=\"matplotlib.axis_2\">\r\n    <g id=\"ytick_1\">\r\n     <g id=\"line2d_7\">\r\n      <defs>\r\n       <path d=\"M 0 0 \r\nL -3.5 0 \r\n\" id=\"mf9c49ac1f4\" style=\"stroke:#000000;stroke-width:0.8;\"/>\r\n      </defs>\r\n      <g>\r\n       <use style=\"stroke:#000000;stroke-width:0.8;\" x=\"26.925\" xlink:href=\"#mf9c49ac1f4\" y=\"11.082857\"/>\r\n      </g>\r\n     </g>\r\n     <g id=\"text_7\">\r\n      <!-- 0 -->\r\n      <g transform=\"translate(13.5625 14.882076)scale(0.1 -0.1)\">\r\n       <use xlink:href=\"#DejaVuSans-48\"/>\r\n      </g>\r\n     </g>\r\n    </g>\r\n    <g id=\"ytick_2\">\r\n     <g id=\"line2d_8\">\r\n      <g>\r\n       <use style=\"stroke:#000000;stroke-width:0.8;\" x=\"26.925\" xlink:href=\"#mf9c49ac1f4\" y=\"49.911429\"/>\r\n      </g>\r\n     </g>\r\n     <g id=\"text_8\">\r\n      <!-- 5 -->\r\n      <g transform=\"translate(13.5625 53.710647)scale(0.1 -0.1)\">\r\n       <use xlink:href=\"#DejaVuSans-53\"/>\r\n      </g>\r\n     </g>\r\n    </g>\r\n    <g id=\"ytick_3\">\r\n     <g id=\"line2d_9\">\r\n      <g>\r\n       <use style=\"stroke:#000000;stroke-width:0.8;\" x=\"26.925\" xlink:href=\"#mf9c49ac1f4\" y=\"88.74\"/>\r\n      </g>\r\n     </g>\r\n     <g id=\"text_9\">\r\n      <!-- 10 -->\r\n      <g transform=\"translate(7.2 92.539219)scale(0.1 -0.1)\">\r\n       <use xlink:href=\"#DejaVuSans-49\"/>\r\n       <use x=\"63.623047\" xlink:href=\"#DejaVuSans-48\"/>\r\n      </g>\r\n     </g>\r\n    </g>\r\n    <g id=\"ytick_4\">\r\n     <g id=\"line2d_10\">\r\n      <g>\r\n       <use style=\"stroke:#000000;stroke-width:0.8;\" x=\"26.925\" xlink:href=\"#mf9c49ac1f4\" y=\"127.568571\"/>\r\n      </g>\r\n     </g>\r\n     <g id=\"text_10\">\r\n      <!-- 15 -->\r\n      <g transform=\"translate(7.2 131.36779)scale(0.1 -0.1)\">\r\n       <use xlink:href=\"#DejaVuSans-49\"/>\r\n       <use x=\"63.623047\" xlink:href=\"#DejaVuSans-53\"/>\r\n      </g>\r\n     </g>\r\n    </g>\r\n    <g id=\"ytick_5\">\r\n     <g id=\"line2d_11\">\r\n      <g>\r\n       <use style=\"stroke:#000000;stroke-width:0.8;\" x=\"26.925\" xlink:href=\"#mf9c49ac1f4\" y=\"166.397143\"/>\r\n      </g>\r\n     </g>\r\n     <g id=\"text_11\">\r\n      <!-- 20 -->\r\n      <g transform=\"translate(7.2 170.196362)scale(0.1 -0.1)\">\r\n       <use xlink:href=\"#DejaVuSans-50\"/>\r\n       <use x=\"63.623047\" xlink:href=\"#DejaVuSans-48\"/>\r\n      </g>\r\n     </g>\r\n    </g>\r\n    <g id=\"ytick_6\">\r\n     <g id=\"line2d_12\">\r\n      <g>\r\n       <use style=\"stroke:#000000;stroke-width:0.8;\" x=\"26.925\" xlink:href=\"#mf9c49ac1f4\" y=\"205.225714\"/>\r\n      </g>\r\n     </g>\r\n     <g id=\"text_12\">\r\n      <!-- 25 -->\r\n      <g transform=\"translate(7.2 209.024933)scale(0.1 -0.1)\">\r\n       <use xlink:href=\"#DejaVuSans-50\"/>\r\n       <use x=\"63.623047\" xlink:href=\"#DejaVuSans-53\"/>\r\n      </g>\r\n     </g>\r\n    </g>\r\n   </g>\r\n   <g id=\"patch_3\">\r\n    <path d=\"M 26.925 224.64 \r\nL 26.925 7.2 \r\n\" style=\"fill:none;stroke:#000000;stroke-linecap:square;stroke-linejoin:miter;stroke-width:0.8;\"/>\r\n   </g>\r\n   <g id=\"patch_4\">\r\n    <path d=\"M 244.365 224.64 \r\nL 244.365 7.2 \r\n\" style=\"fill:none;stroke:#000000;stroke-linecap:square;stroke-linejoin:miter;stroke-width:0.8;\"/>\r\n   </g>\r\n   <g id=\"patch_5\">\r\n    <path d=\"M 26.925 224.64 \r\nL 244.365 224.64 \r\n\" style=\"fill:none;stroke:#000000;stroke-linecap:square;stroke-linejoin:miter;stroke-width:0.8;\"/>\r\n   </g>\r\n   <g id=\"patch_6\">\r\n    <path d=\"M 26.925 7.2 \r\nL 244.365 7.2 \r\n\" style=\"fill:none;stroke:#000000;stroke-linecap:square;stroke-linejoin:miter;stroke-width:0.8;\"/>\r\n   </g>\r\n  </g>\r\n </g>\r\n <defs>\r\n  <clipPath id=\"p89f272c68d\">\r\n   <rect height=\"217.44\" width=\"217.44\" x=\"26.925\" y=\"7.2\"/>\r\n  </clipPath>\r\n </defs>\r\n</svg>\r\n",
      "image/png": "[encoded data removed]"
     },
     "metadata": {
      "needs_background": "light"
     }
    }
   ],
   "source": [
    "from matplotlib import pyplot as plt\n",
    "import numpy as np\n",
    "\n",
    "plt.imshow(image_train[2].reshape((28,28)),cmap='gray')\n",
    "print(x_train.shape)"
   ]
  },
  {
   "cell_type": "code",
   "execution_count": 108,
   "metadata": {},
   "outputs": [
    {
     "output_type": "stream",
     "name": "stdout",
     "text": [
      "torch.Size([60000, 28, 28])\ntensor([[[0, 0, 0,  ..., 0, 0, 0],\n         [0, 0, 0,  ..., 0, 0, 0],\n         [0, 0, 0,  ..., 0, 0, 0],\n         ...,\n         [0, 0, 0,  ..., 0, 0, 0],\n         [0, 0, 0,  ..., 0, 0, 0],\n         [0, 0, 0,  ..., 0, 0, 0]],\n\n        [[0, 0, 0,  ..., 0, 0, 0],\n         [0, 0, 0,  ..., 0, 0, 0],\n         [0, 0, 0,  ..., 0, 0, 0],\n         ...,\n         [0, 0, 0,  ..., 0, 0, 0],\n         [0, 0, 0,  ..., 0, 0, 0],\n         [0, 0, 0,  ..., 0, 0, 0]],\n\n        [[0, 0, 0,  ..., 0, 0, 0],\n         [0, 0, 0,  ..., 0, 0, 0],\n         [0, 0, 0,  ..., 0, 0, 0],\n         ...,\n         [0, 0, 0,  ..., 0, 0, 0],\n         [0, 0, 0,  ..., 0, 0, 0],\n         [0, 0, 0,  ..., 0, 0, 0]],\n\n        ...,\n\n        [[0, 0, 0,  ..., 0, 0, 0],\n         [0, 0, 0,  ..., 0, 0, 0],\n         [0, 0, 0,  ..., 0, 0, 0],\n         ...,\n         [0, 0, 0,  ..., 0, 0, 0],\n         [0, 0, 0,  ..., 0, 0, 0],\n         [0, 0, 0,  ..., 0, 0, 0]],\n\n        [[0, 0, 0,  ..., 0, 0, 0],\n         [0, 0, 0,  ..., 0, 0, 0],\n         [0, 0, 0,  ..., 0, 0, 0],\n         ...,\n         [0, 0, 0,  ..., 0, 0, 0],\n         [0, 0, 0,  ..., 0, 0, 0],\n         [0, 0, 0,  ..., 0, 0, 0]],\n\n        [[0, 0, 0,  ..., 0, 0, 0],\n         [0, 0, 0,  ..., 0, 0, 0],\n         [0, 0, 0,  ..., 0, 0, 0],\n         ...,\n         [0, 0, 0,  ..., 0, 0, 0],\n         [0, 0, 0,  ..., 0, 0, 0],\n         [0, 0, 0,  ..., 0, 0, 0]]], dtype=torch.uint8) tensor([5, 0, 4,  ..., 5, 6, 8], dtype=torch.uint8)\ntorch.Size([60000, 784])\ntensor(0, dtype=torch.uint8) tensor(9, dtype=torch.uint8)\n"
     ]
    }
   ],
   "source": [
    "import torch\n",
    "x_train,y_train=data_train\n",
    "x_vaild,y_vaild=data_test\n",
    "x_train,y_train,x_vaild,y_vaild=map(torch.tensor,(x_train,y_train,x_vaild,y_vaild))\n",
    "print( x_train.shape)\n",
    "x_train,x_train.shape,y_train.min(),y_train.max()\n",
    "print(x_train,y_train)\n",
    "print(x_train.reshape(-1,28*28).shape)\n",
    "print(y_train.min(),y_train.max())"
   ]
  },
  {
   "cell_type": "code",
   "execution_count": 106,
   "metadata": {},
   "outputs": [
    {
     "output_type": "execute_result",
     "data": {
      "text/plain": [
       "tensor([[-0.0341, -0.0085, -0.0288,  ...,  0.0053, -0.0223,  0.0477],\n",
       "        [ 0.0039, -0.0407, -0.0295,  ...,  0.0187, -0.0147,  0.0085],\n",
       "        [-0.0205,  0.0411,  0.0428,  ..., -0.0182, -0.0453, -0.0073],\n",
       "        ...,\n",
       "        [ 0.0024,  0.0421,  0.0479,  ...,  0.0418,  0.0133,  0.0039],\n",
       "        [ 0.0180,  0.0161, -0.0036,  ..., -0.0738,  0.0323, -0.0253],\n",
       "        [-0.0151,  0.0097,  0.0279,  ..., -0.0350, -0.0083,  0.0206]],\n",
       "       requires_grad=True)"
      ]
     },
     "metadata": {},
     "execution_count": 106
    }
   ],
   "source": [
    "import math\n",
    "w1= torch.randn(784,10)/math.sqrt(784)\n",
    "w1.requires_grad_()\n",
    "bias=torch.zeros(10,requires_grad=True)\n",
    "w1"
   ]
  },
  {
   "cell_type": "code",
   "execution_count": 122,
   "metadata": {},
   "outputs": [],
   "source": [
    "def log_softmax(x):\n",
    "    return x-x.exp().sum(-1).log().unsqueeze(-1)\n",
    "\n",
    "def model(xb):\n",
    "    return log_softmax(xb.mm(w1)+bias)"
   ]
  },
  {
   "cell_type": "code",
   "execution_count": 123,
   "metadata": {},
   "outputs": [
    {
     "output_type": "stream",
     "name": "stdout",
     "text": [
      "torch.Size([64, 784])\n"
     ]
    },
    {
     "output_type": "error",
     "ename": "RuntimeError",
     "evalue": "Expected object of scalar type Byte but got scalar type Float for argument #2 'mat2' in call to _th_mm",
     "traceback": [
      "\u001b[1;31m---------------------------------------------------------------------------\u001b[0m",
      "\u001b[1;31mRuntimeError\u001b[0m                              Traceback (most recent call last)",
      "\u001b[1;32m<ipython-input-123-d12f090b6e7e>\u001b[0m in \u001b[0;36m<module>\u001b[1;34m\u001b[0m\n\u001b[0;32m      2\u001b[0m \u001b[0mxb\u001b[0m\u001b[1;33m=\u001b[0m\u001b[0mx_train\u001b[0m\u001b[1;33m.\u001b[0m\u001b[0mreshape\u001b[0m\u001b[1;33m(\u001b[0m\u001b[1;33m-\u001b[0m\u001b[1;36m1\u001b[0m\u001b[1;33m,\u001b[0m\u001b[1;33m(\u001b[0m\u001b[1;36m28\u001b[0m\u001b[1;33m*\u001b[0m\u001b[1;36m28\u001b[0m\u001b[1;33m)\u001b[0m\u001b[1;33m)\u001b[0m\u001b[1;33m[\u001b[0m\u001b[1;36m0\u001b[0m\u001b[1;33m:\u001b[0m\u001b[0mbs\u001b[0m\u001b[1;33m]\u001b[0m\u001b[1;33m\u001b[0m\u001b[1;33m\u001b[0m\u001b[0m\n\u001b[0;32m      3\u001b[0m \u001b[0mprint\u001b[0m\u001b[1;33m(\u001b[0m\u001b[0mxb\u001b[0m\u001b[1;33m.\u001b[0m\u001b[0mshape\u001b[0m\u001b[1;33m)\u001b[0m\u001b[1;33m\u001b[0m\u001b[1;33m\u001b[0m\u001b[0m\n\u001b[1;32m----> 4\u001b[1;33m \u001b[0mpreds\u001b[0m\u001b[1;33m=\u001b[0m\u001b[0mmodel\u001b[0m\u001b[1;33m(\u001b[0m\u001b[0mxb\u001b[0m\u001b[1;33m)\u001b[0m\u001b[1;33m\u001b[0m\u001b[1;33m\u001b[0m\u001b[0m\n\u001b[0m\u001b[0;32m      5\u001b[0m \u001b[1;33m\u001b[0m\u001b[0m\n\u001b[0;32m      6\u001b[0m \u001b[0mpreds\u001b[0m\u001b[1;33m.\u001b[0m\u001b[0mshape\u001b[0m\u001b[1;33m\u001b[0m\u001b[1;33m\u001b[0m\u001b[0m\n",
      "\u001b[1;32m<ipython-input-122-96a88a43ea18>\u001b[0m in \u001b[0;36mmodel\u001b[1;34m(xb)\u001b[0m\n\u001b[0;32m      3\u001b[0m \u001b[1;33m\u001b[0m\u001b[0m\n\u001b[0;32m      4\u001b[0m \u001b[1;32mdef\u001b[0m \u001b[0mmodel\u001b[0m\u001b[1;33m(\u001b[0m\u001b[0mxb\u001b[0m\u001b[1;33m)\u001b[0m\u001b[1;33m:\u001b[0m\u001b[1;33m\u001b[0m\u001b[1;33m\u001b[0m\u001b[0m\n\u001b[1;32m----> 5\u001b[1;33m     \u001b[1;32mreturn\u001b[0m \u001b[0mlog_softmax\u001b[0m\u001b[1;33m(\u001b[0m\u001b[0mxb\u001b[0m\u001b[1;33m.\u001b[0m\u001b[0mmm\u001b[0m\u001b[1;33m(\u001b[0m\u001b[0mw1\u001b[0m\u001b[1;33m)\u001b[0m\u001b[1;33m+\u001b[0m\u001b[0mbias\u001b[0m\u001b[1;33m)\u001b[0m\u001b[1;33m\u001b[0m\u001b[1;33m\u001b[0m\u001b[0m\n\u001b[0m",
      "\u001b[1;31mRuntimeError\u001b[0m: Expected object of scalar type Byte but got scalar type Float for argument #2 'mat2' in call to _th_mm"
     ]
    }
   ],
   "source": [
    "bs=64\n",
    "xb=x_train.reshape(-1,(28*28))[0:bs]\n",
    "print(xb.shape)\n",
    "preds=model(xb)\n",
    "\n",
    "preds.shape"
   ]
  },
  {
   "source": [
    "###TensorBoard 로 모델 , 데이터 , 학습 시각화하기\n",
    "---\n",
    "\n",
    "1. 데이터를 읽고 적적히 변화합니다.\n",
    "2. TensorBoard를 set up 합니다.\n",
    "3. TensorBoard에 write 합니다\n",
    "4. TensorBoard를 사용하여 모델 구조를 살펴봅니다\n",
    "5. 약가의 코드를 추가하여 TensorBoard에서 이전 듀토리얼에서 만든 시각화의 대화식 버전을 만듭니다\n",
    "---\n",
    "- 학습데이터를 검사하는 몇가지 방법\n",
    "- 학습에 따른 모델의 성능을 추적하는 방법\n",
    "- 학습이 완료된 모델의 성능 평가하는 방법\n"
   ],
   "cell_type": "markdown",
   "metadata": {}
  },
  {
   "cell_type": "code",
   "execution_count": 124,
   "metadata": {},
   "outputs": [
    {
     "output_type": "stream",
     "name": "stderr",
     "text": [
      "0it [00:00, ?it/s]Downloading http://fashion-mnist.s3-website.eu-central-1.amazonaws.com/train-images-idx3-ubyte.gz to ./data\\FashionMNIST\\raw\\train-images-idx3-ubyte.gz\n",
      " 98%|█████████▊| 25952256/26421880 [00:18<00:00, 5343284.25it/s]Extracting ./data\\FashionMNIST\\raw\\train-images-idx3-ubyte.gz to ./data\\FashionMNIST\\raw\n",
      "\n",
      "0it [00:00, ?it/s]\u001b[ADownloading http://fashion-mnist.s3-website.eu-central-1.amazonaws.com/train-labels-idx1-ubyte.gz to ./data\\FashionMNIST\\raw\\train-labels-idx1-ubyte.gz\n",
      "\n",
      "  0%|          | 0/29515 [00:00<?, ?it/s]\u001b[A\n",
      " 56%|█████▌    | 16384/29515 [00:00<00:00, 58291.88it/s]\u001b[A\n",
      "\n",
      "0it [00:00, ?it/s]\u001b[A\u001b[AExtracting ./data\\FashionMNIST\\raw\\train-labels-idx1-ubyte.gz to ./data\\FashionMNIST\\raw\n",
      "Downloading http://fashion-mnist.s3-website.eu-central-1.amazonaws.com/t10k-images-idx3-ubyte.gz to ./data\\FashionMNIST\\raw\\t10k-images-idx3-ubyte.gz\n",
      "\n",
      "\n",
      "  0%|          | 0/4422102 [00:00<?, ?it/s]\u001b[A\u001b[A\n",
      "\n",
      "  0%|          | 16384/4422102 [00:00<01:16, 57274.73it/s]\u001b[A\u001b[A\n",
      "\n",
      "  1%|          | 40960/4422102 [00:01<01:08, 63620.77it/s]\u001b[A\u001b[A\n",
      "\n",
      "  2%|▏         | 98304/4422102 [00:01<00:54, 80037.93it/s]\u001b[A\u001b[A\n",
      "\n",
      "  5%|▍         | 204800/4422102 [00:01<00:40, 104626.59it/s]\u001b[A\u001b[A\n",
      "\n",
      " 10%|▉         | 425984/4422102 [00:02<00:28, 141260.26it/s]\u001b[A\u001b[A\n",
      "\n",
      " 16%|█▌        | 688128/4422102 [00:02<00:19, 189279.29it/s]\u001b[A\u001b[A\n",
      "\n",
      " 27%|██▋       | 1212416/4422102 [00:02<00:12, 258921.52it/s]\u001b[A\u001b[A\n",
      "\n",
      " 52%|█████▏    | 2310144/4422102 [00:02<00:05, 359518.76it/s]\u001b[A\u001b[A\n",
      "\n",
      "\n",
      "0it [00:00, ?it/s]\u001b[A\u001b[A\u001b[AExtracting ./data\\FashionMNIST\\raw\\t10k-images-idx3-ubyte.gz to ./data\\FashionMNIST\\raw\n",
      "Downloading http://fashion-mnist.s3-website.eu-central-1.amazonaws.com/t10k-labels-idx1-ubyte.gz to ./data\\FashionMNIST\\raw\\t10k-labels-idx1-ubyte.gz\n",
      "\n",
      "\n",
      "\n",
      "  0%|          | 0/5148 [00:00<?, ?it/s]\u001b[A\u001b[A\u001b[AExtracting ./data\\FashionMNIST\\raw\\t10k-labels-idx1-ubyte.gz to ./data\\FashionMNIST\\raw\n",
      "Processing...\n",
      "Done!\n",
      "26427392it [00:30, 5343284.25it/s]                              \n",
      "32768it [00:10, 58291.88it/s]                           \u001b[A\n",
      "\n",
      "4423680it [00:20, 359518.76it/s]                             \u001b[A\u001b[A"
     ]
    }
   ],
   "source": [
    "import matplotlib.pyplot as plt\n",
    "import numpy as np\n",
    "import torch \n",
    "import torchvision\n",
    "import torchvision.transforms as transforms\n",
    "import torch.nn as nn \n",
    "import torch.nn.functional as F \n",
    "import torch.optim as optim \n",
    "# transform \n",
    "transform =transforms.Compose([transforms.ToTensor(),transforms.Normalize((0.5,),(0.5,))])\n",
    "#datasets\n",
    "trainset=torchvision.datasets.FashionMNIST('./data',download=True,train=True,transform=transform)\n",
    "testset=torchvision.datasets.FashionMNIST('./data',download=True,train=False,transform=transform)\n",
    "#dataloaders\n",
    "trainloader=torch.utils.data.DataLoader(trainset,batch_size=4,shuffle=True,num_workers=2)\n",
    "testloader=torch.utils.data.DataLoader(testset,batch_size=4,shuffle=False,num_workers=2)\n",
    "\n",
    "#분류 결과를 위한 상수 \n",
    "classes=('T-shirt/top','Trouse','Pullover','Dress','Coat','Sandal','Shirt','Sneaker','Bag','Ankle Bot')\n",
    "#이미지를 보여주기 위한 헬퍼 함수\n",
    "def matplotlib_imshow(img,one_channel=False):\n",
    "    if one_channel:\n",
    "        img=img.mean(dim=0)\n",
    "    img=img/2+0.5\n",
    "    npimg=img.numpy()\n",
    "    if one_channel:\n",
    "        plt.imshow(npimg,cmap='Greys')\n",
    "    else:\n",
    "        plt.imshow(np.transpose(npimg,(1,2,0)))\n"
   ]
  },
  {
   "cell_type": "code",
   "execution_count": 131,
   "metadata": {},
   "outputs": [],
   "source": [
    "class Net(nn.Module):\n",
    "    def __init__(self):\n",
    "        super(Net,self).__init__()\n",
    "        self.conv1=nn.Conv2d(1,6,5)\n",
    "        self.pool=nn.MaxPool2d(2,2)\n",
    "        self.conv2=nn.Conv2d(6,16,5)\n",
    "        self.fc1=nn.Linear(16*4*4,120)\n",
    "        self.fc2=nn.Linear(120,84)\n",
    "        self.fc3=nn.Linear(84,10)\n",
    "\n",
    "    def forward(self,x):\n",
    "        x=self.pool(F.relu(self.conv1(x)))\n",
    "        x=self.pool(F.relu(self.conv2(x)))\n",
    "        x=x.view(-1,16*4*4)\n",
    "        x=F.relu(self.fc1(x))\n",
    "        x=F.relu(self.fc2(x))\n",
    "        x=self.fc3(x)\n",
    "        return x\n",
    "\n",
    "net=Net()\n",
    "criterion=nn.CrossEntropyLoss()\n",
    "optimizer=optim.Adam(net.parameters(),lr=0.001)"
   ]
  },
  {
   "cell_type": "code",
   "execution_count": 132,
   "metadata": {},
   "outputs": [
    {
     "output_type": "display_data",
     "data": {
      "text/plain": "<Figure size 432x288 with 1 Axes>",
      "image/svg+xml": "<?xml version=\"1.0\" encoding=\"utf-8\" standalone=\"no\"?>\r\n<!DOCTYPE svg PUBLIC \"-//W3C//DTD SVG 1.1//EN\"\r\n  \"http://www.w3.org/Graphics/SVG/1.1/DTD/svg11.dtd\">\r\n<!-- Created with matplotlib (https://matplotlib.org/) -->\r\n<svg height=\"121.321606pt\" version=\"1.1\" viewBox=\"0 0 374.352357 121.321606\" width=\"374.352357pt\" xmlns=\"http://www.w3.org/2000/svg\" xmlns:xlink=\"http://www.w3.org/1999/xlink\">\r\n <metadata>\r\n  <rdf:RDF xmlns:cc=\"http://creativecommons.org/ns#\" xmlns:dc=\"http://purl.org/dc/elements/1.1/\" xmlns:rdf=\"http://www.w3.org/1999/02/22-rdf-syntax-ns#\">\r\n   <cc:Work>\r\n    <dc:type rdf:resource=\"http://purl.org/dc/dcmitype/StillImage\"/>\r\n    <dc:date>2021-02-12T17:27:32.010824</dc:date>\r\n    <dc:format>image/svg+xml</dc:format>\r\n    <dc:creator>\r\n     <cc:Agent>\r\n      <dc:title>Matplotlib v3.3.2, https://matplotlib.org/</dc:title>\r\n     </cc:Agent>\r\n    </dc:creator>\r\n   </cc:Work>\r\n  </rdf:RDF>\r\n </metadata>\r\n <defs>\r\n  <style type=\"text/css\">*{stroke-linecap:butt;stroke-linejoin:round;}</style>\r\n </defs>\r\n <g id=\"figure_1\">\r\n  <g id=\"patch_1\">\r\n   <path d=\"M -0 121.321606 \r\nL 374.352357 121.321606 \r\nL 374.352357 0 \r\nL -0 0 \r\nz\r\n\" style=\"fill:none;\"/>\r\n  </g>\r\n  <g id=\"axes_1\">\r\n   <g id=\"patch_2\">\r\n    <path d=\"M 26.925 97.443481 \r\nL 361.725 97.443481 \r\nL 361.725 9.627088 \r\nL 26.925 9.627088 \r\nz\r\n\" style=\"fill:#ffffff;\"/>\r\n   </g>\r\n   <g clip-path=\"url(#p44a7f8a134)\">\r\n    <image height=\"88\" id=\"image3addd53b61\" transform=\"scale(1 -1)translate(0 -88)\" width=\"335\" x=\"26.925\" xlink:href=\"data:image/png;base64,\r\niVBORw0KGgoAAAANSUhEUgAAAU8AAABYCAYAAAB1aXVlAAA/PUlEQVR4nO19SW9kR3b1yXkemJxZA6tElUpqS1ajG92LbhtwA23Dv8D/rJf+BYZhr7wx4I0nGLLlhbqqWnKVSjVxJpM5z5nfgt8JnryMl5mciiU7L0CQzHxDvHgRJ+49d4jQ7373uxHmMpe5zGUuF5LwbTdgLnOZy1x+jDIHz7nMZS5zuYTMwXMuc5nLXC4hUftBKBRCJBJBJBK5jfb8aGUwGGAwGGA0OqOQw+EwotEoQqHQuWOHwyFGo5H7bc9j/0ciEYTDP741bjQaod/vjz3faDRyfcFxFo1G3f8AMBwO0e/3x/ojFAohGo3eSj9oO/Rv3zH6nvUz+/7t/zch2v963/ncvrj45jbgAc9oNIqtrS2sr6//KCftbUi/38fr16/x6tWrsQ5eWVnBRx99hFQqNXbs/v4+dnZ20Gg08PbtW9RqNQyHQwyHQ4RCIaytreH+/ftIpVK4c+cOCoXCe5lw1ym1Wg3ffvstjo6OUK1WcXR0hH6/j2g0img0ikwmg5/+9Ke4e/cuotEo4vE4wuEwjo6O8D//8z9oNpvuWul0Go8ePUKpVHqv/TAajdDr9RwI9ft9DAaDsWP0s1gshlgshuFwiHa7jW63i0QigXQ67cBfFwv7c53SarXw4sUL7O3tuc9CoRDu37+Pe/fuuXbMZbIMh0Nsb2/jxYsX6Pf7Y9+d68FIJIKNjQ189NFH8xVqRun1euh2u3jz5o1b6UOhEJaWlrC1tYV0Ou2O7ff7iMViaLVaaLfbODg4wPb2Nvr9PrrdLsLhMFKpFPL5PIrFIjY3N7G0tPSjA89KpYLt7W3s7u7i5OQEL1++RKPRQDqdRjKZxNLSEhYXF7G1tYVoNIpEIoFIJIJMJoM3b96MgWcymcTm5ibW1tbe6zMQPHu9HobDITqdzrkJxHcPAKlUColEAoPBAPV6Hc1mE+l0GgsLC25xsOAJnFoa1/1+m80mTk5OxsAzHA5jbW0NW1tbiMVi13q//63ChfGHH36YDp4AnGo/B8/ZhBqjFZ+ZRDOWmkmn00Gz2cRgMECv10MoFEK320Wz2UQmk3HX0HMp1oyYxcS8iugzBj1vOBx2tEOv10Or1UKn00G73Uar1XKg0e12x56H50QikXPX1u+uQ/S+tk9DoZD7n7QKf/h/kNao2mm/33d/8wc4m4z2PP5PIOXflxW+ByvzuX1xCXoPc939PctoNEKlUsHLly9RLpdxeHiIg4MDjEYjDAYDRCIR7Ozs4OnTp1haWsKDBw8AnE66ZrOJTqeD4XDoeFOdmMoxkqOxnKMCg3KQ2j7gDBx1AVAQC4fDiMViY8dFo1EUCgWkUin0ej28efMGL1++RKVSQblcRqfTcYtFLBbD9vY21tfXkclkEI/Hb9yU5DN3u110u130+31Uq1UH6jStlZPmecPh0GmgkUjEaco8djgcolKpoNPpYDAYoFKpoNlsIpfLYWlpCfF43Gue810Nh0Nks1kUi0UkEgkkEgmkUqkfncXxf0nm4PmeZTQaodVq4eDgAOVyGUdHR6hUKgDOtJHDw0Ok02mnrQGn2kmj0UC9Xke/33cgSrNReTZ+zknZ6/XGANUCKSeo1VbZnkQi4cAtlUohFoshHo8jmUw6TSkcDiOZTCKdTiOVSqHf7+P4+Bg7Ozuo1+uo1WqO8+z1eqhUKjg6OkK5XEYoFBpzbNxUv/N3r9dDvV5Hp9PB9vY2Dg8PEYvFkEqlnMbc7XYxGo2QSCQcqBMk4/E4MpnMOYuCZrJeP51Oo9VqIZVKeR2F/X4frVYLvV4Pq6urePToEdLpNIrFIpLJ5Bw8P2CZg+ctiM+cJ1BRm6FJ32g0nNm7vb2Nvb099z21qHa7jdFo5Dg5aqOc7D7Q9IFnUFsJnOFw2Glc8Xgc6XTamTThcBjZbBbpdBqRSAS1Wg29Xs9pqwQgPjOpC3K/N0EzqJBT5iLUbDYdTcLnoMmuC45q16p9629qq/Z9hsNhxONxZLNZt6DwutouWgChUAidTmdswSJPOjezPzyZg+ctCMGH3lkN2yEfeHJyglAohNevX2NlZQX7+/v4m7/5Gzx58mQMjFSj9HFrlgf1aXiTuDXLxZGTZNv1uvl8Hr/5zW/wxRdfuGgCHkfNi0JN7fXr1w58LiOWrwySZrOJ169fo91uo9PpjDnnlpeX0ev10G63HXA2Gg0HnolEwoEYf8fjcUQiEaeF02xnO/hei8Ui1tbWkE6n3WIInHGPvV4PqVQKjUYD0WgU5XIZkUgErVYLzWYT8XgcCwsLSKfTgRSLfV9zeT8yB8/3LApG6hxQYBoMBmi322i326hUKqhWqzg8PMTz58/x1VdfOe90OBwOdBL5QMVnlvvaN+szsL3kWpeWlvDw4UMH9v1+3wE9FwYF8Ha7jVqthlardSnN8yLndLtdHB8fO/qg3+8jkUggk8k4+oGaqWqedOYo36saJwGUXChFQTadTjvwo6YZjUYRi8UQjUadxUBKh31MTT+Xy12oT+YA+n5kDp63IKp5WnOMgEjTfGdnB99//z3evn2LVqvlJh01n0kyHA7HtErVOoPCYzR8xn6uHmoCCMGegHBwcIDf//73qFarKJfLqFar6Pf7gcHiV/Eqa5umAQa5zm63i1gshmQyOcblsv38HY1GMRgMxtpmFz32k0YIkIsGTt8zqZVIJDIW6qK0DakORlwQwBuNhoszvUifzOX9yBw8b0HorSV/aLVQTrharYYXL1447fPk5MQBZyaTcaY7J3jQxFENjYCqIVB6rr2WAoV6hn3gG4lEHNCTeuh0Os50j8Vi6PV6Y/e8aoD4rOcOh0MXNpXJZJDL5RydQPohHo+737FYbCzcR3lq228EWjrt1NFEbVLpFavJhsNhZDIZF4nQ6/XQ6XRQLpeRTCaxsbFxpWefy83IHDxvQZQ/0wnAiaqe2GaziXK5jGaziX6/P2YuchJP095sih6BIOj+epwFT72fhimFw2GnLZ2cnGA4HKLb7Trt7X0EZftoC227Osk0ptTSJ9McaJN+a4iTfuZL77MLFMcE3wMdbrpg+c7/UGQajXLTscezfH6dMgfP9ywErmQyOWZ6K6hR8+z3+3j37h1isZgLnCdwckJy4vkC6CeF/1hubJLGqaBOXlDjPOPxuMusqVarqFar5/L6tZ2M9yRXehVnEZ9ZIwy63S56vZ6jR8LhMDqdzhiI0xTW89hOm5ZpxQeytj6BPZaLix6vbaBmyjFArTgajaLZbLo+1UXP1j2wi9pVZRaOnMLEAOu45HXYpxyXNg5Zj7X9au9Py43jS8PlOJ98lNh1yxw8b0FisRjS6bQz2ynqMOJArNfraLfbznmgITXq0AAwNhh9mg5wNgCVz/MBpk+bHQwGDvRokioFwbCpSqXi8tcTicQYgJDXYxyqDUi/qOjEJGienJygVqshlUqhUCggHo+j0+k4vhgYB0/e39ImfA9BoprlpGewAMpFxCY38Ds62ehkqtfrY4suHVEcD3oPANcCGhoXq88aJHyvg8HA0SO6gHe7XbRaLXccF2FGPuh9g8CT4zOdTqNUKiGZTI4tkIyM0FCym5Q5eN6CWK3BOnI03IgpfwSrWc3zmxCrXflMewKibaeaxnq9i7bZZk8RtDg5GXTe6XQAnPKXTCpgO/RZgp7Jd9+g9kxqq72mvbYv5pbvWRdKOpLUQafOKktPqDZ9GVFnXJDQqUkQbDQajmoiz6vvh3wuF1meRx48KEJEFzYuIN1u12nmtODUAZjNZh24WiXlumQOnrcg1CoSiQQAeM0c1RyVm+PfHJh2UPgAyadNWs3SHqPfW62K92WIjzpXqK1pGBU1KV/uOp91Vul2uyiXy2i1Wm5CMvSIGlyz2XTazLt378Y0azrZbBv5vQIX+1GB2gJYEMAwwoAUB6kWe039TZDQcoTAWWouTf3hcIhkMol8Pj/Gk+q7azabqNVqM/frZeTk5ARfffUVdnd3sb+/j729vbHFy8Yg2+pUPhPfJ5Zr5/zhmGIfcHxFo1HkcjlXjesv//IvUSqVJl73MjIHz/cslvMEzoMTP7NFJGbl2fRe+tuCol7LdwwnvG0Xj2dID7kngjrjO/V6FjyVeriIyT4YDHB8fIzj42PU63UcHBycm3xsY7/fd+msCwsLWF9fd2a7pQtsH5N75vUsVUJw9bXdan8KiPq9gqb2K4CxJAhmR/X7fZycnKDVaiGTybiwK9+ixCD7m5RKpYJ/+qd/wqtXr/Dq1Su8fPnSaZZqNV1Ga58mOrbts0ciEVe96ze/+Q1+9atfecHzqjIHz1sQBRO76qlWqZNLv/d5xYEzk18ntgXIWYDTfmadKvxcPf5BgKCgoKBJuegEGo1O01BbrRbq9boDR/KZdGAx+Nz2r/ZNkOkOIPAY/Zlk2vq4Ot/3+tu+EwVsC8Ta7z5+exJoXYeQSqjVajg8PHSZU8AZNaIUySQJ6pug/1XUGtPxpkkI1+VAszIHz1uQaDTqimj4KglpsLROgqBSYjpIqS0SJKzXPEgb9f2tAftasYnfa9EM8l/M345Go2Pas42bvKjGqX1TLpfx6tUrVKtVHB8fYzAYoFAoIJ/PIx6PI5/PI5vNupqaXFB0sWLbtEq4Apl+r6a6T9OZJBrLyQlOoGT/Kh1gaRW2S3PtmWHGNrDPVeg8uwkhQDWbTbx8+RJPnz51zxSPxxGPx8e0dp95rH0Q1Jd2AfaJavWslkXNs1QqIZPJXDoJY5rMwfMWhLyNFp2wYj24ClrA5NRK1UD1ntbst9/bY9V55TNRbdiUamU+s1iB87LOjNFohGaziXq9jkajgUaj4ThA3o9eV8ZJWpPcasi+9vg0TQW5aZRDkMbPa9tr+K6jWjLvrVqdLgRW07QFSK5LdDySfz45ORkroeezMCj2cxtuZe9hLR57vvatDfVKJBIT59hVZQ6etyCWv9TJax0Jeo7yhdY04t+aGqixi3qMFavtaNvsJNfBSeqBk9c3YRUY9Lkvq4GGQiFkMhnk83nHSw6HQxcqFQ6HHZCQK2y3246H1bha/m3pkVAo5LhRzQCzHnALfHo+F0dto10ArXbm63+2gfnzGuLFZ1KzXemgm/Aw+9plqz5pf8zybnXs+76btkjpPOKPOpLm4Pm/RNQhYc2/aVoNJ6U1v3Xw6Crsi9sMGkh24lrnEjVQThLllKy3W9tj+TgfOFxEwuHT0ncrKytotVpIp9POG91utwGcaV39fh+NRgO1Wg2FQmEsyJy/eRzby3toOThfv/B9+UzLUCjkYl8TiYTrB17b58W34MfvOFYYckVznGOBWj+PZZ3VIIrnOoR9Qa8370fxaexBoouRT/RcH4+vC7++D/bZNIrlKsA6B89bEgsgk1Zo3+BTE91+Zjkm32C7iNnsA3GrPSt3yGNm0ToualpSK6SZHo/HXRUqpQqUt/QFwSsIBpnMytH62h3k6FBw8fWDLpBB5/pMU9VYfaFSCvA3qXGpWC7ZPuu0cab8/CQJ6iur9V/UirmKzMHzFoSDO8gTqCY6ix7TZGu322NVz4GzAarAGDRp+dtnqusxvKZqVTaMiT+MraTmp9sE26gBnSSzaCa+vstkMs40393ddTU6gzg2Sxewb6itkCuzJqk+c5D4+F0AY5Wv1OFmqRof2FjrQ+kaBparBaMApk6mm5ZwOHyOmqDo4n5ZftsnFjCtAkKLq9FooFqtukX1JmQOnrcgBM4gk8JqPOQUmc3BScOsI4rPzLaixwTdj+f7tBsLnAQHVoWnVmc5TZ9DRgPPZ53sBE/g1NvbbDbHwmR8x1vgtHwuwVP7wGbuBInvGah10vTnwhfEz1mO0PJ87Gd+x/hOBU19xmk84XWJcrvKd9s+s2P5KvcjYE7iR/v9Ptrtttuf6qb64dLg6VOjfZ8FfR90LStWI5rWERZMZjnnskKQuMjkp0yblD6TUMNneMyspvFFTBTLMwW1T/tXQ5nsd5OudZl3Y8cTowIIGGo2a/qe/X7ac+n9pvVfEE89yz30b6uZ62/dWsU3zm1b3odclMO+qibqM9VVLP1xk9TFpcBTV0fVUNR80WIHNLFYEAKY7kXjfUj8KjkexBfpfbkqA+fTH6c9m4oPBPhSisUiFhYWnCk166CghmDNdn3xHGR6/2azOWa+UdTDPutz2efT6/D4SWawCrcY1opLwFnoiO17awpfZKKzr+v1Onq9ntsCg5WahsOhC1PJZrNYXFxEMplEJpMZ81BrLVSlIyyNwfE7aWdPX9iTzgW+a/YfwVjjPNkPTCvV8csKT0xH7XQ6zhHF81SLBq4vSH4S+PC59B0AZ+Nw1sV91nZM4jr5N/9PpVJYWlpCNpv9sOI8FTwZokJzQv9msDeLADArREGX1/PdAzjljgqFAhKJhBtAFkC1UAQDtZWP0U3SVKyZw/va1cv3WSQSwdbWlgsI1sow02QSqe/TKNgGmkacONexik8T22fWC69jQItXAOOB6Dz3qsK+brfb6PV6YyE8fI80JROJBAqFgtv1k0AYFFWgvCFFoxaCxqmCpnKWaiHYZ1fNyLf4a3wiiyPzh+FKtg2+dl1FLGD5vudCZJWM6wROvZ/ew4oFz2w2O1Z56rrlHHiqhmjrLepv/mh5Kc0wYWaHbpPLVZMDSx82iMNgml0ymXTgyZXWagOcHNR4CCzciXIWc0d/q5bFAcJ7AHATmPeeVRQ8+WO1RgVOBXDl2Kjd+CZmkAQNJBtrF+Tht5qZnu+bwD5nkfbrRcF/ODzdOG5nZwfhcBjLy8sYDAbY3t5GrVYbA2q+L47NZrPpJrvdThjAWFgSqQB9tlkpEqUTrKau4TS2P6zjSWN5GVOZTCYxGAycJUYNU0OVuKDcpMlKIYDqGH0flMEk7KBG/N6D5EejEWq1mqsGztqI3W4XlUrF1XPUrW+VLKZ5eXBw4LyCqsbzt0+r87WF51vPMlcWxuTFYrGxycpj2Ua216YZ2vbwvvo5S1wlEgk0Gg2Uy2UMBgMUi0WsrKwgHA47k2WaqMlOj6zdG1zvz8lObYMLG4v9KpApMOrk174P+p/Prf1igU0dBOrAUIqG9yYYsM+1WIiNcb3IZGu1Wvj666/x3Xff4YsvvsCvf/1rxONxhEIhvHv37pzVQedBq9VCpVJBLBZDJpNBOp3GaDRy+6trLUgNjKcy4WunT+tUz70CMd8H5wqVk1AodK4/B4OBG9O8D/t+aWkJhUIBwFk6IjXScDiMjY0NZLNZB7ZXlWkLMSM/mOnFZ7gpbQ8Yd6xZCovtSqfTbivs9wqeWrj06OgIBwcHaLVa2N/fd9kavqrRHHT1eh27u7totVpu7xrrYbYeRF87fMLzNVDYV7tQJ7Vqv9SGLXgGeb4JAul0GsCp1t1qtZx2zVzai4RDqJmomRD2uTWciAuNTtKgY/U+Kr5jeM9J9IH2rfWk87cFff1cf3z3v4gMBgMcHh5iZ2cHjx49Qj6fRzKZRC6XGzObtViEZuTQvFcHEjU5BTzlln39bftKx7FdfK2iwPE6GAzOect9mqtSPOT/B4PTwtSsKdBsNt0CzAVuVgCbZI1NE0s/vQ+tcxahdeFL/7y2e/g+1BWVmh0dN1xV2CBtHAdAp9PByckJut3uWCkyBU/b4Xa18nkdVYvVa3FysI2qhQLjE57A6dM8regzJpNJxGIxdDodtyPkxsYGlpeXMRwOcXx8PHOn6/30vj4QCzL5qP1Tc7XtDpoEQQuET3wLm4Yo6fnax8plK2CoSa2L1UUnbCKRQDKZRK/XQ6VScfRJPp9HKpVy/TEanVVgIvdOc5fB9dQCyR9bq8RSD5M4QJ/YsU5aSS0gas5B45DvmuAZCoXGKuFz3MfjcRSLRRQKBWfiTxOfNj3rs7HvGEtp59RVgDTo3KC26aIXiUSQz+dRKpVcZpm97nVoo4EOI/XgsvZkPp93piZTsvi/Ns4OAp+5rjKtkzlo9Xx6eIfDoSsQEYlEkMlk3ADjBGf7r9JhFuS4sNA0PDg4mNmBo5pn0EJij9fvqXVQ89ZFxKeNziLqOLPalmpCGr+og1Vz6bWdwHhFfADnFtGLCCvmZLNZdLtdvHv3zuW1r6ysIJlMurFJCol7w9dqNReTyD2XALi9oaiBBpnn7JeLtFnfNXAGnjTbdYeAICql1+uh0Wi4PeBTqZRzUPb7fVedKx6PY2lpCQsLC0gkEs5aCpJJmrTvOawwvpe0nu+cWUE0aO7Y8ee7h7UWYrEYSqUSNjY2sLq66o2UuMgiESSB4MmHUc9lKpVymo6CJweAOjDUbLDg6XuQSeIzKzjYOeDVEaDVtdmWZDIZeP/rkIuCgOXFph2nYrWh9yl2AdSVnByhvm9+b4GJx1zUYcQFgws2t37o9/sulzzo/qR6OEbVzJ7GvStFMa3Pg6wHBWHOl2n558qDKiWhC5ZytGrpzTImrwIiuqDYcXAZ4XmW/rhoWwmgyWRybDzoO7wRzTMUCiGbzaJUKiEUCiGXyzmy326upKsqifyvv/4aW1tb+OUvf+kq30wrSMpBHqSR8nNOgMFggJ2dHTx58gSNRmPMY53NZp1JxuyCR48e4cGDB2MD6zaFfan9qcLnCRpEFnR92pDVJHlekNlij7WiTgvNnFHiXhdLy4fSdFauVyffrBKLxfDgwQN33qtXrwAAmUwGmUxmLG01Go1ieXnZjUFqmNpO1lbV7Tl4n3A47FJO+SyW31VOVcFNSw7SiaQb31ktPQiUlRLxWSiMYmm320gmk1heXnb8r+96vkXA0hR672kKhz47RTnlq4hPa/WBtG+xSiQSyOVySKVSXrP9orSAT86BZzh8WrWGnuxcLjfTxbvdLv7u7/4Of/3Xf42/+Iu/wL1795y5PEs151m4OA13evr0Kf72b/8W9Xody8vLKJVKY0DdarVwdHSEwWCA3/72t1heXnZmzKzg6QOtWY6bJHzppDuoJduXepGXaAFS76OmvB5nw0v4vW91tuexj9Ws52RRDVSBptlsOguGsXeWC51FotEo1tfXEY/H8cMPP+DZs2fo9/vY3NzE0tKSFzxTqRQGgwH29/fP9RFpKVu8me+F2qr2AxcO9q/yl1YDVPCkhqxgY/spCEB9Dk0eX61WcXBwgGQyifv3759z0PnGi/076L6TxqG+v4tQABeVaYqXPSYcPi3UTWeipdwueo8g8ZrtalLOKjrA6N3udDqX1vJ0IHFgkedk6Alw3lzm6h8KhVw4ik6oq6jrs4LpNAky2ScNNOXF7ErqozWC/ifAzWq62DapBjTt3radvtjGi0o4HHZhaqlUaowuCtK0eAxDg/jss9AmVuz7CgIfS23ojw3p0mMmjYegdtLjTjC/DKUzKzdpxWrENy2ztFEtJF/89I2Z7T7xaUP2s2g0io8++gh/+qd/irt37+Lg4ACxWAyrq6tul8VJE83eT4P0G40GOp0Oms0mdnZ2UKvV0Gg08Mknn2AwGIwFw/JnYWEBm5ubSKVSWF9fRzqddibypOfRzy1XoqLnXvRFUDNhfJ8d9D6TjvexsZ3AmdmuE0DN/qCJYSe+1VR8wKn1Jn3l3rQ/lMjnoqqeZV5vUuqjlWg0itXVVRQKBXS7XTx58sSFH3FvdraHccrlctltGhcOh107RqPRuRClSaLPY4WfK/+oz25DtjSMRvuS97H9r++Xfa4Vm2q1Gtrtttvel2FMPvG9K8qscxQ4cyZTsw9aQK5D+7Rt0898VhupR8a88nP9Pcs9JrV96qgN4kOshMOnAbqPHj1CsVhEpVJxFMBFnQLA6URm9lK5XEalUkGtVsPz58/RaDSciUJzSFPhAODu3bv49NNPkc1mnbk464u0K9N1DgBebxKPNY3nscCp5qQ1XzgxL6vpWdEIA3Vk8F76rgmU9nO9lsa4ziL0tieTSRSLxbGamRp/TPBkabJarYZKpeLMczpbJgGiTyYdq4u3BU++Q4KMmuJ8R3ZR1z4LWugJoBqOpdyqr42+vyd9NqkvmMnDFOybEotDQXOEfZtKpZDJZM6Z7dOe7yLz/Mol6VTrKBaLWFpaQjKZRKfTQaVSCcz51gGuuen80fxlFp1gaAcnJWPf+MCRSASFQgGpVArFYtFl7lzGE35TohPMailBwKnapM3MUeAMkklhID5RD6o1MfVHwd6aqepYVK1KeUVGa1wkhU5pC3VaMnOIFI01k/v9vgskp/nuo00UwKaBqjXHbfuCjrP8tH43CZiBs5hPzeqKx+MoFAqIx+NIpVJjAeKT2s7r0NKz2iNBmEoQuWpfhhlrAEyzdq5LJl0/FAq5DRbV2862cnwGJcbMKlcuScebRyIR3LlzB7/4xS9Qq9Xw7t07HBwcOAJbj+X51BYIjs1mE+VyeYxUHwwGzmzv9/uO62o2m6hWqxiNRs4JwU3uS6WSW3l8RQt8EtSJ00z2y4g6FQgeAJypZblNApSGZOliw78JyGyj5fa07UGAa72mPEeTHBQQtcgv6Qeek0qlXGKB7ivEcxg7nMlkLgSeBGbds7xQKLiYPprkvB+9/bu7u4hGoy4rTPvAApwNu1JRAPQtMtaa4HE25Ig/ylEGgTnb02w2XRQJ71ksFp2WtbKyglQqBQAT0zOHw9PEjp2dHTSbTXz//fc4OjoaG1d7e3vY3t5GIpHAn/3Zn+GnP/0pcrkcNjY2XKEVUgU2AYL9exPaqJrf7D/tLzoKl5aWxmihbreLWq2Gfr+PXC7nHMiTNNNJ43IieF5k5eBkWVxcRCgUwg8//BAYPKvXJ1fF4qWHh4dOo+Qx1ECVI6OZwvhB4HSwZLNZV0lH+bnLyE2tnMoJcrAF7Xao2ignup3wQUBoB8VFNHBrBml7Laj7hO+Ke+/o8QQQfj9LNIbvuRSAGHvsS3UliLbbbUc52P7hcbNyfkFmZBDYqvlujw26r9WC1UpTYfC89kFQnKeCebPZxN7eHo6Pj/Hs2TPs7++PvZ/nz5/j2bNnSKfTWFlZwZ07dzAYDLC6ujrWr1ygpvXZdYu1DHQBYn/oQjYYnO511e/3nbPRarAXaf9E8Ay6sO+m4XAY+XzeaQapVAr1eh21Wg3Hx8dIp9Nj8YssraU54qPRCAsLC2Md0+12sbe3h3q9PpajPhwO3UDZ3NzEysoK0um0S027Dg+gzzS47sFB8LQTXu+tHBnPmUUImEGcY5CDyL5zvjO200eF8D50yNjvtB2aTstY18v0azgcdhQRLRTdzZEV15mB44ux9InPzJ7EsWlfWb7Tmv8KgD7qY5pTSttHbS+RSCCTybi+nCSNRsMV/Xn69Cn+7d/+DY1GAzs7Ozg+Ph679v7+vuNRX716hX//93/Hw4cPsbm5iWw2694BxwfpEM049M2hIBrJJ2pB+fo6SIgB/X4fh4eHaLVaODw8xJMnT9But7GysuKK+mhVfo7tQqGAhYUFhEIhbzlL4JJmu678FOaTMkg9n8+jXC7j4OAAz58/dxlKyWQS3W4Xu7u7ODw8dHm54XAYa2trWFtbcxxYOBxGs9nEyckJGo0Gms0mjo+P0e12USqVsLq6ilwuh08//RR3794dAyLf6n2VZ70JISDG4/ExbRs4AyNgHDx923f4JjgnkdVa9Rxth+9zvZbN4FLAn8XpojwpvePcffGyqbNMx2XBj3K57BwYBE86DNjHvP80UTObVIr2kb4b7WPN/rEgqjSCavT0mGu/2v5QwOECoApHsVh0dR2C+nI4HGJ/fx/h8Gnw/z/8wz/g7//+792iQvCj0Gvf7XbxL//yL3j27Bl+8Ytf4Ne//jWWlpYAjGvFtA5nWaCmKQAKlnZ8EhuCLCC+byZG/Ou//iuePXvmFoBqteq0dNYL5uKTz+cRj8fxs5/9DL/97W9dxahrA8+gh+WgoRnBwgTkRDgYu90ujo6OcHR05Ih+VorRDCC+GM0FVnKavCZB2WeG/ZhkmpZ70Zg6O3GvItMA1oai+drh01anOTYmSTh8GgytDkTyibFYbKzuJdtnTWT7bJNklj60mqbvGtapEqTd2mvqc2tweih0tuXINKqBFdOq1SrK5TL29/fPRWqolsy2sVYqC/5om3Uh0eeYRXGZ1KfTxtws3/X7fezt7WFnZwdv3rzBmzdvUK/XxxQCFpRJJpMolUpIp9O4c+cOWq3WGM1jZSp4XmbipVIp/OxnP8OjR49cQYZWq4Xj42NnYrXb7bEVi2YC6zEyTKlWq+Hbb7/F3t4eCoUCPvvsM+RyOaysrGBtbc15GoPa/iELBzNrSnLwWa1RNRvL4dgQFzX9LKBZALPaOYFnNBqNabecINwHnQsY4/yazaY7n6L8Js15FWoHdCpd9F2R1/r4449Rr9ddXUu2nUDCegzpdNrt8c5IDj6bhjvxGfgONBNM+0gBTZ1m1P5UM6fioE49/Z5aJABn8mpbVNuiWanARYWFFtwkYfQKi+qwLYxM0XemwEha5Pj4GAcHB1hbW8Ph4SGOjo7QaDQwGAzGYq217dchPmC3hWtUMz84OECtVsP+/j7+8Ic/4L//+79xeHiI0Wjk2skxTjqQTutwOIzNzU1Xk5iOaSsza56zrB48JplMYnNzE6PRCAcHB3jy5AmazSbevn2Lvb09RCIRFItFlwFEk/Xdu3d4/fo1hsMhyuUyqtUqut0ujo+PUa/X8fjxY3z66adYWVlBoVBAPp+/sDb2IclodFoyTQHJdwxFHTYKrFpggn3BgUGtwsY06iRT0GNMKHDmraUzq9vt4uTkxAEEi8PQs0pRcFe+VIXaIU2ny7y/RCKBu3fvot1u4+DgAO/evcNgMHC1DQgqAJBOp5HJZNyiXK/XXdu0hKENzdIthLmAMMRKwZHvjn1jFzkFOvYHw6YI6JbnVo3HLopasYrPOUsNT/oYGJfJhYNmqxY6V62YDtrDw0O8ffsWa2treP36tZubtoboRThNPi9l2jNoeJSCJ/uLPOfx8THevXuHb775Bv/1X//laBWbUKMxy6xj/ObNG7x69QorKyuoVqve55kJPC+jFXCykMwejUYol8vOA2ZXXg4W7lHEyU5Ogp58hmTY1f3HKuyLIAeE73gVnfC6Pw+BSws3cPJaB5IN9dD/daDqPQgCto1BJrp9HiXnr2q2A/BmKXEcchwRVKlp6KJiTVB1gPm0cF7fmqo+s91qYZYLVbEgzmvaueID+4soET7qQt+dLqL67LQGa7Wa0/iDuMkguaqiM02bHY1GLoWbmVdc9CwlqH2mHLdaCz6qB7gmztOuHto56XQajx8/RrfbxfLyMu7cuePqEzJIlw9HkyIUCmFxcREPHz5EKpXC3bt3kcvlkM1msbS05IDzx6htqtDJtrKygnq9Pha/pwNXX7TGeAJnu0kCp9yyOpd4vgaTUxh7qWYkjwcwpoFwABF8uPUCjycVQ3BWsxkY14bJcbImp9ZfvajE43EsLCw4jWF3d3esXxj/GY/Hsby8jIWFBUSjUZTLZbx8+dIt7Ayn4kJBLQrA2MKjYKXmqZrt1MZ1TuiuC/ouuZDZWN9QKOQ2SwyFQlhaWnIFeng/G1/JKINZHDEK2tbxpWY7j1fnTL1ex5MnT9DtdvHtt9+6MWcB5iIOo1l4eXs9jicbIxsKnVav2t7exnfffYfnz5+jVqu583gccJZk4QNS5ZH5uW3ftTmMVLSBLE5LEyEaPd3QbX9/H+Vy2Q0G5R0Y9vTgwQPkcjl8/PHHyOfz7qH+twgnW6FQcFpO0ADiALYmMldLcsc0XTgwyGepZ5xgQ+1Lg82pwbXbbcchUqh1auUhjVElf+gDa743xnbS2znNQzxJOJ4Gg4HLrNEK6+Fw2MX7MRKEC/fLly+Ry+Xw4MEDpNPpMa1DnVi8vmrgNhFBzXa7cCgYKfDq+1Rw4kJ4cnKCo6Mj9wwKnroVsb3vrKLalnWmWTBSabfbePv2Lfr9Pt6+fXtujPCZg8BQ7wucB1Ge7xMFegU9m5o9GJxuH/Ty5Uvs7e25IkL2fEtjKW2mFFnQ2LwR8AySeDyOXC7nvPDZbHbMCcFKTKFQCPfu3XOer4sGUf9YhFwTJ7UOYp8o5+Uz65TG4KBQLooAAYybn8rh8RqaJ64mfzabddoVMJ6rrdol2+AT3oPFaq/j/TLsSbcgJnDRZMvn8+55Tk5O3N82zlbNcGu62R+eo30adIya72oesk8oPM9WgdLzhsOhoywustEbo1uozFD0OSk+UBmNRs7h1Ov1nNPPRz9cROzxs3CmvrbqdzZkytIQk+4XjUadBz5oUbpW8Jw0AbiCMnVufX393KAEzh5CQy806PZ/k0QiEayvr2NzcxPRaBQvXrxAvV533+vKp+a1ajM66Vi9SjUGNQnJA2mfM+SLOcB6PU4cRkMohcKgY80VJiByryufA4zgyv12uLXLVbjrUOg0w6hUKjlnEDNJ6ACIxWK4c+eOq8b03XffYXFxEY8fP0YikRgDLEZ70JmgZjdBRk15CvtKAViPZ5/w+lpMw07Q4fA0A4hmKBdW9QiTwvKBV1A/kfridh6qWVkuV8/jMb1eD8fHx4jFYmi32yiVSshkMmg2m45G8Gmss8g0wLQLCcVmEfI9MhFHr2sdqvrceg2GLRUKBbTbbRwfH58H2As/4RXkouXH/rcLNc9CoYDj4+NzJo09li/dBjMrH2qzO9TjrHvM28FHgCWI0VwlgNIrzVqa6kBSTz7B0ZqqFDWHCOzXwV8zOJ58ISeQFgFhVgwrdBHkeX9dlOyPBU2fhRCkefquRY2Y17BaE2kCBQzgDKA1FfMic4oRDnyfQRpj0PsYjU6dMcz4Y6gZC6/MKpddLCfRAdpmpbN8xwaJWmN2W3ArcyS7RQmFTuMQC4WCqzdqB4Yl7K1nnH8D41WXeLya0YlEwg2qSCSCTqfjNvOz8YWcWKPRyAWcazEI5VZTqZTTfpTz9K3odArSlFZC/ir9GIvFkMvl0Ol0UKvVnLbGjQFHoxGWl5eRzWbRbDZRqVSQSCRcui/7T2M+LaBaz6tSAwqwPrC0XLRObmpIqkUWi0WsrKwAON1ihMK+SqfTKBaLrp7mrP2n9Qa0OpKle/i39jH5RcZrA+Ob+1mrx/eeKFYbtBEJKhbQfXNEeUxfZAKP82naem2+H/YTHXHevvR+Opf3ItSG1tfXsbu7e84ZBJxphaqdceLZQcTVUs1vdWDQeaQTllwhtUVW/1ethL856ch38fp0CmrbtGSa8rS8LwsXa3Hkqwg9761WCwcHB+h2u87EJbhubW2h0+ng3bt32N3ddeDKduri49M4NaROzXB9Zo1tVSqAx+n16fBhyE82m3U0BrcPAYBcLuf6hwCfyWRcPQfSNbMIa9uORiNXRJzgqc4T9geFn/f7fezu7jo6TXcqtbztLO+Ui4/9TP9W8LPX1DGqnL1q+Hqsfq8UA39isZjjk5m9FmQZzcHzFoUvyzpNfCurfXmWyNeBr44l/VszlzhhyKOqBkLA44rLa2iWDUGCk0YD6jXUyraT5/O764rT5bPopmsELuDMXOVxGqGg5p06jvjbZ6pPM83tMeppt9dXE14pGC5IFoz5nkh7XKQPlTun1q/31b+1vfxbNW32q74DAGPvXz/ndxSflqky7XsFTrW+qNlr3VMe56MpVHPVuTKpOhUwB89blVDoNFQpl8shl8udW7l5jA1n8XnVaT5r9gQw7nTSeE4FSTX1lftUjZPgzoFG7Yd/s82qFWs7OPmZJpnNZq+N/1ZNm8/EGFW2hRoSd5j8yU9+gnQ6jZOTE7x69WpswihgagqsxpBOAlQbYE1R85ZB+wRKdUqpE240GrmSjb1eD/V63VX5Uc1oFqFDj8V7CoUCcrmcozhsX/KZqGXyfz4beVcbyREUfuQDTtXEtb+0X7VdfD/KF/N7XdxfvHiBRqOBSqWCfr8/Fn9rQZT35nxkZAazGNPp9Fzz/NDEgqeu4r6YQOVsNI6TP5bc9gEsB4EONMs/2TZqbrcOer0GP1cTV6/H79PpNEqlkjNPr0u4oHACs0gIvd/keUOhEJaXl/HgwQOEw2FUq1U8ffoU+Xwem5ubLhGAGrR62ynWjNfPaQpanpTfE6gymYxb6GKxmMtt5/lqBTBThn/z2gTgi1Ae5EhjsRgWFhZQKBRcMXJaE/rOlAO3n+n22darbRdPFQt61HjZRz5Nnf1E/p0AajVc0hA//PADfvjhB/cdKRC9L2ky0irknGOxGIrFovNFBHHKc/C8ReGA0AIZ6rDQ4+wgUU7Tx8lcxZsJTK9iY9vIzy1g2Guz4r/uaHpd4tMq+DcBkRpKNpt1oFqv1x3XNel6s5ju+ux6b43ppPje8aRrWlrlMlyxnkfOkly0BSNdIDQKwTpiKAqCCno0o63T0ydqfiuFoO1WRcI+G9tFOobv22qalgrh37QE1NIK6uM5eN6iRCIRV1JvY2MDKysrrl6pZm5QG9CXajVPC3qq+ekAsRohj+VApajZryaZAocey+MZX6ei3Orq6io++eQTrK6uum0QrltUW6e52W638fz5cwcajx49QrvddttPtNtt3L9/32koNJkZlzwYDMZ2NFCNVnfvbDabLnidYWXcLlsTFpghxPfBz/me2I8a5E9Lhe26KHDaPioWi7h//77bXZSbNnKMWfC0FfhDoZDrBzXtfcJr8G8FX6ttquNO+XQFZs4FHYc6zpmtCODcbhZKhQFnPD3D3VjTc1r/zsHzFoUcFHC6D00ul0M+n0e1WnU5w8D4y9ZBZflKYBw07Yqv2o9v5bYA6nMAWPMcwJjjQSeZgjrvVygUcP/+faysrDiQuQnRBSccDqNWq6FcLiMUCuHBgwfY2NhAvV7HH/7wBxwcHCAej58LWyKfSxNRQ6wYbaA58dwZQXnl0eisSAVDwgjM5GX1ParmxLJx7D+CmnLTl5VQ6CzGmO+Swfd0lNi8fh2PbA9NfS6Ok5xDupBbflyvr84aAhpwtseX9oUPiHk/X0QKRduqERMsXzhL/87B8wMRaqGlUgn9ft/l/VuHj4IeB50vtMRnJvk4OhU1lfQaqjVQ7KC0ziFfmAtTA5eXl6+d87TPoc4BtoEcLbU6aoOs0kUAnCUKQCetLaQBnE1OBRaNgeWCZM1fn1ms2WRs61VTWsn9/uQnP8HR0RGq1arj9th2y4Vbxw6zpBh2Zk1dC5D2h+/CjkN+Ty6SY08jOWwNVtXYw+EwFhYWsLy8jGg0ilwuNxbCpzz+aDRyiyI1cdbTmEYrzcHzA5FEIoHNzU03Id6+fetWdd3+goAzyXOp5h8wzjtZzUqFE1SBwDeBJokOZNXA6JldX1/H1taWyxu+CSEg6mJBDYaTZXd3F51OB4lEwgXPc7tsTVf1aS4+7YlOJRv+pfdlweJQKOSlNwgYNPf1s06ng2QyicXFxYlOjIv00WeffYbNzU1UKhU8evQIL168cADEZyGdwD5hUZler4eXL1/iH//xH3FycjK2hTS1a6U67ALso3+42ASNOR3n9BGwf6jJdzodZDIZ/PKXv8TW1hYKhQI++eQTlEqlsQgHLkDUuFutFrLZLNbW1lzt12lp4XPwvCWxJrKGR3Cy0YywWqfVHlXD9AXa+7Qoqx1O+lw1IJs9NEnYHrabWkAulxur9HTdov2lYVM0MxUAmCTABAAbvD/p2fhjNU/lXAmm+j9wBop6vE+TBc72OGLFJ41+uKzQ48+fx48fOy6XfLtW0c/lcm6/qGq16lI0lfck4PKZyOtqaUPfu1Kx3Lzl1oHxhVB5WVoOo9EIpVLJbQz5+eefo1gsuogUXeBGo5HbgJLZfgqavvoMlDl43oKo2cIBkUql8OjRIxSLRRwfH49pbbohnp5vgc6S8hSNgVSxJbgIOlp2Laj9er6aaQRJtmUwGCCdTrt4OS4OVy0GEiThcBjFYhEPHz5EvV7Hy5cvUavVxhxgmphAQOJkZKV5rUSlGUV6H05Ceup1504CB3lQdTSpRm+1WPYntwph1le323WhQaxMdpn+8y16kchpgRpmn1HrVeBnqiKdMcPhEJlMxqVrHh8fY3d3d2yBZd1RVl9iDCW5/Vgshnw+j0wmM2bua43fcrmM3d1dlzvPkpW0DDSKYnl52W0K+atf/Qp/9Ed/5Ggi3ls99VywWLZwlnqoKnPwvAXRCcOXmUwm8fjxY9y/fx9v375FLBZzG1ApVwacxQvSoaGZQwQ01bgsh2W1AA17ovA8KwTsoNCbSCTitDjGDhaLRRfbubS0dG1l6HwSiUTcjgPcAmZ3dxepVAq5XM6BOwP8k8nk2G6a6plVc9FHg1jPNOtsMm6TBYsZR6kasYpqmmwLOVmCZ6/XcxseFgqFsQ0PffzzJLGLdzwex8bGBtbW1rzgqryx3u/hw4f48ssv0Wq18M033+A//uM/nEZPAGafpdNpLC4uIpFIYGNjA/fu3UMmk8Hdu3dRKpXGrs+02m63i+fPn+Prr79Gq9VCuVx28a4cW7orwC9+8Qv8yZ/8CXK5HDY3N93WwZbDtv2jmuYcPH+EoiYFA6gvCjDK8amTwfJNCqLUGNV5MatZPukYnWjkqOjFnMUhc1mheU7HymAwcJqkauvWmaaxmMz40cXDF7TN39ZMJ5iqt9o6Sij2c3WW0EGioWQa7nSZxScIHC/jvAuFTnd86HQ6uHPnDhYXF9Fut522qZLL5bC0tOTKGq6vryOVSmFpackVOqdwoWCt37W1NTSbTbcwk3YheDLCYWVlBaurq8hms2N1g29K5uB5C+LjeTiAw+Ew1tfX8cknn+Do6Mil43HSaMgScH4/b+WB1HlDsFDz1WpWQHA5PKUMCAoWQNgG3ZwrFAqhVCrhs88+w9LSEhYXF70a03VpoQQYhoGRG2QFeU5ADX+hWa61OIGzkBleg4sZaQeCrGrh6tyjZspFUXlK9TJbDns0Oiv7RkdTJpNxJq7WbeUzWxpoUv/YBeCyot7/ra0tl+qpccGUWCzmKocxRVfDkFTUoXPnzh0HpO1228XGagosHavr6+tYWVkZq2F7kzIHz1sQHcAc9OSVhsMhFhcXnVnz+vVrVCoVDAaDsZVUM2LU62tBU0FRQVfNR5u7bR0typn6AI8alxbb0OMWFhbwxRdfYHFxEcVicWzSWsfZdfQttUymDgJwWgw9xzTbaWaqx1z7igDMZ1QnCrlNBULlPQmYvn2NyNWxzar5D4dDB57A2SaKdNpwHGi/zdqH1wWcwHisZCqVwurq6kz3ntYOvW48HndmfVDkA0WdVe9D5uD5AQgBhD/pdBqrq6uIxWJoNps4OTk5l7tttRUVjfu0QKXFG+jY8TmfVBQkfeEmCthcBAg0kcjpNtPZbNalZL6PwU1tmVqO5qjzbz6Db8KpBk+HBI/Ra9GbrLwlHU90EFE7ZZt8FADB0zqnQqHTmq+lUskVj3lf4DCL6DNcJxVznSB/UzIHzw9MQqEQ7t69i7/6q79CrVbDP//zPyOfz6PdbmN/fx+1Wm3MdLYcIn/zc60KxBJdnMDWbKQprl5kDThXbVaBWKu1ZzIZly21tbWFYrGIzz//3KU+WnPqOieHNV3j8Ti2traQSCSws7ODV69eod/vu33GaUImk0nnzWUf8Dmp/VEDp+ldqVQAnJr9rFyv3Gej0RgLf2LhCTp6uMhou7vdrqsCNBwOnYf6888/d89hC1zM5fZkDp4fmIRCIeTzeeRyOXS7XVSrVRwdHaFSqaBcLo9VCwLgzFMNfqcHlWYlS5jRHFQtl/dUTpMAouXtCMQEXgVSgnM0GnUhScvLy/jjP/5jrK2tYXV1FYVC4b0AJ/8m97m0tIRI5LRq/vfff+884AxYZ20BDSvSUCKGLjE8huFN1CaZZUPHGE18OjGUxqD5zuNILyhtwl1NtWDM6uoqVldXb8zJNpfLyRw8PyBR/o+AVSqV8PjxY2e637lzB61Wy22FwB9OXgonPIOeGZ+nXlBb6EEnv3reyfHRc83g/Xw+7zi9VCrl+KlcLofFxUWsra2hWCyey4aZ1blxWVGagVtYrK2tYWVlBc1m0/HFdCIpV6v0A98B6Qc6R2iWq9luqRfNsuH7UTO+2+2698X2Kgeay+VczOJVs4nmcjMyB88PRHyxepFIBA8fPsTGxgZ6vR4qlQqazSZ2dnbw1Vdf4eTkBG/fvsXTp0/R7/fHtlUgKGj1HmpR1knDv7U+JB0f0WgUCwsLY5pwp9PB3bt3nVPr448/xuPHj92Ogyx0TADhz02KD1zi8ThWVlYwHA6RzWaRSCRQrVbx9u1b7O7uotvtotFoADjLWuHiwYWEDhp6i9XUVkcdgDGKRGMWubV2vV5HtVp1gegMKOd747uJRqP4+OOP8eWXX7oN9+bg+eHJHDw/ANFQE5146vAYDAZuf/dkMol3794hFovh6OjImY+a904TlNqiBnHbwhNsAyc+TXSCXi6XcyBBTYvppPl8Hg8ePMD9+/eRSCRcAHeQzBI/el3CcCXgVKtbXFxEMpl0e7ZzYen3+2MV2dUEZ7Fq8qM2tEb7kv2rsZvMnyanyrhE9qMWmaZTKRQKoVAooFQqXahS/Fzer8zB85ZkWlaITzuk46ZYLOLLL79Es9nE/fv38fjxY3Q6HTQaDcfp7ezsoFKpIJfLoVQqOU3Q5sqr8wk485xXq1UcHh66dEcW8uDGZIuLi/joo4+QSqWwvr6OXC7nTW+77lCky0o8HncB2cxyaTabeP36NcrlsjPLSY1wMdBUUh+Q6Xu0QfH8jFrmnTt30Gg00Ov1sLOz40rhscqUUgR37951/fkh9N9czsscPG9BpgWHqxbKYzh5R6MRFhcXUSgUAAA///nPnVa5vb2N3d1d7O3t4T//8z+xu7uLe/fu4ec//7lLkdQCCdSKqH2RA+x2u/j973+Pb775BoPBwO2Vc+/ePfz5n/85VlZWXKiT5ngD5/cft8876blvUlg9CYBLQ+x0Onj27BmeP3/u2hkKhbC1tYVPPvnEafK+ZACVIG3aPj8Xqn6/j9evX+PFixdIJpO4e/euA/VMJjPmVHqfcYtzuZh4wVM1kblMl6Ciq5YT088pQRNjklOFnCRwtnthv99HLpdz2idDcLLZLJaWlpDL5VAsFlEsFseylWhu0rERi8XQ6/VQKpUcXcCiEEx744ZYQVWZfM857Xn1fHse+3BShZtZxIZz0QOeSqXGsqY0S2gWmRXcSInQc89MJ/3b0geXpTl8/QiMF/6dy3SZVFD53OgYDAbY2dkBcPl9cP6vSb/fx97e3rkF5/DwEC9evDgXm3dV8PTJYDDA0dERyuUy6vU6crmcq014fHyMVquFVquFk5MTpzVS89TNzqiFNhoNFAoFl+sd+f/V01+9euViHKeNj8uA5+HhIdrt9thn7XYbr1+/ds6d65JOp4O9vT13XbZ3b2/PxblepxAM+/0+Dg8PnQOQgfB0Sl3HvGs2mzg8PBz7bDgcYm9v71pK2v1fkeFwiO3tbe9iE/rd7343NsI1N3huLswmNMfsKqXl5N5HGzT+Up0/WrDCl7lhYyQBf4Vv+zw38VyaJknhmLxux4m+NxWazTfxfJqQwPvqva7LTKdFoe+QXPeHlqX0IQvnkx2TgEfzZKfP5erC2MrbEJ2EthblRa6hwrjG9y0ck+9rXGr65vuQ90WR2dTUuVxN5nb5XOYyl7lcQubgOZe5zGUul5A5eM5lLnOZyyXk/wGh5a8JSBa9igAAAABJRU5ErkJggg==\" y=\"-9.443481\"/>\r\n   </g>\r\n   <g id=\"matplotlib.axis_1\">\r\n    <g id=\"xtick_1\">\r\n     <g id=\"line2d_1\">\r\n      <defs>\r\n       <path d=\"M 0 0 \r\nL 0 3.5 \r\n\" id=\"m20ff044a45\" style=\"stroke:#000000;stroke-width:0.8;\"/>\r\n      </defs>\r\n      <g>\r\n       <use style=\"stroke:#000000;stroke-width:0.8;\" x=\"28.297131\" xlink:href=\"#m20ff044a45\" y=\"97.443481\"/>\r\n      </g>\r\n     </g>\r\n     <g id=\"text_1\">\r\n      <!-- 0 -->\r\n      <g transform=\"translate(25.115881 112.041919)scale(0.1 -0.1)\">\r\n       <defs>\r\n        <path d=\"M 31.78125 66.40625 \r\nQ 24.171875 66.40625 20.328125 58.90625 \r\nQ 16.5 51.421875 16.5 36.375 \r\nQ 16.5 21.390625 20.328125 13.890625 \r\nQ 24.171875 6.390625 31.78125 6.390625 \r\nQ 39.453125 6.390625 43.28125 13.890625 \r\nQ 47.125 21.390625 47.125 36.375 \r\nQ 47.125 51.421875 43.28125 58.90625 \r\nQ 39.453125 66.40625 31.78125 66.40625 \r\nz\r\nM 31.78125 74.21875 \r\nQ 44.046875 74.21875 50.515625 64.515625 \r\nQ 56.984375 54.828125 56.984375 36.375 \r\nQ 56.984375 17.96875 50.515625 8.265625 \r\nQ 44.046875 -1.421875 31.78125 -1.421875 \r\nQ 19.53125 -1.421875 13.0625 8.265625 \r\nQ 6.59375 17.96875 6.59375 36.375 \r\nQ 6.59375 54.828125 13.0625 64.515625 \r\nQ 19.53125 74.21875 31.78125 74.21875 \r\nz\r\n\" id=\"DejaVuSans-48\"/>\r\n       </defs>\r\n       <use xlink:href=\"#DejaVuSans-48\"/>\r\n      </g>\r\n     </g>\r\n    </g>\r\n    <g id=\"xtick_2\">\r\n     <g id=\"line2d_2\">\r\n      <g>\r\n       <use style=\"stroke:#000000;stroke-width:0.8;\" x=\"83.182377\" xlink:href=\"#m20ff044a45\" y=\"97.443481\"/>\r\n      </g>\r\n     </g>\r\n     <g id=\"text_2\">\r\n      <!-- 20 -->\r\n      <g transform=\"translate(76.819877 112.041919)scale(0.1 -0.1)\">\r\n       <defs>\r\n        <path d=\"M 19.1875 8.296875 \r\nL 53.609375 8.296875 \r\nL 53.609375 0 \r\nL 7.328125 0 \r\nL 7.328125 8.296875 \r\nQ 12.9375 14.109375 22.625 23.890625 \r\nQ 32.328125 33.6875 34.8125 36.53125 \r\nQ 39.546875 41.84375 41.421875 45.53125 \r\nQ 43.3125 49.21875 43.3125 52.78125 \r\nQ 43.3125 58.59375 39.234375 62.25 \r\nQ 35.15625 65.921875 28.609375 65.921875 \r\nQ 23.96875 65.921875 18.8125 64.3125 \r\nQ 13.671875 62.703125 7.8125 59.421875 \r\nL 7.8125 69.390625 \r\nQ 13.765625 71.78125 18.9375 73 \r\nQ 24.125 74.21875 28.421875 74.21875 \r\nQ 39.75 74.21875 46.484375 68.546875 \r\nQ 53.21875 62.890625 53.21875 53.421875 \r\nQ 53.21875 48.921875 51.53125 44.890625 \r\nQ 49.859375 40.875 45.40625 35.40625 \r\nQ 44.1875 33.984375 37.640625 27.21875 \r\nQ 31.109375 20.453125 19.1875 8.296875 \r\nz\r\n\" id=\"DejaVuSans-50\"/>\r\n       </defs>\r\n       <use xlink:href=\"#DejaVuSans-50\"/>\r\n       <use x=\"63.623047\" xlink:href=\"#DejaVuSans-48\"/>\r\n      </g>\r\n     </g>\r\n    </g>\r\n    <g id=\"xtick_3\">\r\n     <g id=\"line2d_3\">\r\n      <g>\r\n       <use style=\"stroke:#000000;stroke-width:0.8;\" x=\"138.067623\" xlink:href=\"#m20ff044a45\" y=\"97.443481\"/>\r\n      </g>\r\n     </g>\r\n     <g id=\"text_3\">\r\n      <!-- 40 -->\r\n      <g transform=\"translate(131.705123 112.041919)scale(0.1 -0.1)\">\r\n       <defs>\r\n        <path d=\"M 37.796875 64.3125 \r\nL 12.890625 25.390625 \r\nL 37.796875 25.390625 \r\nz\r\nM 35.203125 72.90625 \r\nL 47.609375 72.90625 \r\nL 47.609375 25.390625 \r\nL 58.015625 25.390625 \r\nL 58.015625 17.1875 \r\nL 47.609375 17.1875 \r\nL 47.609375 0 \r\nL 37.796875 0 \r\nL 37.796875 17.1875 \r\nL 4.890625 17.1875 \r\nL 4.890625 26.703125 \r\nz\r\n\" id=\"DejaVuSans-52\"/>\r\n       </defs>\r\n       <use xlink:href=\"#DejaVuSans-52\"/>\r\n       <use x=\"63.623047\" xlink:href=\"#DejaVuSans-48\"/>\r\n      </g>\r\n     </g>\r\n    </g>\r\n    <g id=\"xtick_4\">\r\n     <g id=\"line2d_4\">\r\n      <g>\r\n       <use style=\"stroke:#000000;stroke-width:0.8;\" x=\"192.952869\" xlink:href=\"#m20ff044a45\" y=\"97.443481\"/>\r\n      </g>\r\n     </g>\r\n     <g id=\"text_4\">\r\n      <!-- 60 -->\r\n      <g transform=\"translate(186.590369 112.041919)scale(0.1 -0.1)\">\r\n       <defs>\r\n        <path d=\"M 33.015625 40.375 \r\nQ 26.375 40.375 22.484375 35.828125 \r\nQ 18.609375 31.296875 18.609375 23.390625 \r\nQ 18.609375 15.53125 22.484375 10.953125 \r\nQ 26.375 6.390625 33.015625 6.390625 \r\nQ 39.65625 6.390625 43.53125 10.953125 \r\nQ 47.40625 15.53125 47.40625 23.390625 \r\nQ 47.40625 31.296875 43.53125 35.828125 \r\nQ 39.65625 40.375 33.015625 40.375 \r\nz\r\nM 52.59375 71.296875 \r\nL 52.59375 62.3125 \r\nQ 48.875 64.0625 45.09375 64.984375 \r\nQ 41.3125 65.921875 37.59375 65.921875 \r\nQ 27.828125 65.921875 22.671875 59.328125 \r\nQ 17.53125 52.734375 16.796875 39.40625 \r\nQ 19.671875 43.65625 24.015625 45.921875 \r\nQ 28.375 48.1875 33.59375 48.1875 \r\nQ 44.578125 48.1875 50.953125 41.515625 \r\nQ 57.328125 34.859375 57.328125 23.390625 \r\nQ 57.328125 12.15625 50.6875 5.359375 \r\nQ 44.046875 -1.421875 33.015625 -1.421875 \r\nQ 20.359375 -1.421875 13.671875 8.265625 \r\nQ 6.984375 17.96875 6.984375 36.375 \r\nQ 6.984375 53.65625 15.1875 63.9375 \r\nQ 23.390625 74.21875 37.203125 74.21875 \r\nQ 40.921875 74.21875 44.703125 73.484375 \r\nQ 48.484375 72.75 52.59375 71.296875 \r\nz\r\n\" id=\"DejaVuSans-54\"/>\r\n       </defs>\r\n       <use xlink:href=\"#DejaVuSans-54\"/>\r\n       <use x=\"63.623047\" xlink:href=\"#DejaVuSans-48\"/>\r\n      </g>\r\n     </g>\r\n    </g>\r\n    <g id=\"xtick_5\">\r\n     <g id=\"line2d_5\">\r\n      <g>\r\n       <use style=\"stroke:#000000;stroke-width:0.8;\" x=\"247.838115\" xlink:href=\"#m20ff044a45\" y=\"97.443481\"/>\r\n      </g>\r\n     </g>\r\n     <g id=\"text_5\">\r\n      <!-- 80 -->\r\n      <g transform=\"translate(241.475615 112.041919)scale(0.1 -0.1)\">\r\n       <defs>\r\n        <path d=\"M 31.78125 34.625 \r\nQ 24.75 34.625 20.71875 30.859375 \r\nQ 16.703125 27.09375 16.703125 20.515625 \r\nQ 16.703125 13.921875 20.71875 10.15625 \r\nQ 24.75 6.390625 31.78125 6.390625 \r\nQ 38.8125 6.390625 42.859375 10.171875 \r\nQ 46.921875 13.96875 46.921875 20.515625 \r\nQ 46.921875 27.09375 42.890625 30.859375 \r\nQ 38.875 34.625 31.78125 34.625 \r\nz\r\nM 21.921875 38.8125 \r\nQ 15.578125 40.375 12.03125 44.71875 \r\nQ 8.5 49.078125 8.5 55.328125 \r\nQ 8.5 64.0625 14.71875 69.140625 \r\nQ 20.953125 74.21875 31.78125 74.21875 \r\nQ 42.671875 74.21875 48.875 69.140625 \r\nQ 55.078125 64.0625 55.078125 55.328125 \r\nQ 55.078125 49.078125 51.53125 44.71875 \r\nQ 48 40.375 41.703125 38.8125 \r\nQ 48.828125 37.15625 52.796875 32.3125 \r\nQ 56.78125 27.484375 56.78125 20.515625 \r\nQ 56.78125 9.90625 50.3125 4.234375 \r\nQ 43.84375 -1.421875 31.78125 -1.421875 \r\nQ 19.734375 -1.421875 13.25 4.234375 \r\nQ 6.78125 9.90625 6.78125 20.515625 \r\nQ 6.78125 27.484375 10.78125 32.3125 \r\nQ 14.796875 37.15625 21.921875 38.8125 \r\nz\r\nM 18.3125 54.390625 \r\nQ 18.3125 48.734375 21.84375 45.5625 \r\nQ 25.390625 42.390625 31.78125 42.390625 \r\nQ 38.140625 42.390625 41.71875 45.5625 \r\nQ 45.3125 48.734375 45.3125 54.390625 \r\nQ 45.3125 60.0625 41.71875 63.234375 \r\nQ 38.140625 66.40625 31.78125 66.40625 \r\nQ 25.390625 66.40625 21.84375 63.234375 \r\nQ 18.3125 60.0625 18.3125 54.390625 \r\nz\r\n\" id=\"DejaVuSans-56\"/>\r\n       </defs>\r\n       <use xlink:href=\"#DejaVuSans-56\"/>\r\n       <use x=\"63.623047\" xlink:href=\"#DejaVuSans-48\"/>\r\n      </g>\r\n     </g>\r\n    </g>\r\n    <g id=\"xtick_6\">\r\n     <g id=\"line2d_6\">\r\n      <g>\r\n       <use style=\"stroke:#000000;stroke-width:0.8;\" x=\"302.723361\" xlink:href=\"#m20ff044a45\" y=\"97.443481\"/>\r\n      </g>\r\n     </g>\r\n     <g id=\"text_6\">\r\n      <!-- 100 -->\r\n      <g transform=\"translate(293.179611 112.041919)scale(0.1 -0.1)\">\r\n       <defs>\r\n        <path d=\"M 12.40625 8.296875 \r\nL 28.515625 8.296875 \r\nL 28.515625 63.921875 \r\nL 10.984375 60.40625 \r\nL 10.984375 69.390625 \r\nL 28.421875 72.90625 \r\nL 38.28125 72.90625 \r\nL 38.28125 8.296875 \r\nL 54.390625 8.296875 \r\nL 54.390625 0 \r\nL 12.40625 0 \r\nz\r\n\" id=\"DejaVuSans-49\"/>\r\n       </defs>\r\n       <use xlink:href=\"#DejaVuSans-49\"/>\r\n       <use x=\"63.623047\" xlink:href=\"#DejaVuSans-48\"/>\r\n       <use x=\"127.246094\" xlink:href=\"#DejaVuSans-48\"/>\r\n      </g>\r\n     </g>\r\n    </g>\r\n    <g id=\"xtick_7\">\r\n     <g id=\"line2d_7\">\r\n      <g>\r\n       <use style=\"stroke:#000000;stroke-width:0.8;\" x=\"357.608607\" xlink:href=\"#m20ff044a45\" y=\"97.443481\"/>\r\n      </g>\r\n     </g>\r\n     <g id=\"text_7\">\r\n      <!-- 120 -->\r\n      <g transform=\"translate(348.064857 112.041919)scale(0.1 -0.1)\">\r\n       <use xlink:href=\"#DejaVuSans-49\"/>\r\n       <use x=\"63.623047\" xlink:href=\"#DejaVuSans-50\"/>\r\n       <use x=\"127.246094\" xlink:href=\"#DejaVuSans-48\"/>\r\n      </g>\r\n     </g>\r\n    </g>\r\n   </g>\r\n   <g id=\"matplotlib.axis_2\">\r\n    <g id=\"ytick_1\">\r\n     <g id=\"line2d_8\">\r\n      <defs>\r\n       <path d=\"M 0 0 \r\nL -3.5 0 \r\n\" id=\"m70bb5e8492\" style=\"stroke:#000000;stroke-width:0.8;\"/>\r\n      </defs>\r\n      <g>\r\n       <use style=\"stroke:#000000;stroke-width:0.8;\" x=\"26.925\" xlink:href=\"#m70bb5e8492\" y=\"10.999219\"/>\r\n      </g>\r\n     </g>\r\n     <g id=\"text_8\">\r\n      <!-- 0 -->\r\n      <g transform=\"translate(13.5625 14.798437)scale(0.1 -0.1)\">\r\n       <use xlink:href=\"#DejaVuSans-48\"/>\r\n      </g>\r\n     </g>\r\n    </g>\r\n    <g id=\"ytick_2\">\r\n     <g id=\"line2d_9\">\r\n      <g>\r\n       <use style=\"stroke:#000000;stroke-width:0.8;\" x=\"26.925\" xlink:href=\"#m70bb5e8492\" y=\"38.441842\"/>\r\n      </g>\r\n     </g>\r\n     <g id=\"text_9\">\r\n      <!-- 10 -->\r\n      <g transform=\"translate(7.2 42.24106)scale(0.1 -0.1)\">\r\n       <use xlink:href=\"#DejaVuSans-49\"/>\r\n       <use x=\"63.623047\" xlink:href=\"#DejaVuSans-48\"/>\r\n      </g>\r\n     </g>\r\n    </g>\r\n    <g id=\"ytick_3\">\r\n     <g id=\"line2d_10\">\r\n      <g>\r\n       <use style=\"stroke:#000000;stroke-width:0.8;\" x=\"26.925\" xlink:href=\"#m70bb5e8492\" y=\"65.884465\"/>\r\n      </g>\r\n     </g>\r\n     <g id=\"text_10\">\r\n      <!-- 20 -->\r\n      <g transform=\"translate(7.2 69.683683)scale(0.1 -0.1)\">\r\n       <use xlink:href=\"#DejaVuSans-50\"/>\r\n       <use x=\"63.623047\" xlink:href=\"#DejaVuSans-48\"/>\r\n      </g>\r\n     </g>\r\n    </g>\r\n    <g id=\"ytick_4\">\r\n     <g id=\"line2d_11\">\r\n      <g>\r\n       <use style=\"stroke:#000000;stroke-width:0.8;\" x=\"26.925\" xlink:href=\"#m70bb5e8492\" y=\"93.327088\"/>\r\n      </g>\r\n     </g>\r\n     <g id=\"text_11\">\r\n      <!-- 30 -->\r\n      <g transform=\"translate(7.2 97.126306)scale(0.1 -0.1)\">\r\n       <defs>\r\n        <path d=\"M 40.578125 39.3125 \r\nQ 47.65625 37.796875 51.625 33 \r\nQ 55.609375 28.21875 55.609375 21.1875 \r\nQ 55.609375 10.40625 48.1875 4.484375 \r\nQ 40.765625 -1.421875 27.09375 -1.421875 \r\nQ 22.515625 -1.421875 17.65625 -0.515625 \r\nQ 12.796875 0.390625 7.625 2.203125 \r\nL 7.625 11.71875 \r\nQ 11.71875 9.328125 16.59375 8.109375 \r\nQ 21.484375 6.890625 26.8125 6.890625 \r\nQ 36.078125 6.890625 40.9375 10.546875 \r\nQ 45.796875 14.203125 45.796875 21.1875 \r\nQ 45.796875 27.640625 41.28125 31.265625 \r\nQ 36.765625 34.90625 28.71875 34.90625 \r\nL 20.21875 34.90625 \r\nL 20.21875 43.015625 \r\nL 29.109375 43.015625 \r\nQ 36.375 43.015625 40.234375 45.921875 \r\nQ 44.09375 48.828125 44.09375 54.296875 \r\nQ 44.09375 59.90625 40.109375 62.90625 \r\nQ 36.140625 65.921875 28.71875 65.921875 \r\nQ 24.65625 65.921875 20.015625 65.03125 \r\nQ 15.375 64.15625 9.8125 62.3125 \r\nL 9.8125 71.09375 \r\nQ 15.4375 72.65625 20.34375 73.4375 \r\nQ 25.25 74.21875 29.59375 74.21875 \r\nQ 40.828125 74.21875 47.359375 69.109375 \r\nQ 53.90625 64.015625 53.90625 55.328125 \r\nQ 53.90625 49.265625 50.4375 45.09375 \r\nQ 46.96875 40.921875 40.578125 39.3125 \r\nz\r\n\" id=\"DejaVuSans-51\"/>\r\n       </defs>\r\n       <use xlink:href=\"#DejaVuSans-51\"/>\r\n       <use x=\"63.623047\" xlink:href=\"#DejaVuSans-48\"/>\r\n      </g>\r\n     </g>\r\n    </g>\r\n   </g>\r\n   <g id=\"patch_3\">\r\n    <path d=\"M 26.925 97.443481 \r\nL 26.925 9.627088 \r\n\" style=\"fill:none;stroke:#000000;stroke-linecap:square;stroke-linejoin:miter;stroke-width:0.8;\"/>\r\n   </g>\r\n   <g id=\"patch_4\">\r\n    <path d=\"M 361.725 97.443481 \r\nL 361.725 9.627088 \r\n\" style=\"fill:none;stroke:#000000;stroke-linecap:square;stroke-linejoin:miter;stroke-width:0.8;\"/>\r\n   </g>\r\n   <g id=\"patch_5\">\r\n    <path d=\"M 26.925 97.443481 \r\nL 361.725 97.443481 \r\n\" style=\"fill:none;stroke:#000000;stroke-linecap:square;stroke-linejoin:miter;stroke-width:0.8;\"/>\r\n   </g>\r\n   <g id=\"patch_6\">\r\n    <path d=\"M 26.925 9.627088 \r\nL 361.725 9.627088 \r\n\" style=\"fill:none;stroke:#000000;stroke-linecap:square;stroke-linejoin:miter;stroke-width:0.8;\"/>\r\n   </g>\r\n  </g>\r\n </g>\r\n <defs>\r\n  <clipPath id=\"p44a7f8a134\">\r\n   <rect height=\"87.816393\" width=\"334.8\" x=\"26.925\" y=\"9.627088\"/>\r\n  </clipPath>\r\n </defs>\r\n</svg>\r\n",
      "image/png": "[encoded data removed]"
     },
     "metadata": {
      "needs_background": "light"
     }
    }
   ],
   "source": [
    "# TensorBoard 설정\n",
    "\n",
    "from torch.utils.tensorboard import SummaryWriter\n",
    "# 기본 log_dir 은 runs이며 여기서는 더 구체적으로 지정하였다. \n",
    "writer=SummaryWriter('runs/fashion_mnist_experiment_1')\n",
    "\n",
    "# TensorBoard 에 기록하기 \n",
    "\n",
    "dataiter=iter(trainloader)\n",
    "images,labels=dataiter.next()\n",
    "#이미지 그리드를 만듭니다 \n",
    "img_grid=torchvision.utils.make_grid(images)\n",
    "\n",
    "# 이미지를 보여줍니다.\n",
    "matplotlib_imshow(img_grid,one_channel=True)\n",
    "\n",
    "# 텐서보드에 기록합니다 \n",
    "writer.add_image('four_fashion_mnist_images',img_grid)\n"
   ]
  },
  {
   "cell_type": "code",
   "execution_count": 133,
   "metadata": {},
   "outputs": [],
   "source": [
    "writer.add_graph(net,images)\n",
    "writer.close()"
   ]
  }
 ]
}