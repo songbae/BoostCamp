{
 "cells": [
  {
   "cell_type": "markdown",
   "metadata": {},
   "source": [
    "### why is visual perception important ?\r\n",
    "---\r\n",
    "\r\n",
    "- visual perception & intelligence : input: visual data(image or video )\r\n",
    "\r\n",
    "-class of visual perception \r\n",
    "  - color perception\r\n",
    "  - motion perception\r\n",
    "  - 3D perception \r\n",
    "  - Semantic level perception\r\n",
    "  - Social perception\r\n",
    "  - visuomotor perception\r\n",
    "\r\n",
    "\r\n",
    "  ### how to implement?\r\n",
    "  ---\r\n",
    "  #### Machine learning \r\n",
    "  - input -> feature extraction -> classification -> output \r\n",
    "\r\n",
    "  #### Deep learning \r\n",
    "  - input -> feature extraction +classification-> output \r\n",
    "\r\n",
    "  ### fundamental image tasks\r\n",
    "  - image\r\n",
    "  - Semantic segmentation \r\n",
    "  - object detection & segmentation \r\n",
    "  - Panopthic Segmentation \r\n",
    "\r\n",
    "  ### classfier\r\n",
    "  ---\r\n",
    "  -  A mapping that maps an image to a category level \r\n",
    "\r\n",
    "  ### K Nearst Neighbors (k-nn)\r\n",
    "  - classifies by neighbor \r\n",
    "\r\n",
    "  ### Convolutional Neural Network(CNN)\r\n",
    "  ---\r\n",
    "\r\n",
    "  - CNN is used as a backbone of many CV tasks \r\n",
    "\r\n",
    "   \r\n",
    "\r\n",
    "\r\n",
    "\r\n",
    "\r\n",
    "\r\n",
    "  \r\n",
    "\r\n",
    "\r\n"
   ]
  },
  {
   "cell_type": "code",
   "execution_count": null,
   "metadata": {},
   "outputs": [],
   "source": [
    "# 명암 조절 \r\n",
    "def brightness_augmentation (img):"
   ]
  }
 ],
 "metadata": {
  "kernelspec": {
   "display_name": "Python 3.8.5 64-bit (conda)",
   "metadata": {
    "interpreter": {
     "hash": "a955008dc820c70e8c41cf6f115bde945f96d07d69c96eec2ee76e53bea50083"
    }
   },
   "name": "python3"
  },
  "language_info": {
   "name": "python",
   "nbconvert_exporter": "python",
   "version": "3.8.5-final"
  },
  "orig_nbformat": 2
 },
 "nbformat": 4,
 "nbformat_minor": 2
}