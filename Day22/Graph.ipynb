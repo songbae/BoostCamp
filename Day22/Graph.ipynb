{
 "metadata": {
  "language_info": {
   "codemirror_mode": {
    "name": "ipython",
    "version": 3
   },
   "file_extension": ".py",
   "mimetype": "text/x-python",
   "name": "python",
   "nbconvert_exporter": "python",
   "pygments_lexer": "ipython3",
   "version": "3.8.5-final"
  },
  "orig_nbformat": 2,
  "kernelspec": {
   "name": "python3",
   "display_name": "Python 3",
   "language": "python"
  }
 },
 "nbformat": 4,
 "nbformat_minor": 2,
 "cells": [
  {
   "cell_type": "code",
   "execution_count": null,
   "metadata": {},
   "outputs": [],
   "source": [
    "### PageRank Algorithm \n",
    "---\n",
    "- 웹은 페이지와 하이퍼링크로 구성된 방향성 있는 그래프 이다 \n",
    "1. 웹을 거대한 디렉토리로 정리 하는 것 \n",
    "2. 웹페이지에 포함된 키워드에 의존한 검색 엔진 : 악의적인 웹페이지에 취약하다 \n",
    "- 사용자 키워드와 `관련성`이 높고 `신뢰`할 수 있는 웹페이지를 어떻게 찾을 수 있을까?\n",
    "---\n",
    "\n",
    "### 페이지 랭크의 정의\n",
    "---\n",
    "\n",
    "```\n",
    "`투표`를 통해 키워드와 관련성이 높고 신뢰할 수 있는 페이지를 찾는다 .\n",
    "\n",
    "즉, 들어오는 간선이 많을 수록 신뢰 할 수 있다는 뜻이다.\n",
    "\n",
    "`가중 투표`를 한다. \n",
    "측정하려는 웹페이지의 관련성 및 신뢰도를 페이지랭크 점수라고 부르다.\n",
    "각 웹페이지는 각각의 나가는 이웃에게 `자신의 페이지랭크 점수/나가는 이웃의 수` 만큼의 가중치로 투표를 한다.\n",
    "\n",
    "\n",
    "\n",
    "\n",
    "문제 해결을 위해 `순간이동 (Teleport)`을 도입한다. \n",
    "1) 현재 웹페이지에 하이퍼링크가 없다면, 임의의 웹페이지로 `순간이동`한다.\n",
    "2) 현재 웹페이지에 하이퍼링크가 있다면, 앞면이 나올확률이  a인 동전을 던진다.\n",
    "3) 앞면이라면, 하이퍼링크 중 하나를 균일한 확률로 선택해 클릭한다.\n",
    "4) 뒷면이라면 , 임의의 웹페이지로 순간이동 한다. \n",
    "(1)과(4) 의 임의의 웹페이지는 전체 웹페이지들 중에 하나를 균일 확률로 선택한다. 순간이동에 의해서 스파이더 트랩이나 막다른 정점에\n",
    "갇히는 일이 없어졌다. a를 `감폭비율(Damping Factor)` 라고 부르며 값으로 보통 0.8정도를 사용한다.\n",
    "\n",
    "\n",
    "```\n"
   ]
  },
  {
   "cell_type": "code",
   "execution_count": 1,
   "metadata": {},
   "outputs": [
    {
     "output_type": "stream",
     "name": "stdout",
     "text": [
      "cpu\n"
     ]
    }
   ],
   "source": [
    "# 필요한 라이브러리 \n",
    "import networkx as nx\n",
    "import numpy as np \n",
    "import matplotlib.pyplot as plt \n",
    "import os \n",
    "import os.path as osp\n",
    "import sys\n",
    "import torch \n",
    "device= torch.device('cuda' if torch.cuda.is_available() else 'cpu')\n",
    "print(device)"
   ]
  },
  {
   "cell_type": "code",
   "execution_count": null,
   "metadata": {},
   "outputs": [],
   "source": [
    "### 그래프를 통한 전파의 예시 \n",
    "---\n",
    "\n",
    "- 그래프를 통한 질병의 전파 \n",
    "- 의사결정 기반의 전파모형 \n",
    "` 선형임계치 모형` : \n",
    "--- \n",
    "\n",
    "- 언제 확률적 전파 모형을 사용할까?\n",
    "---\n",
    "방향성이 있는 가중치가 있는 그래프를 가정하자.\n",
    "\n",
    "\n",
    "---\n",
    "\n",
    "### 바이럴 마케팅과 전파 최대화 문제 \n",
    "---\n",
    "바이럴 마케팅은 소비자들로 하여금 상품에 대한 긍정적인 입소문을 내게 하는 기법입니다.\n",
    "바이럴 마케팅이 효과적이기 위해서는 `소문의 시작점`이 중요하다.\n",
    "시작점이 어디인지에 따라서 `입소문이 전파되는 범위`가 영향을 받기 때문이다.\n",
    "`소셜 인플루언서(social influencer)`들이 높은 광고비를 받는 이유!\n",
    "\n",
    "전파를 최대화하는 시드 집합을 찾는 문제를 `전파 최대화` 문제라고 합니다.\n",
    "NP-hard 문제이므로 최고치를 찾는 것은 포기하자\n",
    "\n",
    "대신 `정점 중심성 휴리스틱`알고리즘을 사용하자 \n",
    "- 즉 시드 집합의 크기가 k개로 고정되어 있을 때, 정점의 중심성이 높은 순으로 k개 정점을 선택하는 방법이다. 정점의 중심성으로는 `페이지랭크 점수, 연결 중심성, 근접 중심성, 매개 중심성` 등이 있다. 합리적인 방법이지만, 최고의 시드 집합을 찾는다는 보장은 없습니다.\n"
   ]
  }
 ]
}