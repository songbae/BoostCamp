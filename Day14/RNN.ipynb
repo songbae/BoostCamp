{
 "metadata": {
  "language_info": {
   "codemirror_mode": {
    "name": "ipython",
    "version": 3
   },
   "file_extension": ".py",
   "mimetype": "text/x-python",
   "name": "python",
   "nbconvert_exporter": "python",
   "pygments_lexer": "ipython3",
   "version": 3
  },
  "orig_nbformat": 2
 },
 "nbformat": 4,
 "nbformat_minor": 2,
 "cells": [
  {
   "source": [
    "## Deep Learning Basics\n",
    "---\n",
    "> RNN\n",
    "\n",
    "---\n",
    "\n",
    "- `Sequential Model`\n",
    "\n",
    "- latent autoregressive model(Hidden state 과 과거의 정보를 저장하고 있다)\n",
    "- short-term dependencies\n",
    "- long-term dependency에 대해서 취약하다.\n",
    "---\n",
    "\n",
    "- `LSTM`\n",
    "\n",
    "- 왜 롱텀 dependency에 좋은가?\n",
    "\n",
    "- Forget Gate:  Decide which information to throw away\n",
    "\n",
    "- Input Gate: Decide which information to store in the cell state\n",
    "\n",
    "- Update Cell : Update the cell state\n",
    "\n",
    "- OuptPut Gate: Make Output using the updated cell state\n",
    "\n",
    "---\n",
    "\n",
    "- `Gated Recurrent Unit`\n",
    "\n",
    "- simpler architecture with two gates(rest gate and update gate)\n",
    "\n",
    "- no cell state, just hidden state\n",
    "\n",
    "\n",
    "\n"
   ],
   "cell_type": "markdown",
   "metadata": {}
  },
  {
   "cell_type": "code",
   "execution_count": null,
   "metadata": {},
   "outputs": [],
   "source": []
  }
 ]
}