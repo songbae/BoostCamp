{
 "cells": [
  {
   "cell_type": "code",
   "execution_count": 130,
   "id": "delayed-monitoring",
   "metadata": {},
   "outputs": [
    {
     "name": "stdout",
     "output_type": "stream",
     "text": [
      "[[116.46009 143.25746 258.68982 323.38068]\n",
      " [298.3283  381.15186 348.59985 442.44498]]\n",
      "[[128.24576 143.95583 260.71985 308.154  ]\n",
      " [306.3845  377.55005 351.59357 432.63675]]\n",
      "[[119.37738 133.53835 271.2781  335.54495]\n",
      " [301.08646 387.86496 358.33392 454.4481 ]]\n",
      "[[120.03318 145.26224 249.566   308.2451 ]\n",
      " [259.71332 147.11377 287.30814 188.65877]]\n",
      "[[103.024765  83.52531  280.4522   308.8779  ]\n",
      " [301.29813  222.08195  342.40518  275.55136 ]]\n",
      "oh no\n",
      "oh no\n",
      "oh no\n",
      "oh no\n",
      "oh no\n",
      "oh no\n",
      "[[107.36732 250.49338 295.37247 428.65405]\n",
      " [117.61358 158.79984 252.69638 325.37753]]\n",
      "[[ 96.39789   74.22068  281.19168  310.6685  ]\n",
      " [ 55.928596 174.34508   70.09641  191.93776 ]]\n"
     ]
    },
    {
     "ename": "KeyboardInterrupt",
     "evalue": "",
     "output_type": "error",
     "traceback": [
      "\u001b[0;31m---------------------------------------------------------------------------\u001b[0m",
      "\u001b[0;31mKeyboardInterrupt\u001b[0m                         Traceback (most recent call last)",
      "\u001b[0;32m<ipython-input-130-63222fb0d3d3>\u001b[0m in \u001b[0;36m<module>\u001b[0;34m\u001b[0m\n\u001b[1;32m      9\u001b[0m         \u001b[0;32mif\u001b[0m \u001b[0mimgs\u001b[0m\u001b[0;34m[\u001b[0m\u001b[0;36m0\u001b[0m\u001b[0;34m]\u001b[0m\u001b[0;34m==\u001b[0m\u001b[0;34m'.'\u001b[0m\u001b[0;34m:\u001b[0m\u001b[0;32mcontinue\u001b[0m\u001b[0;34m\u001b[0m\u001b[0;34m\u001b[0m\u001b[0m\n\u001b[1;32m     10\u001b[0m         \u001b[0mimg_dir\u001b[0m\u001b[0;34m=\u001b[0m\u001b[0mos\u001b[0m\u001b[0;34m.\u001b[0m\u001b[0mpath\u001b[0m\u001b[0;34m.\u001b[0m\u001b[0mjoin\u001b[0m\u001b[0;34m(\u001b[0m\u001b[0msub_dir\u001b[0m\u001b[0;34m,\u001b[0m\u001b[0mimgs\u001b[0m\u001b[0;34m)\u001b[0m\u001b[0;34m\u001b[0m\u001b[0;34m\u001b[0m\u001b[0m\n\u001b[0;32m---> 11\u001b[0;31m         \u001b[0mimage\u001b[0m\u001b[0;34m=\u001b[0m\u001b[0mcv2\u001b[0m\u001b[0;34m.\u001b[0m\u001b[0mimread\u001b[0m\u001b[0;34m(\u001b[0m\u001b[0mimg_dir\u001b[0m\u001b[0;34m)\u001b[0m\u001b[0;34m\u001b[0m\u001b[0;34m\u001b[0m\u001b[0m\n\u001b[0m\u001b[1;32m     12\u001b[0m         \u001b[0mimage\u001b[0m\u001b[0;34m=\u001b[0m\u001b[0mcv2\u001b[0m\u001b[0;34m.\u001b[0m\u001b[0mcvtColor\u001b[0m\u001b[0;34m(\u001b[0m\u001b[0mimage\u001b[0m\u001b[0;34m,\u001b[0m\u001b[0mcv2\u001b[0m\u001b[0;34m.\u001b[0m\u001b[0mCOLOR_BGR2RGB\u001b[0m\u001b[0;34m)\u001b[0m\u001b[0;34m\u001b[0m\u001b[0;34m\u001b[0m\u001b[0m\n\u001b[1;32m     13\u001b[0m         \u001b[0mboxes\u001b[0m\u001b[0;34m,\u001b[0m\u001b[0mprobs\u001b[0m\u001b[0;34m=\u001b[0m \u001b[0mmtcnn\u001b[0m\u001b[0;34m.\u001b[0m\u001b[0mdetect\u001b[0m\u001b[0;34m(\u001b[0m\u001b[0mimage\u001b[0m\u001b[0;34m)\u001b[0m\u001b[0;34m\u001b[0m\u001b[0;34m\u001b[0m\u001b[0m\n",
      "\u001b[0;31mKeyboardInterrupt\u001b[0m: "
     ]
    }
   ],
   "source": [
    "new_img_dir='./input/data/train/new_img'\n",
    "img_path='./input/data/train/images'\n",
    "cnt=0\n",
    "for paths in os.listdir(img_path):\n",
    "    if paths[0]=='.':continue\n",
    "    sub_dir=os.path.join(img_path,paths)\n",
    "    \n",
    "    for imgs in os.listdir(sub_dir):\n",
    "        if imgs[0]=='.':continue\n",
    "        img_dir=os.path.join(sub_dir,imgs)\n",
    "        image=cv2.imread(img_dir)\n",
    "        image=cv2.cvtColor(image,cv2.COLOR_BGR2RGB)\n",
    "        boxes,probs= mtcnn.detect(image)\n",
    "        if len(probs)>1: \n",
    "            print(boxes)\n",
    "        if not isinstance(boxes,np.ndarray):\n",
    "            print('oh no')\n",
    "            image=image[100:400,50:350,:]\n",
    "        else:\n",
    "            xmin=int(boxes[0,0])-20\n",
    "            ymin=int(boxes[0,1])-30\n",
    "            xmax=int(boxes[0,2])+20\n",
    "            ymax=int(boxes[0,3])+30\n",
    "            if xmin<0:xmin=0\n",
    "            if ymin<0:ymin=0\n",
    "            if xmax>384:xmax=384\n",
    "            if ymax>512:ymax=512\n",
    "            image=image[ymin:ymax,xmin:xmax,:]\n",
    "#         temp=os.path.join(new_img_dir,paths)\n",
    "#         cnt+=1\n",
    "#         plt.imsave(os.path.join(temp,imgs),image)\n",
    "cnt"
   ]
  },
  {
   "cell_type": "code",
   "execution_count": null,
   "id": "above-reaction",
   "metadata": {},
   "outputs": [],
   "source": [
    "\n",
    "import torch \n",
    "import torch.nn as nn \n",
    "import torch.optim as optim \n",
    "import pandas as pd \n",
    "import numpy as np \n",
    "import matplotlib.pyplot as plt \n",
    "from torchvision import transforms \n",
    "import time, os, sys, copy, random \n",
    "from efficientnet_pytorch import EfficientNet\n",
    "from sklearn.model_selection import train_test_split\n",
    "from glob import glob \n",
    "from torch.utils.data import Dataset,DataLoader \n",
    "import cv2\n",
    "import albumentations as A\n",
    "from facenet_pytorch import MTCNN\n",
    "\n",
    "device='cuda' if torch.cuda.is_available() else 'cpu'\n",
    "mtcnn=MTCNN(keep_all=True,device=device)\n",
    "test_df=pd.read_csv('./input/data/eval/info.csv')\n",
    "path='./input/data/eval/images'\n",
    "new_path='./input/data/eval/new_images'\n",
    "if not os.path.exists(new_path):\n",
    "    os.mkdir(new_path)\n",
    "for i in test_df.values:\n",
    "    img=cv2.imread(os.path.join(path,i[0]))\n",
    "    img=cv2.cvtColor(img,cv2.COLOR_BGR2RGB)\n",
    "    boxes,probs= mtcnn.detect(img)\n",
    "    if not isinstance(boxes,np.ndarray):\n",
    "        print('oh no')\n",
    "        img=img[100:400,50:350,:]\n",
    "    else:\n",
    "        xmin=int(boxes[0,0])-20\n",
    "        ymin=int(boxes[0,1])-30\n",
    "        xmax=int(boxes[0,2])+20\n",
    "        ymax=int(boxes[0,3])+30\n",
    "        if xmin<0:xmin=0\n",
    "        if ymin<0:ymin=0\n",
    "        if xmax>384:xmax=384\n",
    "        if ymax>512:ymax=512\n",
    "        img=img[ymin:ymax,xmin:xmax,:]\n",
    "    plt.imsave(os.path.join(new_path,i[0]),img)"
   ]
  }
 ],
 "metadata": {
  "kernelspec": {
   "display_name": "Python 3",
   "language": "python",
   "name": "python3"
  },
  "language_info": {
   "codemirror_mode": {
    "name": "ipython",
    "version": 3
   },
   "file_extension": ".py",
   "mimetype": "text/x-python",
   "name": "python",
   "nbconvert_exporter": "python",
   "pygments_lexer": "ipython3",
   "version": "3.7.7"
  }
 },
 "nbformat": 4,
 "nbformat_minor": 5
}
