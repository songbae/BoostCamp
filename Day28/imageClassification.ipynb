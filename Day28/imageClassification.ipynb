{
 "cells": [
  {
   "cell_type": "markdown",
   "metadata": {},
   "source": [
    "### Going deeper layer \r\n",
    "---\r\n",
    "\r\n",
    "deeper networks are harder to optimize \r\n",
    "- gradient vanishing/exploding \r\n",
    "- Computationally complex \r\n",
    "- overfitting problem-> Degradation Problem \r\n",
    "\r\n",
    "### GoogleNet\r\n",
    "---\r\n",
    "\r\n",
    "- 1x1 convlotions -> parameter less \r\n",
    "\r\n",
    "- stran network : vanilla convlotion networks \r\n",
    "- staked inception modules \r\n",
    "- Auxiliary classfiers \r\n",
    "- classfier output( a single FC layer)\r\n",
    "\r\n",
    "\r\n",
    "### ResNet (아직도 많이 쓰인다 )\r\n",
    "---\r\n",
    "\r\n",
    "- Deeper ResNets have lower error rate \r\n",
    "\r\n",
    "- As the network depth increases, acucuracy gets saturated-> degrade rapidly \r\n",
    "\r\n",
    "- overfitting 문제가 아니다. -> 최적화의 문제이다 -> gradient 와 관계가 있을것이라는 추론 \r\n",
    "\r\n",
    "- short cut connection -> 옆으로 가는 경우 gradient vanish 부분 문제를 해결할 수 있다. \r\n",
    "\r\n",
    "- \r\n",
    "\r\n",
    "\r\n",
    "\r\n",
    "### sementic segmentation -> pixel 단위로 분류하는 문제 \r\n",
    "---\r\n",
    "\r\n",
    "- 하나의 픽셀이 어디에 속하는지를 구분한다. \r\n",
    "- 물체에 마스크를 생성한다.\r\n",
    "\r\n",
    "### Fully convolutional Networks(FCN)\r\n",
    "---\r\n",
    "\r\n",
    "\r\n",
    "\r\n"
   ]
  }
 ],
 "metadata": {
  "kernelspec": {
   "display_name": "Python 3.8.5 64-bit (conda)",
   "metadata": {
    "interpreter": {
     "hash": "a955008dc820c70e8c41cf6f115bde945f96d07d69c96eec2ee76e53bea50083"
    }
   },
   "name": "python3"
  },
  "language_info": {
   "name": "python",
   "nbconvert_exporter": "python",
   "version": "3.8.5-final"
  },
  "orig_nbformat": 2
 },
 "nbformat": 4,
 "nbformat_minor": 2
}