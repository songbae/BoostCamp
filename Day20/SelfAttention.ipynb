{
 "metadata": {
  "language_info": {
   "codemirror_mode": {
    "name": "ipython",
    "version": 3
   },
   "file_extension": ".py",
   "mimetype": "text/x-python",
   "name": "python",
   "nbconvert_exporter": "python",
   "pygments_lexer": "ipython3",
   "version": 3
  },
  "orig_nbformat": 2
 },
 "nbformat": 4,
 "nbformat_minor": 2,
 "cells": [
  {
   "cell_type": "code",
   "execution_count": null,
   "metadata": {},
   "outputs": [],
   "source": [
    "###Recent Trends \n",
    "---\n",
    "-Transformer model and its self-attention block has become a general purpose sequence encoder and decoder \n",
    "\n",
    "---\n",
    "\n",
    "###GTP-1\n",
    "---\n",
    "\n",
    "---\n",
    "###Bert\n",
    "---\n",
    "- learnn through masked language modeling task \n",
    "- use large-scale data and large-scale model \n",
    "- Masked Language model\n",
    "```\n",
    "motiviation: language models only use left context or right context. but language understand bi-directional \n",
    "\n",
    "if we use bi-directional language \n",
    "```\n"
   ]
  }
 ]
}