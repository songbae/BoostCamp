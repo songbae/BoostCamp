{
 "metadata": {
  "language_info": {
   "codemirror_mode": {
    "name": "ipython",
    "version": 3
   },
   "file_extension": ".py",
   "mimetype": "text/x-python",
   "name": "python",
   "nbconvert_exporter": "python",
   "pygments_lexer": "ipython3",
   "version": 3
  },
  "orig_nbformat": 2
 },
 "nbformat": 4,
 "nbformat_minor": 2,
 "cells": [
  {
   "cell_type": "code",
   "execution_count": null,
   "metadata": {},
   "outputs": [],
   "source": [
    "###Recent Trends \n",
    "---\n",
    "-Transformer model and its self-attention block has become a general purpose sequence encoder and decoder \n",
    "\n",
    "---\n",
    "\n",
    "###GTP-1\n",
    "---\n",
    "\n",
    "---\n",
    "###Bert\n",
    "---\n",
    "- learnn through masked language modeling task \n",
    "- use large-scale data and large-scale model \n",
    "- Masked Language model\n",
    "```\n",
    "motiviation: language models only use left context or right context. but language understand bi-directional \n",
    "\n",
    "if we use bi-directional language \n",
    "\n",
    "Problem \n",
    "\n",
    "mask token never seen during fine-tuning\n",
    "\n",
    "Solution \n",
    "\n",
    "15% of the words to predict, but don't replace with mask 100% of the time, instead\n",
    "80% of \n",
    "```\n",
    "\n",
    "###BERT vs GPT\n",
    "---\n",
    "-training size: \n",
    "- training special tokesn during training \n",
    "- bert learns sep cls and setence a/b embedding during pre training \n",
    "- batch-size : bert-> 128000, gpt-> 32000 words \n",
    "- Task specific fine-tuning \n",
    "- Gpt uses the same learing rate of  5e-5 for all fine-tuning experiments; Bert choose a task -specific fine-tunning learning rate.\n"
   ]
  }
 ]
}