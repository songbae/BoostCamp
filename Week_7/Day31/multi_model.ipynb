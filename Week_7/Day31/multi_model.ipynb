{
 "cells": [
  {
   "cell_type": "markdown",
   "metadata": {},
   "source": [
    "### 기계학습 2주차 과제 \n",
    "---\n",
    "12141537 박성배 \n",
    "\n",
    "#### 주제:pandas& numpy"
   ]
  },
  {
   "cell_type": "code",
   "execution_count": 58,
   "metadata": {},
   "outputs": [
    {
     "name": "stdout",
     "output_type": "stream",
     "text": [
      "[1 0 2 3 4 5]\n",
      "#dimentions= 1\n",
      "(6,)\n",
      "6\n",
      "int32\n",
      "[[1 2]\n",
      " [2 3]\n",
      " [3 2]\n",
      " [3 2]]\n",
      "2\n",
      "8\n",
      "int32\n",
      "[['1' 'a' '3.0']\n",
      " ['2' 'b' '3.4']]\n",
      "2\n",
      "(2, 3)\n",
      "6\n"
     ]
    }
   ],
   "source": [
    "import numpy as np\n",
    "onedim = np.array([1, 0, 2, 3, 4, 5])\n",
    "print(onedim)\n",
    "print('#dimentions=', onedim.ndim)\n",
    "print(onedim.shape)\n",
    "print(onedim.size)\n",
    "print(onedim.dtype)\n",
    "\n",
    "twodim = np.array([[1, 2], [2, 3], [3, 2], [3, 2]])\n",
    "print(twodim)\n",
    "print(twodim.ndim)\n",
    "print(twodim.size)\n",
    "print(twodim.dtype)\n",
    "\n",
    "arrtuple = np.array([(1, 'a', 3.0), (2, 'b', 3.4)])\n",
    "print(arrtuple)\n",
    "print(arrtuple.ndim)\n",
    "print(arrtuple.shape)\n",
    "print(arrtuple.size)"
   ]
  },
  {
   "cell_type": "code",
   "execution_count": 61,
   "metadata": {},
   "outputs": [
    {
     "name": "stdout",
     "output_type": "stream",
     "text": [
      "[[0.0557641  0.94319012 0.5034507  0.37705194]]\n",
      "[[ 0.39105136 -0.26785048  0.11237752 -0.4170581 ]]\n",
      "[-10  -8  -6  -4  -2   0   2   4   6   8]\n",
      "[[ 0  1  2  3]\n",
      " [ 4  5  6  7]\n",
      " [ 8  9 10 11]]\n",
      "[0.         0.11111111 0.22222222 0.33333333 0.44444444 0.55555556\n",
      " 0.66666667 0.77777778 0.88888889 1.        ]\n",
      "[1.e-03 1.e-02 1.e-01 1.e+00 1.e+01 1.e+02 1.e+03]\n"
     ]
    }
   ],
   "source": [
    "print(np.random.rand(1,4))\n",
    "print(np.random.randn(1,4))\n",
    "print(np.arange(-10, 10, 2))\n",
    "print(np.arange(12).reshape(3, 4))\n",
    "print(np.linspace(0, 1, 10))# a-> b까지 리니어하게 증가하게 만드는 함수?\n",
    "print(np.logspace(-3,3,7))"
   ]
  },
  {
   "cell_type": "code",
   "execution_count": 76,
   "metadata": {},
   "outputs": [
    {
     "name": "stdout",
     "output_type": "stream",
     "text": [
      "[[0. 0. 0.]\n",
      " [0. 0. 0.]]\n",
      "[[1. 1.]\n",
      " [1. 1.]\n",
      " [1. 1.]]\n",
      "[[1. 0. 0.]\n",
      " [0. 1. 0.]\n",
      " [0. 0. 1.]]\n"
     ]
    }
   ],
   "source": [
    "print(np.zeros((2, 3)))\n",
    "print(np.ones((3, 2)))\n",
    "print(np.eye(3))\n"
   ]
  },
  {
   "cell_type": "code",
   "execution_count": 77,
   "metadata": {},
   "outputs": [
    {
     "name": "stdout",
     "output_type": "stream",
     "text": [
      "[2 3 4 5 6]\n",
      "[0 1 2 3 4]\n",
      "[ 2  4  6  8 10]\n",
      "[0 1 1 2 2]\n",
      "[ 1  4  9 16 25]\n",
      "[1 0 1 0 1]\n",
      "[1.         0.5        0.33333333 0.25       0.2       ]\n"
     ]
    }
   ],
   "source": [
    "x = np.array([1, 2, 3, 4, 5])\n",
    "print(x + 1)  \n",
    "print(x - 1)  \n",
    "print(x * 2)  \n",
    "print(x // 2) \n",
    "print(x ** 2) \n",
    "print(x % 2)  \n",
    "print(1 / x)  \n"
   ]
  },
  {
   "cell_type": "code",
   "execution_count": 78,
   "metadata": {},
   "outputs": [
    {
     "name": "stdout",
     "output_type": "stream",
     "text": [
      "[ 3  6  9 12 15]\n",
      "[1 2 3 4 5]\n",
      "[ 2  8 18 32 50]\n",
      "[2. 2. 2. 2. 2.]\n",
      "[2 2 2 2 2]\n",
      "[     2     16    216   4096 100000]\n"
     ]
    }
   ],
   "source": [
    "x = np.array([2, 4, 6, 8, 10])\n",
    "y = np.array([1, 2, 3, 4, 5])\n",
    "print(x + y)\n",
    "print(x - y)\n",
    "print(x * y)\n",
    "print(x / y)\n",
    "print(x // y)\n",
    "print(x ** y)\n"
   ]
  },
  {
   "cell_type": "code",
   "execution_count": 79,
   "metadata": {},
   "outputs": [
    {
     "name": "stdout",
     "output_type": "stream",
     "text": [
      "[-5 -4 -3 -2 -1  0  1  2  3  4]\n",
      "[-2 -1]\n",
      "[1000 1000]\n",
      "[  -5   -4   -3 1000 1000    0    1    2    3    4]\n",
      "[1000 1000]\n",
      "[500 500]\n",
      "[  -5   -4   -3 1000 1000    0    1    2    3    4]\n"
     ]
    }
   ],
   "source": [
    "x = np.arange(-5, 5)\n",
    "print(x)\n",
    "y = x[3:5] #얕은 복사가 일어난다 서로 메모리를 공유하고있다\n",
    "print(y)\n",
    "y[:] = 1000   #\n",
    "print(y)\n",
    "print(x)\n",
    "z = x[3:5].copy()  #깊은 복사 즉 배열의 메모리를 공유하지 않는다 서로 독릭\n",
    "print(z)\n",
    "z[:] = 500  \n",
    "print(z)\n",
    "print(x)\n"
   ]
  },
  {
   "cell_type": "code",
   "execution_count": 80,
   "metadata": {},
   "outputs": [
    {
     "name": "stdout",
     "output_type": "stream",
     "text": [
      "[[1, 2, 3, 4], [5, 6, 7, 8], [9, 10, 11, 12]]\n",
      "[9, 10, 11, 12]\n",
      "[9, 10, 11, 12]\n",
      "[[ 1  2  3  4]\n",
      " [ 5  6  7  8]\n",
      " [ 9 10 11 12]]\n",
      "[ 9 10 11 12]\n",
      "[ 9 10 11 12]\n",
      "[ 9 10 11 12]\n",
      "[ 3  7 11]\n",
      "[[3 4]\n",
      " [7 8]]\n"
     ]
    }
   ],
   "source": [
    "my2dlist = [[1, 2, 3, 4], [5, 6, 7, 8], [9, 10, 11, 12]]  \n",
    "print(my2dlist)\n",
    "print(my2dlist[2])\n",
    "print(my2dlist[:][2])\n",
    "# print(my2dlist[:,2]) # this will cause syntax error\n",
    "my2darr = np.array(my2dlist)\n",
    "print(my2darr)\n",
    "print(my2darr[2][:]) \n",
    "print(my2darr[2, :]) \n",
    "print(my2darr[:][2]) \n",
    "print(my2darr[:, 2]) \n",
    "print(my2darr[:2, 2:])  \n"
   ]
  },
  {
   "cell_type": "code",
   "execution_count": 81,
   "metadata": {},
   "outputs": [
    {
     "name": "stdout",
     "output_type": "stream",
     "text": [
      "[[ 1  2  3  4]\n",
      " [ 5  6  7  8]\n",
      " [ 9 10 11 12]]\n",
      "[ 3  6  9 12] <class 'numpy.ndarray'>\n",
      "[[ 9 12]]\n"
     ]
    }
   ],
   "source": [
    "dy2darr = np.arange(1, 13, 1).reshape(3, 4)\n",
    "print(my2darr)\n",
    "divBy3 = my2darr[my2darr % 3 == 0]\n",
    "print(divBy3, type(divBy3))\n",
    "divBy3LastRow = my2darr[2:, my2darr[2, :] % 3 == 0]\n",
    "print(divBy3LastRow)\n"
   ]
  },
  {
   "cell_type": "code",
   "execution_count": 82,
   "metadata": {},
   "outputs": [
    {
     "name": "stdout",
     "output_type": "stream",
     "text": [
      "[[ 1  2  3]\n",
      " [ 4  5  6]\n",
      " [ 7  8  9]\n",
      " [10 11 12]]\n",
      "[[ 7  8  9]\n",
      " [ 4  5  6]\n",
      " [ 1  2  3]\n",
      " [10 11 12]]\n",
      "[ 1  3  4  8 12]\n"
     ]
    }
   ],
   "source": [
    "my2darr = np.arange(1, 13, 1).reshape(4, 3)\n",
    "print(my2darr)\n",
    "indices = [2, 1, 0, 3]  \n",
    "print(my2darr[indices, :])\n",
    "rowIndex = [0, 0, 1, 2, 3]\n",
    "columnIndex = [0, 2, 0, 1, 2]\n",
    "print(my2darr[rowIndex, columnIndex])\n"
   ]
  },
  {
   "cell_type": "code",
   "execution_count": 83,
   "metadata": {},
   "outputs": [
    {
     "name": "stdout",
     "output_type": "stream",
     "text": [
      "[-1.4  0.4 -3.2  2.5  3.4]\n",
      "[1.4 0.4 3.2 2.5 3.4]\n",
      "[1.18321596 0.63245553 1.78885438 1.58113883 1.84390889]\n",
      "[-1.  1. -1.  1.  1.]\n",
      "[ 0.24659696  1.4918247   0.0407622  12.18249396 29.96410005]\n",
      "[-3.2 -1.4  0.4  2.5  3.4]\n"
     ]
    }
   ],
   "source": [
    "y = np.array([-1.4, 0.4, -3.2, 2.5, 3.4])\n",
    "print(y)\n",
    "print(np.abs(y))\n",
    "print(np.sqrt(abs(y)))\n",
    "print(np.sign(y))\n",
    "print(np.exp(y)) \n",
    "print(np.sort(y)) \n"
   ]
  },
  {
   "cell_type": "code",
   "execution_count": 84,
   "metadata": {},
   "outputs": [
    {
     "name": "stdout",
     "output_type": "stream",
     "text": [
      "[-2 -1  0  1  2]\n",
      "[-0.95726845 -1.03901291 -0.70712668 -1.62453028  1.22049267]\n",
      "[-2.95726845 -2.03901291 -0.70712668 -0.62453028  3.22049267]\n",
      "[-1.04273155  0.03901291  0.70712668  2.62453028  0.77950733]\n",
      "[ 1.9145369   1.03901291 -0.         -1.62453028  2.44098534]\n",
      "[ 2.08927809  0.96245194 -0.         -0.61556255  1.63868252]\n",
      "[-0.95726845 -1.          0.          1.          2.        ]\n"
     ]
    }
   ],
   "source": [
    "x = np.arange(-2, 3)\n",
    "y = np.random.randn(5)\n",
    "print(x)\n",
    "print(y)\n",
    "print(np.add(x, y))  \n",
    "print(np.subtract(x, y))\n",
    "print(np.multiply(x, y)) \n",
    "print(np.divide(x, y))  \n",
    "print(np.maximum(x, y)) \n"
   ]
  },
  {
   "cell_type": "code",
   "execution_count": 85,
   "metadata": {},
   "outputs": [
    {
     "name": "stdout",
     "output_type": "stream",
     "text": [
      "[-3.2 -1.4  0.4  2.5  3.4]\n",
      "Min = -3.2\n",
      "Max = 3.4\n",
      "Average = 0.34000000000000014\n",
      "Std deviation = 2.432776191925595\n",
      "Sum = 1.7000000000000006\n"
     ]
    }
   ],
   "source": [
    "y = np.array([-3.2, -1.4, 0.4, 2.5, 3.4]) \n",
    "print(y)\n",
    "print(\"Min =\", np.min(y))  \n",
    "print(\"Max =\", np.max(y))  \n",
    "print(\"Average =\", np.mean(y))\n",
    "print(\"Std deviation =\", np.std(y))\n",
    "print(\"Sum =\", np.sum(y))  \n"
   ]
  },
  {
   "cell_type": "code",
   "execution_count": 86,
   "metadata": {},
   "outputs": [
    {
     "name": "stdout",
     "output_type": "stream",
     "text": [
      "[[-0.49090435 -0.01112614 -0.0672243 ]\n",
      " [-1.01615959  0.34012608  0.34700091]]\n",
      "[[-0.49090435 -1.01615959]\n",
      " [-0.01112614  0.34012608]\n",
      " [-0.0672243   0.34700091]]\n",
      "[-1.17504345  0.4146568   1.36858037]\n",
      "[0.48021855 1.80996589]\n",
      "[[0.24562998 0.47172598]\n",
      " [0.47172598 1.26867569]]\n",
      "[[ 1.27356738 -0.34016051 -0.3196076 ]\n",
      " [-0.34016051  0.11580954  0.11877201]\n",
      " [-0.3196076   0.11877201  0.12492874]]\n"
     ]
    }
   ],
   "source": [
    "X = np.random.randn(2, 3) \n",
    "print(X)\n",
    "print(X.T)\n",
    "y = np.random.randn(3)\n",
    "print(y)\n",
    "print(X.dot(y)) \n",
    "print(X.dot(X.T))\n",
    "print(X.T.dot(X))  \n"
   ]
  },
  {
   "cell_type": "code",
   "execution_count": 87,
   "metadata": {},
   "outputs": [
    {
     "name": "stdout",
     "output_type": "stream",
     "text": [
      "[[-4.59646421e-01  5.31085284e-01 -1.56109548e-02]\n",
      " [ 1.75449406e+00 -1.06794675e-01 -1.07123428e-01]\n",
      " [ 7.69856078e-02  3.53748565e-01  2.03868916e+00]\n",
      " [ 3.35033761e-01 -1.54124397e-03 -6.93156834e-01]\n",
      " [ 2.05196754e-01  2.74297084e+00 -1.31437313e+00]]\n",
      "[[0.29364246 0.00350989 0.02579871]\n",
      " [0.00350989 0.1506055  0.06831414]\n",
      " [0.02579871 0.06831414 0.18982086]]\n",
      "144.21508810333626\n",
      "[10.17325651  3.30225436  4.29279533]\n",
      "[[-0.06619212 -0.93651037 -0.3443355 ]\n",
      " [-0.79058869 -0.16131601  0.59071708]\n",
      " [ 0.60875949 -0.31132857  0.72971666]]\n"
     ]
    }
   ],
   "source": [
    "X= np.random.randn(5, 3)\n",
    "print(X)\n",
    "C = X.T.dot(X)  \n",
    "invC = np.linalg.inv(C)\n",
    "print(invC)\n",
    "detC = np.linalg.det(C)\n",
    "print(detC)\n",
    "S, U = np.linalg.eig(C)  \n",
    "print(S)\n",
    "print(U)\n"
   ]
  },
  {
   "cell_type": "code",
   "execution_count": 89,
   "metadata": {},
   "outputs": [
    {
     "name": "stdout",
     "output_type": "stream",
     "text": [
      "0    3.1\n",
      "1    2.4\n",
      "2   -1.7\n",
      "3    0.2\n",
      "4   -2.9\n",
      "dtype: float64\n",
      "values=  [ 3.1  2.4 -1.7  0.2 -2.9]\n",
      "index= RangeIndex(start=0, stop=5, step=1)\n"
     ]
    }
   ],
   "source": [
    "from pandas import Series\n",
    "s = Series([3.1, 2.4, -1.7, 0.2, -2.9])\n",
    "print(s)\n",
    "print('values= ', s.values)\n",
    "print('index=',s.index)"
   ]
  },
  {
   "cell_type": "code",
   "execution_count": 90,
   "metadata": {},
   "outputs": [
    {
     "name": "stdout",
     "output_type": "stream",
     "text": [
      "0   -1.850605\n",
      "1    0.041747\n",
      "2    0.749388\n",
      "3   -1.768995\n",
      "4    0.116347\n",
      "5    0.158917\n",
      "dtype: float64\n",
      "[-1.85060538  0.04174697  0.74938831 -1.76899512  0.11634713  0.15891735]\n",
      "RangeIndex(start=0, stop=6, step=1)\n"
     ]
    }
   ],
   "source": [
    "s2 = Series(np.random.randn(6))\n",
    "print(s2)\n",
    "print(s2.values)\n",
    "print(s2.index)"
   ]
  },
  {
   "cell_type": "code",
   "execution_count": 91,
   "metadata": {},
   "outputs": [
    {
     "name": "stdout",
     "output_type": "stream",
     "text": [
      "Jan 1    1.2\n",
      "Jan 2    2.5\n",
      "Jan 3   -2.2\n",
      "Jan 4    3.1\n",
      "Jan 5   -0.8\n",
      "Jan 6   -3.2\n",
      "dtype: float64\n",
      "Values= [ 1.2  2.5 -2.2  3.1 -0.8 -3.2]\n",
      "Index= Index(['Jan 1', 'Jan 2', 'Jan 3', 'Jan 4', 'Jan 5', 'Jan 6'], dtype='object')\n"
     ]
    }
   ],
   "source": [
    "s3 = Series([1.2, 2.5, -2.2, 3.1, -0.8, -3.2],\n",
    "           index=['Jan 1', 'Jan 2', 'Jan 3', 'Jan 4', 'Jan 5', 'Jan 6', ])\n",
    "print(s3)\n",
    "print('Values=', s3.values) \n",
    "print('Index=', s3.index) \n"
   ]
  },
  {
   "cell_type": "code",
   "execution_count": 92,
   "metadata": {},
   "outputs": [
    {
     "name": "stdout",
     "output_type": "stream",
     "text": [
      "MI       Lansing\n",
      "CA    Sacramento\n",
      "TX        Austin\n",
      "MN       St Paul\n",
      "dtype: object\n",
      "Values= ['Lansing' 'Sacramento' 'Austin' 'St Paul']\n",
      "Index= Index(['MI', 'CA', 'TX', 'MN'], dtype='object')\n"
     ]
    }
   ],
   "source": [
    "capitals = {'MI': 'Lansing', 'CA': 'Sacramento',\n",
    "            'TX': 'Austin', 'MN': 'St Paul'}\n",
    "s4 = Series(capitals)  \n",
    "print(s4)\n",
    "print('Values=', s4.values) \n",
    "print('Index=', s4.index)  \n"
   ]
  },
  {
   "cell_type": "code",
   "execution_count": 94,
   "metadata": {},
   "outputs": [
    {
     "name": "stdout",
     "output_type": "stream",
     "text": [
      "Jan 1    1.2\n",
      "Jan 2    2.5\n",
      "Jan 3   -2.2\n",
      "Jan 4    3.1\n",
      "Jan 5   -0.8\n",
      "Jan 6   -3.2\n",
      "dtype: float64\n",
      "\n",
      "s3[2]= -2.2\n",
      "s3['Jan 3']= -2.2\n",
      "\n",
      "s3[1:3]=\n",
      "Jan 2    2.5\n",
      "Jan 3   -2.2\n",
      "dtype: float64\n",
      "s3.iloc([1:3])=\n",
      "Jan 2    2.5\n",
      "Jan 3   -2.2\n",
      "dtype: float64\n"
     ]
    }
   ],
   "source": [
    "s3 = Series([1.2, 2.5, -2.2, 3.1, -0.8, -3.2],\n",
    "           index=['Jan 1', 'Jan 2', 'Jan 3', 'Jan 4', 'Jan 5', 'Jan 6', ])\n",
    "print(s3)\n",
    "# series 에 접근\n",
    "print('\\ns3[2]=', s3[2]) \n",
    "print('s3[\\'Jan 3\\']=', s3['Jan 3'])\n",
    "print('\\ns3[1:3]=')  \n",
    "print(s3[1:3])\n",
    "print('s3.iloc([1:3])=')\n",
    "print(s3.iloc[1:3])\n"
   ]
  },
  {
   "cell_type": "code",
   "execution_count": 95,
   "metadata": {},
   "outputs": [
    {
     "name": "stdout",
     "output_type": "stream",
     "text": [
      "Jan 1    5.2\n",
      "Jan 2    6.5\n",
      "Jan 3    1.8\n",
      "Jan 4    7.1\n",
      "Jan 5    3.2\n",
      "Jan 6    0.8\n",
      "dtype: float64\n",
      "Jan 1    0.300\n",
      "Jan 2    0.625\n",
      "Jan 3   -0.550\n",
      "Jan 4    0.775\n",
      "Jan 5   -0.200\n",
      "Jan 6   -0.800\n",
      "dtype: float64\n",
      "Jan 1    1.648659\n",
      "Jan 2    1.871802\n",
      "Jan 3    0.587787\n",
      "Jan 4    1.960095\n",
      "Jan 5    1.163151\n",
      "Jan 6   -0.223144\n",
      "dtype: float64\n"
     ]
    }
   ],
   "source": [
    "print(s3 + 4) \n",
    "print(s3 / 4)\n",
    "print(np.log(s3 + 4))\n"
   ]
  },
  {
   "cell_type": "code",
   "execution_count": 96,
   "metadata": {},
   "outputs": [
    {
     "data": {
      "text/html": [
       "<div>\n",
       "<style scoped>\n",
       "    .dataframe tbody tr th:only-of-type {\n",
       "        vertical-align: middle;\n",
       "    }\n",
       "\n",
       "    .dataframe tbody tr th {\n",
       "        vertical-align: top;\n",
       "    }\n",
       "\n",
       "    .dataframe thead th {\n",
       "        text-align: right;\n",
       "    }\n",
       "</style>\n",
       "<table border=\"1\" class=\"dataframe\">\n",
       "  <thead>\n",
       "    <tr style=\"text-align: right;\">\n",
       "      <th></th>\n",
       "      <th>make</th>\n",
       "      <th>model</th>\n",
       "      <th>MSRP</th>\n",
       "    </tr>\n",
       "  </thead>\n",
       "  <tbody>\n",
       "    <tr>\n",
       "      <th>0</th>\n",
       "      <td>Ford</td>\n",
       "      <td>Taurus</td>\n",
       "      <td>12323</td>\n",
       "    </tr>\n",
       "    <tr>\n",
       "      <th>1</th>\n",
       "      <td>Honda</td>\n",
       "      <td>Accord</td>\n",
       "      <td>245353</td>\n",
       "    </tr>\n",
       "    <tr>\n",
       "      <th>2</th>\n",
       "      <td>Toyota</td>\n",
       "      <td>Camery</td>\n",
       "      <td>234235</td>\n",
       "    </tr>\n",
       "    <tr>\n",
       "      <th>3</th>\n",
       "      <td>Telsa</td>\n",
       "      <td>Models</td>\n",
       "      <td>32424234</td>\n",
       "    </tr>\n",
       "  </tbody>\n",
       "</table>\n",
       "</div>"
      ],
      "text/plain": [
       "     make   model      MSRP\n",
       "0    Ford  Taurus     12323\n",
       "1   Honda  Accord    245353\n",
       "2  Toyota  Camery    234235\n",
       "3   Telsa  Models  32424234"
      ]
     },
     "execution_count": 96,
     "metadata": {},
     "output_type": "execute_result"
    }
   ],
   "source": [
    "from pandas import DataFrame\n",
    "cars = {'make': ['Ford', 'Honda', 'Toyota', 'Telsa'],\n",
    "        'model': ['Taurus', 'Accord', 'Camery', 'Models'],\n",
    "        \"MSRP\":[12323,245353,234235,32424234]\n",
    "        }\n",
    "cardf = DataFrame(cars)\n",
    "cardf"
   ]
  },
  {
   "cell_type": "code",
   "execution_count": 97,
   "metadata": {},
   "outputs": [
    {
     "name": "stdout",
     "output_type": "stream",
     "text": [
      "RangeIndex(start=0, stop=4, step=1)\n",
      "[['Ford' 'Taurus' 12323]\n",
      " ['Honda' 'Accord' 245353]\n",
      " ['Toyota' 'Camery' 234235]\n",
      " ['Telsa' 'Models' 32424234]]\n"
     ]
    }
   ],
   "source": [
    "print(cardf.index)\n",
    "print(cardf.values)"
   ]
  },
  {
   "cell_type": "code",
   "execution_count": 98,
   "metadata": {},
   "outputs": [
    {
     "data": {
      "text/html": [
       "<div>\n",
       "<style scoped>\n",
       "    .dataframe tbody tr th:only-of-type {\n",
       "        vertical-align: middle;\n",
       "    }\n",
       "\n",
       "    .dataframe tbody tr th {\n",
       "        vertical-align: top;\n",
       "    }\n",
       "\n",
       "    .dataframe thead th {\n",
       "        text-align: right;\n",
       "    }\n",
       "</style>\n",
       "<table border=\"1\" class=\"dataframe\">\n",
       "  <thead>\n",
       "    <tr style=\"text-align: right;\">\n",
       "      <th></th>\n",
       "      <th>make</th>\n",
       "      <th>model</th>\n",
       "      <th>MSRP</th>\n",
       "      <th>year</th>\n",
       "      <th>dealership</th>\n",
       "    </tr>\n",
       "  </thead>\n",
       "  <tbody>\n",
       "    <tr>\n",
       "      <th>1</th>\n",
       "      <td>Ford</td>\n",
       "      <td>Taurus</td>\n",
       "      <td>12323</td>\n",
       "      <td>2018</td>\n",
       "      <td>Courtesy Ford</td>\n",
       "    </tr>\n",
       "    <tr>\n",
       "      <th>2</th>\n",
       "      <td>Honda</td>\n",
       "      <td>Accord</td>\n",
       "      <td>245353</td>\n",
       "      <td>2018</td>\n",
       "      <td>Capital Honda</td>\n",
       "    </tr>\n",
       "    <tr>\n",
       "      <th>3</th>\n",
       "      <td>Toyota</td>\n",
       "      <td>Camery</td>\n",
       "      <td>234235</td>\n",
       "      <td>2018</td>\n",
       "      <td>Spartan Toyota</td>\n",
       "    </tr>\n",
       "    <tr>\n",
       "      <th>4</th>\n",
       "      <td>Telsa</td>\n",
       "      <td>Models</td>\n",
       "      <td>32424234</td>\n",
       "      <td>2018</td>\n",
       "      <td>N/A</td>\n",
       "    </tr>\n",
       "  </tbody>\n",
       "</table>\n",
       "</div>"
      ],
      "text/plain": [
       "     make   model      MSRP  year      dealership\n",
       "1    Ford  Taurus     12323  2018   Courtesy Ford\n",
       "2   Honda  Accord    245353  2018   Capital Honda\n",
       "3  Toyota  Camery    234235  2018  Spartan Toyota\n",
       "4   Telsa  Models  32424234  2018             N/A"
      ]
     },
     "execution_count": 98,
     "metadata": {},
     "output_type": "execute_result"
    }
   ],
   "source": [
    "carData2 = DataFrame(cars, index=[1, 2, 3, 4])\n",
    "carData2['year'] = 2018  \n",
    "carData2['dealership'] = ['Courtesy Ford',\n",
    "                          'Capital Honda', 'Spartan Toyota', 'N/A']\n",
    "carData2"
   ]
  },
  {
   "cell_type": "code",
   "execution_count": 99,
   "metadata": {},
   "outputs": [
    {
     "data": {
      "text/html": [
       "<div>\n",
       "<style scoped>\n",
       "    .dataframe tbody tr th:only-of-type {\n",
       "        vertical-align: middle;\n",
       "    }\n",
       "\n",
       "    .dataframe tbody tr th {\n",
       "        vertical-align: top;\n",
       "    }\n",
       "\n",
       "    .dataframe thead th {\n",
       "        text-align: right;\n",
       "    }\n",
       "</style>\n",
       "<table border=\"1\" class=\"dataframe\">\n",
       "  <thead>\n",
       "    <tr style=\"text-align: right;\">\n",
       "      <th></th>\n",
       "      <th>year</th>\n",
       "      <th>temp</th>\n",
       "      <th>precip</th>\n",
       "    </tr>\n",
       "  </thead>\n",
       "  <tbody>\n",
       "    <tr>\n",
       "      <th>0</th>\n",
       "      <td>2011</td>\n",
       "      <td>45.1</td>\n",
       "      <td>32.4</td>\n",
       "    </tr>\n",
       "    <tr>\n",
       "      <th>1</th>\n",
       "      <td>2012</td>\n",
       "      <td>42.4</td>\n",
       "      <td>34.5</td>\n",
       "    </tr>\n",
       "    <tr>\n",
       "      <th>2</th>\n",
       "      <td>2013</td>\n",
       "      <td>47.2</td>\n",
       "      <td>39.2</td>\n",
       "    </tr>\n",
       "    <tr>\n",
       "      <th>3</th>\n",
       "      <td>2014</td>\n",
       "      <td>44.2</td>\n",
       "      <td>31.4</td>\n",
       "    </tr>\n",
       "    <tr>\n",
       "      <th>4</th>\n",
       "      <td>2015</td>\n",
       "      <td>39.9</td>\n",
       "      <td>29.8</td>\n",
       "    </tr>\n",
       "    <tr>\n",
       "      <th>5</th>\n",
       "      <td>2016</td>\n",
       "      <td>41.5</td>\n",
       "      <td>36.7</td>\n",
       "    </tr>\n",
       "  </tbody>\n",
       "</table>\n",
       "</div>"
      ],
      "text/plain": [
       "   year  temp  precip\n",
       "0  2011  45.1    32.4\n",
       "1  2012  42.4    34.5\n",
       "2  2013  47.2    39.2\n",
       "3  2014  44.2    31.4\n",
       "4  2015  39.9    29.8\n",
       "5  2016  41.5    36.7"
      ]
     },
     "execution_count": 99,
     "metadata": {},
     "output_type": "execute_result"
    }
   ],
   "source": [
    "tuplelist = [(2011, 45.1, 32.4), (2012, 42.4, 34.5), (2013, 47.2, 39.2),\n",
    "             (2014, 44.2, 31.4), (2015, 39.9, 29.8), (2016, 41.5, 36.7)]\n",
    "columnNames = ['year', 'temp', 'precip']\n",
    "weatherData = DataFrame(tuplelist, columns=columnNames)\n",
    "weatherData\n"
   ]
  },
  {
   "cell_type": "code",
   "execution_count": 100,
   "metadata": {},
   "outputs": [
    {
     "data": {
      "text/html": [
       "<div>\n",
       "<style scoped>\n",
       "    .dataframe tbody tr th:only-of-type {\n",
       "        vertical-align: middle;\n",
       "    }\n",
       "\n",
       "    .dataframe tbody tr th {\n",
       "        vertical-align: top;\n",
       "    }\n",
       "\n",
       "    .dataframe thead th {\n",
       "        text-align: right;\n",
       "    }\n",
       "</style>\n",
       "<table border=\"1\" class=\"dataframe\">\n",
       "  <thead>\n",
       "    <tr style=\"text-align: right;\">\n",
       "      <th></th>\n",
       "      <th>x1</th>\n",
       "      <th>x2</th>\n",
       "      <th>x3</th>\n",
       "    </tr>\n",
       "  </thead>\n",
       "  <tbody>\n",
       "    <tr>\n",
       "      <th>0</th>\n",
       "      <td>-1.070139</td>\n",
       "      <td>0.892862</td>\n",
       "      <td>-1.126937</td>\n",
       "    </tr>\n",
       "    <tr>\n",
       "      <th>1</th>\n",
       "      <td>1.036476</td>\n",
       "      <td>-0.312002</td>\n",
       "      <td>1.725963</td>\n",
       "    </tr>\n",
       "    <tr>\n",
       "      <th>2</th>\n",
       "      <td>-0.122915</td>\n",
       "      <td>0.554341</td>\n",
       "      <td>2.178364</td>\n",
       "    </tr>\n",
       "    <tr>\n",
       "      <th>3</th>\n",
       "      <td>0.667860</td>\n",
       "      <td>-0.304295</td>\n",
       "      <td>0.199596</td>\n",
       "    </tr>\n",
       "    <tr>\n",
       "      <th>4</th>\n",
       "      <td>-0.183094</td>\n",
       "      <td>0.816516</td>\n",
       "      <td>0.211120</td>\n",
       "    </tr>\n",
       "  </tbody>\n",
       "</table>\n",
       "</div>"
      ],
      "text/plain": [
       "         x1        x2        x3\n",
       "0 -1.070139  0.892862 -1.126937\n",
       "1  1.036476 -0.312002  1.725963\n",
       "2 -0.122915  0.554341  2.178364\n",
       "3  0.667860 -0.304295  0.199596\n",
       "4 -0.183094  0.816516  0.211120"
      ]
     },
     "execution_count": 100,
     "metadata": {},
     "output_type": "execute_result"
    }
   ],
   "source": [
    "npdata = np.random.randn(5, 3)  # create a 5 by 3 random matrix\n",
    "columnNames = ['x1', 'x2', 'x3']\n",
    "data = DataFrame(npdata, columns=columnNames)\n",
    "data"
   ]
  },
  {
   "cell_type": "code",
   "execution_count": 101,
   "metadata": {},
   "outputs": [
    {
     "name": "stdout",
     "output_type": "stream",
     "text": [
      "0    0.892862\n",
      "1   -0.312002\n",
      "2    0.554341\n",
      "3   -0.304295\n",
      "4    0.816516\n",
      "Name: x2, dtype: float64\n",
      "<class 'pandas.core.series.Series'>\n"
     ]
    }
   ],
   "source": [
    "print(data['x2'])\n",
    "print(type(data['x2']))\n"
   ]
  },
  {
   "cell_type": "code",
   "execution_count": 102,
   "metadata": {},
   "outputs": [
    {
     "name": "stdout",
     "output_type": "stream",
     "text": [
      "245353\n",
      "Taurus\n",
      "carData2.iloc[1:3,1:3]=\n",
      "    model    MSRP\n",
      "2  Accord  245353\n",
      "3  Camery  234235\n"
     ]
    }
   ],
   "source": [
    "print(carData2.iloc[1, 2])\n",
    "print(carData2.loc[1, 'model'])\n",
    "print('carData2.iloc[1:3,1:3]=')\n",
    "print(carData2.iloc[1:3, 1:3])\n"
   ]
  },
  {
   "cell_type": "code",
   "execution_count": 103,
   "metadata": {},
   "outputs": [
    {
     "name": "stdout",
     "output_type": "stream",
     "text": [
      "carData2[carData2.MSRP > 25000]\n",
      "     make   model      MSRP  year      dealership\n",
      "2   Honda  Accord    245353  2018   Capital Honda\n",
      "3  Toyota  Camery    234235  2018  Spartan Toyota\n",
      "4   Telsa  Models  32424234  2018             N/A\n"
     ]
    }
   ],
   "source": [
    "print('carData2[carData2.MSRP > 25000]')\n",
    "print(carData2[carData2.MSRP > 25000])\n"
   ]
  },
  {
   "cell_type": "code",
   "execution_count": 104,
   "metadata": {},
   "outputs": [
    {
     "name": "stdout",
     "output_type": "stream",
     "text": [
      "         x1        x2        x3\n",
      "0 -1.070139  0.892862 -1.126937\n",
      "1  1.036476 -0.312002  1.725963\n",
      "2 -0.122915  0.554341  2.178364\n",
      "3  0.667860 -0.304295  0.199596\n",
      "4 -0.183094  0.816516  0.211120\n",
      "Data transpose operation:\n",
      "           0         1         2         3         4\n",
      "x1 -1.070139  1.036476 -0.122915  0.667860 -0.183094\n",
      "x2  0.892862 -0.312002  0.554341 -0.304295  0.816516\n",
      "x3 -1.126937  1.725963  2.178364  0.199596  0.211120\n",
      "Addition:\n",
      "         x1        x2        x3\n",
      "0  2.929861  4.892862  2.873063\n",
      "1  5.036476  3.687998  5.725963\n",
      "2  3.877085  4.554341  6.178364\n",
      "3  4.667860  3.695705  4.199596\n",
      "4  3.816906  4.816516  4.211120\n",
      "Multiplication:\n",
      "          x1        x2         x3\n",
      "0 -10.701386  8.928624 -11.269373\n",
      "1  10.364763 -3.120019  17.259627\n",
      "2  -1.229153  5.543407  21.783641\n",
      "3   6.678602 -3.042953   1.995956\n",
      "4  -1.830938  8.165158   2.111202\n"
     ]
    }
   ],
   "source": [
    "print(data)\n",
    "print('Data transpose operation:')\n",
    "print(data.T) \n",
    "print('Addition:')\n",
    "print(data + 4) \n",
    "print('Multiplication:')\n",
    "print(data * 10) \n"
   ]
  },
  {
   "cell_type": "code",
   "execution_count": 105,
   "metadata": {},
   "outputs": [
    {
     "name": "stdout",
     "output_type": "stream",
     "text": [
      "data =\n",
      "         x1        x2        x3\n",
      "0 -1.070139  0.892862 -1.126937\n",
      "1  1.036476 -0.312002  1.725963\n",
      "2 -0.122915  0.554341  2.178364\n",
      "3  0.667860 -0.304295  0.199596\n",
      "4 -0.183094  0.816516  0.211120\n",
      "\n",
      "data2 =\n",
      "         x1        x2        x3\n",
      "0 -0.544136 -0.747270 -0.181262\n",
      "1  0.030612  0.508161  0.820596\n",
      "2  0.304681  1.759603  1.868251\n",
      "3  2.021556  0.680716  0.582997\n",
      "4 -1.149345  0.376774  0.394946\n",
      "\n",
      "data + data2 = \n",
      "         x1        x2        x3\n",
      "0 -1.614275  0.145592 -1.308199\n",
      "1  1.067088  0.196159  2.546559\n",
      "2  0.181766  2.313944  4.046615\n",
      "3  2.689416  0.376421  0.782593\n",
      "4 -1.332439  1.193290  0.606066\n",
      "\n",
      "data * data2 = \n",
      "         x1        x2        x3\n",
      "0  0.582301 -0.667210  0.204270\n",
      "1  0.031729 -0.158547  1.416319\n",
      "2 -0.037450  0.975420  4.069731\n",
      "3  1.350116 -0.207139  0.116364\n",
      "4  0.210438  0.307642  0.083381\n"
     ]
    }
   ],
   "source": [
    "print('data =')\n",
    "print(data)\n",
    "columnNames = ['x1', 'x2', 'x3']\n",
    "data2 = DataFrame(np.random.randn(5, 3), columns=columnNames)\n",
    "print('\\ndata2 =')\n",
    "print(data2)\n",
    "print('\\ndata + data2 = ')\n",
    "print(data.add(data2))\n",
    "print('\\ndata * data2 = ')\n",
    "print(data.mul(data2))\n"
   ]
  },
  {
   "cell_type": "code",
   "execution_count": 106,
   "metadata": {},
   "outputs": [
    {
     "name": "stdout",
     "output_type": "stream",
     "text": [
      "         x1        x2        x3\n",
      "0  1.070139  0.892862  1.126937\n",
      "1  1.036476  0.312002  1.725963\n",
      "2  0.122915  0.554341  2.178364\n",
      "3  0.667860  0.304295  0.199596\n",
      "4  0.183094  0.816516  0.211120\n",
      "\n",
      "Maximum value per column:\n",
      "x1    1.036476\n",
      "x2    0.892862\n",
      "x3    2.178364\n",
      "dtype: float64\n",
      "\n",
      "Minimum value per row:\n",
      "0   -1.126937\n",
      "1   -0.312002\n",
      "2   -0.122915\n",
      "3   -0.304295\n",
      "4   -0.183094\n",
      "dtype: float64\n",
      "\n",
      "Sum of values per column:\n",
      "x1    0.328189\n",
      "x2    1.647422\n",
      "x3    3.188105\n",
      "dtype: float64\n",
      "\n",
      "Average value per row:\n",
      "0   -0.434738\n",
      "1    0.816812\n",
      "2    0.869930\n",
      "3    0.187720\n",
      "4    0.281514\n",
      "dtype: float64\n",
      "\n",
      "Calculate max - min per column\n",
      "x1    2.106615\n",
      "x2    1.204864\n",
      "x3    3.305301\n",
      "dtype: float64\n",
      "\n",
      "Calculate max - min per row\n",
      "0    2.019800\n",
      "1    2.037965\n",
      "2    2.301279\n",
      "3    0.972155\n",
      "4    0.999610\n",
      "dtype: float64\n"
     ]
    }
   ],
   "source": [
    "print(data.abs())  # get the absolute value for each element\n",
    "print('\\nMaximum value per column:')\n",
    "print(data.max())  # get maximum value for each column\n",
    "print('\\nMinimum value per row:')\n",
    "print(data.min(axis=1))  # get minimum value for each row\n",
    "print('\\nSum of values per column:')\n",
    "print(data.sum())  # get sum of values for each column\n",
    "print('\\nAverage value per row:')\n",
    "print(data.mean(axis=1))  # get average value for each row\n",
    "print('\\nCalculate max - min per column')\n",
    "def f(x): return x.max() - x.min()\n",
    "\n",
    "\n",
    "print(data.apply(f))\n",
    "print('\\nCalculate max - min per row')\n",
    "def f(x): return x.max() - x.min()\n",
    "\n",
    "\n",
    "print(data.apply(f, axis=1))\n"
   ]
  },
  {
   "cell_type": "code",
   "execution_count": 109,
   "metadata": {},
   "outputs": [
    {
     "data": {
      "text/plain": [
       "<AxesSubplot:title={'center':'Line plot'}>"
      ]
     },
     "execution_count": 109,
     "metadata": {},
     "output_type": "execute_result"
    },
    {
     "data": {
      "image/png": "[encoded data removed]",
      "text/plain": [
       "<Figure size 432x288 with 1 Axes>"
      ]
     },
     "metadata": {
      "needs_background": "light"
     },
     "output_type": "display_data"
    }
   ],
   "source": [
    "import matplotlib.pyplot as plt \n",
    "%matplotlib inline\n",
    "\n",
    "s3 = Series([1.2, 2.5, -2.2, 3.1, -0.8, -3.2, 1.4],\n",
    "            index=['Jan 1', 'Jan 2', 'Jan 3', 'Jan 4', 'Jan 5', 'Jan 6', 'Jan 7'])\n",
    "s3.plot(kind='line', title='Line plot')"
   ]
  },
  {
   "cell_type": "code",
   "execution_count": 110,
   "metadata": {},
   "outputs": [
    {
     "data": {
      "text/plain": [
       "<AxesSubplot:title={'center':'Histogram'}, ylabel='Frequency'>"
      ]
     },
     "execution_count": 110,
     "metadata": {},
     "output_type": "execute_result"
    },
    {
     "data": {
      "image/png": "[encoded data removed]",
      "text/plain": [
       "<Figure size 432x288 with 1 Axes>"
      ]
     },
     "metadata": {
      "needs_background": "light"
     },
     "output_type": "display_data"
    }
   ],
   "source": [
    "s3.plot(kind='hist', title='Histogram')\n",
    "\n"
   ]
  },
  {
   "cell_type": "code",
   "execution_count": 111,
   "metadata": {},
   "outputs": [
    {
     "data": {
      "text/plain": [
       "<AxesSubplot:title={'center':'Box plot'}>"
      ]
     },
     "execution_count": 111,
     "metadata": {},
     "output_type": "execute_result"
    },
    {
     "data": {
      "image/png": "[encoded data removed]",
      "text/plain": [
       "<Figure size 432x288 with 1 Axes>"
      ]
     },
     "metadata": {
      "needs_background": "light"
     },
     "output_type": "display_data"
    }
   ],
   "source": [
    "tuplelist = [(2011, 45.1, 32.4), (2012, 42.4, 34.5), (2013, 47.2, 39.2),\n",
    "             (2014, 44.2, 31.4), (2015, 39.9, 29.8), (2016, 41.5, 36.7)]\n",
    "columnNames = ['year', 'temp', 'precip']\n",
    "weatherData = DataFrame(tuplelist, columns=columnNames)\n",
    "weatherData[['temp', 'precip']].plot(kind='box', title='Box plot')\n"
   ]
  }
 ],
 "metadata": {
  "kernelspec": {
   "display_name": "Python 3",
   "language": "python",
   "name": "python3"
  },
  "language_info": {
   "codemirror_mode": {
    "name": "ipython",
    "version": 3
   },
   "file_extension": ".py",
   "mimetype": "text/x-python",
   "name": "python",
   "nbconvert_exporter": "python",
   "pygments_lexer": "ipython3",
   "version": "3.8.5"
  },
  "toc": {
   "base_numbering": 1,
   "nav_menu": {},
   "number_sections": true,
   "sideBar": true,
   "skip_h1_title": false,
   "title_cell": "Table of Contents",
   "title_sidebar": "Contents",
   "toc_cell": false,
   "toc_position": {},
   "toc_section_display": true,
   "toc_window_display": false
  }
 },
 "nbformat": 4,
 "nbformat_minor": 2
}
