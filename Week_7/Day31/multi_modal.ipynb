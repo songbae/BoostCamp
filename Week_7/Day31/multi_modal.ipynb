{
 "cells": [
  {
   "cell_type": "code",
   "execution_count": null,
   "metadata": {},
   "outputs": [],
   "source": [
    "\r\n",
    "### Modalities in multi modal learning\r\n",
    "---\r\n",
    "\r\n",
    "- differnt representations betweem modalities\r\n",
    "\r\n",
    "- unbalance between heterogenenous feature spaces\r\n",
    "\r\n",
    "- may a model be biased on a specific modality\r\n",
    "\r\n",
    "### Text embedding\r\n",
    "---\r\n",
    "\r\n",
    "- Chcaracters are hard to use in machine learningn\r\n",
    "- map to dense vectors\r\n",
    "- suprisingly generalization power is obtained by learning dense representation\r\n",
    "-\r\n",
    "train_df = pd.read_csv('./train_df.csv')\r\n",
    "modify_df = train_df.iloc[:, :].values\r\n",
    "print(modify_df.shape)\r\n",
    "prev = modify_df[0, 0].split('-')[0]\r\n",
    "for i in modify_df:\r\n",
    "  temp = i[0].split('-')[0]\r\n",
    "  if temp == prev:\r\n",
    "    continue\r\n",
    "  prev = temp\r\n",
    "  cv2.imread(img)\r\n",
    "\r\n",
    "  ~~이런식으로 쭉쭉 해나가면 될듯하다 이렇게 하고 검사하는거지\r\n"
   ]
  },
  {
   "cell_type": "code",
   "execution_count": null,
   "metadata": {},
   "outputs": [],
   "source": [
    "import pandas as pd\r\n",
    "import numpy as np\r\n",
    "import cv2\r\n",
    "import copy\r\n",
    "train_df = pd.read_csv('./train_df.csv')\r\n",
    "temp = train_df.iloc[4115:, 1:].values\r\n",
    "modify = temp.copy()\r\n",
    "temp = np.array(temp.reshape(-1, 24, 2))\r\n",
    "modify = np.array(modify.reshape(-1, 24, 2))\r\n",
    "modify[:, 0, :] = temp[:, 4, :]\r\n",
    "modify[:, 1, :] = temp[:, 1, :]\r\n",
    "modify[:, 2, :] = temp[:, 3, :]\r\n",
    "modify[:, 3, :] = temp[:, 0, :]\r\n",
    "modify[:, 4, :] = temp[:, 2, :]\r\n",
    "modify[:, 5, :] = temp[:, 6, :]\r\n",
    "modify[:, 6, :] = temp[:, 10, :]\r\n",
    "modify[:, 7, :] = temp[:, 7, :]\r\n",
    "modify[:, 8, :] = temp[:, 11, :]\r\n",
    "modify[:, 9, :] = temp[:, 8, :]\r\n",
    "modify[:, 10, :] = temp[:, 12, :]\r\n",
    "modify[:, 11, :] = temp[:, 16, :]\r\n",
    "modify[:, 12, :] = temp[:, 15, :]\r\n",
    "modify[:, 13, :] = temp[:, 17, :]\r\n",
    "modify[:, 14, :] = temp[:, 21, :]\r\n",
    "modify[:, 15, :] = temp[:, 18, :]\r\n",
    "modify[:, 16, :] = temp[:, 22, :]\r\n",
    "modify[:, 17, :] = temp[:, 5, :]\r\n",
    "modify[:, 18, :] = temp[:, 9, :]\r\n",
    "modify[:, 19, :] = temp[:, 13, :]\r\n",
    "modify[:, 20, :] = temp[:, 14, :]\r\n",
    "modify[:, 21, :] = temp[:, 20, :]\r\n",
    "modify[:, 22, :] = temp[:, 19, :]\r\n",
    "modify[:, 23, :] = temp[:, 23, :]\r\n",
    "modify is temp\r\n",
    "modify = modify.reshape(-1, 48)\r\n",
    "print(modify)\r\n",
    "train_df.iloc[4115:, 1:] = modify\r\n",
    "train_df.to_csv('./traindf1.csv', index=False)\r\n"
   ]
  }
 ],
 "metadata": {
  "kernelspec": {
   "display_name": "Python 3.8.5 64-bit (conda)",
   "metadata": {
    "interpreter": {
     "hash": "a955008dc820c70e8c41cf6f115bde945f96d07d69c96eec2ee76e53bea50083"
    }
   },
   "name": "python3"
  },
  "language_info": {
   "name": "python",
   "nbconvert_exporter": "python",
   "version": "3.8.5-final"
  },
  "orig_nbformat": 2
 },
 "nbformat": 4,
 "nbformat_minor": 2
}