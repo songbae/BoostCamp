{
  "nbformat": 4,
  "nbformat_minor": 0,
  "metadata": {
    "colab": {
      "name": "7. Pruning",
      "provenance": [],
      "collapsed_sections": []
    },
    "kernelspec": {
      "name": "python3",
      "display_name": "Python 3"
    }
  },
  "cells": [
    {
      "cell_type": "markdown",
      "metadata": {
        "id": "QB3VdM2CRMIC"
      },
      "source": [
        "## 주안점\r\n",
        "#### Pruning 전/후 model size 비교\r\n",
        "\r\n",
        "- [참고] https://pytorch.org/tutorials/intermediate/pruning_tutorial.html"
      ]
    },
    {
      "cell_type": "code",
      "metadata": {
        "id": "f5ti_Q1t1UBA"
      },
      "source": [
        "import os\n",
        "import time\n",
        "import matplotlib.pyplot as plt\n",
        "import torch\n",
        "import torch.nn as nn\n",
        "import torch.nn.functional as F\n",
        "from torch.utils.data import DataLoader\n",
        "import torchvision\n",
        "from torchvision import transforms"
      ],
      "execution_count": null,
      "outputs": []
    },
    {
      "cell_type": "markdown",
      "metadata": {
        "id": "4zbgc4NBMq_o"
      },
      "source": [
        "# 모델 생성\n",
        "먼저 프루닝을 수행하기 위한 간단한 모델을 생성하고 훈련시켜 봅시다.\n",
        "\n",
        "모델은 LeNet5, 데이터는 Mnist를 사용하겠습니다."
      ]
    },
    {
      "cell_type": "code",
      "metadata": {
        "id": "JMSlmDCGUIYX"
      },
      "source": [
        "train_loader = DataLoader(torchvision.datasets.MNIST('../data', train=True, download=True,\n",
        "                                                    transform=transforms.Compose([transforms.ToTensor(),\n",
        "                                                                        transforms.Normalize((0.1307,), (0.3081,))\n",
        "                                                    ])),\n",
        "               batch_size=64, shuffle=True, num_workers=1, pin_memory=True)\n",
        "\n",
        "test_loader = DataLoader(torchvision.datasets.MNIST('../data', train=False, \n",
        "                                                    transform=transforms.Compose([transforms.ToTensor(),\n",
        "                                                                        transforms.Normalize((0.1307,), (0.3081,))\n",
        "                                                    ])),\n",
        "              batch_size=64, shuffle=False, num_workers=1, pin_memory=True)"
      ],
      "execution_count": null,
      "outputs": []
    },
    {
      "cell_type": "code",
      "metadata": {
        "colab": {
          "base_uri": "https://localhost:8080/",
          "height": 151
        },
        "id": "39pOm4tjUrV6",
        "outputId": "2a56f120-5e3a-404a-cbc1-a3156ad45e01"
      },
      "source": [
        "images, labels = next(iter(train_loader))\n",
        "\n",
        "print(images.shape)\n",
        "print(labels.shape)\n",
        "\n",
        "figure = plt.figure()\n",
        "num_of_images = 20\n",
        "for index in range(1, num_of_images + 1):\n",
        "    plt.subplot(6, 10, index)\n",
        "    plt.axis('off')\n",
        "    plt.imshow(images[index].numpy().squeeze(), cmap='gray_r')\n",
        "print(labels[1:21])"
      ],
      "execution_count": null,
      "outputs": [
        {
          "output_type": "stream",
          "text": [
            "torch.Size([64, 1, 28, 28])\n",
            "torch.Size([64])\n",
            "tensor([8, 3, 8, 9, 4, 7, 5, 2, 5, 3, 4, 2, 9, 2, 6, 0, 6, 5, 8, 0])\n"
          ],
          "name": "stdout"
        },
        {
          "output_type": "display_data",
          "data": {
            "image/png": "[encoded data removed]",
            "text/plain": [
              "<Figure size 432x288 with 20 Axes>"
            ]
          },
          "metadata": {
            "tags": [],
            "needs_background": "light"
          }
        }
      ]
    },
    {
      "cell_type": "code",
      "metadata": {
        "id": "A-6SmhckMTvO"
      },
      "source": [
        "class LeNet(nn.Module):\n",
        "    def __init__(self):\n",
        "        super(LeNet, self).__init__()\n",
        "        # 1 input image channel, 6 output channels, 3x3 square conv kernel\n",
        "        self.conv1 = nn.Conv2d(1, 6, 3)\n",
        "        self.conv2 = nn.Conv2d(6, 16, 3)\n",
        "        self.fc1 = nn.Linear(16 * 5 * 5, 120)  # 5x5 image dimension\n",
        "        self.fc2 = nn.Linear(120, 84)\n",
        "        self.fc3 = nn.Linear(84, 10)\n",
        "\n",
        "    def forward(self, x):\n",
        "        x = F.max_pool2d(F.relu(self.conv1(x)), (2, 2))\n",
        "        x = F.max_pool2d(F.relu(self.conv2(x)), 2)\n",
        "        x = x.view(-1, int(x.nelement() / x.shape[0]))\n",
        "        x = F.relu(self.fc1(x))\n",
        "        x = F.relu(self.fc2(x))\n",
        "        x = self.fc3(x)\n",
        "        return x\n",
        "\n",
        "device = torch.device(\"cuda\" if torch.cuda.is_available() else \"cpu\")\n",
        "model = LeNet().to(device=device)"
      ],
      "execution_count": null,
      "outputs": []
    },
    {
      "cell_type": "code",
      "metadata": {
        "id": "BTJNZzy8MXfo"
      },
      "source": [
        "def train(args, model, device, train_loader, optimizer, criterion, epoch):\n",
        "    \"\"\" Train the model with given dataset\n",
        "    \n",
        "    Args:\n",
        "        args: args like log interval\n",
        "        model: ResNet model to train\n",
        "        device: CPU/GPU\n",
        "        train_loader: dataset iterator\n",
        "        optimizer: optimizer to update weights\n",
        "        epoch: number of epochs to train for\n",
        "    \"\"\"\n",
        "    model.train()\n",
        "    for batch_idx, (data, target) in enumerate(train_loader):\n",
        "        data, target = data.to(device), target.to(device)\n",
        "        optimizer.zero_grad()\n",
        "        output = model(data)\n",
        "        loss = criterion(output, target)\n",
        "        loss.backward()\n",
        "        optimizer.step()\n",
        "\n",
        "        if batch_idx % args[\"log_interval\"] == 0:\n",
        "            print('Train Epoch: {} [{}/{} ({:.0f}%)]\\tLoss: {:.6f}'.format(\n",
        "                epoch, batch_idx * len(data), len(train_loader.dataset),\n",
        "                100. * batch_idx / len(train_loader), loss.item()))"
      ],
      "execution_count": null,
      "outputs": []
    },
    {
      "cell_type": "code",
      "metadata": {
        "colab": {
          "base_uri": "https://localhost:8080/"
        },
        "id": "87FmftGKSIto",
        "outputId": "053dc4d2-3fd5-4772-85c9-8c3d22afe5e5"
      },
      "source": [
        "batch_size = 64\r\n",
        "epochs = 10\r\n",
        "lr = 0.001\r\n",
        "momentum = 0.9\r\n",
        "seed = 1\r\n",
        "log_interval = 500\r\n",
        "save_model = True\r\n",
        "no_cuda = False\r\n",
        "\r\n",
        "use_cuda = not no_cuda and torch.cuda.is_available()\r\n",
        "torch.manual_seed(seed)\r\n",
        "device = torch.device(\"cuda\" if use_cuda else \"cpu\")\r\n",
        "model = LeNet().to(device)\r\n",
        "optimizer = torch.optim.Adam(model.parameters(), lr=lr)\r\n",
        "criterion = nn.CrossEntropyLoss()\r\n",
        "args = {}\r\n",
        "args[\"log_interval\"] = log_interval\r\n",
        "for epoch in range(1, epochs + 1):\r\n",
        "    train(args, model, device, train_loader, optimizer, criterion, epoch)\r\n",
        "\r\n",
        "if (save_model):\r\n",
        "    torch.save(model.state_dict(),\"mnist_cnn.pt\")"
      ],
      "execution_count": null,
      "outputs": [
        {
          "output_type": "stream",
          "text": [
            "Train Epoch: 1 [0/60000 (0%)]\tLoss: 2.308216\n",
            "Train Epoch: 1 [32000/60000 (53%)]\tLoss: 0.293523\n",
            "Train Epoch: 2 [0/60000 (0%)]\tLoss: 0.183794\n",
            "Train Epoch: 2 [32000/60000 (53%)]\tLoss: 0.084196\n",
            "Train Epoch: 3 [0/60000 (0%)]\tLoss: 0.016178\n",
            "Train Epoch: 3 [32000/60000 (53%)]\tLoss: 0.045889\n",
            "Train Epoch: 4 [0/60000 (0%)]\tLoss: 0.052779\n",
            "Train Epoch: 4 [32000/60000 (53%)]\tLoss: 0.006105\n",
            "Train Epoch: 5 [0/60000 (0%)]\tLoss: 0.041600\n",
            "Train Epoch: 5 [32000/60000 (53%)]\tLoss: 0.053083\n",
            "Train Epoch: 6 [0/60000 (0%)]\tLoss: 0.017430\n",
            "Train Epoch: 6 [32000/60000 (53%)]\tLoss: 0.005766\n",
            "Train Epoch: 7 [0/60000 (0%)]\tLoss: 0.036655\n",
            "Train Epoch: 7 [32000/60000 (53%)]\tLoss: 0.014016\n",
            "Train Epoch: 8 [0/60000 (0%)]\tLoss: 0.010713\n",
            "Train Epoch: 8 [32000/60000 (53%)]\tLoss: 0.056435\n",
            "Train Epoch: 9 [0/60000 (0%)]\tLoss: 0.002388\n",
            "Train Epoch: 9 [32000/60000 (53%)]\tLoss: 0.007688\n",
            "Train Epoch: 10 [0/60000 (0%)]\tLoss: 0.064038\n",
            "Train Epoch: 10 [32000/60000 (53%)]\tLoss: 0.055111\n"
          ],
          "name": "stdout"
        }
      ]
    },
    {
      "cell_type": "code",
      "metadata": {
        "colab": {
          "base_uri": "https://localhost:8080/"
        },
        "id": "z9ftFwREVifL",
        "outputId": "61314d59-32b2-45e1-bf9d-138320b37d4b"
      },
      "source": [
        "def print_size_of_model(model):\n",
        "    \"\"\" Print the size of the model.\n",
        "    \n",
        "    Args:\n",
        "        model: model whose size needs to be determined\n",
        "\n",
        "    \"\"\"\n",
        "    torch.save(model.state_dict(), \"temp.p\")\n",
        "    print('Size of the model(MB):', os.path.getsize(\"temp.p\")/1e6)\n",
        "    os.remove('temp.p')\n",
        "  \n",
        "print_size_of_model(model)"
      ],
      "execution_count": null,
      "outputs": [
        {
          "output_type": "stream",
          "text": [
            "Size of the model(MB): 0.243543\n"
          ],
          "name": "stdout"
        }
      ]
    },
    {
      "cell_type": "code",
      "metadata": {
        "id": "qpvyGuZtVjN6"
      },
      "source": [
        "def test(model, device, test_loader, quantize=False, fbgemm=False):\n",
        "    model.to(device)\n",
        "    model.eval()\n",
        "    print(model)\n",
        "    test_loss = 0\n",
        "    correct = 0\n",
        "    with torch.no_grad():\n",
        "        for data, target in test_loader:\n",
        "            data, target = data.to(device), target.to(device)\n",
        "            st = time.time()\n",
        "            output = model(data)\n",
        "            et = time.time()\n",
        "            test_loss += F.nll_loss(F.log_softmax(output, dim=-1), target, reduction='sum').item() # sum up batch loss\n",
        "            pred = output.argmax(dim=1, keepdim=True) # get the index of the max log-probability\n",
        "            correct += pred.eq(target.view_as(pred)).sum().item()\n",
        "\n",
        "    test_loss /= len(test_loader.dataset)\n",
        "    \n",
        "    print(\"========================================= PERFORMANCE =============================================\")\n",
        "    print_size_of_model(model)\n",
        "    print('\\nTest set: Average loss: {:.4f}, Accuracy: {}/{} ({:.0f}%)\\n'.format(\n",
        "        test_loss, correct, len(test_loader.dataset),\n",
        "        100. * correct / len(test_loader.dataset)))\n",
        "    print('Elapsed time = {:0.4f} milliseconds'.format((et - st) * 1000))\n",
        "    print(\"====================================================================================================\")"
      ],
      "execution_count": null,
      "outputs": []
    },
    {
      "cell_type": "code",
      "metadata": {
        "colab": {
          "base_uri": "https://localhost:8080/"
        },
        "id": "319h_l8HW4zt",
        "outputId": "0d22ea0f-715e-43f4-b1b7-62b42ca2eee8"
      },
      "source": [
        "device = 'cpu'\n",
        "test(model=model, device=device, test_loader=test_loader)"
      ],
      "execution_count": null,
      "outputs": [
        {
          "output_type": "stream",
          "text": [
            "LeNet(\n",
            "  (conv1): Conv2d(1, 6, kernel_size=(3, 3), stride=(1, 1))\n",
            "  (conv2): Conv2d(6, 16, kernel_size=(3, 3), stride=(1, 1))\n",
            "  (fc1): Linear(in_features=400, out_features=120, bias=True)\n",
            "  (fc2): Linear(in_features=120, out_features=84, bias=True)\n",
            "  (fc3): Linear(in_features=84, out_features=10, bias=True)\n",
            ")\n",
            "========================================= PERFORMANCE =============================================\n",
            "Size of the model(MB): 0.243543\n",
            "\n",
            "Test set: Average loss: 0.0400, Accuracy: 9894/10000 (99%)\n",
            "\n",
            "Elapsed time = 3.0844 milliseconds\n",
            "====================================================================================================\n"
          ],
          "name": "stdout"
        }
      ]
    },
    {
      "cell_type": "markdown",
      "metadata": {
        "id": "4wFFtDTJMp7s"
      },
      "source": [
        "# 레이어 weight 확인\n",
        "먼저 생성된 모델의 첫 번째 레이어를 구성하는 파라미터 들을 확인해봅시다.\n",
        "weight와 bias로 구성이 되어 있는 것을 확인할 수 있습니다."
      ]
    },
    {
      "cell_type": "code",
      "metadata": {
        "colab": {
          "base_uri": "https://localhost:8080/"
        },
        "id": "zmbHBZEuM2oH",
        "outputId": "12538baa-f386-487f-f594-747b78109db8"
      },
      "source": [
        "module = model.conv1\n",
        "print(list(module.named_parameters()))"
      ],
      "execution_count": null,
      "outputs": [
        {
          "output_type": "stream",
          "text": [
            "[('weight', Parameter containing:\n",
            "tensor([[[[ 0.1590, -0.1615, -0.1669],\n",
            "          [ 0.1205, -0.1740,  0.2915],\n",
            "          [-0.0406,  0.2925,  0.2390]]],\n",
            "\n",
            "\n",
            "        [[[ 0.0723,  0.2015,  0.0201],\n",
            "          [ 0.1522,  0.0529,  0.1204],\n",
            "          [-0.0321,  0.2103,  0.0951]]],\n",
            "\n",
            "\n",
            "        [[[ 0.3417,  0.0608, -0.5403],\n",
            "          [-0.1888,  0.0631, -0.2171],\n",
            "          [-0.0986,  0.2166,  0.4315]]],\n",
            "\n",
            "\n",
            "        [[[ 0.3658, -0.0255,  0.2979],\n",
            "          [ 0.1534,  0.4578,  0.3480],\n",
            "          [-0.6110, -0.6698, -0.2413]]],\n",
            "\n",
            "\n",
            "        [[[ 0.2878,  0.0912,  0.2625],\n",
            "          [ 0.0368,  0.4825, -0.1974],\n",
            "          [ 0.4016,  0.0993, -0.3863]]],\n",
            "\n",
            "\n",
            "        [[[ 0.4993,  0.0597,  0.2199],\n",
            "          [-0.3226, -0.1980, -0.6864],\n",
            "          [-0.6618, -0.4005, -0.2626]]]], requires_grad=True)), ('bias', Parameter containing:\n",
            "tensor([ 0.2126,  0.0797,  0.0186, -0.1048,  0.2026,  0.3839],\n",
            "       requires_grad=True))]\n"
          ],
          "name": "stdout"
        }
      ]
    },
    {
      "cell_type": "code",
      "metadata": {
        "colab": {
          "base_uri": "https://localhost:8080/"
        },
        "id": "itF_G9Uf16FW",
        "outputId": "971e163d-19d6-4982-bd79-b4ea122d6df7"
      },
      "source": [
        "output_orig = model(images[:1])\r\n",
        "print(f\"original output: {output_orig}\")"
      ],
      "execution_count": null,
      "outputs": [
        {
          "output_type": "stream",
          "text": [
            "original output: tensor([[  1.2011, -13.0009,  -9.4744, -13.6666,  -4.2937,   1.5315,  19.2637,\n",
            "         -21.1911,  -8.4866, -10.5521]], grad_fn=<AddmmBackward>)\n"
          ],
          "name": "stdout"
        }
      ]
    },
    {
      "cell_type": "markdown",
      "metadata": {
        "id": "38gFa0uzhnfm"
      },
      "source": [
        "# Unstructured Pruning\n",
        "기본적인 프루닝 방법은 스칼라 단위의 값(=하나의 숫자)에 대해 프루닝을 하는 것입니다.\n",
        "\n",
        "Pytorch에서 제공하는 prune method를 이용하여 이를 수행해보겠습니다.\n",
        "프루닝할 값을 고르는 방법 또한 여러가지입니다만, 우선 random으로 선택하는 방식을 적용해 보겠습니다."
      ]
    },
    {
      "cell_type": "code",
      "metadata": {
        "id": "652QSScGhxov"
      },
      "source": [
        "import torch.nn.utils.prune as prune"
      ],
      "execution_count": null,
      "outputs": []
    },
    {
      "cell_type": "code",
      "metadata": {
        "colab": {
          "base_uri": "https://localhost:8080/"
        },
        "id": "mbdyH0jjzgsj",
        "outputId": "e2c0e9ed-7808-464a-ff5c-02cf6572bcb4"
      },
      "source": [
        "prune.random_unstructured(module, name=\"weight\", amount=0.3)"
      ],
      "execution_count": null,
      "outputs": [
        {
          "output_type": "execute_result",
          "data": {
            "text/plain": [
              "Conv2d(1, 6, kernel_size=(3, 3), stride=(1, 1))"
            ]
          },
          "metadata": {
            "tags": []
          },
          "execution_count": 74
        }
      ]
    },
    {
      "cell_type": "code",
      "metadata": {
        "colab": {
          "base_uri": "https://localhost:8080/"
        },
        "id": "bVsSTYoXzi-J",
        "outputId": "a1fc9d65-78ef-4bd5-93d7-62f662a03d7b"
      },
      "source": [
        "print(list(module.named_parameters()))"
      ],
      "execution_count": null,
      "outputs": [
        {
          "output_type": "stream",
          "text": [
            "[('bias', Parameter containing:\n",
            "tensor([ 0.2126,  0.0797,  0.0186, -0.1048,  0.2026,  0.3839],\n",
            "       requires_grad=True)), ('weight_orig', Parameter containing:\n",
            "tensor([[[[ 0.1590, -0.1615, -0.1669],\n",
            "          [ 0.1205, -0.1740,  0.2915],\n",
            "          [-0.0406,  0.2925,  0.2390]]],\n",
            "\n",
            "\n",
            "        [[[ 0.0723,  0.2015,  0.0201],\n",
            "          [ 0.1522,  0.0529,  0.1204],\n",
            "          [-0.0321,  0.2103,  0.0951]]],\n",
            "\n",
            "\n",
            "        [[[ 0.3417,  0.0608, -0.5403],\n",
            "          [-0.1888,  0.0631, -0.2171],\n",
            "          [-0.0986,  0.2166,  0.4315]]],\n",
            "\n",
            "\n",
            "        [[[ 0.3658, -0.0255,  0.2979],\n",
            "          [ 0.1534,  0.4578,  0.3480],\n",
            "          [-0.6110, -0.6698, -0.2413]]],\n",
            "\n",
            "\n",
            "        [[[ 0.2878,  0.0912,  0.2625],\n",
            "          [ 0.0368,  0.4825, -0.1974],\n",
            "          [ 0.4016,  0.0993, -0.3863]]],\n",
            "\n",
            "\n",
            "        [[[ 0.4993,  0.0597,  0.2199],\n",
            "          [-0.3226, -0.1980, -0.6864],\n",
            "          [-0.6618, -0.4005, -0.2626]]]], requires_grad=True))]\n"
          ],
          "name": "stdout"
        }
      ]
    },
    {
      "cell_type": "markdown",
      "metadata": {
        "id": "Xz7vmYxmz_JC"
      },
      "source": [
        "기존 레이어는 'weight', 'bias'로 구성이 되어있었던 파라미터가 'weight_orig', 'bias'라는 이름으로 바뀐 것을 볼 수 있습니다. 'weight'가 'weight_orig'라는 이름으로 바뀌었네요\n",
        "\n",
        "하지만 값은 전혀 변한 것이 없습니다. 그러면 무엇이 수행이 된 것일까요?"
      ]
    },
    {
      "cell_type": "code",
      "metadata": {
        "colab": {
          "base_uri": "https://localhost:8080/"
        },
        "id": "UMADExKO0pp-",
        "outputId": "4630387b-3a54-4a70-d015-73220e64ed2f"
      },
      "source": [
        "print(list(module.named_buffers()))"
      ],
      "execution_count": null,
      "outputs": [
        {
          "output_type": "stream",
          "text": [
            "[('weight_mask', tensor([[[[0., 1., 0.],\n",
            "          [0., 0., 1.],\n",
            "          [0., 1., 1.]]],\n",
            "\n",
            "\n",
            "        [[[1., 1., 1.],\n",
            "          [1., 0., 1.],\n",
            "          [1., 0., 0.]]],\n",
            "\n",
            "\n",
            "        [[[0., 1., 0.],\n",
            "          [1., 0., 1.],\n",
            "          [1., 1., 1.]]],\n",
            "\n",
            "\n",
            "        [[[1., 1., 1.],\n",
            "          [0., 1., 1.],\n",
            "          [1., 1., 0.]]],\n",
            "\n",
            "\n",
            "        [[[1., 1., 1.],\n",
            "          [1., 1., 1.],\n",
            "          [0., 1., 1.]]],\n",
            "\n",
            "\n",
            "        [[[1., 1., 1.],\n",
            "          [1., 1., 1.],\n",
            "          [1., 0., 0.]]]]))]\n"
          ],
          "name": "stdout"
        }
      ]
    },
    {
      "cell_type": "markdown",
      "metadata": {
        "id": "VZ2DCH-P1Jot"
      },
      "source": [
        "prune 함수를 수행하고 나면, 레이어의 named_buffers()에 'weight_mask'라는 새로운 파라미터가 하나 생성된 것을 볼 수 있습니다.\n",
        "\n",
        "\n",
        "프루닝이라면 일반적으로 특정 값을 0으로 만들어 영향력을 없애는 것으로 생각할 수 있습니다. 하지만 pytorch에서는 직접 값을 바로 0으로 바꾸는 대신, mask 텐서를 추가로 생성하여 프루닝을 수행하게 됩니다. 삭제할 값을 0, 보존할 값을 1로 설정한 mask 텐서를 생성한 후, 실제 계산을 수행할때 mask와 weight를 원소별로 곱한 텐서를 활용하게 되지요.\n",
        "\n",
        "pruning mask가 적용된 weight의 결과는 레이어의 weight 속성에서 확인할 수 있습니다."
      ]
    },
    {
      "cell_type": "code",
      "metadata": {
        "colab": {
          "base_uri": "https://localhost:8080/"
        },
        "id": "Eua36t5M1WZP",
        "outputId": "d26d7fbc-249e-4ee0-a91b-e0f50f681173"
      },
      "source": [
        "print(module.weight)"
      ],
      "execution_count": null,
      "outputs": [
        {
          "output_type": "stream",
          "text": [
            "tensor([[[[ 0.0000, -0.1615, -0.0000],\n",
            "          [ 0.0000, -0.0000,  0.2915],\n",
            "          [-0.0000,  0.2925,  0.2390]]],\n",
            "\n",
            "\n",
            "        [[[ 0.0723,  0.2015,  0.0201],\n",
            "          [ 0.1522,  0.0000,  0.1204],\n",
            "          [-0.0321,  0.0000,  0.0000]]],\n",
            "\n",
            "\n",
            "        [[[ 0.0000,  0.0608, -0.0000],\n",
            "          [-0.1888,  0.0000, -0.2171],\n",
            "          [-0.0986,  0.2166,  0.4315]]],\n",
            "\n",
            "\n",
            "        [[[ 0.3658, -0.0255,  0.2979],\n",
            "          [ 0.0000,  0.4578,  0.3480],\n",
            "          [-0.6110, -0.6698, -0.0000]]],\n",
            "\n",
            "\n",
            "        [[[ 0.2878,  0.0912,  0.2625],\n",
            "          [ 0.0368,  0.4825, -0.1974],\n",
            "          [ 0.0000,  0.0993, -0.3863]]],\n",
            "\n",
            "\n",
            "        [[[ 0.4993,  0.0597,  0.2199],\n",
            "          [-0.3226, -0.1980, -0.6864],\n",
            "          [-0.6618, -0.0000, -0.0000]]]], grad_fn=<MulBackward0>)\n"
          ],
          "name": "stdout"
        }
      ]
    },
    {
      "cell_type": "markdown",
      "metadata": {
        "id": "4s3tjkgfFtN1"
      },
      "source": [
        "그러면 기존 모델의 출력값과 첫번째 레이어를 가지치기한 모델의 결과를 비교해봅시다.\r\n",
        "값에 차이가 생긴 것을 볼 수가 있습니다."
      ]
    },
    {
      "cell_type": "code",
      "metadata": {
        "colab": {
          "base_uri": "https://localhost:8080/"
        },
        "id": "tkPZQElOEr7v",
        "outputId": "5b62e137-e028-4c1f-804c-33b30c70096f"
      },
      "source": [
        "output_pruned_conv1 = model(images[:1])\r\n",
        "print(f\"original output: {output_orig}\")\r\n",
        "print(f\"pruned weight output: {output_pruned_conv1}\")\r\n",
        "print(f\"difference: {output_orig - output_pruned_conv1}\")"
      ],
      "execution_count": null,
      "outputs": [
        {
          "output_type": "stream",
          "text": [
            "original output: tensor([[  1.2011, -13.0009,  -9.4744, -13.6666,  -4.2937,   1.5315,  19.2637,\n",
            "         -21.1911,  -8.4866, -10.5521]], grad_fn=<AddmmBackward>)\n",
            "pruned weight output: tensor([[ -0.7283, -11.6755,  -7.3619,  -9.8739,  -4.1885,   3.5274,  15.3584,\n",
            "         -17.7473,  -7.3540,  -9.2162]], grad_fn=<AddmmBackward>)\n",
            "difference: tensor([[ 1.9294, -1.3254, -2.1125, -3.7926, -0.1051, -1.9959,  3.9052, -3.4438,\n",
            "         -1.1326, -1.3359]], grad_fn=<SubBackward0>)\n"
          ],
          "name": "stdout"
        }
      ]
    },
    {
      "cell_type": "markdown",
      "metadata": {
        "id": "RgdIeWxR2o8S"
      },
      "source": [
        "전체 성능 테스트에서도 어느정도 성능이 떨어진 것을 볼 수 있습니다."
      ]
    },
    {
      "cell_type": "code",
      "metadata": {
        "colab": {
          "base_uri": "https://localhost:8080/"
        },
        "id": "-mKTbf8B2hRV",
        "outputId": "af6c0892-c162-4e99-89df-00564f6c9102"
      },
      "source": [
        "device = 'cpu'\r\n",
        "test(model=model, device=device, test_loader=test_loader)"
      ],
      "execution_count": null,
      "outputs": [
        {
          "output_type": "stream",
          "text": [
            "LeNet(\n",
            "  (conv1): Conv2d(1, 6, kernel_size=(3, 3), stride=(1, 1))\n",
            "  (conv2): Conv2d(6, 16, kernel_size=(3, 3), stride=(1, 1))\n",
            "  (fc1): Linear(in_features=400, out_features=120, bias=True)\n",
            "  (fc2): Linear(in_features=120, out_features=84, bias=True)\n",
            "  (fc3): Linear(in_features=84, out_features=10, bias=True)\n",
            ")\n",
            "========================================= PERFORMANCE =============================================\n",
            "Size of the model(MB): 0.243995\n",
            "\n",
            "Test set: Average loss: 0.1297, Accuracy: 9588/10000 (96%)\n",
            "\n",
            "Elapsed time = 3.1300 milliseconds\n",
            "====================================================================================================\n"
          ],
          "name": "stdout"
        }
      ]
    },
    {
      "cell_type": "markdown",
      "metadata": {
        "id": "adkR97o3DvzH"
      },
      "source": [
        "이렇게 weight에 대해 프루닝을 적용해 보았습니다!\r\n",
        "\r\n",
        "이번에는 또 다른 parameter인 bias에 pruning을 적용해보겠습니다. random으로 값을 선택하여 가지치기한 weight와는 다르게, bias는 값이 작은 순서대로 프루닝을 수행해봅시다."
      ]
    },
    {
      "cell_type": "code",
      "metadata": {
        "colab": {
          "base_uri": "https://localhost:8080/"
        },
        "id": "AOCYgVzhD_VR",
        "outputId": "8f1535b2-3bcb-49d6-ac04-70075f749362"
      },
      "source": [
        "prune.l1_unstructured(module, name=\"bias\", amount=3)  # amount를 float으로 입력하면 해당 비율만큼, int로 입력할 경우 해당 갯수만큼 값을 선택하여 가지치기합니다."
      ],
      "execution_count": null,
      "outputs": [
        {
          "output_type": "execute_result",
          "data": {
            "text/plain": [
              "Conv2d(1, 6, kernel_size=(3, 3), stride=(1, 1))"
            ]
          },
          "metadata": {
            "tags": []
          },
          "execution_count": 80
        }
      ]
    },
    {
      "cell_type": "code",
      "metadata": {
        "colab": {
          "base_uri": "https://localhost:8080/"
        },
        "id": "t6LcNI3fEf9o",
        "outputId": "1b2369b2-85cc-42a7-8089-986e06461842"
      },
      "source": [
        "print(list(module.named_parameters()))"
      ],
      "execution_count": null,
      "outputs": [
        {
          "output_type": "stream",
          "text": [
            "[('weight_orig', Parameter containing:\n",
            "tensor([[[[ 0.1590, -0.1615, -0.1669],\n",
            "          [ 0.1205, -0.1740,  0.2915],\n",
            "          [-0.0406,  0.2925,  0.2390]]],\n",
            "\n",
            "\n",
            "        [[[ 0.0723,  0.2015,  0.0201],\n",
            "          [ 0.1522,  0.0529,  0.1204],\n",
            "          [-0.0321,  0.2103,  0.0951]]],\n",
            "\n",
            "\n",
            "        [[[ 0.3417,  0.0608, -0.5403],\n",
            "          [-0.1888,  0.0631, -0.2171],\n",
            "          [-0.0986,  0.2166,  0.4315]]],\n",
            "\n",
            "\n",
            "        [[[ 0.3658, -0.0255,  0.2979],\n",
            "          [ 0.1534,  0.4578,  0.3480],\n",
            "          [-0.6110, -0.6698, -0.2413]]],\n",
            "\n",
            "\n",
            "        [[[ 0.2878,  0.0912,  0.2625],\n",
            "          [ 0.0368,  0.4825, -0.1974],\n",
            "          [ 0.4016,  0.0993, -0.3863]]],\n",
            "\n",
            "\n",
            "        [[[ 0.4993,  0.0597,  0.2199],\n",
            "          [-0.3226, -0.1980, -0.6864],\n",
            "          [-0.6618, -0.4005, -0.2626]]]], requires_grad=True)), ('bias_orig', Parameter containing:\n",
            "tensor([ 0.2126,  0.0797,  0.0186, -0.1048,  0.2026,  0.3839],\n",
            "       requires_grad=True))]\n"
          ],
          "name": "stdout"
        }
      ]
    },
    {
      "cell_type": "code",
      "metadata": {
        "colab": {
          "base_uri": "https://localhost:8080/"
        },
        "id": "6v-5Hsr6GM9O",
        "outputId": "3b399324-805d-4aad-f415-f330360cfb3c"
      },
      "source": [
        "print(list(module.named_buffers()))"
      ],
      "execution_count": null,
      "outputs": [
        {
          "output_type": "stream",
          "text": [
            "[('weight_mask', tensor([[[[0., 1., 0.],\n",
            "          [0., 0., 1.],\n",
            "          [0., 1., 1.]]],\n",
            "\n",
            "\n",
            "        [[[1., 1., 1.],\n",
            "          [1., 0., 1.],\n",
            "          [1., 0., 0.]]],\n",
            "\n",
            "\n",
            "        [[[0., 1., 0.],\n",
            "          [1., 0., 1.],\n",
            "          [1., 1., 1.]]],\n",
            "\n",
            "\n",
            "        [[[1., 1., 1.],\n",
            "          [0., 1., 1.],\n",
            "          [1., 1., 0.]]],\n",
            "\n",
            "\n",
            "        [[[1., 1., 1.],\n",
            "          [1., 1., 1.],\n",
            "          [0., 1., 1.]]],\n",
            "\n",
            "\n",
            "        [[[1., 1., 1.],\n",
            "          [1., 1., 1.],\n",
            "          [1., 0., 0.]]]])), ('bias_mask', tensor([1., 0., 0., 0., 1., 1.]))]\n"
          ],
          "name": "stdout"
        }
      ]
    },
    {
      "cell_type": "code",
      "metadata": {
        "colab": {
          "base_uri": "https://localhost:8080/"
        },
        "id": "9-gvidouGOU4",
        "outputId": "05224d4f-d13d-4e94-c599-74701fc1d540"
      },
      "source": [
        "print(module.bias)"
      ],
      "execution_count": null,
      "outputs": [
        {
          "output_type": "stream",
          "text": [
            "tensor([0.2126, 0.0000, 0.0000, -0.0000, 0.2026, 0.3839],\n",
            "       grad_fn=<MulBackward0>)\n"
          ],
          "name": "stdout"
        }
      ]
    },
    {
      "cell_type": "code",
      "metadata": {
        "id": "4iUr-p3iSmoG",
        "colab": {
          "base_uri": "https://localhost:8080/"
        },
        "outputId": "1ca6b579-a6a7-4677-fbcd-985d589bf9cb"
      },
      "source": [
        "device = 'cpu'\r\n",
        "test(model=model, device=device, test_loader=test_loader)"
      ],
      "execution_count": null,
      "outputs": [
        {
          "output_type": "stream",
          "text": [
            "LeNet(\n",
            "  (conv1): Conv2d(1, 6, kernel_size=(3, 3), stride=(1, 1))\n",
            "  (conv2): Conv2d(6, 16, kernel_size=(3, 3), stride=(1, 1))\n",
            "  (fc1): Linear(in_features=400, out_features=120, bias=True)\n",
            "  (fc2): Linear(in_features=120, out_features=84, bias=True)\n",
            "  (fc3): Linear(in_features=84, out_features=10, bias=True)\n",
            ")\n",
            "========================================= PERFORMANCE =============================================\n",
            "Size of the model(MB): 0.244319\n",
            "\n",
            "Test set: Average loss: 0.1627, Accuracy: 9482/10000 (95%)\n",
            "\n",
            "Elapsed time = 2.9521 milliseconds\n",
            "====================================================================================================\n"
          ],
          "name": "stdout"
        }
      ]
    },
    {
      "cell_type": "markdown",
      "metadata": {
        "id": "oCImByoP3L2A"
      },
      "source": [
        "# Model 크기 비교\r\n",
        "프루닝 된 모델의 크기를 출력하면, 프루닝되기 전의 모델보다 모델의 사이즈가 커진 것을 확인할 수 있습니다.\r\n",
        "\r\n",
        "상식적으로 가지치기가 되었다면 모델의 크기가 줄어들어야 할 텐데, 오히려 모델의 용량이 늘어난 것은 왜일까요?"
      ]
    },
    {
      "cell_type": "code",
      "metadata": {
        "id": "gK1SgI8GSmrb",
        "colab": {
          "base_uri": "https://localhost:8080/"
        },
        "outputId": "d5ab407f-77bf-4ecc-c0ac-0bf15fac0600"
      },
      "source": [
        "print_size_of_model(model)"
      ],
      "execution_count": null,
      "outputs": [
        {
          "output_type": "stream",
          "text": [
            "Size of the model(MB): 0.244319\n"
          ],
          "name": "stdout"
        }
      ]
    },
    {
      "cell_type": "markdown",
      "metadata": {
        "id": "10BfjmQE4UC3"
      },
      "source": [
        "# 프루닝 영구 적용하기\r\n",
        "Pytorch에서 제공하는 prune method는 mask를 생성하는 방식으로 프루닝을 수행하는 것을 볼 수 있었습니다.\r\n",
        "\r\n",
        "이 때 원본 모델의 parameter는 \"weight_orig\", \"bias_orig\"과 같은 형태로 보존하는 것 또한 볼 수 있었습니다."
      ]
    },
    {
      "cell_type": "code",
      "metadata": {
        "colab": {
          "base_uri": "https://localhost:8080/"
        },
        "id": "btaAHlYH9StX",
        "outputId": "a6d425cd-4555-41f9-ade2-916da25a80d6"
      },
      "source": [
        "print(list(module.named_parameters()))"
      ],
      "execution_count": null,
      "outputs": [
        {
          "output_type": "stream",
          "text": [
            "[('weight_orig', Parameter containing:\n",
            "tensor([[[[ 0.1590, -0.1615, -0.1669],\n",
            "          [ 0.1205, -0.1740,  0.2915],\n",
            "          [-0.0406,  0.2925,  0.2390]]],\n",
            "\n",
            "\n",
            "        [[[ 0.0723,  0.2015,  0.0201],\n",
            "          [ 0.1522,  0.0529,  0.1204],\n",
            "          [-0.0321,  0.2103,  0.0951]]],\n",
            "\n",
            "\n",
            "        [[[ 0.3417,  0.0608, -0.5403],\n",
            "          [-0.1888,  0.0631, -0.2171],\n",
            "          [-0.0986,  0.2166,  0.4315]]],\n",
            "\n",
            "\n",
            "        [[[ 0.3658, -0.0255,  0.2979],\n",
            "          [ 0.1534,  0.4578,  0.3480],\n",
            "          [-0.6110, -0.6698, -0.2413]]],\n",
            "\n",
            "\n",
            "        [[[ 0.2878,  0.0912,  0.2625],\n",
            "          [ 0.0368,  0.4825, -0.1974],\n",
            "          [ 0.4016,  0.0993, -0.3863]]],\n",
            "\n",
            "\n",
            "        [[[ 0.4993,  0.0597,  0.2199],\n",
            "          [-0.3226, -0.1980, -0.6864],\n",
            "          [-0.6618, -0.4005, -0.2626]]]], requires_grad=True)), ('bias_orig', Parameter containing:\n",
            "tensor([ 0.2126,  0.0797,  0.0186, -0.1048,  0.2026,  0.3839],\n",
            "       requires_grad=True))]\n"
          ],
          "name": "stdout"
        }
      ]
    },
    {
      "cell_type": "markdown",
      "metadata": {
        "id": "ZPkpsq2ELNUe"
      },
      "source": [
        "이러한 프루닝을 수행한 후 더 이상 원본 파라미터가 필요하지 않을 때, pruning을 영구히 적용하는 방법을 알아봅시다.\r\n",
        "\r\n",
        "prune.remove 함수를 사용하면, 기존의 원본 파라미터를 삭제하고 이를 prune이 적용된 weight를 교체하게 됩니다."
      ]
    },
    {
      "cell_type": "code",
      "metadata": {
        "colab": {
          "base_uri": "https://localhost:8080/"
        },
        "id": "Kas8wU-r4Nwo",
        "outputId": "c52eb34e-4a92-4ebd-d42d-b6aa52787455"
      },
      "source": [
        "prune.remove(module, 'weight')\r\n",
        "print(list(module.named_parameters()))"
      ],
      "execution_count": null,
      "outputs": [
        {
          "output_type": "stream",
          "text": [
            "[('bias_orig', Parameter containing:\n",
            "tensor([ 0.2126,  0.0797,  0.0186, -0.1048,  0.2026,  0.3839],\n",
            "       requires_grad=True)), ('weight', Parameter containing:\n",
            "tensor([[[[ 0.0000, -0.1615, -0.0000],\n",
            "          [ 0.0000, -0.0000,  0.2915],\n",
            "          [-0.0000,  0.2925,  0.2390]]],\n",
            "\n",
            "\n",
            "        [[[ 0.0723,  0.2015,  0.0201],\n",
            "          [ 0.1522,  0.0000,  0.1204],\n",
            "          [-0.0321,  0.0000,  0.0000]]],\n",
            "\n",
            "\n",
            "        [[[ 0.0000,  0.0608, -0.0000],\n",
            "          [-0.1888,  0.0000, -0.2171],\n",
            "          [-0.0986,  0.2166,  0.4315]]],\n",
            "\n",
            "\n",
            "        [[[ 0.3658, -0.0255,  0.2979],\n",
            "          [ 0.0000,  0.4578,  0.3480],\n",
            "          [-0.6110, -0.6698, -0.0000]]],\n",
            "\n",
            "\n",
            "        [[[ 0.2878,  0.0912,  0.2625],\n",
            "          [ 0.0368,  0.4825, -0.1974],\n",
            "          [ 0.0000,  0.0993, -0.3863]]],\n",
            "\n",
            "\n",
            "        [[[ 0.4993,  0.0597,  0.2199],\n",
            "          [-0.3226, -0.1980, -0.6864],\n",
            "          [-0.6618, -0.0000, -0.0000]]]], requires_grad=True))]\n"
          ],
          "name": "stdout"
        }
      ]
    },
    {
      "cell_type": "markdown",
      "metadata": {
        "id": "VuieF2khL2DR"
      },
      "source": [
        "weight에 해당하는 mask 또한 없어진 것을 볼 수 있습니다."
      ]
    },
    {
      "cell_type": "code",
      "metadata": {
        "colab": {
          "base_uri": "https://localhost:8080/"
        },
        "id": "_9G_h027_rpO",
        "outputId": "95ad501c-537e-4c7c-b43f-58c95e6c235a"
      },
      "source": [
        "print(list(module.named_buffers()))"
      ],
      "execution_count": null,
      "outputs": [
        {
          "output_type": "stream",
          "text": [
            "[('bias_mask', tensor([1., 0., 0., 0., 1., 1.]))]\n"
          ],
          "name": "stdout"
        }
      ]
    },
    {
      "cell_type": "markdown",
      "metadata": {
        "id": "2Ow-G8pAMYei"
      },
      "source": [
        "마찬가지로 bias에 해당하는 prune도 영구 적용시켜보겠습니다."
      ]
    },
    {
      "cell_type": "code",
      "metadata": {
        "colab": {
          "base_uri": "https://localhost:8080/"
        },
        "id": "6y1uTaSF_mCC",
        "outputId": "8157e001-e575-460a-a7cd-b572edbfd008"
      },
      "source": [
        "prune.remove(module, 'bias')\r\n",
        "print(list(module.named_parameters()))"
      ],
      "execution_count": null,
      "outputs": [
        {
          "output_type": "stream",
          "text": [
            "[('weight', Parameter containing:\n",
            "tensor([[[[ 0.0000, -0.1615, -0.0000],\n",
            "          [ 0.0000, -0.0000,  0.2915],\n",
            "          [-0.0000,  0.2925,  0.2390]]],\n",
            "\n",
            "\n",
            "        [[[ 0.0723,  0.2015,  0.0201],\n",
            "          [ 0.1522,  0.0000,  0.1204],\n",
            "          [-0.0321,  0.0000,  0.0000]]],\n",
            "\n",
            "\n",
            "        [[[ 0.0000,  0.0608, -0.0000],\n",
            "          [-0.1888,  0.0000, -0.2171],\n",
            "          [-0.0986,  0.2166,  0.4315]]],\n",
            "\n",
            "\n",
            "        [[[ 0.3658, -0.0255,  0.2979],\n",
            "          [ 0.0000,  0.4578,  0.3480],\n",
            "          [-0.6110, -0.6698, -0.0000]]],\n",
            "\n",
            "\n",
            "        [[[ 0.2878,  0.0912,  0.2625],\n",
            "          [ 0.0368,  0.4825, -0.1974],\n",
            "          [ 0.0000,  0.0993, -0.3863]]],\n",
            "\n",
            "\n",
            "        [[[ 0.4993,  0.0597,  0.2199],\n",
            "          [-0.3226, -0.1980, -0.6864],\n",
            "          [-0.6618, -0.0000, -0.0000]]]], requires_grad=True)), ('bias', Parameter containing:\n",
            "tensor([0.2126, 0.0000, 0.0000, -0.0000, 0.2026, 0.3839], requires_grad=True))]\n"
          ],
          "name": "stdout"
        }
      ]
    },
    {
      "cell_type": "code",
      "metadata": {
        "colab": {
          "base_uri": "https://localhost:8080/"
        },
        "id": "ghABEy1qHhNJ",
        "outputId": "342e0fc8-9a74-42a4-a361-602e4e4c08ad"
      },
      "source": [
        "print(list(module.named_buffers()))"
      ],
      "execution_count": null,
      "outputs": [
        {
          "output_type": "stream",
          "text": [
            "[]\n"
          ],
          "name": "stdout"
        }
      ]
    },
    {
      "cell_type": "markdown",
      "metadata": {
        "id": "pKEH-6IhMkRu"
      },
      "source": [
        "mask를 제거하고 pruned weight를 영구히 적용시키니, 모델의 사이즈 또한 원래의 모델 사이즈와 동일해진 것을 볼 수 있습니다."
      ]
    },
    {
      "cell_type": "code",
      "metadata": {
        "colab": {
          "base_uri": "https://localhost:8080/"
        },
        "id": "4D4_phTOHx7B",
        "outputId": "52e81df8-0e0c-497c-a82e-b31e24dc0d81"
      },
      "source": [
        "print_size_of_model(model)"
      ],
      "execution_count": null,
      "outputs": [
        {
          "output_type": "stream",
          "text": [
            "Size of the model(MB): 0.243543\n"
          ],
          "name": "stdout"
        }
      ]
    },
    {
      "cell_type": "code",
      "metadata": {
        "id": "GnAnQ6c9MzyV"
      },
      "source": [
        ""
      ],
      "execution_count": null,
      "outputs": []
    }
  ]
}