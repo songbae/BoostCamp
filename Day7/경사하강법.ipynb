{
 "cells": [
  {
   "cell_type": "markdown",
   "metadata": {},
   "source": [
    "### 미분을 어디에 쓸까?\n",
    "- 미분은 함수 f의 주어진점 x,f(x)에서의 접선의 기울기를 구한다\n",
    "- 한점에서 접선의 기울기를 알면 어느 방향으로 점을 움직여야 함수값이 증가하는지/감소하는지 알 수 있다.\n",
    "- 미분값을 더하면 경사 상승법(gradient ascent)이라 하며 함수의 극대값의 위치를 구할때 사용한다.\n",
    "- 경사상승/경사하상 방법은 극값에 도달하면 움직임을 멈춘다."
   ]
  },
  {
   "cell_type": "code",
   "execution_count": null,
   "metadata": {},
   "outputs": [],
   "source": [
    "Input : gradient , init, lr,eps, Output:var\n",
    "        # gradient : 미분을 계산하는 함수\n",
    "        # init: 시작점, lr: 학습률, eps:알고리즘 종료조건\n",
    "        var=init\n",
    "        grad= gradient(var)\n",
    "        while(abs(grad)>eps):\n",
    "            var=var-lr*grad\n",
    "            grad=gradient(var)"
   ]
  },
  {
   "cell_type": "markdown",
   "metadata": {},
   "source": [
    "### 변수가 벡터이면?\n",
    "- 미분은 변수의 움직임에 따른 함수값의 변화를 측정하기 위한 도구로 최적화에서 제일 많이 사용하느느 기법\n",
    "- 벡터가 입력인 다변수 함수의 경우 편미분(parital differentiation)을 사용한다\n",
    "- 각 변수별로 편미분을 계산한 그레디언트 벡터를 이용하여 경사하강/경사상승법을 사용할 수있다."
   ]
  },
  {
   "cell_type": "code",
   "execution_count": 2,
   "metadata": {},
   "outputs": [
    {
     "data": {
      "text/latex": [
       "$\\displaystyle 2 x + 2 y - \\sin{\\left(x + 2 y \\right)}$"
      ],
      "text/plain": [
       "2*x + 2*y - sin(x + 2*y)"
      ]
     },
     "execution_count": 2,
     "metadata": {},
     "output_type": "execute_result"
    }
   ],
   "source": [
    "import sympy as sym\n",
    "from sympy.abc import x,y\n",
    "sym.diff(sym.poly(x**2+2*x*y+4)+sym.cos(x+2*y),x)"
   ]
  },
  {
   "cell_type": "code",
   "execution_count": null,
   "metadata": {},
   "outputs": [],
   "source": [
    "var =init\n",
    "grad= gradient(var)\n",
    "while(norm(grad)>eps):\n",
    "    var=var-lr*grad\n",
    "    grad=graddient(var)\n",
    "#경사하강법 알고리즘은 그대로 적용된다. 그러나 벡터는 절대값 대신 노름(norm)을 계산해서 종료조건을 설정한다."
   ]
  },
  {
   "cell_type": "markdown",
   "metadata": {},
   "source": [
    "### 경사하강법 기반의 선형회귀 알고리즘에 대해 \n",
    "- 경사하강법의 단점을 보안화는 확률적 경사하강법\n",
    "- 무어-펜로즈 역행렬을 활용한 성형회귀분석과 비교하여, 선형모델 외에도 적용 가능한 경사하강법-선혀회귀분석 방법을 설명합니다. 이 때 나오는 경사하강법 알고리즘 수식을 정확히 이해하고 넘어가면 좋다\n",
    "- 딥러니에서 경사하강법이 가지는 한계를 설명하고, 이를 극복하기 위한 확률적 경사하강법을 소개한다\n",
    "- 확률적 경사하강법은 오늘날 딥러닝 학스베 널리 활용되는 방법이므로 충분히 숙지 할 것"
   ]
  },
  {
   "cell_type": "markdown",
   "metadata": {},
   "source": [
    "-np.linalg.pinv를 이용하면 데이터를 선형모델로 해석하는 선형회귀식을 찾을 수 있다.\n",
    "### 경사하강법으로 선형회귀 계수 구하기\n",
    "- 선형회귀의 목적식은 ||y-Xb||이고 이를 최소화하는 b를 찾아야 하므로 다음과 같은 그레디언트 벡터를 구해야한다. \n",
    "-목적식을 최소화하는 b를 구하는 경사하강법 알고리즘은 다음과 같다."
   ]
  },
  {
   "cell_type": "code",
   "execution_count": null,
   "metadata": {},
   "outputs": [],
   "source": [
    "Input x,y,lr,T, Output: beta\n",
    "# norm : ㅣ2-노름을 계산하는 함수\n",
    "# lr: 학습률, T: 학습횟수\n",
    "for t in range(T):\n",
    "    error = y-X @ beta\n",
    "    grad = -transpose(X) @ error\n",
    "    beta = beta -lr*grad"
   ]
  },
  {
   "cell_type": "markdown",
   "metadata": {},
   "source": [
    "- 그러나 경사하강법 알고리즘에선 학습률과 학습횟수가 중요한 hyperparameter가 된다.\n",
    "### 경사 하강법은 만능일까?\n",
    "- 이론적으로 경사하강법은 미분가능하고 볼록(convex)한 함수에 대해선 적적한 합습률과 학습횟수를 선택했을때 수렵이 보장되어 있다 .\n",
    "- 특히 선형회귀의 경우 목적식 ||y-Xb||은 회귀계수 b에 대해 볼록함수이기 때문에 알고리즘을 충분히 돌리면 수렴이 보장된다\n",
    "- 하지만 비선형회귀 문제의 경우 목적식이 볼록하지 않을 수 있으므로 수렴이 항상 보장되지는 않는다.\n",
    " > 특히 딥러닝을 사용하는 경우 목적식은 대부분 볼록함수가 아니다 \n",
    "### 확률적 경사하강법\n",
    "- 확률적 경사하강법(sgd)은 모든 데이터를 사용해서 업데이드하는 대신 데이터 한개 또는 일부 활용하여 업데이트합니다\n",
    "- 볼록이 아닌 목적식은 sgd를 통해 최적화활 수 있습니다\n",
    "- sgd는 데이터의 일부를 가지고 패러미터를 업데이트하기 때문에 연산자원을 좀더 효율적으로 활요하는데 도움이 됩니다.\n",
    "### 확률적 경사하강법의 원리: 미니배치 연산\n",
    "- 경사하강법은 L=(X,y)를 가지고 목적식의 그레디언트 벡터인 ~~~ 를 계산합니다\n",
    "- sgd는 미니배치 를가지고 그레디언트 벡터를 계산합니다. 미니배치는 확률적으로 선택하므로 목적식 모양이 바뀌게 됩니다.\n",
    "- sgd는 볼록이 아닌 목적식에서도 사용가능하므로 경사하강법보다 머신러닝 학습에 더 효육적입니다."
   ]
  }
 ],
 "metadata": {
  "kernelspec": {
   "display_name": "Python 3",
   "language": "python",
   "name": "python3"
  },
  "language_info": {
   "codemirror_mode": {
    "name": "ipython",
    "version": 3
   },
   "file_extension": ".py",
   "mimetype": "text/x-python",
   "name": "python",
   "nbconvert_exporter": "python",
   "pygments_lexer": "ipython3",
   "version": "3.8.5"
  },
  "toc": {
   "base_numbering": 1,
   "nav_menu": {},
   "number_sections": true,
   "sideBar": true,
   "skip_h1_title": false,
   "title_cell": "Table of Contents",
   "title_sidebar": "Contents",
   "toc_cell": false,
   "toc_position": {},
   "toc_section_display": true,
   "toc_window_display": false
  }
 },
 "nbformat": 4,
 "nbformat_minor": 4
}
